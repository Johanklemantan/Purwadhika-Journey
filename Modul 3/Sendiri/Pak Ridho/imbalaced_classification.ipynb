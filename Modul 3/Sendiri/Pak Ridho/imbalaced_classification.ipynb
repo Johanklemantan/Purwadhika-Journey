{
 "cells": [
  {
   "cell_type": "code",
   "execution_count": 40,
   "metadata": {},
   "outputs": [],
   "source": [
    "import pandas as pd\n",
    "import numpy as np\n",
    "\n",
    "import seaborn as sns\n",
    "import matplotlib.pyplot as plt\n",
    "\n",
    "from sklearn.preprocessing import PolynomialFeatures\n",
    "\n",
    "from sklearn.model_selection import train_test_split\n",
    "\n",
    "from sklearn.linear_model import LogisticRegression\n",
    "\n",
    "from sklearn.metrics import classification_report, plot_roc_curve, roc_curve, recall_score, precision_score, precision_recall_curve, auc, roc_auc_score, f1_score\n"
   ]
  },
  {
   "cell_type": "code",
   "execution_count": 2,
   "metadata": {},
   "outputs": [],
   "source": [
    "wine = pd.read_csv('white_wine.csv')"
   ]
  },
  {
   "cell_type": "code",
   "execution_count": 3,
   "metadata": {},
   "outputs": [
    {
     "data": {
      "text/html": [
       "<div>\n",
       "<style scoped>\n",
       "    .dataframe tbody tr th:only-of-type {\n",
       "        vertical-align: middle;\n",
       "    }\n",
       "\n",
       "    .dataframe tbody tr th {\n",
       "        vertical-align: top;\n",
       "    }\n",
       "\n",
       "    .dataframe thead th {\n",
       "        text-align: right;\n",
       "    }\n",
       "</style>\n",
       "<table border=\"1\" class=\"dataframe\">\n",
       "  <thead>\n",
       "    <tr style=\"text-align: right;\">\n",
       "      <th></th>\n",
       "      <th>fixed acidity</th>\n",
       "      <th>volatile acidity</th>\n",
       "      <th>citric acid</th>\n",
       "      <th>residual sugar</th>\n",
       "      <th>chlorides</th>\n",
       "      <th>free sulfur dioxide</th>\n",
       "      <th>total sulfur dioxide</th>\n",
       "      <th>density</th>\n",
       "      <th>pH</th>\n",
       "      <th>sulphates</th>\n",
       "      <th>alcohol</th>\n",
       "      <th>quality</th>\n",
       "    </tr>\n",
       "  </thead>\n",
       "  <tbody>\n",
       "    <tr>\n",
       "      <th>0</th>\n",
       "      <td>7.0</td>\n",
       "      <td>0.27</td>\n",
       "      <td>0.36</td>\n",
       "      <td>20.7</td>\n",
       "      <td>0.045</td>\n",
       "      <td>45.0</td>\n",
       "      <td>170.0</td>\n",
       "      <td>1.0010</td>\n",
       "      <td>3.00</td>\n",
       "      <td>0.45</td>\n",
       "      <td>8.8</td>\n",
       "      <td>6.0</td>\n",
       "    </tr>\n",
       "    <tr>\n",
       "      <th>1</th>\n",
       "      <td>6.3</td>\n",
       "      <td>0.30</td>\n",
       "      <td>0.34</td>\n",
       "      <td>1.6</td>\n",
       "      <td>0.049</td>\n",
       "      <td>14.0</td>\n",
       "      <td>132.0</td>\n",
       "      <td>0.9940</td>\n",
       "      <td>3.30</td>\n",
       "      <td>0.49</td>\n",
       "      <td>9.5</td>\n",
       "      <td>6.0</td>\n",
       "    </tr>\n",
       "    <tr>\n",
       "      <th>2</th>\n",
       "      <td>8.1</td>\n",
       "      <td>0.28</td>\n",
       "      <td>0.40</td>\n",
       "      <td>6.9</td>\n",
       "      <td>0.050</td>\n",
       "      <td>30.0</td>\n",
       "      <td>97.0</td>\n",
       "      <td>0.9951</td>\n",
       "      <td>3.26</td>\n",
       "      <td>0.44</td>\n",
       "      <td>10.1</td>\n",
       "      <td>6.0</td>\n",
       "    </tr>\n",
       "    <tr>\n",
       "      <th>3</th>\n",
       "      <td>7.2</td>\n",
       "      <td>0.23</td>\n",
       "      <td>0.32</td>\n",
       "      <td>8.5</td>\n",
       "      <td>0.058</td>\n",
       "      <td>47.0</td>\n",
       "      <td>186.0</td>\n",
       "      <td>0.9956</td>\n",
       "      <td>3.19</td>\n",
       "      <td>0.40</td>\n",
       "      <td>9.9</td>\n",
       "      <td>6.0</td>\n",
       "    </tr>\n",
       "    <tr>\n",
       "      <th>4</th>\n",
       "      <td>7.2</td>\n",
       "      <td>0.23</td>\n",
       "      <td>0.32</td>\n",
       "      <td>8.5</td>\n",
       "      <td>0.058</td>\n",
       "      <td>47.0</td>\n",
       "      <td>186.0</td>\n",
       "      <td>0.9956</td>\n",
       "      <td>3.19</td>\n",
       "      <td>0.40</td>\n",
       "      <td>9.9</td>\n",
       "      <td>6.0</td>\n",
       "    </tr>\n",
       "    <tr>\n",
       "      <th>...</th>\n",
       "      <td>...</td>\n",
       "      <td>...</td>\n",
       "      <td>...</td>\n",
       "      <td>...</td>\n",
       "      <td>...</td>\n",
       "      <td>...</td>\n",
       "      <td>...</td>\n",
       "      <td>...</td>\n",
       "      <td>...</td>\n",
       "      <td>...</td>\n",
       "      <td>...</td>\n",
       "      <td>...</td>\n",
       "    </tr>\n",
       "    <tr>\n",
       "      <th>515</th>\n",
       "      <td>6.1</td>\n",
       "      <td>0.31</td>\n",
       "      <td>0.26</td>\n",
       "      <td>2.2</td>\n",
       "      <td>0.051</td>\n",
       "      <td>28.0</td>\n",
       "      <td>167.0</td>\n",
       "      <td>0.9926</td>\n",
       "      <td>3.37</td>\n",
       "      <td>0.47</td>\n",
       "      <td>10.4</td>\n",
       "      <td>6.0</td>\n",
       "    </tr>\n",
       "    <tr>\n",
       "      <th>516</th>\n",
       "      <td>6.8</td>\n",
       "      <td>0.18</td>\n",
       "      <td>0.37</td>\n",
       "      <td>1.6</td>\n",
       "      <td>0.055</td>\n",
       "      <td>47.0</td>\n",
       "      <td>154.0</td>\n",
       "      <td>0.9934</td>\n",
       "      <td>3.08</td>\n",
       "      <td>0.45</td>\n",
       "      <td>9.1</td>\n",
       "      <td>5.0</td>\n",
       "    </tr>\n",
       "    <tr>\n",
       "      <th>517</th>\n",
       "      <td>7.4</td>\n",
       "      <td>0.15</td>\n",
       "      <td>0.42</td>\n",
       "      <td>1.7</td>\n",
       "      <td>0.045</td>\n",
       "      <td>49.0</td>\n",
       "      <td>154.0</td>\n",
       "      <td>0.9920</td>\n",
       "      <td>3.00</td>\n",
       "      <td>0.60</td>\n",
       "      <td>10.4</td>\n",
       "      <td>6.0</td>\n",
       "    </tr>\n",
       "    <tr>\n",
       "      <th>518</th>\n",
       "      <td>5.9</td>\n",
       "      <td>0.13</td>\n",
       "      <td>0.28</td>\n",
       "      <td>1.9</td>\n",
       "      <td>0.050</td>\n",
       "      <td>20.0</td>\n",
       "      <td>78.0</td>\n",
       "      <td>0.9918</td>\n",
       "      <td>3.43</td>\n",
       "      <td>0.64</td>\n",
       "      <td>10.8</td>\n",
       "      <td>6.0</td>\n",
       "    </tr>\n",
       "    <tr>\n",
       "      <th>519</th>\n",
       "      <td>7.2</td>\n",
       "      <td>0.34</td>\n",
       "      <td>0.34</td>\n",
       "      <td>12.6</td>\n",
       "      <td>0.048</td>\n",
       "      <td>7.0</td>\n",
       "      <td>41.0</td>\n",
       "      <td>0.9940</td>\n",
       "      <td>NaN</td>\n",
       "      <td>NaN</td>\n",
       "      <td>NaN</td>\n",
       "      <td>NaN</td>\n",
       "    </tr>\n",
       "  </tbody>\n",
       "</table>\n",
       "<p>520 rows × 12 columns</p>\n",
       "</div>"
      ],
      "text/plain": [
       "     fixed acidity  volatile acidity  citric acid  residual sugar  chlorides  \\\n",
       "0              7.0              0.27         0.36            20.7      0.045   \n",
       "1              6.3              0.30         0.34             1.6      0.049   \n",
       "2              8.1              0.28         0.40             6.9      0.050   \n",
       "3              7.2              0.23         0.32             8.5      0.058   \n",
       "4              7.2              0.23         0.32             8.5      0.058   \n",
       "..             ...               ...          ...             ...        ...   \n",
       "515            6.1              0.31         0.26             2.2      0.051   \n",
       "516            6.8              0.18         0.37             1.6      0.055   \n",
       "517            7.4              0.15         0.42             1.7      0.045   \n",
       "518            5.9              0.13         0.28             1.9      0.050   \n",
       "519            7.2              0.34         0.34            12.6      0.048   \n",
       "\n",
       "     free sulfur dioxide  total sulfur dioxide  density    pH  sulphates  \\\n",
       "0                   45.0                 170.0   1.0010  3.00       0.45   \n",
       "1                   14.0                 132.0   0.9940  3.30       0.49   \n",
       "2                   30.0                  97.0   0.9951  3.26       0.44   \n",
       "3                   47.0                 186.0   0.9956  3.19       0.40   \n",
       "4                   47.0                 186.0   0.9956  3.19       0.40   \n",
       "..                   ...                   ...      ...   ...        ...   \n",
       "515                 28.0                 167.0   0.9926  3.37       0.47   \n",
       "516                 47.0                 154.0   0.9934  3.08       0.45   \n",
       "517                 49.0                 154.0   0.9920  3.00       0.60   \n",
       "518                 20.0                  78.0   0.9918  3.43       0.64   \n",
       "519                  7.0                  41.0   0.9940   NaN        NaN   \n",
       "\n",
       "     alcohol  quality  \n",
       "0        8.8      6.0  \n",
       "1        9.5      6.0  \n",
       "2       10.1      6.0  \n",
       "3        9.9      6.0  \n",
       "4        9.9      6.0  \n",
       "..       ...      ...  \n",
       "515     10.4      6.0  \n",
       "516      9.1      5.0  \n",
       "517     10.4      6.0  \n",
       "518     10.8      6.0  \n",
       "519      NaN      NaN  \n",
       "\n",
       "[520 rows x 12 columns]"
      ]
     },
     "execution_count": 3,
     "metadata": {},
     "output_type": "execute_result"
    }
   ],
   "source": [
    "wine"
   ]
  },
  {
   "cell_type": "code",
   "execution_count": 4,
   "metadata": {},
   "outputs": [
    {
     "data": {
      "text/plain": [
       "0    81.153846\n",
       "1    18.846154\n",
       "Name: label, dtype: float64"
      ]
     },
     "execution_count": 4,
     "metadata": {},
     "output_type": "execute_result"
    }
   ],
   "source": [
    "wine['alcohol'].fillna(wine['alcohol'].mean(), inplace=True)\n",
    "wine['label'] = np.where(wine['quality']>6, 1, 0)\n",
    "wine['label'].value_counts(normalize=True)*100"
   ]
  },
  {
   "cell_type": "markdown",
   "metadata": {},
   "source": [
    "We will be doing some EDA to check the target variabel distribution. The target variabel distribution is\n",
    "1. (+) a good quality wine : quality > 6 (18.9%)\n",
    "1. (-) a bad quality wine : quality <= 6 (81.1%)"
   ]
  },
  {
   "cell_type": "markdown",
   "metadata": {},
   "source": [
    "You will find that the distribution is imbalanced with 18.9 % positive class and 81.1 % negative class. The minority class is the good quality one, we migh more interest to detect a wine with good quality than the common one."
   ]
  },
  {
   "cell_type": "code",
   "execution_count": 5,
   "metadata": {},
   "outputs": [
    {
     "data": {
      "text/plain": [
       "Text(0, 0.5, 'Density')"
      ]
     },
     "execution_count": 5,
     "metadata": {},
     "output_type": "execute_result"
    },
    {
     "data": {
      "image/png": "[encoded data removed]",
      "text/plain": [
       "<Figure size 720x720 with 1 Axes>"
      ]
     },
     "metadata": {
      "needs_background": "light"
     },
     "output_type": "display_data"
    }
   ],
   "source": [
    "plt.figure(figsize=(10,10))\n",
    "sns.scatterplot(x = 'alcohol', y = 'density', data=wine, hue='label')\n",
    "plt.xlabel('Alcohol')\n",
    "plt.ylabel('Density')"
   ]
  },
  {
   "cell_type": "code",
   "execution_count": 6,
   "metadata": {},
   "outputs": [],
   "source": [
    "X = wine[['density', 'alcohol']]\n",
    "y = wine['label']"
   ]
  },
  {
   "cell_type": "code",
   "execution_count": 7,
   "metadata": {},
   "outputs": [],
   "source": [
    "X_train, X_test, y_train, y_test = train_test_split(X, y, stratify=y, random_state=2020)"
   ]
  },
  {
   "cell_type": "markdown",
   "metadata": {},
   "source": [
    "## Model 1: w/o Polynomial"
   ]
  },
  {
   "cell_type": "code",
   "execution_count": 8,
   "metadata": {},
   "outputs": [
    {
     "data": {
      "text/plain": [
       "LogisticRegression()"
      ]
     },
     "execution_count": 8,
     "metadata": {},
     "output_type": "execute_result"
    }
   ],
   "source": [
    "logit = LogisticRegression()\n",
    "logit.fit(X_train, y_train)"
   ]
  },
  {
   "cell_type": "code",
   "execution_count": 9,
   "metadata": {},
   "outputs": [
    {
     "name": "stdout",
     "output_type": "stream",
     "text": [
      "performance \n",
      "               precision    recall  f1-score   support\n",
      "\n",
      "           0       0.87      0.96      0.91       106\n",
      "           1       0.69      0.38      0.49        24\n",
      "\n",
      "    accuracy                           0.85       130\n",
      "   macro avg       0.78      0.67      0.70       130\n",
      "weighted avg       0.84      0.85      0.84       130\n",
      "\n"
     ]
    }
   ],
   "source": [
    "y_pred = logit.predict(X_test)\n",
    "print('performance \\n', classification_report(y_test, y_pred))"
   ]
  },
  {
   "cell_type": "markdown",
   "metadata": {},
   "source": [
    "From illustration abovel, you can see the performance of the machine learning model. Let's say our concern is to these three metrics:\n",
    "1. precision (+) : 0.69\n",
    "1. recall (+) : 0.38\n",
    "1. f1-score (+) : 0.49\n",
    "\n",
    "<br>\n",
    "next, we will do the modeling process with adding polynomial features and see the changes."
   ]
  },
  {
   "cell_type": "markdown",
   "metadata": {},
   "source": [
    "## Model 2: w/ Polynomial"
   ]
  },
  {
   "cell_type": "code",
   "execution_count": 10,
   "metadata": {},
   "outputs": [],
   "source": [
    "poly = PolynomialFeatures(degree=3, include_bias=False)\n",
    "poly.fit(X_train)\n",
    "Xtr_poly = poly.transform(X_train)\n",
    "Xts_poly = poly.transform(X_test)"
   ]
  },
  {
   "cell_type": "code",
   "execution_count": 11,
   "metadata": {},
   "outputs": [
    {
     "name": "stderr",
     "output_type": "stream",
     "text": [
      "C:\\Users\\johan\\anaconda3\\lib\\site-packages\\sklearn\\linear_model\\_logistic.py:762: ConvergenceWarning: lbfgs failed to converge (status=1):\n",
      "STOP: TOTAL NO. of ITERATIONS REACHED LIMIT.\n",
      "\n",
      "Increase the number of iterations (max_iter) or scale the data as shown in:\n",
      "    https://scikit-learn.org/stable/modules/preprocessing.html\n",
      "Please also refer to the documentation for alternative solver options:\n",
      "    https://scikit-learn.org/stable/modules/linear_model.html#logistic-regression\n",
      "  n_iter_i = _check_optimize_result(\n"
     ]
    },
    {
     "data": {
      "text/plain": [
       "LogisticRegression()"
      ]
     },
     "execution_count": 11,
     "metadata": {},
     "output_type": "execute_result"
    }
   ],
   "source": [
    "logit = LogisticRegression()\n",
    "logit.fit(Xtr_poly, y_train)"
   ]
  },
  {
   "cell_type": "code",
   "execution_count": 12,
   "metadata": {},
   "outputs": [
    {
     "name": "stdout",
     "output_type": "stream",
     "text": [
      "performance \n",
      "               precision    recall  f1-score   support\n",
      "\n",
      "           0       0.97      0.99      0.98       106\n",
      "           1       0.95      0.88      0.91        24\n",
      "\n",
      "    accuracy                           0.97       130\n",
      "   macro avg       0.96      0.93      0.95       130\n",
      "weighted avg       0.97      0.97      0.97       130\n",
      "\n"
     ]
    }
   ],
   "source": [
    "y_pred = logit.predict(Xts_poly)\n",
    "print('performance \\n', classification_report(y_test, y_pred))"
   ]
  },
  {
   "cell_type": "markdown",
   "metadata": {},
   "source": [
    "From illustration abovel, you can see the performance improvement of the machine learning model. The changes of the three metrics:\n",
    "1. precision (+) : from 0.69 to 0.95\n",
    "1. recall (+) : from 0.38 to 0.88\n",
    "1. f1-score (+) : from 0.49 to 0.91"
   ]
  },
  {
   "cell_type": "markdown",
   "metadata": {},
   "source": [
    "> ## Resampling Method : Non Performing Loan"
   ]
  },
  {
   "cell_type": "code",
   "execution_count": 13,
   "metadata": {},
   "outputs": [],
   "source": [
    "from imblearn.over_sampling import RandomOverSampler, SMOTE\n",
    "from imblearn.under_sampling import RandomUnderSampler\n",
    "from imblearn.pipeline import Pipeline"
   ]
  },
  {
   "cell_type": "code",
   "execution_count": 14,
   "metadata": {},
   "outputs": [],
   "source": [
    "bankloan = pd.read_csv('bankloan.csv')"
   ]
  },
  {
   "cell_type": "code",
   "execution_count": 15,
   "metadata": {},
   "outputs": [],
   "source": [
    "fitur = ['employ','debtinc','creddebt','othdebt']\n",
    "target=['default']"
   ]
  },
  {
   "cell_type": "code",
   "execution_count": 17,
   "metadata": {},
   "outputs": [],
   "source": [
    "X = bankloan[fitur]\n",
    "y = bankloan[target]"
   ]
  },
  {
   "cell_type": "markdown",
   "metadata": {},
   "source": [
    "> ## EDA"
   ]
  },
  {
   "cell_type": "code",
   "execution_count": 20,
   "metadata": {},
   "outputs": [
    {
     "data": {
      "text/plain": [
       "0    73.857143\n",
       "1    26.142857\n",
       "Name: default, dtype: float64"
      ]
     },
     "execution_count": 20,
     "metadata": {},
     "output_type": "execute_result"
    }
   ],
   "source": [
    "bankloan['default'].value_counts(normalize=True)*100"
   ]
  },
  {
   "cell_type": "code",
   "execution_count": 27,
   "metadata": {},
   "outputs": [],
   "source": [
    "X_train_val, X_test, y_train_val, y_test = train_test_split(X, y, stratify = y, test_size=0.2, random_state = 1899)\n",
    "\n",
    "X_train, X_val, y_train, y_val = train_test_split(X_train_val, y_train_val, stratify=y_train_val, test_size=0.2, random_state = 1899)"
   ]
  },
  {
   "cell_type": "markdown",
   "metadata": {},
   "source": [
    "## 1. Logreg No Treatment - F1 Score & Threshold optimization"
   ]
  },
  {
   "cell_type": "code",
   "execution_count": 28,
   "metadata": {},
   "outputs": [
    {
     "name": "stderr",
     "output_type": "stream",
     "text": [
      "C:\\Users\\johan\\anaconda3\\lib\\site-packages\\sklearn\\utils\\validation.py:73: DataConversionWarning: A column-vector y was passed when a 1d array was expected. Please change the shape of y to (n_samples, ), for example using ravel().\n",
      "  return f(**kwargs)\n"
     ]
    },
    {
     "data": {
      "text/plain": [
       "LogisticRegression()"
      ]
     },
     "execution_count": 28,
     "metadata": {},
     "output_type": "execute_result"
    }
   ],
   "source": [
    "logit = LogisticRegression()\n",
    "logit.fit(X_train_val, y_train_val)"
   ]
  },
  {
   "cell_type": "code",
   "execution_count": 50,
   "metadata": {},
   "outputs": [],
   "source": [
    "y_pred = logit.predict(X_test)\n",
    "prob1=logit.predict_proba(X_test)[:,1]"
   ]
  },
  {
   "cell_type": "code",
   "execution_count": 30,
   "metadata": {},
   "outputs": [
    {
     "name": "stdout",
     "output_type": "stream",
     "text": [
      "              precision    recall  f1-score   support\n",
      "\n",
      "           0       0.81      0.93      0.87       103\n",
      "           1       0.68      0.41      0.51        37\n",
      "\n",
      "    accuracy                           0.79       140\n",
      "   macro avg       0.75      0.67      0.69       140\n",
      "weighted avg       0.78      0.79      0.77       140\n",
      "\n"
     ]
    }
   ],
   "source": [
    "print(classification_report(y_test,y_pred))"
   ]
  },
  {
   "cell_type": "code",
   "execution_count": 52,
   "metadata": {},
   "outputs": [],
   "source": [
    "fpr, tpr, threshold = roc_curve(y_test,prob1)"
   ]
  },
  {
   "cell_type": "code",
   "execution_count": 36,
   "metadata": {},
   "outputs": [
    {
     "data": {
      "image/png": "[encoded data removed]",
      "text/plain": [
       "<Figure size 432x288 with 1 Axes>"
      ]
     },
     "metadata": {
      "needs_background": "light"
     },
     "output_type": "display_data"
    }
   ],
   "source": [
    "plot_roc_curve(logit, X_test, y_test)\n",
    "plt.show()"
   ]
  },
  {
   "cell_type": "code",
   "execution_count": 41,
   "metadata": {},
   "outputs": [
    {
     "name": "stderr",
     "output_type": "stream",
     "text": [
      "C:\\Users\\johan\\anaconda3\\lib\\site-packages\\sklearn\\utils\\validation.py:73: DataConversionWarning: A column-vector y was passed when a 1d array was expected. Please change the shape of y to (n_samples, ), for example using ravel().\n",
      "  return f(**kwargs)\n"
     ]
    }
   ],
   "source": [
    "logit.fit(X_train, y_train)\n",
    "\n",
    "thr_value = [i/100 for i in range(20, 60)]\n",
    "score=0\n",
    "score_list=[]\n",
    "\n",
    "for i in thr_value:\n",
    "    y_prob = logit.predict_proba(X_val)[:,1]\n",
    "    y_pred = np.where(y_prob>i,1,0)\n",
    "    score_temp = f1_score(y_val, y_pred)\n",
    "    score_list.append(score_temp)\n",
    "    \n",
    "    if score_temp > score:\n",
    "        score=score_temp\n",
    "        \n",
    "        best_score = score\n",
    "        best_thr=i"
   ]
  },
  {
   "cell_type": "code",
   "execution_count": 42,
   "metadata": {},
   "outputs": [
    {
     "name": "stderr",
     "output_type": "stream",
     "text": [
      "C:\\Users\\johan\\anaconda3\\lib\\site-packages\\seaborn\\_decorators.py:36: FutureWarning: Pass the following variables as keyword args: x, y. From version 0.12, the only valid positional argument will be `data`, and passing other arguments without an explicit keyword will result in an error or misinterpretation.\n",
      "  warnings.warn(\n"
     ]
    },
    {
     "data": {
      "image/png": "[encoded data removed]",
      "text/plain": [
       "<Figure size 432x288 with 1 Axes>"
      ]
     },
     "metadata": {
      "needs_background": "light"
     },
     "output_type": "display_data"
    }
   ],
   "source": [
    "sns.lineplot(thr_value, score_list)\n",
    "plt.show()"
   ]
  },
  {
   "cell_type": "code",
   "execution_count": 43,
   "metadata": {},
   "outputs": [
    {
     "name": "stdout",
     "output_type": "stream",
     "text": [
      "best_threshold 0.49\n",
      "best score 0.7599999999999999\n"
     ]
    }
   ],
   "source": [
    "print('best_threshold', best_thr)\n",
    "print('best score',best_score)"
   ]
  },
  {
   "cell_type": "code",
   "execution_count": 48,
   "metadata": {},
   "outputs": [
    {
     "name": "stderr",
     "output_type": "stream",
     "text": [
      "C:\\Users\\johan\\anaconda3\\lib\\site-packages\\sklearn\\utils\\validation.py:73: DataConversionWarning: A column-vector y was passed when a 1d array was expected. Please change the shape of y to (n_samples, ), for example using ravel().\n",
      "  return f(**kwargs)\n"
     ]
    }
   ],
   "source": [
    "logit.fit(X_train_val, y_train_val)\n",
    "y_prob = logit.predict_proba(X_test)[:,1]\n",
    "y_pred = np.where(y_prob>best_thr,1,0)"
   ]
  },
  {
   "cell_type": "code",
   "execution_count": 49,
   "metadata": {},
   "outputs": [
    {
     "name": "stdout",
     "output_type": "stream",
     "text": [
      "              precision    recall  f1-score   support\n",
      "\n",
      "           0       0.82      0.92      0.87       103\n",
      "           1       0.67      0.43      0.52        37\n",
      "\n",
      "    accuracy                           0.79       140\n",
      "   macro avg       0.74      0.68      0.70       140\n",
      "weighted avg       0.78      0.79      0.78       140\n",
      "\n"
     ]
    }
   ],
   "source": [
    "print(classification_report(y_test, y_pred))"
   ]
  },
  {
   "cell_type": "code",
   "execution_count": 59,
   "metadata": {},
   "outputs": [],
   "source": [
    "rus = RandomUnderSampler()\n",
    "X_under, y_under = rus.fit_resample(X_train_val, y_train_val) #nge undersampling training set"
   ]
  },
  {
   "cell_type": "code",
   "execution_count": 60,
   "metadata": {},
   "outputs": [
    {
     "data": {
      "text/plain": [
       "0    414\n",
       "1    146\n",
       "Name: default, dtype: int64"
      ]
     },
     "execution_count": 60,
     "metadata": {},
     "output_type": "execute_result"
    }
   ],
   "source": [
    "y_train_val['default'].value_counts()"
   ]
  },
  {
   "cell_type": "code",
   "execution_count": 61,
   "metadata": {},
   "outputs": [
    {
     "data": {
      "text/plain": [
       "1    146\n",
       "0    146\n",
       "Name: default, dtype: int64"
      ]
     },
     "execution_count": 61,
     "metadata": {},
     "output_type": "execute_result"
    }
   ],
   "source": [
    "y_under['default'].value_counts()"
   ]
  },
  {
   "cell_type": "code",
   "execution_count": 62,
   "metadata": {},
   "outputs": [
    {
     "name": "stdout",
     "output_type": "stream",
     "text": [
      "              precision    recall  f1-score   support\n",
      "\n",
      "           0       0.96      0.67      0.79       103\n",
      "           1       0.50      0.92      0.65        37\n",
      "\n",
      "    accuracy                           0.74       140\n",
      "   macro avg       0.73      0.79      0.72       140\n",
      "weighted avg       0.84      0.74      0.75       140\n",
      "\n"
     ]
    },
    {
     "name": "stderr",
     "output_type": "stream",
     "text": [
      "C:\\Users\\johan\\anaconda3\\lib\\site-packages\\sklearn\\utils\\validation.py:73: DataConversionWarning: A column-vector y was passed when a 1d array was expected. Please change the shape of y to (n_samples, ), for example using ravel().\n",
      "  return f(**kwargs)\n"
     ]
    }
   ],
   "source": [
    "logit_under = LogisticRegression()\n",
    "logit_under.fit(X_under, y_under)\n",
    "y_pred = logit_under.predict(X_test)\n",
    "print(classification_report(y_test, y_pred))"
   ]
  },
  {
   "cell_type": "code",
   "execution_count": 64,
   "metadata": {},
   "outputs": [
    {
     "data": {
      "text/plain": [
       "<sklearn.metrics._plot.roc_curve.RocCurveDisplay at 0x1c4651559d0>"
      ]
     },
     "execution_count": 64,
     "metadata": {},
     "output_type": "execute_result"
    },
    {
     "data": {
      "image/png": "[encoded data removed]",
      "text/plain": [
       "<Figure size 432x288 with 1 Axes>"
      ]
     },
     "metadata": {
      "needs_background": "light"
     },
     "output_type": "display_data"
    }
   ],
   "source": [
    "plot_roc_curve(logit_under, X_test, y_test)"
   ]
  },
  {
   "cell_type": "code",
   "execution_count": 65,
   "metadata": {},
   "outputs": [],
   "source": [
    "smote = SMOTE()\n",
    "X_smo, y_smo = smote.fit_resample(X_train_val, y_train_val)"
   ]
  },
  {
   "cell_type": "code",
   "execution_count": 66,
   "metadata": {},
   "outputs": [
    {
     "data": {
      "text/plain": [
       "0    414\n",
       "1    146\n",
       "Name: default, dtype: int64"
      ]
     },
     "execution_count": 66,
     "metadata": {},
     "output_type": "execute_result"
    }
   ],
   "source": [
    "y_train_val['default'].value_counts()"
   ]
  },
  {
   "cell_type": "code",
   "execution_count": 67,
   "metadata": {},
   "outputs": [
    {
     "data": {
      "text/plain": [
       "1    414\n",
       "0    414\n",
       "Name: default, dtype: int64"
      ]
     },
     "execution_count": 67,
     "metadata": {},
     "output_type": "execute_result"
    }
   ],
   "source": [
    "y_smo['default'].value_counts()"
   ]
  },
  {
   "cell_type": "code",
   "execution_count": 70,
   "metadata": {},
   "outputs": [
    {
     "name": "stdout",
     "output_type": "stream",
     "text": [
      "              precision    recall  f1-score   support\n",
      "\n",
      "           0       0.94      0.73      0.82       103\n",
      "           1       0.53      0.86      0.66        37\n",
      "\n",
      "    accuracy                           0.76       140\n",
      "   macro avg       0.74      0.80      0.74       140\n",
      "weighted avg       0.83      0.76      0.78       140\n",
      "\n"
     ]
    },
    {
     "name": "stderr",
     "output_type": "stream",
     "text": [
      "C:\\Users\\johan\\anaconda3\\lib\\site-packages\\sklearn\\utils\\validation.py:73: DataConversionWarning: A column-vector y was passed when a 1d array was expected. Please change the shape of y to (n_samples, ), for example using ravel().\n",
      "  return f(**kwargs)\n"
     ]
    }
   ],
   "source": [
    "logit_smo = LogisticRegression()\n",
    "logit_smo.fit(X_smo, y_smo)\n",
    "y_pred_smo = logit_smo.predict(X_test)\n",
    "print(classification_report(y_test, y_pred_smo))"
   ]
  },
  {
   "cell_type": "code",
   "execution_count": 71,
   "metadata": {},
   "outputs": [],
   "source": [
    "ros = RandomOverSampler()\n",
    "X_ros, y_ros = ros.fit_resample(X_train_val, y_train_val)"
   ]
  },
  {
   "cell_type": "code",
   "execution_count": 72,
   "metadata": {},
   "outputs": [
    {
     "data": {
      "text/plain": [
       "0    414\n",
       "1    146\n",
       "Name: default, dtype: int64"
      ]
     },
     "execution_count": 72,
     "metadata": {},
     "output_type": "execute_result"
    }
   ],
   "source": [
    "y_train_val['default'].value_counts()"
   ]
  },
  {
   "cell_type": "code",
   "execution_count": 73,
   "metadata": {},
   "outputs": [
    {
     "data": {
      "text/plain": [
       "1    414\n",
       "0    414\n",
       "Name: default, dtype: int64"
      ]
     },
     "execution_count": 73,
     "metadata": {},
     "output_type": "execute_result"
    }
   ],
   "source": [
    "y_smo['default'].value_counts()"
   ]
  },
  {
   "cell_type": "code",
   "execution_count": 74,
   "metadata": {},
   "outputs": [
    {
     "name": "stdout",
     "output_type": "stream",
     "text": [
      "              precision    recall  f1-score   support\n",
      "\n",
      "           0       0.93      0.73      0.82       103\n",
      "           1       0.53      0.84      0.65        37\n",
      "\n",
      "    accuracy                           0.76       140\n",
      "   macro avg       0.73      0.78      0.73       140\n",
      "weighted avg       0.82      0.76      0.77       140\n",
      "\n"
     ]
    },
    {
     "name": "stderr",
     "output_type": "stream",
     "text": [
      "C:\\Users\\johan\\anaconda3\\lib\\site-packages\\sklearn\\utils\\validation.py:73: DataConversionWarning: A column-vector y was passed when a 1d array was expected. Please change the shape of y to (n_samples, ), for example using ravel().\n",
      "  return f(**kwargs)\n"
     ]
    }
   ],
   "source": [
    "logit_ros = LogisticRegression()\n",
    "logit_ros.fit(X_ros, y_ros)\n",
    "y_pred_ros = logit_ros.predict(X_test)\n",
    "print(classification_report(y_test, y_pred_ros))"
   ]
  },
  {
   "cell_type": "code",
   "execution_count": 82,
   "metadata": {},
   "outputs": [],
   "source": [
    "ros_df = pd.concat([X_ros, y_ros],axis=1)\n",
    "smo_df = pd.concat([X_smo, y_smo],axis=1)\n",
    "under_df = pd.concat([X_under, y_under],axis=1)\n",
    "df = pd.concat([X_train_val,y_train_val],axis=1)"
   ]
  },
  {
   "cell_type": "code",
   "execution_count": 80,
   "metadata": {},
   "outputs": [
    {
     "data": {
      "text/plain": [
       "<matplotlib.axes._subplots.AxesSubplot at 0x1c4651f6670>"
      ]
     },
     "execution_count": 80,
     "metadata": {},
     "output_type": "execute_result"
    },
    {
     "data": {
      "image/png": "[encoded data removed]",
      "text/plain": [
       "<Figure size 432x288 with 1 Axes>"
      ]
     },
     "metadata": {
      "needs_background": "light"
     },
     "output_type": "display_data"
    }
   ],
   "source": [
    "sns.scatterplot(x='debtinc',y='creddebt',data=df, hue='default')"
   ]
  },
  {
   "cell_type": "code",
   "execution_count": 76,
   "metadata": {},
   "outputs": [
    {
     "data": {
      "text/plain": [
       "<matplotlib.axes._subplots.AxesSubplot at 0x1c4650a1670>"
      ]
     },
     "execution_count": 76,
     "metadata": {},
     "output_type": "execute_result"
    },
    {
     "data": {
      "image/png": "[encoded data removed]",
      "text/plain": [
       "<Figure size 432x288 with 1 Axes>"
      ]
     },
     "metadata": {
      "needs_background": "light"
     },
     "output_type": "display_data"
    }
   ],
   "source": [
    "sns.scatterplot(x='debtinc',y='creddebt',data=ros_df, hue='default')"
   ]
  },
  {
   "cell_type": "code",
   "execution_count": 83,
   "metadata": {},
   "outputs": [
    {
     "data": {
      "text/plain": [
       "<matplotlib.axes._subplots.AxesSubplot at 0x1c46557ca30>"
      ]
     },
     "execution_count": 83,
     "metadata": {},
     "output_type": "execute_result"
    },
    {
     "data": {
      "image/png": "[encoded data removed]",
      "text/plain": [
       "<Figure size 432x288 with 1 Axes>"
      ]
     },
     "metadata": {
      "needs_background": "light"
     },
     "output_type": "display_data"
    }
   ],
   "source": [
    "sns.scatterplot(x='debtinc',y='creddebt',data=under_df, hue='default')"
   ]
  },
  {
   "cell_type": "markdown",
   "metadata": {},
   "source": [
    "# Penalized\n",
    "\n",
    "### memberi perhatian imbang kepada label yang rationya lebih kecil"
   ]
  },
  {
   "cell_type": "code",
   "execution_count": 84,
   "metadata": {},
   "outputs": [
    {
     "name": "stdout",
     "output_type": "stream",
     "text": [
      "              precision    recall  f1-score   support\n",
      "\n",
      "           0       0.95      0.72      0.82       103\n",
      "           1       0.53      0.89      0.67        37\n",
      "\n",
      "    accuracy                           0.76       140\n",
      "   macro avg       0.74      0.81      0.74       140\n",
      "weighted avg       0.84      0.76      0.78       140\n",
      "\n"
     ]
    },
    {
     "name": "stderr",
     "output_type": "stream",
     "text": [
      "C:\\Users\\johan\\anaconda3\\lib\\site-packages\\sklearn\\utils\\validation.py:73: DataConversionWarning: A column-vector y was passed when a 1d array was expected. Please change the shape of y to (n_samples, ), for example using ravel().\n",
      "  return f(**kwargs)\n"
     ]
    }
   ],
   "source": [
    "logit_balance=LogisticRegression(class_weight = 'balanced')\n",
    "logit_balance.fit(X_train_val, y_train_val)\n",
    "y_pred_bal = logit_balance.predict(X_test)\n",
    "print(classification_report(y_test,y_pred_bal))"
   ]
  },
  {
   "cell_type": "code",
   "execution_count": 85,
   "metadata": {},
   "outputs": [
    {
     "data": {
      "text/plain": [
       "<sklearn.metrics._plot.roc_curve.RocCurveDisplay at 0x1c4655b9f40>"
      ]
     },
     "execution_count": 85,
     "metadata": {},
     "output_type": "execute_result"
    },
    {
     "data": {
      "image/png": "[encoded data removed]",
      "text/plain": [
       "<Figure size 432x288 with 1 Axes>"
      ]
     },
     "metadata": {
      "needs_background": "light"
     },
     "output_type": "display_data"
    }
   ],
   "source": [
    "plot_roc_curve(logit_balance, X_test, y_test)"
   ]
  },
  {
   "cell_type": "markdown",
   "metadata": {},
   "source": [
    "> ## Summary"
   ]
  },
  {
   "cell_type": "code",
   "execution_count": 87,
   "metadata": {},
   "outputs": [],
   "source": [
    "f1_no_treat = f1_score(y_test, logit.predict(X_test))\n",
    "\n",
    "y_prob1 = logit.predict_proba(X_test)[:,1]\n",
    "f1_no_treat_thr = f1_score(y_test, np.where(y_prob1>best_thr,1,0))\n",
    "\n",
    "f1_under = f1_score(y_test, logit_under.predict(X_test))\n",
    "f1_ros = f1_score(y_test, logit_ros.predict(X_test))\n",
    "f1_smo = f1_score(y_test, logit_smo.predict(X_test))\n",
    "f1_balance = f1_score(y_test, logit_balance.predict(X_test))"
   ]
  },
  {
   "cell_type": "code",
   "execution_count": 90,
   "metadata": {},
   "outputs": [
    {
     "data": {
      "text/html": [
       "<div>\n",
       "<style scoped>\n",
       "    .dataframe tbody tr th:only-of-type {\n",
       "        vertical-align: middle;\n",
       "    }\n",
       "\n",
       "    .dataframe tbody tr th {\n",
       "        vertical-align: top;\n",
       "    }\n",
       "\n",
       "    .dataframe thead th {\n",
       "        text-align: right;\n",
       "    }\n",
       "</style>\n",
       "<table border=\"1\" class=\"dataframe\">\n",
       "  <thead>\n",
       "    <tr style=\"text-align: right;\">\n",
       "      <th></th>\n",
       "      <th>method</th>\n",
       "      <th>score</th>\n",
       "    </tr>\n",
       "  </thead>\n",
       "  <tbody>\n",
       "    <tr>\n",
       "      <th>0</th>\n",
       "      <td>default</td>\n",
       "      <td>0.508475</td>\n",
       "    </tr>\n",
       "    <tr>\n",
       "      <th>1</th>\n",
       "      <td>threshold_opt</td>\n",
       "      <td>0.524590</td>\n",
       "    </tr>\n",
       "    <tr>\n",
       "      <th>2</th>\n",
       "      <td>undersampling</td>\n",
       "      <td>0.647619</td>\n",
       "    </tr>\n",
       "    <tr>\n",
       "      <th>3</th>\n",
       "      <td>oversampling</td>\n",
       "      <td>0.645833</td>\n",
       "    </tr>\n",
       "    <tr>\n",
       "      <th>4</th>\n",
       "      <td>SMOTE</td>\n",
       "      <td>0.659794</td>\n",
       "    </tr>\n",
       "    <tr>\n",
       "      <th>5</th>\n",
       "      <td>penalized</td>\n",
       "      <td>0.666667</td>\n",
       "    </tr>\n",
       "  </tbody>\n",
       "</table>\n",
       "</div>"
      ],
      "text/plain": [
       "          method     score\n",
       "0        default  0.508475\n",
       "1  threshold_opt  0.524590\n",
       "2  undersampling  0.647619\n",
       "3   oversampling  0.645833\n",
       "4          SMOTE  0.659794\n",
       "5      penalized  0.666667"
      ]
     },
     "execution_count": 90,
     "metadata": {},
     "output_type": "execute_result"
    }
   ],
   "source": [
    "score_list = [f1_no_treat, f1_no_treat_thr, f1_under,f1_ros,f1_smo,f1_balance]\n",
    "model_name='default threshold_opt undersampling oversampling SMOTE penalized'.split()\n",
    "\n",
    "df_summary = pd.DataFrame({\n",
    "    'method':model_name,\n",
    "    'score':score_list\n",
    "})\n",
    "df_summary"
   ]
  },
  {
   "cell_type": "markdown",
   "metadata": {},
   "source": [
    "## Combine Cross Validation with Balancing Method"
   ]
  },
  {
   "cell_type": "code",
   "execution_count": 91,
   "metadata": {},
   "outputs": [],
   "source": [
    "import pandas as pd\n",
    "import numpy as np\n",
    "\n",
    "import seaborn as sns\n",
    "import matplotlib.pyplot as plt\n",
    "\n",
    "from sklearn.model_selection import train_test_split, cross_val_score, StratifiedKFold, GridSearchCV\n",
    "from imblearn.over_sampling import RandomOverSampler, SMOTE\n",
    "from imblearn.under_sampling import RandomUnderSampler, NearMiss\n",
    "from imblearn.pipeline import Pipeline\n",
    "\n",
    "from sklearn.linear_model import LogisticRegression\n",
    "\n",
    "from sklearn.metrics import plot_roc_curve\n",
    "from sklearn.metrics import classification_report, f1_score\n",
    "\n",
    "import warnings\n",
    "\n",
    "warnings.filterwarnings('ignore')\n",
    "pd.set_option('display.max_columns', None)\n"
   ]
  },
  {
   "cell_type": "code",
   "execution_count": 92,
   "metadata": {},
   "outputs": [
    {
     "data": {
      "text/plain": [
       "(     employ  debtinc   creddebt   othdebt\n",
       " 0        17      9.3  11.359392  5.008608\n",
       " 1        10     17.3   1.362202  4.000798\n",
       " 2        15      5.5   0.856075  2.168925\n",
       " 3        15      2.9   2.658720  0.821280\n",
       " 4         2     17.3   1.787436  3.056564\n",
       " ..      ...      ...        ...       ...\n",
       " 695       6      4.6   0.262062  0.979938\n",
       " 696       6     11.5   0.369495  2.045505\n",
       " 697      15      7.6   0.491264  1.940736\n",
       " 698      19      8.4   2.302608  4.165392\n",
       " 699      12     14.7   2.994684  3.473316\n",
       " \n",
       " [700 rows x 4 columns],\n",
       "      default\n",
       " 0          1\n",
       " 1          0\n",
       " 2          0\n",
       " 3          0\n",
       " 4          1\n",
       " ..       ...\n",
       " 695        1\n",
       " 696        0\n",
       " 697        0\n",
       " 698        0\n",
       " 699        0\n",
       " \n",
       " [700 rows x 1 columns])"
      ]
     },
     "execution_count": 92,
     "metadata": {},
     "output_type": "execute_result"
    }
   ],
   "source": [
    "X,y"
   ]
  },
  {
   "cell_type": "markdown",
   "metadata": {},
   "source": [
    "> ## Resampling : SMOTE"
   ]
  },
  {
   "cell_type": "code",
   "execution_count": 133,
   "metadata": {},
   "outputs": [],
   "source": [
    "smote = SMOTE()\n",
    "logit = LogisticRegression()\n",
    "\n",
    "estimator = Pipeline([('balancing',smote),\n",
    "                     ('clf',logit)])"
   ]
  },
  {
   "cell_type": "code",
   "execution_count": 134,
   "metadata": {},
   "outputs": [],
   "source": [
    "skf = StratifiedKFold(n_splits=5)\n",
    "model_cv = cross_val_score(estimator, X_train_val, y_train_val, cv=skf, scoring='f1')"
   ]
  },
  {
   "cell_type": "code",
   "execution_count": 135,
   "metadata": {},
   "outputs": [
    {
     "name": "stdout",
     "output_type": "stream",
     "text": [
      "cv score: [0.54320988 0.58333333 0.62686567 0.73015873 0.56338028]\n",
      "cv score mean: 0.6093895786734411\n"
     ]
    }
   ],
   "source": [
    "print('cv score:',model_cv)\n",
    "print('cv score mean:',model_cv.mean())"
   ]
  },
  {
   "cell_type": "markdown",
   "metadata": {},
   "source": [
    "> ## Penalized"
   ]
  },
  {
   "cell_type": "code",
   "execution_count": 136,
   "metadata": {},
   "outputs": [],
   "source": [
    "logit_balanced = LogisticRegression(class_weight = 'balanced')\n",
    "model_cv_balanced = cross_val_score(logit_balanced, X_train_val, y_train_val, cv=skf, scoring='f1')"
   ]
  },
  {
   "cell_type": "code",
   "execution_count": 137,
   "metadata": {},
   "outputs": [
    {
     "name": "stdout",
     "output_type": "stream",
     "text": [
      "cv score: [0.56097561 0.60273973 0.60869565 0.76190476 0.52173913]\n",
      "cv score mean: 0.6112109760593905\n"
     ]
    }
   ],
   "source": [
    "print('cv score:',model_cv_balanced)\n",
    "print('cv score mean:',model_cv_balanced.mean())"
   ]
  },
  {
   "cell_type": "code",
   "execution_count": null,
   "metadata": {},
   "outputs": [],
   "source": []
  },
  {
   "cell_type": "code",
   "execution_count": 139,
   "metadata": {},
   "outputs": [],
   "source": [
    "smote=SMOTE()\n",
    "model=LogisticRegression()\n",
    "estimator=Pipeline([('balancing',smote),\n",
    "                   ('clf',model)])\n",
    "\n",
    "hyperparam_space = {\n",
    "    'balancing__k_neighbors':[2,5,10,15,20],\n",
    "    'clf__C':[100,10,1,0.1,0.01,0.001],\n",
    "    'clf__solver':['liblinear','newton-cg']\n",
    "}\n",
    "skf=StratifiedKFold(n_splits=5)\n",
    "\n",
    "grid_search=GridSearchCV(estimator, hyperparam_space,cv=skf,scoring='f1',n_jobs=-1,verbose=1)"
   ]
  },
  {
   "cell_type": "code",
   "execution_count": 140,
   "metadata": {},
   "outputs": [
    {
     "name": "stdout",
     "output_type": "stream",
     "text": [
      "Fitting 5 folds for each of 60 candidates, totalling 300 fits\n"
     ]
    },
    {
     "name": "stderr",
     "output_type": "stream",
     "text": [
      "[Parallel(n_jobs=-1)]: Using backend LokyBackend with 12 concurrent workers.\n",
      "[Parallel(n_jobs=-1)]: Done  26 tasks      | elapsed:    3.1s\n",
      "[Parallel(n_jobs=-1)]: Done 272 tasks      | elapsed:    3.8s\n",
      "[Parallel(n_jobs=-1)]: Done 300 out of 300 | elapsed:    3.9s finished\n"
     ]
    },
    {
     "data": {
      "text/plain": [
       "GridSearchCV(cv=StratifiedKFold(n_splits=5, random_state=None, shuffle=False),\n",
       "             estimator=Pipeline(steps=[('balancing', SMOTE()),\n",
       "                                       ('clf', LogisticRegression())]),\n",
       "             n_jobs=-1,\n",
       "             param_grid={'balancing__k_neighbors': [2, 5, 10, 15, 20],\n",
       "                         'clf__C': [100, 10, 1, 0.1, 0.01, 0.001],\n",
       "                         'clf__solver': ['liblinear', 'newton-cg']},\n",
       "             scoring='f1', verbose=1)"
      ]
     },
     "execution_count": 140,
     "metadata": {},
     "output_type": "execute_result"
    }
   ],
   "source": [
    "grid_search.fit(X_train_val, y_train_val)"
   ]
  },
  {
   "cell_type": "code",
   "execution_count": 141,
   "metadata": {},
   "outputs": [
    {
     "name": "stdout",
     "output_type": "stream",
     "text": [
      "best score 0.6244347941594205\n",
      "best parameter {'balancing__k_neighbors': 15, 'clf__C': 10, 'clf__solver': 'liblinear'}\n"
     ]
    }
   ],
   "source": [
    "print('best score',grid_search.best_score_)\n",
    "print('best parameter',grid_search.best_params_)"
   ]
  },
  {
   "cell_type": "code",
   "execution_count": 143,
   "metadata": {
    "collapsed": true,
    "jupyter": {
     "outputs_hidden": true
    }
   },
   "outputs": [
    {
     "data": {
      "text/html": [
       "<div>\n",
       "<style scoped>\n",
       "    .dataframe tbody tr th:only-of-type {\n",
       "        vertical-align: middle;\n",
       "    }\n",
       "\n",
       "    .dataframe tbody tr th {\n",
       "        vertical-align: top;\n",
       "    }\n",
       "\n",
       "    .dataframe thead th {\n",
       "        text-align: right;\n",
       "    }\n",
       "</style>\n",
       "<table border=\"1\" class=\"dataframe\">\n",
       "  <thead>\n",
       "    <tr style=\"text-align: right;\">\n",
       "      <th></th>\n",
       "      <th>mean_fit_time</th>\n",
       "      <th>std_fit_time</th>\n",
       "      <th>mean_score_time</th>\n",
       "      <th>std_score_time</th>\n",
       "      <th>param_balancing__k_neighbors</th>\n",
       "      <th>param_clf__C</th>\n",
       "      <th>param_clf__solver</th>\n",
       "      <th>params</th>\n",
       "      <th>split0_test_score</th>\n",
       "      <th>split1_test_score</th>\n",
       "      <th>split2_test_score</th>\n",
       "      <th>split3_test_score</th>\n",
       "      <th>split4_test_score</th>\n",
       "      <th>mean_test_score</th>\n",
       "      <th>std_test_score</th>\n",
       "      <th>rank_test_score</th>\n",
       "    </tr>\n",
       "  </thead>\n",
       "  <tbody>\n",
       "    <tr>\n",
       "      <th>0</th>\n",
       "      <td>0.023543</td>\n",
       "      <td>0.001018</td>\n",
       "      <td>0.007376</td>\n",
       "      <td>0.001200</td>\n",
       "      <td>2</td>\n",
       "      <td>100</td>\n",
       "      <td>liblinear</td>\n",
       "      <td>{'balancing__k_neighbors': 2, 'clf__C': 100, '...</td>\n",
       "      <td>0.543210</td>\n",
       "      <td>0.591549</td>\n",
       "      <td>0.617647</td>\n",
       "      <td>0.750000</td>\n",
       "      <td>0.521739</td>\n",
       "      <td>0.604829</td>\n",
       "      <td>0.080145</td>\n",
       "      <td>46</td>\n",
       "    </tr>\n",
       "    <tr>\n",
       "      <th>1</th>\n",
       "      <td>0.060242</td>\n",
       "      <td>0.002491</td>\n",
       "      <td>0.007380</td>\n",
       "      <td>0.002326</td>\n",
       "      <td>2</td>\n",
       "      <td>100</td>\n",
       "      <td>newton-cg</td>\n",
       "      <td>{'balancing__k_neighbors': 2, 'clf__C': 100, '...</td>\n",
       "      <td>0.554217</td>\n",
       "      <td>0.611111</td>\n",
       "      <td>0.626866</td>\n",
       "      <td>0.750000</td>\n",
       "      <td>0.529412</td>\n",
       "      <td>0.614321</td>\n",
       "      <td>0.076679</td>\n",
       "      <td>14</td>\n",
       "    </tr>\n",
       "    <tr>\n",
       "      <th>2</th>\n",
       "      <td>0.023935</td>\n",
       "      <td>0.002748</td>\n",
       "      <td>0.006689</td>\n",
       "      <td>0.000586</td>\n",
       "      <td>2</td>\n",
       "      <td>10</td>\n",
       "      <td>liblinear</td>\n",
       "      <td>{'balancing__k_neighbors': 2, 'clf__C': 10, 'c...</td>\n",
       "      <td>0.543210</td>\n",
       "      <td>0.594595</td>\n",
       "      <td>0.636364</td>\n",
       "      <td>0.761905</td>\n",
       "      <td>0.542857</td>\n",
       "      <td>0.615786</td>\n",
       "      <td>0.081005</td>\n",
       "      <td>10</td>\n",
       "    </tr>\n",
       "    <tr>\n",
       "      <th>3</th>\n",
       "      <td>0.045011</td>\n",
       "      <td>0.006102</td>\n",
       "      <td>0.004787</td>\n",
       "      <td>0.000399</td>\n",
       "      <td>2</td>\n",
       "      <td>10</td>\n",
       "      <td>newton-cg</td>\n",
       "      <td>{'balancing__k_neighbors': 2, 'clf__C': 10, 'c...</td>\n",
       "      <td>0.543210</td>\n",
       "      <td>0.583333</td>\n",
       "      <td>0.617647</td>\n",
       "      <td>0.741935</td>\n",
       "      <td>0.555556</td>\n",
       "      <td>0.608336</td>\n",
       "      <td>0.071537</td>\n",
       "      <td>36</td>\n",
       "    </tr>\n",
       "    <tr>\n",
       "      <th>4</th>\n",
       "      <td>0.019960</td>\n",
       "      <td>0.002691</td>\n",
       "      <td>0.006184</td>\n",
       "      <td>0.002475</td>\n",
       "      <td>2</td>\n",
       "      <td>1</td>\n",
       "      <td>liblinear</td>\n",
       "      <td>{'balancing__k_neighbors': 2, 'clf__C': 1, 'cl...</td>\n",
       "      <td>0.550000</td>\n",
       "      <td>0.594595</td>\n",
       "      <td>0.626866</td>\n",
       "      <td>0.750000</td>\n",
       "      <td>0.542857</td>\n",
       "      <td>0.612863</td>\n",
       "      <td>0.075085</td>\n",
       "      <td>18</td>\n",
       "    </tr>\n",
       "    <tr>\n",
       "      <th>5</th>\n",
       "      <td>0.048073</td>\n",
       "      <td>0.015610</td>\n",
       "      <td>0.005788</td>\n",
       "      <td>0.002221</td>\n",
       "      <td>2</td>\n",
       "      <td>1</td>\n",
       "      <td>newton-cg</td>\n",
       "      <td>{'balancing__k_neighbors': 2, 'clf__C': 1, 'cl...</td>\n",
       "      <td>0.538462</td>\n",
       "      <td>0.594595</td>\n",
       "      <td>0.636364</td>\n",
       "      <td>0.738462</td>\n",
       "      <td>0.542857</td>\n",
       "      <td>0.610148</td>\n",
       "      <td>0.073567</td>\n",
       "      <td>30</td>\n",
       "    </tr>\n",
       "    <tr>\n",
       "      <th>6</th>\n",
       "      <td>0.025335</td>\n",
       "      <td>0.006868</td>\n",
       "      <td>0.005983</td>\n",
       "      <td>0.000887</td>\n",
       "      <td>2</td>\n",
       "      <td>0.1</td>\n",
       "      <td>liblinear</td>\n",
       "      <td>{'balancing__k_neighbors': 2, 'clf__C': 0.1, '...</td>\n",
       "      <td>0.543210</td>\n",
       "      <td>0.605263</td>\n",
       "      <td>0.591549</td>\n",
       "      <td>0.750000</td>\n",
       "      <td>0.542857</td>\n",
       "      <td>0.606576</td>\n",
       "      <td>0.075991</td>\n",
       "      <td>42</td>\n",
       "    </tr>\n",
       "    <tr>\n",
       "      <th>7</th>\n",
       "      <td>0.034507</td>\n",
       "      <td>0.005971</td>\n",
       "      <td>0.005586</td>\n",
       "      <td>0.001196</td>\n",
       "      <td>2</td>\n",
       "      <td>0.1</td>\n",
       "      <td>newton-cg</td>\n",
       "      <td>{'balancing__k_neighbors': 2, 'clf__C': 0.1, '...</td>\n",
       "      <td>0.536585</td>\n",
       "      <td>0.600000</td>\n",
       "      <td>0.636364</td>\n",
       "      <td>0.741935</td>\n",
       "      <td>0.542857</td>\n",
       "      <td>0.611548</td>\n",
       "      <td>0.074951</td>\n",
       "      <td>22</td>\n",
       "    </tr>\n",
       "    <tr>\n",
       "      <th>8</th>\n",
       "      <td>0.017156</td>\n",
       "      <td>0.002985</td>\n",
       "      <td>0.004985</td>\n",
       "      <td>0.001090</td>\n",
       "      <td>2</td>\n",
       "      <td>0.01</td>\n",
       "      <td>liblinear</td>\n",
       "      <td>{'balancing__k_neighbors': 2, 'clf__C': 0.01, ...</td>\n",
       "      <td>0.554217</td>\n",
       "      <td>0.625000</td>\n",
       "      <td>0.600000</td>\n",
       "      <td>0.727273</td>\n",
       "      <td>0.563380</td>\n",
       "      <td>0.613974</td>\n",
       "      <td>0.062103</td>\n",
       "      <td>16</td>\n",
       "    </tr>\n",
       "    <tr>\n",
       "      <th>9</th>\n",
       "      <td>0.036702</td>\n",
       "      <td>0.006862</td>\n",
       "      <td>0.006182</td>\n",
       "      <td>0.000978</td>\n",
       "      <td>2</td>\n",
       "      <td>0.01</td>\n",
       "      <td>newton-cg</td>\n",
       "      <td>{'balancing__k_neighbors': 2, 'clf__C': 0.01, ...</td>\n",
       "      <td>0.556962</td>\n",
       "      <td>0.571429</td>\n",
       "      <td>0.628571</td>\n",
       "      <td>0.730159</td>\n",
       "      <td>0.542857</td>\n",
       "      <td>0.605996</td>\n",
       "      <td>0.068574</td>\n",
       "      <td>43</td>\n",
       "    </tr>\n",
       "    <tr>\n",
       "      <th>10</th>\n",
       "      <td>0.017950</td>\n",
       "      <td>0.001260</td>\n",
       "      <td>0.005986</td>\n",
       "      <td>0.000894</td>\n",
       "      <td>2</td>\n",
       "      <td>0.001</td>\n",
       "      <td>liblinear</td>\n",
       "      <td>{'balancing__k_neighbors': 2, 'clf__C': 0.001,...</td>\n",
       "      <td>0.564706</td>\n",
       "      <td>0.558140</td>\n",
       "      <td>0.594595</td>\n",
       "      <td>0.739726</td>\n",
       "      <td>0.519481</td>\n",
       "      <td>0.595329</td>\n",
       "      <td>0.076059</td>\n",
       "      <td>59</td>\n",
       "    </tr>\n",
       "    <tr>\n",
       "      <th>11</th>\n",
       "      <td>0.029914</td>\n",
       "      <td>0.003738</td>\n",
       "      <td>0.002792</td>\n",
       "      <td>0.000747</td>\n",
       "      <td>2</td>\n",
       "      <td>0.001</td>\n",
       "      <td>newton-cg</td>\n",
       "      <td>{'balancing__k_neighbors': 2, 'clf__C': 0.001,...</td>\n",
       "      <td>0.543210</td>\n",
       "      <td>0.575342</td>\n",
       "      <td>0.637681</td>\n",
       "      <td>0.727273</td>\n",
       "      <td>0.571429</td>\n",
       "      <td>0.610987</td>\n",
       "      <td>0.065824</td>\n",
       "      <td>27</td>\n",
       "    </tr>\n",
       "    <tr>\n",
       "      <th>12</th>\n",
       "      <td>0.015159</td>\n",
       "      <td>0.003178</td>\n",
       "      <td>0.003391</td>\n",
       "      <td>0.000489</td>\n",
       "      <td>5</td>\n",
       "      <td>100</td>\n",
       "      <td>liblinear</td>\n",
       "      <td>{'balancing__k_neighbors': 5, 'clf__C': 100, '...</td>\n",
       "      <td>0.543210</td>\n",
       "      <td>0.594595</td>\n",
       "      <td>0.608696</td>\n",
       "      <td>0.741935</td>\n",
       "      <td>0.521739</td>\n",
       "      <td>0.602035</td>\n",
       "      <td>0.076915</td>\n",
       "      <td>53</td>\n",
       "    </tr>\n",
       "    <tr>\n",
       "      <th>13</th>\n",
       "      <td>0.026295</td>\n",
       "      <td>0.003509</td>\n",
       "      <td>0.003392</td>\n",
       "      <td>0.000797</td>\n",
       "      <td>5</td>\n",
       "      <td>100</td>\n",
       "      <td>newton-cg</td>\n",
       "      <td>{'balancing__k_neighbors': 5, 'clf__C': 100, '...</td>\n",
       "      <td>0.543210</td>\n",
       "      <td>0.594595</td>\n",
       "      <td>0.636364</td>\n",
       "      <td>0.750000</td>\n",
       "      <td>0.537313</td>\n",
       "      <td>0.612296</td>\n",
       "      <td>0.077782</td>\n",
       "      <td>19</td>\n",
       "    </tr>\n",
       "    <tr>\n",
       "      <th>14</th>\n",
       "      <td>0.013750</td>\n",
       "      <td>0.001015</td>\n",
       "      <td>0.003582</td>\n",
       "      <td>0.000795</td>\n",
       "      <td>5</td>\n",
       "      <td>10</td>\n",
       "      <td>liblinear</td>\n",
       "      <td>{'balancing__k_neighbors': 5, 'clf__C': 10, 'c...</td>\n",
       "      <td>0.564103</td>\n",
       "      <td>0.613333</td>\n",
       "      <td>0.636364</td>\n",
       "      <td>0.750000</td>\n",
       "      <td>0.521739</td>\n",
       "      <td>0.617108</td>\n",
       "      <td>0.077395</td>\n",
       "      <td>5</td>\n",
       "    </tr>\n",
       "    <tr>\n",
       "      <th>15</th>\n",
       "      <td>0.025476</td>\n",
       "      <td>0.004053</td>\n",
       "      <td>0.008378</td>\n",
       "      <td>0.005698</td>\n",
       "      <td>5</td>\n",
       "      <td>10</td>\n",
       "      <td>newton-cg</td>\n",
       "      <td>{'balancing__k_neighbors': 5, 'clf__C': 10, 'c...</td>\n",
       "      <td>0.543210</td>\n",
       "      <td>0.594595</td>\n",
       "      <td>0.626866</td>\n",
       "      <td>0.738462</td>\n",
       "      <td>0.542857</td>\n",
       "      <td>0.609198</td>\n",
       "      <td>0.072097</td>\n",
       "      <td>34</td>\n",
       "    </tr>\n",
       "    <tr>\n",
       "      <th>16</th>\n",
       "      <td>0.012947</td>\n",
       "      <td>0.000660</td>\n",
       "      <td>0.003771</td>\n",
       "      <td>0.000976</td>\n",
       "      <td>5</td>\n",
       "      <td>1</td>\n",
       "      <td>liblinear</td>\n",
       "      <td>{'balancing__k_neighbors': 5, 'clf__C': 1, 'cl...</td>\n",
       "      <td>0.543210</td>\n",
       "      <td>0.594595</td>\n",
       "      <td>0.646154</td>\n",
       "      <td>0.741935</td>\n",
       "      <td>0.542857</td>\n",
       "      <td>0.613750</td>\n",
       "      <td>0.074633</td>\n",
       "      <td>17</td>\n",
       "    </tr>\n",
       "    <tr>\n",
       "      <th>17</th>\n",
       "      <td>0.028325</td>\n",
       "      <td>0.004789</td>\n",
       "      <td>0.004387</td>\n",
       "      <td>0.000488</td>\n",
       "      <td>5</td>\n",
       "      <td>1</td>\n",
       "      <td>newton-cg</td>\n",
       "      <td>{'balancing__k_neighbors': 5, 'clf__C': 1, 'cl...</td>\n",
       "      <td>0.554217</td>\n",
       "      <td>0.619718</td>\n",
       "      <td>0.617647</td>\n",
       "      <td>0.750000</td>\n",
       "      <td>0.542857</td>\n",
       "      <td>0.616888</td>\n",
       "      <td>0.073669</td>\n",
       "      <td>7</td>\n",
       "    </tr>\n",
       "    <tr>\n",
       "      <th>18</th>\n",
       "      <td>0.017753</td>\n",
       "      <td>0.005294</td>\n",
       "      <td>0.004587</td>\n",
       "      <td>0.000798</td>\n",
       "      <td>5</td>\n",
       "      <td>0.1</td>\n",
       "      <td>liblinear</td>\n",
       "      <td>{'balancing__k_neighbors': 5, 'clf__C': 0.1, '...</td>\n",
       "      <td>0.554217</td>\n",
       "      <td>0.611111</td>\n",
       "      <td>0.626866</td>\n",
       "      <td>0.750000</td>\n",
       "      <td>0.542857</td>\n",
       "      <td>0.617010</td>\n",
       "      <td>0.073838</td>\n",
       "      <td>6</td>\n",
       "    </tr>\n",
       "    <tr>\n",
       "      <th>19</th>\n",
       "      <td>0.030120</td>\n",
       "      <td>0.005998</td>\n",
       "      <td>0.004787</td>\n",
       "      <td>0.000747</td>\n",
       "      <td>5</td>\n",
       "      <td>0.1</td>\n",
       "      <td>newton-cg</td>\n",
       "      <td>{'balancing__k_neighbors': 5, 'clf__C': 0.1, '...</td>\n",
       "      <td>0.543210</td>\n",
       "      <td>0.586667</td>\n",
       "      <td>0.617647</td>\n",
       "      <td>0.781250</td>\n",
       "      <td>0.521739</td>\n",
       "      <td>0.610103</td>\n",
       "      <td>0.091848</td>\n",
       "      <td>31</td>\n",
       "    </tr>\n",
       "    <tr>\n",
       "      <th>20</th>\n",
       "      <td>0.021142</td>\n",
       "      <td>0.006476</td>\n",
       "      <td>0.004588</td>\n",
       "      <td>0.000491</td>\n",
       "      <td>5</td>\n",
       "      <td>0.01</td>\n",
       "      <td>liblinear</td>\n",
       "      <td>{'balancing__k_neighbors': 5, 'clf__C': 0.01, ...</td>\n",
       "      <td>0.560976</td>\n",
       "      <td>0.632911</td>\n",
       "      <td>0.591549</td>\n",
       "      <td>0.727273</td>\n",
       "      <td>0.567568</td>\n",
       "      <td>0.616055</td>\n",
       "      <td>0.061055</td>\n",
       "      <td>8</td>\n",
       "    </tr>\n",
       "    <tr>\n",
       "      <th>21</th>\n",
       "      <td>0.034109</td>\n",
       "      <td>0.010932</td>\n",
       "      <td>0.004389</td>\n",
       "      <td>0.000488</td>\n",
       "      <td>5</td>\n",
       "      <td>0.01</td>\n",
       "      <td>newton-cg</td>\n",
       "      <td>{'balancing__k_neighbors': 5, 'clf__C': 0.01, ...</td>\n",
       "      <td>0.543210</td>\n",
       "      <td>0.611111</td>\n",
       "      <td>0.619718</td>\n",
       "      <td>0.750000</td>\n",
       "      <td>0.563380</td>\n",
       "      <td>0.617484</td>\n",
       "      <td>0.072180</td>\n",
       "      <td>4</td>\n",
       "    </tr>\n",
       "    <tr>\n",
       "      <th>22</th>\n",
       "      <td>0.015159</td>\n",
       "      <td>0.000397</td>\n",
       "      <td>0.007380</td>\n",
       "      <td>0.005412</td>\n",
       "      <td>5</td>\n",
       "      <td>0.001</td>\n",
       "      <td>liblinear</td>\n",
       "      <td>{'balancing__k_neighbors': 5, 'clf__C': 0.001,...</td>\n",
       "      <td>0.571429</td>\n",
       "      <td>0.558140</td>\n",
       "      <td>0.594595</td>\n",
       "      <td>0.729730</td>\n",
       "      <td>0.526316</td>\n",
       "      <td>0.596042</td>\n",
       "      <td>0.070397</td>\n",
       "      <td>57</td>\n",
       "    </tr>\n",
       "    <tr>\n",
       "      <th>23</th>\n",
       "      <td>0.034310</td>\n",
       "      <td>0.009154</td>\n",
       "      <td>0.010773</td>\n",
       "      <td>0.006352</td>\n",
       "      <td>5</td>\n",
       "      <td>0.001</td>\n",
       "      <td>newton-cg</td>\n",
       "      <td>{'balancing__k_neighbors': 5, 'clf__C': 0.001,...</td>\n",
       "      <td>0.531646</td>\n",
       "      <td>0.567568</td>\n",
       "      <td>0.637681</td>\n",
       "      <td>0.738462</td>\n",
       "      <td>0.529412</td>\n",
       "      <td>0.600954</td>\n",
       "      <td>0.079112</td>\n",
       "      <td>55</td>\n",
       "    </tr>\n",
       "    <tr>\n",
       "      <th>24</th>\n",
       "      <td>0.020545</td>\n",
       "      <td>0.006513</td>\n",
       "      <td>0.006982</td>\n",
       "      <td>0.005007</td>\n",
       "      <td>10</td>\n",
       "      <td>100</td>\n",
       "      <td>liblinear</td>\n",
       "      <td>{'balancing__k_neighbors': 10, 'clf__C': 100, ...</td>\n",
       "      <td>0.531646</td>\n",
       "      <td>0.594595</td>\n",
       "      <td>0.608696</td>\n",
       "      <td>0.761905</td>\n",
       "      <td>0.521739</td>\n",
       "      <td>0.603716</td>\n",
       "      <td>0.086077</td>\n",
       "      <td>51</td>\n",
       "    </tr>\n",
       "    <tr>\n",
       "      <th>25</th>\n",
       "      <td>0.031913</td>\n",
       "      <td>0.004548</td>\n",
       "      <td>0.005585</td>\n",
       "      <td>0.002327</td>\n",
       "      <td>10</td>\n",
       "      <td>100</td>\n",
       "      <td>newton-cg</td>\n",
       "      <td>{'balancing__k_neighbors': 10, 'clf__C': 100, ...</td>\n",
       "      <td>0.531646</td>\n",
       "      <td>0.591549</td>\n",
       "      <td>0.608696</td>\n",
       "      <td>0.761905</td>\n",
       "      <td>0.563380</td>\n",
       "      <td>0.611435</td>\n",
       "      <td>0.079649</td>\n",
       "      <td>23</td>\n",
       "    </tr>\n",
       "    <tr>\n",
       "      <th>26</th>\n",
       "      <td>0.016357</td>\n",
       "      <td>0.001851</td>\n",
       "      <td>0.005186</td>\n",
       "      <td>0.001163</td>\n",
       "      <td>10</td>\n",
       "      <td>10</td>\n",
       "      <td>liblinear</td>\n",
       "      <td>{'balancing__k_neighbors': 10, 'clf__C': 10, '...</td>\n",
       "      <td>0.536585</td>\n",
       "      <td>0.611111</td>\n",
       "      <td>0.600000</td>\n",
       "      <td>0.741935</td>\n",
       "      <td>0.555556</td>\n",
       "      <td>0.609038</td>\n",
       "      <td>0.071913</td>\n",
       "      <td>35</td>\n",
       "    </tr>\n",
       "    <tr>\n",
       "      <th>27</th>\n",
       "      <td>0.028325</td>\n",
       "      <td>0.007820</td>\n",
       "      <td>0.003995</td>\n",
       "      <td>0.000008</td>\n",
       "      <td>10</td>\n",
       "      <td>10</td>\n",
       "      <td>newton-cg</td>\n",
       "      <td>{'balancing__k_neighbors': 10, 'clf__C': 10, '...</td>\n",
       "      <td>0.536585</td>\n",
       "      <td>0.600000</td>\n",
       "      <td>0.617647</td>\n",
       "      <td>0.761905</td>\n",
       "      <td>0.521739</td>\n",
       "      <td>0.607575</td>\n",
       "      <td>0.085304</td>\n",
       "      <td>39</td>\n",
       "    </tr>\n",
       "    <tr>\n",
       "      <th>28</th>\n",
       "      <td>0.021341</td>\n",
       "      <td>0.005299</td>\n",
       "      <td>0.006787</td>\n",
       "      <td>0.003752</td>\n",
       "      <td>10</td>\n",
       "      <td>1</td>\n",
       "      <td>liblinear</td>\n",
       "      <td>{'balancing__k_neighbors': 10, 'clf__C': 1, 'c...</td>\n",
       "      <td>0.550000</td>\n",
       "      <td>0.575342</td>\n",
       "      <td>0.626866</td>\n",
       "      <td>0.750000</td>\n",
       "      <td>0.521739</td>\n",
       "      <td>0.604789</td>\n",
       "      <td>0.080424</td>\n",
       "      <td>47</td>\n",
       "    </tr>\n",
       "    <tr>\n",
       "      <th>29</th>\n",
       "      <td>0.026924</td>\n",
       "      <td>0.002180</td>\n",
       "      <td>0.004591</td>\n",
       "      <td>0.000803</td>\n",
       "      <td>10</td>\n",
       "      <td>1</td>\n",
       "      <td>newton-cg</td>\n",
       "      <td>{'balancing__k_neighbors': 10, 'clf__C': 1, 'c...</td>\n",
       "      <td>0.518519</td>\n",
       "      <td>0.594595</td>\n",
       "      <td>0.608696</td>\n",
       "      <td>0.761905</td>\n",
       "      <td>0.521739</td>\n",
       "      <td>0.601091</td>\n",
       "      <td>0.088404</td>\n",
       "      <td>54</td>\n",
       "    </tr>\n",
       "    <tr>\n",
       "      <th>30</th>\n",
       "      <td>0.016755</td>\n",
       "      <td>0.000747</td>\n",
       "      <td>0.004390</td>\n",
       "      <td>0.000488</td>\n",
       "      <td>10</td>\n",
       "      <td>0.1</td>\n",
       "      <td>liblinear</td>\n",
       "      <td>{'balancing__k_neighbors': 10, 'clf__C': 0.1, ...</td>\n",
       "      <td>0.543210</td>\n",
       "      <td>0.594595</td>\n",
       "      <td>0.600000</td>\n",
       "      <td>0.761905</td>\n",
       "      <td>0.555556</td>\n",
       "      <td>0.611053</td>\n",
       "      <td>0.078526</td>\n",
       "      <td>26</td>\n",
       "    </tr>\n",
       "    <tr>\n",
       "      <th>31</th>\n",
       "      <td>0.026926</td>\n",
       "      <td>0.003888</td>\n",
       "      <td>0.004190</td>\n",
       "      <td>0.000748</td>\n",
       "      <td>10</td>\n",
       "      <td>0.1</td>\n",
       "      <td>newton-cg</td>\n",
       "      <td>{'balancing__k_neighbors': 10, 'clf__C': 0.1, ...</td>\n",
       "      <td>0.543210</td>\n",
       "      <td>0.611111</td>\n",
       "      <td>0.608696</td>\n",
       "      <td>0.750000</td>\n",
       "      <td>0.542857</td>\n",
       "      <td>0.611175</td>\n",
       "      <td>0.075585</td>\n",
       "      <td>25</td>\n",
       "    </tr>\n",
       "    <tr>\n",
       "      <th>32</th>\n",
       "      <td>0.016754</td>\n",
       "      <td>0.001716</td>\n",
       "      <td>0.003989</td>\n",
       "      <td>0.001092</td>\n",
       "      <td>10</td>\n",
       "      <td>0.01</td>\n",
       "      <td>liblinear</td>\n",
       "      <td>{'balancing__k_neighbors': 10, 'clf__C': 0.01,...</td>\n",
       "      <td>0.554217</td>\n",
       "      <td>0.625000</td>\n",
       "      <td>0.591549</td>\n",
       "      <td>0.735294</td>\n",
       "      <td>0.583333</td>\n",
       "      <td>0.617879</td>\n",
       "      <td>0.062891</td>\n",
       "      <td>2</td>\n",
       "    </tr>\n",
       "    <tr>\n",
       "      <th>33</th>\n",
       "      <td>0.024929</td>\n",
       "      <td>0.001089</td>\n",
       "      <td>0.003989</td>\n",
       "      <td>0.000631</td>\n",
       "      <td>10</td>\n",
       "      <td>0.01</td>\n",
       "      <td>newton-cg</td>\n",
       "      <td>{'balancing__k_neighbors': 10, 'clf__C': 0.01,...</td>\n",
       "      <td>0.543210</td>\n",
       "      <td>0.589744</td>\n",
       "      <td>0.600000</td>\n",
       "      <td>0.738462</td>\n",
       "      <td>0.542857</td>\n",
       "      <td>0.602854</td>\n",
       "      <td>0.071731</td>\n",
       "      <td>52</td>\n",
       "    </tr>\n",
       "    <tr>\n",
       "      <th>34</th>\n",
       "      <td>0.013963</td>\n",
       "      <td>0.002274</td>\n",
       "      <td>0.003989</td>\n",
       "      <td>0.000892</td>\n",
       "      <td>10</td>\n",
       "      <td>0.001</td>\n",
       "      <td>liblinear</td>\n",
       "      <td>{'balancing__k_neighbors': 10, 'clf__C': 0.001...</td>\n",
       "      <td>0.564706</td>\n",
       "      <td>0.571429</td>\n",
       "      <td>0.594595</td>\n",
       "      <td>0.729730</td>\n",
       "      <td>0.519481</td>\n",
       "      <td>0.595988</td>\n",
       "      <td>0.071167</td>\n",
       "      <td>58</td>\n",
       "    </tr>\n",
       "    <tr>\n",
       "      <th>35</th>\n",
       "      <td>0.027333</td>\n",
       "      <td>0.008480</td>\n",
       "      <td>0.004980</td>\n",
       "      <td>0.000624</td>\n",
       "      <td>10</td>\n",
       "      <td>0.001</td>\n",
       "      <td>newton-cg</td>\n",
       "      <td>{'balancing__k_neighbors': 10, 'clf__C': 0.001...</td>\n",
       "      <td>0.531646</td>\n",
       "      <td>0.567568</td>\n",
       "      <td>0.628571</td>\n",
       "      <td>0.746269</td>\n",
       "      <td>0.547945</td>\n",
       "      <td>0.604400</td>\n",
       "      <td>0.078164</td>\n",
       "      <td>48</td>\n",
       "    </tr>\n",
       "    <tr>\n",
       "      <th>36</th>\n",
       "      <td>0.016753</td>\n",
       "      <td>0.004004</td>\n",
       "      <td>0.006586</td>\n",
       "      <td>0.004266</td>\n",
       "      <td>15</td>\n",
       "      <td>100</td>\n",
       "      <td>liblinear</td>\n",
       "      <td>{'balancing__k_neighbors': 15, 'clf__C': 100, ...</td>\n",
       "      <td>0.543210</td>\n",
       "      <td>0.602740</td>\n",
       "      <td>0.608696</td>\n",
       "      <td>0.741935</td>\n",
       "      <td>0.542857</td>\n",
       "      <td>0.607888</td>\n",
       "      <td>0.072675</td>\n",
       "      <td>38</td>\n",
       "    </tr>\n",
       "    <tr>\n",
       "      <th>37</th>\n",
       "      <td>0.032314</td>\n",
       "      <td>0.009945</td>\n",
       "      <td>0.005984</td>\n",
       "      <td>0.001546</td>\n",
       "      <td>15</td>\n",
       "      <td>100</td>\n",
       "      <td>newton-cg</td>\n",
       "      <td>{'balancing__k_neighbors': 15, 'clf__C': 100, ...</td>\n",
       "      <td>0.543210</td>\n",
       "      <td>0.586667</td>\n",
       "      <td>0.617647</td>\n",
       "      <td>0.750000</td>\n",
       "      <td>0.563380</td>\n",
       "      <td>0.612181</td>\n",
       "      <td>0.073230</td>\n",
       "      <td>20</td>\n",
       "    </tr>\n",
       "    <tr>\n",
       "      <th>38</th>\n",
       "      <td>0.016956</td>\n",
       "      <td>0.003027</td>\n",
       "      <td>0.006781</td>\n",
       "      <td>0.003179</td>\n",
       "      <td>15</td>\n",
       "      <td>10</td>\n",
       "      <td>liblinear</td>\n",
       "      <td>{'balancing__k_neighbors': 15, 'clf__C': 10, '...</td>\n",
       "      <td>0.536585</td>\n",
       "      <td>0.623377</td>\n",
       "      <td>0.677419</td>\n",
       "      <td>0.741935</td>\n",
       "      <td>0.542857</td>\n",
       "      <td>0.624435</td>\n",
       "      <td>0.078724</td>\n",
       "      <td>1</td>\n",
       "    </tr>\n",
       "    <tr>\n",
       "      <th>39</th>\n",
       "      <td>0.028125</td>\n",
       "      <td>0.004059</td>\n",
       "      <td>0.004588</td>\n",
       "      <td>0.000489</td>\n",
       "      <td>15</td>\n",
       "      <td>10</td>\n",
       "      <td>newton-cg</td>\n",
       "      <td>{'balancing__k_neighbors': 15, 'clf__C': 10, '...</td>\n",
       "      <td>0.525000</td>\n",
       "      <td>0.611111</td>\n",
       "      <td>0.636364</td>\n",
       "      <td>0.761905</td>\n",
       "      <td>0.542857</td>\n",
       "      <td>0.615447</td>\n",
       "      <td>0.084091</td>\n",
       "      <td>12</td>\n",
       "    </tr>\n",
       "    <tr>\n",
       "      <th>40</th>\n",
       "      <td>0.018948</td>\n",
       "      <td>0.004886</td>\n",
       "      <td>0.004988</td>\n",
       "      <td>0.000631</td>\n",
       "      <td>15</td>\n",
       "      <td>1</td>\n",
       "      <td>liblinear</td>\n",
       "      <td>{'balancing__k_neighbors': 15, 'clf__C': 1, 'c...</td>\n",
       "      <td>0.543210</td>\n",
       "      <td>0.600000</td>\n",
       "      <td>0.626866</td>\n",
       "      <td>0.761905</td>\n",
       "      <td>0.542857</td>\n",
       "      <td>0.614967</td>\n",
       "      <td>0.080381</td>\n",
       "      <td>13</td>\n",
       "    </tr>\n",
       "    <tr>\n",
       "      <th>41</th>\n",
       "      <td>0.036105</td>\n",
       "      <td>0.012637</td>\n",
       "      <td>0.007181</td>\n",
       "      <td>0.003646</td>\n",
       "      <td>15</td>\n",
       "      <td>1</td>\n",
       "      <td>newton-cg</td>\n",
       "      <td>{'balancing__k_neighbors': 15, 'clf__C': 1, 'c...</td>\n",
       "      <td>0.543210</td>\n",
       "      <td>0.591549</td>\n",
       "      <td>0.617647</td>\n",
       "      <td>0.741935</td>\n",
       "      <td>0.555556</td>\n",
       "      <td>0.609979</td>\n",
       "      <td>0.071037</td>\n",
       "      <td>32</td>\n",
       "    </tr>\n",
       "    <tr>\n",
       "      <th>42</th>\n",
       "      <td>0.019149</td>\n",
       "      <td>0.002917</td>\n",
       "      <td>0.004787</td>\n",
       "      <td>0.000746</td>\n",
       "      <td>15</td>\n",
       "      <td>0.1</td>\n",
       "      <td>liblinear</td>\n",
       "      <td>{'balancing__k_neighbors': 15, 'clf__C': 0.1, ...</td>\n",
       "      <td>0.536585</td>\n",
       "      <td>0.586667</td>\n",
       "      <td>0.608696</td>\n",
       "      <td>0.750000</td>\n",
       "      <td>0.555556</td>\n",
       "      <td>0.607501</td>\n",
       "      <td>0.075457</td>\n",
       "      <td>40</td>\n",
       "    </tr>\n",
       "    <tr>\n",
       "      <th>43</th>\n",
       "      <td>0.034309</td>\n",
       "      <td>0.010698</td>\n",
       "      <td>0.004989</td>\n",
       "      <td>0.001094</td>\n",
       "      <td>15</td>\n",
       "      <td>0.1</td>\n",
       "      <td>newton-cg</td>\n",
       "      <td>{'balancing__k_neighbors': 15, 'clf__C': 0.1, ...</td>\n",
       "      <td>0.543210</td>\n",
       "      <td>0.600000</td>\n",
       "      <td>0.626866</td>\n",
       "      <td>0.761905</td>\n",
       "      <td>0.555556</td>\n",
       "      <td>0.617507</td>\n",
       "      <td>0.078234</td>\n",
       "      <td>3</td>\n",
       "    </tr>\n",
       "    <tr>\n",
       "      <th>44</th>\n",
       "      <td>0.023335</td>\n",
       "      <td>0.004305</td>\n",
       "      <td>0.004388</td>\n",
       "      <td>0.000489</td>\n",
       "      <td>15</td>\n",
       "      <td>0.01</td>\n",
       "      <td>liblinear</td>\n",
       "      <td>{'balancing__k_neighbors': 15, 'clf__C': 0.01,...</td>\n",
       "      <td>0.564706</td>\n",
       "      <td>0.607595</td>\n",
       "      <td>0.591549</td>\n",
       "      <td>0.724638</td>\n",
       "      <td>0.563380</td>\n",
       "      <td>0.610374</td>\n",
       "      <td>0.059519</td>\n",
       "      <td>29</td>\n",
       "    </tr>\n",
       "    <tr>\n",
       "      <th>45</th>\n",
       "      <td>0.033514</td>\n",
       "      <td>0.010027</td>\n",
       "      <td>0.007776</td>\n",
       "      <td>0.003182</td>\n",
       "      <td>15</td>\n",
       "      <td>0.01</td>\n",
       "      <td>newton-cg</td>\n",
       "      <td>{'balancing__k_neighbors': 15, 'clf__C': 0.01,...</td>\n",
       "      <td>0.536585</td>\n",
       "      <td>0.586667</td>\n",
       "      <td>0.608696</td>\n",
       "      <td>0.738462</td>\n",
       "      <td>0.550725</td>\n",
       "      <td>0.604227</td>\n",
       "      <td>0.071812</td>\n",
       "      <td>50</td>\n",
       "    </tr>\n",
       "    <tr>\n",
       "      <th>46</th>\n",
       "      <td>0.019349</td>\n",
       "      <td>0.004745</td>\n",
       "      <td>0.008181</td>\n",
       "      <td>0.006920</td>\n",
       "      <td>15</td>\n",
       "      <td>0.001</td>\n",
       "      <td>liblinear</td>\n",
       "      <td>{'balancing__k_neighbors': 15, 'clf__C': 0.001...</td>\n",
       "      <td>0.564706</td>\n",
       "      <td>0.558140</td>\n",
       "      <td>0.594595</td>\n",
       "      <td>0.729730</td>\n",
       "      <td>0.519481</td>\n",
       "      <td>0.593330</td>\n",
       "      <td>0.072274</td>\n",
       "      <td>60</td>\n",
       "    </tr>\n",
       "    <tr>\n",
       "      <th>47</th>\n",
       "      <td>0.035900</td>\n",
       "      <td>0.012051</td>\n",
       "      <td>0.004591</td>\n",
       "      <td>0.000490</td>\n",
       "      <td>15</td>\n",
       "      <td>0.001</td>\n",
       "      <td>newton-cg</td>\n",
       "      <td>{'balancing__k_neighbors': 15, 'clf__C': 0.001...</td>\n",
       "      <td>0.554217</td>\n",
       "      <td>0.575342</td>\n",
       "      <td>0.637681</td>\n",
       "      <td>0.718750</td>\n",
       "      <td>0.535211</td>\n",
       "      <td>0.604240</td>\n",
       "      <td>0.066833</td>\n",
       "      <td>49</td>\n",
       "    </tr>\n",
       "    <tr>\n",
       "      <th>48</th>\n",
       "      <td>0.017952</td>\n",
       "      <td>0.001995</td>\n",
       "      <td>0.004988</td>\n",
       "      <td>0.001092</td>\n",
       "      <td>20</td>\n",
       "      <td>100</td>\n",
       "      <td>liblinear</td>\n",
       "      <td>{'balancing__k_neighbors': 20, 'clf__C': 100, ...</td>\n",
       "      <td>0.550000</td>\n",
       "      <td>0.619718</td>\n",
       "      <td>0.617647</td>\n",
       "      <td>0.738462</td>\n",
       "      <td>0.521739</td>\n",
       "      <td>0.609513</td>\n",
       "      <td>0.074892</td>\n",
       "      <td>33</td>\n",
       "    </tr>\n",
       "    <tr>\n",
       "      <th>49</th>\n",
       "      <td>0.028541</td>\n",
       "      <td>0.003204</td>\n",
       "      <td>0.005407</td>\n",
       "      <td>0.001835</td>\n",
       "      <td>20</td>\n",
       "      <td>100</td>\n",
       "      <td>newton-cg</td>\n",
       "      <td>{'balancing__k_neighbors': 20, 'clf__C': 100, ...</td>\n",
       "      <td>0.543210</td>\n",
       "      <td>0.594595</td>\n",
       "      <td>0.636364</td>\n",
       "      <td>0.761905</td>\n",
       "      <td>0.542857</td>\n",
       "      <td>0.615786</td>\n",
       "      <td>0.081005</td>\n",
       "      <td>10</td>\n",
       "    </tr>\n",
       "    <tr>\n",
       "      <th>50</th>\n",
       "      <td>0.020373</td>\n",
       "      <td>0.004262</td>\n",
       "      <td>0.004919</td>\n",
       "      <td>0.000658</td>\n",
       "      <td>20</td>\n",
       "      <td>10</td>\n",
       "      <td>liblinear</td>\n",
       "      <td>{'balancing__k_neighbors': 20, 'clf__C': 10, '...</td>\n",
       "      <td>0.543210</td>\n",
       "      <td>0.611111</td>\n",
       "      <td>0.626866</td>\n",
       "      <td>0.754098</td>\n",
       "      <td>0.521739</td>\n",
       "      <td>0.611405</td>\n",
       "      <td>0.081598</td>\n",
       "      <td>24</td>\n",
       "    </tr>\n",
       "    <tr>\n",
       "      <th>51</th>\n",
       "      <td>0.033069</td>\n",
       "      <td>0.006563</td>\n",
       "      <td>0.005393</td>\n",
       "      <td>0.000816</td>\n",
       "      <td>20</td>\n",
       "      <td>10</td>\n",
       "      <td>newton-cg</td>\n",
       "      <td>{'balancing__k_neighbors': 20, 'clf__C': 10, '...</td>\n",
       "      <td>0.560976</td>\n",
       "      <td>0.608696</td>\n",
       "      <td>0.617647</td>\n",
       "      <td>0.750000</td>\n",
       "      <td>0.521739</td>\n",
       "      <td>0.611811</td>\n",
       "      <td>0.077249</td>\n",
       "      <td>21</td>\n",
       "    </tr>\n",
       "    <tr>\n",
       "      <th>52</th>\n",
       "      <td>0.019635</td>\n",
       "      <td>0.002271</td>\n",
       "      <td>0.005227</td>\n",
       "      <td>0.001048</td>\n",
       "      <td>20</td>\n",
       "      <td>1</td>\n",
       "      <td>liblinear</td>\n",
       "      <td>{'balancing__k_neighbors': 20, 'clf__C': 1, 'c...</td>\n",
       "      <td>0.543210</td>\n",
       "      <td>0.586667</td>\n",
       "      <td>0.617647</td>\n",
       "      <td>0.750000</td>\n",
       "      <td>0.529412</td>\n",
       "      <td>0.605387</td>\n",
       "      <td>0.078806</td>\n",
       "      <td>44</td>\n",
       "    </tr>\n",
       "    <tr>\n",
       "      <th>53</th>\n",
       "      <td>0.050631</td>\n",
       "      <td>0.034297</td>\n",
       "      <td>0.006321</td>\n",
       "      <td>0.002384</td>\n",
       "      <td>20</td>\n",
       "      <td>1</td>\n",
       "      <td>newton-cg</td>\n",
       "      <td>{'balancing__k_neighbors': 20, 'clf__C': 1, 'c...</td>\n",
       "      <td>0.543210</td>\n",
       "      <td>0.600000</td>\n",
       "      <td>0.600000</td>\n",
       "      <td>0.761905</td>\n",
       "      <td>0.521739</td>\n",
       "      <td>0.605371</td>\n",
       "      <td>0.084165</td>\n",
       "      <td>45</td>\n",
       "    </tr>\n",
       "    <tr>\n",
       "      <th>54</th>\n",
       "      <td>0.025569</td>\n",
       "      <td>0.005458</td>\n",
       "      <td>0.005628</td>\n",
       "      <td>0.000525</td>\n",
       "      <td>20</td>\n",
       "      <td>0.1</td>\n",
       "      <td>liblinear</td>\n",
       "      <td>{'balancing__k_neighbors': 20, 'clf__C': 0.1, ...</td>\n",
       "      <td>0.525000</td>\n",
       "      <td>0.613333</td>\n",
       "      <td>0.617647</td>\n",
       "      <td>0.761905</td>\n",
       "      <td>0.521739</td>\n",
       "      <td>0.607925</td>\n",
       "      <td>0.087336</td>\n",
       "      <td>37</td>\n",
       "    </tr>\n",
       "    <tr>\n",
       "      <th>55</th>\n",
       "      <td>0.034785</td>\n",
       "      <td>0.006183</td>\n",
       "      <td>0.004702</td>\n",
       "      <td>0.000402</td>\n",
       "      <td>20</td>\n",
       "      <td>0.1</td>\n",
       "      <td>newton-cg</td>\n",
       "      <td>{'balancing__k_neighbors': 20, 'clf__C': 0.1, ...</td>\n",
       "      <td>0.525000</td>\n",
       "      <td>0.608696</td>\n",
       "      <td>0.636364</td>\n",
       "      <td>0.741935</td>\n",
       "      <td>0.542857</td>\n",
       "      <td>0.610970</td>\n",
       "      <td>0.077243</td>\n",
       "      <td>28</td>\n",
       "    </tr>\n",
       "    <tr>\n",
       "      <th>56</th>\n",
       "      <td>0.017170</td>\n",
       "      <td>0.002646</td>\n",
       "      <td>0.005799</td>\n",
       "      <td>0.003125</td>\n",
       "      <td>20</td>\n",
       "      <td>0.01</td>\n",
       "      <td>liblinear</td>\n",
       "      <td>{'balancing__k_neighbors': 20, 'clf__C': 0.01,...</td>\n",
       "      <td>0.547619</td>\n",
       "      <td>0.617284</td>\n",
       "      <td>0.611111</td>\n",
       "      <td>0.727273</td>\n",
       "      <td>0.567568</td>\n",
       "      <td>0.614171</td>\n",
       "      <td>0.062309</td>\n",
       "      <td>15</td>\n",
       "    </tr>\n",
       "    <tr>\n",
       "      <th>57</th>\n",
       "      <td>0.027501</td>\n",
       "      <td>0.001477</td>\n",
       "      <td>0.004698</td>\n",
       "      <td>0.000592</td>\n",
       "      <td>20</td>\n",
       "      <td>0.01</td>\n",
       "      <td>newton-cg</td>\n",
       "      <td>{'balancing__k_neighbors': 20, 'clf__C': 0.01,...</td>\n",
       "      <td>0.556962</td>\n",
       "      <td>0.594595</td>\n",
       "      <td>0.608696</td>\n",
       "      <td>0.769231</td>\n",
       "      <td>0.550725</td>\n",
       "      <td>0.616042</td>\n",
       "      <td>0.079671</td>\n",
       "      <td>9</td>\n",
       "    </tr>\n",
       "    <tr>\n",
       "      <th>58</th>\n",
       "      <td>0.020194</td>\n",
       "      <td>0.006638</td>\n",
       "      <td>0.004600</td>\n",
       "      <td>0.000822</td>\n",
       "      <td>20</td>\n",
       "      <td>0.001</td>\n",
       "      <td>liblinear</td>\n",
       "      <td>{'balancing__k_neighbors': 20, 'clf__C': 0.001...</td>\n",
       "      <td>0.571429</td>\n",
       "      <td>0.564706</td>\n",
       "      <td>0.602740</td>\n",
       "      <td>0.739726</td>\n",
       "      <td>0.512821</td>\n",
       "      <td>0.598284</td>\n",
       "      <td>0.076392</td>\n",
       "      <td>56</td>\n",
       "    </tr>\n",
       "    <tr>\n",
       "      <th>59</th>\n",
       "      <td>0.022200</td>\n",
       "      <td>0.001161</td>\n",
       "      <td>0.003398</td>\n",
       "      <td>0.001018</td>\n",
       "      <td>20</td>\n",
       "      <td>0.001</td>\n",
       "      <td>newton-cg</td>\n",
       "      <td>{'balancing__k_neighbors': 20, 'clf__C': 0.001...</td>\n",
       "      <td>0.550000</td>\n",
       "      <td>0.567568</td>\n",
       "      <td>0.637681</td>\n",
       "      <td>0.727273</td>\n",
       "      <td>0.550725</td>\n",
       "      <td>0.606649</td>\n",
       "      <td>0.068377</td>\n",
       "      <td>41</td>\n",
       "    </tr>\n",
       "  </tbody>\n",
       "</table>\n",
       "</div>"
      ],
      "text/plain": [
       "    mean_fit_time  std_fit_time  mean_score_time  std_score_time  \\\n",
       "0        0.023543      0.001018         0.007376        0.001200   \n",
       "1        0.060242      0.002491         0.007380        0.002326   \n",
       "2        0.023935      0.002748         0.006689        0.000586   \n",
       "3        0.045011      0.006102         0.004787        0.000399   \n",
       "4        0.019960      0.002691         0.006184        0.002475   \n",
       "5        0.048073      0.015610         0.005788        0.002221   \n",
       "6        0.025335      0.006868         0.005983        0.000887   \n",
       "7        0.034507      0.005971         0.005586        0.001196   \n",
       "8        0.017156      0.002985         0.004985        0.001090   \n",
       "9        0.036702      0.006862         0.006182        0.000978   \n",
       "10       0.017950      0.001260         0.005986        0.000894   \n",
       "11       0.029914      0.003738         0.002792        0.000747   \n",
       "12       0.015159      0.003178         0.003391        0.000489   \n",
       "13       0.026295      0.003509         0.003392        0.000797   \n",
       "14       0.013750      0.001015         0.003582        0.000795   \n",
       "15       0.025476      0.004053         0.008378        0.005698   \n",
       "16       0.012947      0.000660         0.003771        0.000976   \n",
       "17       0.028325      0.004789         0.004387        0.000488   \n",
       "18       0.017753      0.005294         0.004587        0.000798   \n",
       "19       0.030120      0.005998         0.004787        0.000747   \n",
       "20       0.021142      0.006476         0.004588        0.000491   \n",
       "21       0.034109      0.010932         0.004389        0.000488   \n",
       "22       0.015159      0.000397         0.007380        0.005412   \n",
       "23       0.034310      0.009154         0.010773        0.006352   \n",
       "24       0.020545      0.006513         0.006982        0.005007   \n",
       "25       0.031913      0.004548         0.005585        0.002327   \n",
       "26       0.016357      0.001851         0.005186        0.001163   \n",
       "27       0.028325      0.007820         0.003995        0.000008   \n",
       "28       0.021341      0.005299         0.006787        0.003752   \n",
       "29       0.026924      0.002180         0.004591        0.000803   \n",
       "30       0.016755      0.000747         0.004390        0.000488   \n",
       "31       0.026926      0.003888         0.004190        0.000748   \n",
       "32       0.016754      0.001716         0.003989        0.001092   \n",
       "33       0.024929      0.001089         0.003989        0.000631   \n",
       "34       0.013963      0.002274         0.003989        0.000892   \n",
       "35       0.027333      0.008480         0.004980        0.000624   \n",
       "36       0.016753      0.004004         0.006586        0.004266   \n",
       "37       0.032314      0.009945         0.005984        0.001546   \n",
       "38       0.016956      0.003027         0.006781        0.003179   \n",
       "39       0.028125      0.004059         0.004588        0.000489   \n",
       "40       0.018948      0.004886         0.004988        0.000631   \n",
       "41       0.036105      0.012637         0.007181        0.003646   \n",
       "42       0.019149      0.002917         0.004787        0.000746   \n",
       "43       0.034309      0.010698         0.004989        0.001094   \n",
       "44       0.023335      0.004305         0.004388        0.000489   \n",
       "45       0.033514      0.010027         0.007776        0.003182   \n",
       "46       0.019349      0.004745         0.008181        0.006920   \n",
       "47       0.035900      0.012051         0.004591        0.000490   \n",
       "48       0.017952      0.001995         0.004988        0.001092   \n",
       "49       0.028541      0.003204         0.005407        0.001835   \n",
       "50       0.020373      0.004262         0.004919        0.000658   \n",
       "51       0.033069      0.006563         0.005393        0.000816   \n",
       "52       0.019635      0.002271         0.005227        0.001048   \n",
       "53       0.050631      0.034297         0.006321        0.002384   \n",
       "54       0.025569      0.005458         0.005628        0.000525   \n",
       "55       0.034785      0.006183         0.004702        0.000402   \n",
       "56       0.017170      0.002646         0.005799        0.003125   \n",
       "57       0.027501      0.001477         0.004698        0.000592   \n",
       "58       0.020194      0.006638         0.004600        0.000822   \n",
       "59       0.022200      0.001161         0.003398        0.001018   \n",
       "\n",
       "   param_balancing__k_neighbors param_clf__C param_clf__solver  \\\n",
       "0                             2          100         liblinear   \n",
       "1                             2          100         newton-cg   \n",
       "2                             2           10         liblinear   \n",
       "3                             2           10         newton-cg   \n",
       "4                             2            1         liblinear   \n",
       "5                             2            1         newton-cg   \n",
       "6                             2          0.1         liblinear   \n",
       "7                             2          0.1         newton-cg   \n",
       "8                             2         0.01         liblinear   \n",
       "9                             2         0.01         newton-cg   \n",
       "10                            2        0.001         liblinear   \n",
       "11                            2        0.001         newton-cg   \n",
       "12                            5          100         liblinear   \n",
       "13                            5          100         newton-cg   \n",
       "14                            5           10         liblinear   \n",
       "15                            5           10         newton-cg   \n",
       "16                            5            1         liblinear   \n",
       "17                            5            1         newton-cg   \n",
       "18                            5          0.1         liblinear   \n",
       "19                            5          0.1         newton-cg   \n",
       "20                            5         0.01         liblinear   \n",
       "21                            5         0.01         newton-cg   \n",
       "22                            5        0.001         liblinear   \n",
       "23                            5        0.001         newton-cg   \n",
       "24                           10          100         liblinear   \n",
       "25                           10          100         newton-cg   \n",
       "26                           10           10         liblinear   \n",
       "27                           10           10         newton-cg   \n",
       "28                           10            1         liblinear   \n",
       "29                           10            1         newton-cg   \n",
       "30                           10          0.1         liblinear   \n",
       "31                           10          0.1         newton-cg   \n",
       "32                           10         0.01         liblinear   \n",
       "33                           10         0.01         newton-cg   \n",
       "34                           10        0.001         liblinear   \n",
       "35                           10        0.001         newton-cg   \n",
       "36                           15          100         liblinear   \n",
       "37                           15          100         newton-cg   \n",
       "38                           15           10         liblinear   \n",
       "39                           15           10         newton-cg   \n",
       "40                           15            1         liblinear   \n",
       "41                           15            1         newton-cg   \n",
       "42                           15          0.1         liblinear   \n",
       "43                           15          0.1         newton-cg   \n",
       "44                           15         0.01         liblinear   \n",
       "45                           15         0.01         newton-cg   \n",
       "46                           15        0.001         liblinear   \n",
       "47                           15        0.001         newton-cg   \n",
       "48                           20          100         liblinear   \n",
       "49                           20          100         newton-cg   \n",
       "50                           20           10         liblinear   \n",
       "51                           20           10         newton-cg   \n",
       "52                           20            1         liblinear   \n",
       "53                           20            1         newton-cg   \n",
       "54                           20          0.1         liblinear   \n",
       "55                           20          0.1         newton-cg   \n",
       "56                           20         0.01         liblinear   \n",
       "57                           20         0.01         newton-cg   \n",
       "58                           20        0.001         liblinear   \n",
       "59                           20        0.001         newton-cg   \n",
       "\n",
       "                                               params  split0_test_score  \\\n",
       "0   {'balancing__k_neighbors': 2, 'clf__C': 100, '...           0.543210   \n",
       "1   {'balancing__k_neighbors': 2, 'clf__C': 100, '...           0.554217   \n",
       "2   {'balancing__k_neighbors': 2, 'clf__C': 10, 'c...           0.543210   \n",
       "3   {'balancing__k_neighbors': 2, 'clf__C': 10, 'c...           0.543210   \n",
       "4   {'balancing__k_neighbors': 2, 'clf__C': 1, 'cl...           0.550000   \n",
       "5   {'balancing__k_neighbors': 2, 'clf__C': 1, 'cl...           0.538462   \n",
       "6   {'balancing__k_neighbors': 2, 'clf__C': 0.1, '...           0.543210   \n",
       "7   {'balancing__k_neighbors': 2, 'clf__C': 0.1, '...           0.536585   \n",
       "8   {'balancing__k_neighbors': 2, 'clf__C': 0.01, ...           0.554217   \n",
       "9   {'balancing__k_neighbors': 2, 'clf__C': 0.01, ...           0.556962   \n",
       "10  {'balancing__k_neighbors': 2, 'clf__C': 0.001,...           0.564706   \n",
       "11  {'balancing__k_neighbors': 2, 'clf__C': 0.001,...           0.543210   \n",
       "12  {'balancing__k_neighbors': 5, 'clf__C': 100, '...           0.543210   \n",
       "13  {'balancing__k_neighbors': 5, 'clf__C': 100, '...           0.543210   \n",
       "14  {'balancing__k_neighbors': 5, 'clf__C': 10, 'c...           0.564103   \n",
       "15  {'balancing__k_neighbors': 5, 'clf__C': 10, 'c...           0.543210   \n",
       "16  {'balancing__k_neighbors': 5, 'clf__C': 1, 'cl...           0.543210   \n",
       "17  {'balancing__k_neighbors': 5, 'clf__C': 1, 'cl...           0.554217   \n",
       "18  {'balancing__k_neighbors': 5, 'clf__C': 0.1, '...           0.554217   \n",
       "19  {'balancing__k_neighbors': 5, 'clf__C': 0.1, '...           0.543210   \n",
       "20  {'balancing__k_neighbors': 5, 'clf__C': 0.01, ...           0.560976   \n",
       "21  {'balancing__k_neighbors': 5, 'clf__C': 0.01, ...           0.543210   \n",
       "22  {'balancing__k_neighbors': 5, 'clf__C': 0.001,...           0.571429   \n",
       "23  {'balancing__k_neighbors': 5, 'clf__C': 0.001,...           0.531646   \n",
       "24  {'balancing__k_neighbors': 10, 'clf__C': 100, ...           0.531646   \n",
       "25  {'balancing__k_neighbors': 10, 'clf__C': 100, ...           0.531646   \n",
       "26  {'balancing__k_neighbors': 10, 'clf__C': 10, '...           0.536585   \n",
       "27  {'balancing__k_neighbors': 10, 'clf__C': 10, '...           0.536585   \n",
       "28  {'balancing__k_neighbors': 10, 'clf__C': 1, 'c...           0.550000   \n",
       "29  {'balancing__k_neighbors': 10, 'clf__C': 1, 'c...           0.518519   \n",
       "30  {'balancing__k_neighbors': 10, 'clf__C': 0.1, ...           0.543210   \n",
       "31  {'balancing__k_neighbors': 10, 'clf__C': 0.1, ...           0.543210   \n",
       "32  {'balancing__k_neighbors': 10, 'clf__C': 0.01,...           0.554217   \n",
       "33  {'balancing__k_neighbors': 10, 'clf__C': 0.01,...           0.543210   \n",
       "34  {'balancing__k_neighbors': 10, 'clf__C': 0.001...           0.564706   \n",
       "35  {'balancing__k_neighbors': 10, 'clf__C': 0.001...           0.531646   \n",
       "36  {'balancing__k_neighbors': 15, 'clf__C': 100, ...           0.543210   \n",
       "37  {'balancing__k_neighbors': 15, 'clf__C': 100, ...           0.543210   \n",
       "38  {'balancing__k_neighbors': 15, 'clf__C': 10, '...           0.536585   \n",
       "39  {'balancing__k_neighbors': 15, 'clf__C': 10, '...           0.525000   \n",
       "40  {'balancing__k_neighbors': 15, 'clf__C': 1, 'c...           0.543210   \n",
       "41  {'balancing__k_neighbors': 15, 'clf__C': 1, 'c...           0.543210   \n",
       "42  {'balancing__k_neighbors': 15, 'clf__C': 0.1, ...           0.536585   \n",
       "43  {'balancing__k_neighbors': 15, 'clf__C': 0.1, ...           0.543210   \n",
       "44  {'balancing__k_neighbors': 15, 'clf__C': 0.01,...           0.564706   \n",
       "45  {'balancing__k_neighbors': 15, 'clf__C': 0.01,...           0.536585   \n",
       "46  {'balancing__k_neighbors': 15, 'clf__C': 0.001...           0.564706   \n",
       "47  {'balancing__k_neighbors': 15, 'clf__C': 0.001...           0.554217   \n",
       "48  {'balancing__k_neighbors': 20, 'clf__C': 100, ...           0.550000   \n",
       "49  {'balancing__k_neighbors': 20, 'clf__C': 100, ...           0.543210   \n",
       "50  {'balancing__k_neighbors': 20, 'clf__C': 10, '...           0.543210   \n",
       "51  {'balancing__k_neighbors': 20, 'clf__C': 10, '...           0.560976   \n",
       "52  {'balancing__k_neighbors': 20, 'clf__C': 1, 'c...           0.543210   \n",
       "53  {'balancing__k_neighbors': 20, 'clf__C': 1, 'c...           0.543210   \n",
       "54  {'balancing__k_neighbors': 20, 'clf__C': 0.1, ...           0.525000   \n",
       "55  {'balancing__k_neighbors': 20, 'clf__C': 0.1, ...           0.525000   \n",
       "56  {'balancing__k_neighbors': 20, 'clf__C': 0.01,...           0.547619   \n",
       "57  {'balancing__k_neighbors': 20, 'clf__C': 0.01,...           0.556962   \n",
       "58  {'balancing__k_neighbors': 20, 'clf__C': 0.001...           0.571429   \n",
       "59  {'balancing__k_neighbors': 20, 'clf__C': 0.001...           0.550000   \n",
       "\n",
       "    split1_test_score  split2_test_score  split3_test_score  \\\n",
       "0            0.591549           0.617647           0.750000   \n",
       "1            0.611111           0.626866           0.750000   \n",
       "2            0.594595           0.636364           0.761905   \n",
       "3            0.583333           0.617647           0.741935   \n",
       "4            0.594595           0.626866           0.750000   \n",
       "5            0.594595           0.636364           0.738462   \n",
       "6            0.605263           0.591549           0.750000   \n",
       "7            0.600000           0.636364           0.741935   \n",
       "8            0.625000           0.600000           0.727273   \n",
       "9            0.571429           0.628571           0.730159   \n",
       "10           0.558140           0.594595           0.739726   \n",
       "11           0.575342           0.637681           0.727273   \n",
       "12           0.594595           0.608696           0.741935   \n",
       "13           0.594595           0.636364           0.750000   \n",
       "14           0.613333           0.636364           0.750000   \n",
       "15           0.594595           0.626866           0.738462   \n",
       "16           0.594595           0.646154           0.741935   \n",
       "17           0.619718           0.617647           0.750000   \n",
       "18           0.611111           0.626866           0.750000   \n",
       "19           0.586667           0.617647           0.781250   \n",
       "20           0.632911           0.591549           0.727273   \n",
       "21           0.611111           0.619718           0.750000   \n",
       "22           0.558140           0.594595           0.729730   \n",
       "23           0.567568           0.637681           0.738462   \n",
       "24           0.594595           0.608696           0.761905   \n",
       "25           0.591549           0.608696           0.761905   \n",
       "26           0.611111           0.600000           0.741935   \n",
       "27           0.600000           0.617647           0.761905   \n",
       "28           0.575342           0.626866           0.750000   \n",
       "29           0.594595           0.608696           0.761905   \n",
       "30           0.594595           0.600000           0.761905   \n",
       "31           0.611111           0.608696           0.750000   \n",
       "32           0.625000           0.591549           0.735294   \n",
       "33           0.589744           0.600000           0.738462   \n",
       "34           0.571429           0.594595           0.729730   \n",
       "35           0.567568           0.628571           0.746269   \n",
       "36           0.602740           0.608696           0.741935   \n",
       "37           0.586667           0.617647           0.750000   \n",
       "38           0.623377           0.677419           0.741935   \n",
       "39           0.611111           0.636364           0.761905   \n",
       "40           0.600000           0.626866           0.761905   \n",
       "41           0.591549           0.617647           0.741935   \n",
       "42           0.586667           0.608696           0.750000   \n",
       "43           0.600000           0.626866           0.761905   \n",
       "44           0.607595           0.591549           0.724638   \n",
       "45           0.586667           0.608696           0.738462   \n",
       "46           0.558140           0.594595           0.729730   \n",
       "47           0.575342           0.637681           0.718750   \n",
       "48           0.619718           0.617647           0.738462   \n",
       "49           0.594595           0.636364           0.761905   \n",
       "50           0.611111           0.626866           0.754098   \n",
       "51           0.608696           0.617647           0.750000   \n",
       "52           0.586667           0.617647           0.750000   \n",
       "53           0.600000           0.600000           0.761905   \n",
       "54           0.613333           0.617647           0.761905   \n",
       "55           0.608696           0.636364           0.741935   \n",
       "56           0.617284           0.611111           0.727273   \n",
       "57           0.594595           0.608696           0.769231   \n",
       "58           0.564706           0.602740           0.739726   \n",
       "59           0.567568           0.637681           0.727273   \n",
       "\n",
       "    split4_test_score  mean_test_score  std_test_score  rank_test_score  \n",
       "0            0.521739         0.604829        0.080145               46  \n",
       "1            0.529412         0.614321        0.076679               14  \n",
       "2            0.542857         0.615786        0.081005               10  \n",
       "3            0.555556         0.608336        0.071537               36  \n",
       "4            0.542857         0.612863        0.075085               18  \n",
       "5            0.542857         0.610148        0.073567               30  \n",
       "6            0.542857         0.606576        0.075991               42  \n",
       "7            0.542857         0.611548        0.074951               22  \n",
       "8            0.563380         0.613974        0.062103               16  \n",
       "9            0.542857         0.605996        0.068574               43  \n",
       "10           0.519481         0.595329        0.076059               59  \n",
       "11           0.571429         0.610987        0.065824               27  \n",
       "12           0.521739         0.602035        0.076915               53  \n",
       "13           0.537313         0.612296        0.077782               19  \n",
       "14           0.521739         0.617108        0.077395                5  \n",
       "15           0.542857         0.609198        0.072097               34  \n",
       "16           0.542857         0.613750        0.074633               17  \n",
       "17           0.542857         0.616888        0.073669                7  \n",
       "18           0.542857         0.617010        0.073838                6  \n",
       "19           0.521739         0.610103        0.091848               31  \n",
       "20           0.567568         0.616055        0.061055                8  \n",
       "21           0.563380         0.617484        0.072180                4  \n",
       "22           0.526316         0.596042        0.070397               57  \n",
       "23           0.529412         0.600954        0.079112               55  \n",
       "24           0.521739         0.603716        0.086077               51  \n",
       "25           0.563380         0.611435        0.079649               23  \n",
       "26           0.555556         0.609038        0.071913               35  \n",
       "27           0.521739         0.607575        0.085304               39  \n",
       "28           0.521739         0.604789        0.080424               47  \n",
       "29           0.521739         0.601091        0.088404               54  \n",
       "30           0.555556         0.611053        0.078526               26  \n",
       "31           0.542857         0.611175        0.075585               25  \n",
       "32           0.583333         0.617879        0.062891                2  \n",
       "33           0.542857         0.602854        0.071731               52  \n",
       "34           0.519481         0.595988        0.071167               58  \n",
       "35           0.547945         0.604400        0.078164               48  \n",
       "36           0.542857         0.607888        0.072675               38  \n",
       "37           0.563380         0.612181        0.073230               20  \n",
       "38           0.542857         0.624435        0.078724                1  \n",
       "39           0.542857         0.615447        0.084091               12  \n",
       "40           0.542857         0.614967        0.080381               13  \n",
       "41           0.555556         0.609979        0.071037               32  \n",
       "42           0.555556         0.607501        0.075457               40  \n",
       "43           0.555556         0.617507        0.078234                3  \n",
       "44           0.563380         0.610374        0.059519               29  \n",
       "45           0.550725         0.604227        0.071812               50  \n",
       "46           0.519481         0.593330        0.072274               60  \n",
       "47           0.535211         0.604240        0.066833               49  \n",
       "48           0.521739         0.609513        0.074892               33  \n",
       "49           0.542857         0.615786        0.081005               10  \n",
       "50           0.521739         0.611405        0.081598               24  \n",
       "51           0.521739         0.611811        0.077249               21  \n",
       "52           0.529412         0.605387        0.078806               44  \n",
       "53           0.521739         0.605371        0.084165               45  \n",
       "54           0.521739         0.607925        0.087336               37  \n",
       "55           0.542857         0.610970        0.077243               28  \n",
       "56           0.567568         0.614171        0.062309               15  \n",
       "57           0.550725         0.616042        0.079671                9  \n",
       "58           0.512821         0.598284        0.076392               56  \n",
       "59           0.550725         0.606649        0.068377               41  "
      ]
     },
     "execution_count": 143,
     "metadata": {},
     "output_type": "execute_result"
    }
   ],
   "source": [
    "pd.DataFrame(grid_search.cv_results_)"
   ]
  },
  {
   "cell_type": "markdown",
   "metadata": {},
   "source": [
    "> ## Model Performance Before Tuning"
   ]
  },
  {
   "cell_type": "code",
   "execution_count": 145,
   "metadata": {},
   "outputs": [
    {
     "name": "stdout",
     "output_type": "stream",
     "text": [
      "              precision    recall  f1-score   support\n",
      "\n",
      "           0       0.94      0.72      0.81       103\n",
      "           1       0.52      0.86      0.65        37\n",
      "\n",
      "    accuracy                           0.76       140\n",
      "   macro avg       0.73      0.79      0.73       140\n",
      "weighted avg       0.83      0.76      0.77       140\n",
      "\n"
     ]
    }
   ],
   "source": [
    "smote=SMOTE()\n",
    "logit = LogisticRegression()\n",
    "\n",
    "estimator=Pipeline([('balancing',smote),\n",
    "                   ('clf',model)])\n",
    "estimator.fit(X_train_val, y_train_val)\n",
    "y_pred_default = estimator.predict(X_test)\n",
    "\n",
    "print(classification_report(y_test, y_pred_default))"
   ]
  },
  {
   "cell_type": "markdown",
   "metadata": {},
   "source": [
    "> ## Model Performance After Tuning"
   ]
  },
  {
   "cell_type": "code",
   "execution_count": 146,
   "metadata": {},
   "outputs": [
    {
     "name": "stdout",
     "output_type": "stream",
     "text": [
      "              precision    recall  f1-score   support\n",
      "\n",
      "           0       0.96      0.72      0.82       103\n",
      "           1       0.54      0.92      0.68        37\n",
      "\n",
      "    accuracy                           0.77       140\n",
      "   macro avg       0.75      0.82      0.75       140\n",
      "weighted avg       0.85      0.77      0.78       140\n",
      "\n"
     ]
    }
   ],
   "source": [
    "estimator_tuned = grid_search.best_estimator_.fit(X_train_val, y_train_val)\n",
    "y_pred_tuned = estimator_tuned.predict(X_test)\n",
    "\n",
    "print(classification_report(y_test, y_pred_tuned))"
   ]
  },
  {
   "cell_type": "code",
   "execution_count": 147,
   "metadata": {},
   "outputs": [
    {
     "data": {
      "text/plain": [
       "<sklearn.metrics._plot.roc_curve.RocCurveDisplay at 0x1c46500d460>"
      ]
     },
     "execution_count": 147,
     "metadata": {},
     "output_type": "execute_result"
    },
    {
     "data": {
      "image/png": "[encoded data removed]",
      "text/plain": [
       "<Figure size 432x288 with 1 Axes>"
      ]
     },
     "metadata": {
      "needs_background": "light"
     },
     "output_type": "display_data"
    }
   ],
   "source": [
    "plot_roc_curve(estimator_tuned, X_test, y_test)"
   ]
  },
  {
   "cell_type": "code",
   "execution_count": 148,
   "metadata": {},
   "outputs": [
    {
     "data": {
      "text/plain": [
       "<sklearn.metrics._plot.roc_curve.RocCurveDisplay at 0x1c46578e6d0>"
      ]
     },
     "execution_count": 148,
     "metadata": {},
     "output_type": "execute_result"
    },
    {
     "data": {
      "image/png": "[encoded data removed]",
      "text/plain": [
       "<Figure size 432x288 with 1 Axes>"
      ]
     },
     "metadata": {
      "needs_background": "light"
     },
     "output_type": "display_data"
    }
   ],
   "source": [
    "plot_roc_curve(estimator, X_test, y_test)"
   ]
  },
  {
   "cell_type": "code",
   "execution_count": null,
   "metadata": {},
   "outputs": [],
   "source": []
  }
 ],
 "metadata": {
  "kernelspec": {
   "display_name": "Python 3",
   "language": "python",
   "name": "python3"
  },
  "language_info": {
   "codemirror_mode": {
    "name": "ipython",
    "version": 3
   },
   "file_extension": ".py",
   "mimetype": "text/x-python",
   "name": "python",
   "nbconvert_exporter": "python",
   "pygments_lexer": "ipython3",
   "version": "3.8.3"
  }
 },
 "nbformat": 4,
 "nbformat_minor": 5
}
