{
 "cells": [
  {
   "cell_type": "code",
   "execution_count": 1,
   "metadata": {},
   "outputs": [],
   "source": [
    "import numpy as np\n",
    "import pandas as pd"
   ]
  },
  {
   "cell_type": "code",
   "execution_count": 2,
   "metadata": {},
   "outputs": [],
   "source": [
    "bank = pd.read_csv('bankloan.csv')"
   ]
  },
  {
   "cell_type": "code",
   "execution_count": 3,
   "metadata": {},
   "outputs": [
    {
     "data": {
      "text/html": [
       "<div>\n",
       "<style scoped>\n",
       "    .dataframe tbody tr th:only-of-type {\n",
       "        vertical-align: middle;\n",
       "    }\n",
       "\n",
       "    .dataframe tbody tr th {\n",
       "        vertical-align: top;\n",
       "    }\n",
       "\n",
       "    .dataframe thead th {\n",
       "        text-align: right;\n",
       "    }\n",
       "</style>\n",
       "<table border=\"1\" class=\"dataframe\">\n",
       "  <thead>\n",
       "    <tr style=\"text-align: right;\">\n",
       "      <th></th>\n",
       "      <th>age</th>\n",
       "      <th>ed</th>\n",
       "      <th>employ</th>\n",
       "      <th>address</th>\n",
       "      <th>income</th>\n",
       "      <th>debtinc</th>\n",
       "      <th>creddebt</th>\n",
       "      <th>othdebt</th>\n",
       "      <th>default</th>\n",
       "    </tr>\n",
       "  </thead>\n",
       "  <tbody>\n",
       "    <tr>\n",
       "      <th>0</th>\n",
       "      <td>41</td>\n",
       "      <td>3</td>\n",
       "      <td>17</td>\n",
       "      <td>12</td>\n",
       "      <td>176</td>\n",
       "      <td>9.3</td>\n",
       "      <td>11.359392</td>\n",
       "      <td>5.008608</td>\n",
       "      <td>1</td>\n",
       "    </tr>\n",
       "    <tr>\n",
       "      <th>1</th>\n",
       "      <td>27</td>\n",
       "      <td>1</td>\n",
       "      <td>10</td>\n",
       "      <td>6</td>\n",
       "      <td>31</td>\n",
       "      <td>17.3</td>\n",
       "      <td>1.362202</td>\n",
       "      <td>4.000798</td>\n",
       "      <td>0</td>\n",
       "    </tr>\n",
       "    <tr>\n",
       "      <th>2</th>\n",
       "      <td>40</td>\n",
       "      <td>1</td>\n",
       "      <td>15</td>\n",
       "      <td>14</td>\n",
       "      <td>55</td>\n",
       "      <td>5.5</td>\n",
       "      <td>0.856075</td>\n",
       "      <td>2.168925</td>\n",
       "      <td>0</td>\n",
       "    </tr>\n",
       "    <tr>\n",
       "      <th>3</th>\n",
       "      <td>41</td>\n",
       "      <td>1</td>\n",
       "      <td>15</td>\n",
       "      <td>14</td>\n",
       "      <td>120</td>\n",
       "      <td>2.9</td>\n",
       "      <td>2.658720</td>\n",
       "      <td>0.821280</td>\n",
       "      <td>0</td>\n",
       "    </tr>\n",
       "    <tr>\n",
       "      <th>4</th>\n",
       "      <td>24</td>\n",
       "      <td>2</td>\n",
       "      <td>2</td>\n",
       "      <td>0</td>\n",
       "      <td>28</td>\n",
       "      <td>17.3</td>\n",
       "      <td>1.787436</td>\n",
       "      <td>3.056564</td>\n",
       "      <td>1</td>\n",
       "    </tr>\n",
       "    <tr>\n",
       "      <th>...</th>\n",
       "      <td>...</td>\n",
       "      <td>...</td>\n",
       "      <td>...</td>\n",
       "      <td>...</td>\n",
       "      <td>...</td>\n",
       "      <td>...</td>\n",
       "      <td>...</td>\n",
       "      <td>...</td>\n",
       "      <td>...</td>\n",
       "    </tr>\n",
       "    <tr>\n",
       "      <th>695</th>\n",
       "      <td>36</td>\n",
       "      <td>2</td>\n",
       "      <td>6</td>\n",
       "      <td>15</td>\n",
       "      <td>27</td>\n",
       "      <td>4.6</td>\n",
       "      <td>0.262062</td>\n",
       "      <td>0.979938</td>\n",
       "      <td>1</td>\n",
       "    </tr>\n",
       "    <tr>\n",
       "      <th>696</th>\n",
       "      <td>29</td>\n",
       "      <td>2</td>\n",
       "      <td>6</td>\n",
       "      <td>4</td>\n",
       "      <td>21</td>\n",
       "      <td>11.5</td>\n",
       "      <td>0.369495</td>\n",
       "      <td>2.045505</td>\n",
       "      <td>0</td>\n",
       "    </tr>\n",
       "    <tr>\n",
       "      <th>697</th>\n",
       "      <td>33</td>\n",
       "      <td>1</td>\n",
       "      <td>15</td>\n",
       "      <td>3</td>\n",
       "      <td>32</td>\n",
       "      <td>7.6</td>\n",
       "      <td>0.491264</td>\n",
       "      <td>1.940736</td>\n",
       "      <td>0</td>\n",
       "    </tr>\n",
       "    <tr>\n",
       "      <th>698</th>\n",
       "      <td>45</td>\n",
       "      <td>1</td>\n",
       "      <td>19</td>\n",
       "      <td>22</td>\n",
       "      <td>77</td>\n",
       "      <td>8.4</td>\n",
       "      <td>2.302608</td>\n",
       "      <td>4.165392</td>\n",
       "      <td>0</td>\n",
       "    </tr>\n",
       "    <tr>\n",
       "      <th>699</th>\n",
       "      <td>37</td>\n",
       "      <td>1</td>\n",
       "      <td>12</td>\n",
       "      <td>14</td>\n",
       "      <td>44</td>\n",
       "      <td>14.7</td>\n",
       "      <td>2.994684</td>\n",
       "      <td>3.473316</td>\n",
       "      <td>0</td>\n",
       "    </tr>\n",
       "  </tbody>\n",
       "</table>\n",
       "<p>700 rows × 9 columns</p>\n",
       "</div>"
      ],
      "text/plain": [
       "     age  ed  employ  address  income  debtinc   creddebt   othdebt  default\n",
       "0     41   3      17       12     176      9.3  11.359392  5.008608        1\n",
       "1     27   1      10        6      31     17.3   1.362202  4.000798        0\n",
       "2     40   1      15       14      55      5.5   0.856075  2.168925        0\n",
       "3     41   1      15       14     120      2.9   2.658720  0.821280        0\n",
       "4     24   2       2        0      28     17.3   1.787436  3.056564        1\n",
       "..   ...  ..     ...      ...     ...      ...        ...       ...      ...\n",
       "695   36   2       6       15      27      4.6   0.262062  0.979938        1\n",
       "696   29   2       6        4      21     11.5   0.369495  2.045505        0\n",
       "697   33   1      15        3      32      7.6   0.491264  1.940736        0\n",
       "698   45   1      19       22      77      8.4   2.302608  4.165392        0\n",
       "699   37   1      12       14      44     14.7   2.994684  3.473316        0\n",
       "\n",
       "[700 rows x 9 columns]"
      ]
     },
     "execution_count": 3,
     "metadata": {},
     "output_type": "execute_result"
    }
   ],
   "source": [
    "bank"
   ]
  },
  {
   "cell_type": "markdown",
   "metadata": {},
   "source": [
    "> ## Data Splitting"
   ]
  },
  {
   "cell_type": "code",
   "execution_count": 4,
   "metadata": {},
   "outputs": [],
   "source": [
    "from sklearn.linear_model import LogisticRegression\n",
    "from sklearn.neighbors import KNeighborsClassifier\n",
    "from sklearn.tree import DecisionTreeClassifier\n",
    "\n",
    "from sklearn.model_selection import train_test_split\n",
    "from sklearn.metrics import confusion_matrix, classification_report, f1_score, recall_score, precision_score, plot_confusion_matrix"
   ]
  },
  {
   "cell_type": "code",
   "execution_count": 5,
   "metadata": {},
   "outputs": [],
   "source": [
    "feature = ['employ', 'debtinc', 'creddebt', 'othdebt']\n",
    "target = ['default']"
   ]
  },
  {
   "cell_type": "code",
   "execution_count": 6,
   "metadata": {},
   "outputs": [],
   "source": [
    "X = bank[feature]\n",
    "y = bank[target]"
   ]
  },
  {
   "cell_type": "markdown",
   "metadata": {},
   "source": [
    "![image.png](data:image/png;base64,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)"
   ]
  },
  {
   "cell_type": "code",
   "execution_count": 7,
   "metadata": {},
   "outputs": [],
   "source": [
    "X_train_val, X_test, y_train_val, y_test = train_test_split(X, y, stratify=y, test_size=.2, random_state=2020)"
   ]
  },
  {
   "cell_type": "markdown",
   "metadata": {},
   "source": [
    "> ## Model Evaluation: Benchmark"
   ]
  },
  {
   "cell_type": "markdown",
   "metadata": {},
   "source": [
    "![image.png](data:image/png;base64,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)"
   ]
  },
  {
   "cell_type": "code",
   "execution_count": 8,
   "metadata": {},
   "outputs": [],
   "source": [
    "logreg = LogisticRegression()\n",
    "knn = KNeighborsClassifier()\n",
    "dtc = DecisionTreeClassifier()"
   ]
  },
  {
   "cell_type": "code",
   "execution_count": 9,
   "metadata": {},
   "outputs": [],
   "source": [
    "from sklearn.model_selection import cross_val_score, StratifiedKFold\n",
    "import warnings\n",
    "warnings.filterwarnings('ignore')"
   ]
  },
  {
   "cell_type": "code",
   "execution_count": 10,
   "metadata": {},
   "outputs": [
    {
     "data": {
      "text/plain": [
       "dict_keys(['explained_variance', 'r2', 'max_error', 'neg_median_absolute_error', 'neg_mean_absolute_error', 'neg_mean_squared_error', 'neg_mean_squared_log_error', 'neg_root_mean_squared_error', 'neg_mean_poisson_deviance', 'neg_mean_gamma_deviance', 'accuracy', 'roc_auc', 'roc_auc_ovr', 'roc_auc_ovo', 'roc_auc_ovr_weighted', 'roc_auc_ovo_weighted', 'balanced_accuracy', 'average_precision', 'neg_log_loss', 'neg_brier_score', 'adjusted_rand_score', 'homogeneity_score', 'completeness_score', 'v_measure_score', 'mutual_info_score', 'adjusted_mutual_info_score', 'normalized_mutual_info_score', 'fowlkes_mallows_score', 'precision', 'precision_macro', 'precision_micro', 'precision_samples', 'precision_weighted', 'recall', 'recall_macro', 'recall_micro', 'recall_samples', 'recall_weighted', 'f1', 'f1_macro', 'f1_micro', 'f1_samples', 'f1_weighted', 'jaccard', 'jaccard_macro', 'jaccard_micro', 'jaccard_samples', 'jaccard_weighted'])"
      ]
     },
     "execution_count": 10,
     "metadata": {},
     "output_type": "execute_result"
    }
   ],
   "source": [
    "import sklearn\n",
    "sklearn.metrics.SCORERS.keys()"
   ]
  },
  {
   "cell_type": "code",
   "execution_count": 11,
   "metadata": {},
   "outputs": [],
   "source": [
    "skfold = StratifiedKFold(n_splits = 5, random_state=24, shuffle=True) # meng-guarantee ratio y pada train dan val, sama\n",
    "\n",
    "logreg_cv = cross_val_score(logreg, X_train_val, y_train_val, cv = skfold, scoring='accuracy')\n",
    "knn_cv = cross_val_score(knn, X_train_val, y_train_val, cv = skfold, scoring='accuracy')\n",
    "dtc_cv = cross_val_score(dtc, X_train_val, y_train_val, cv = skfold, scoring='accuracy')"
   ]
  },
  {
   "cell_type": "code",
   "execution_count": 12,
   "metadata": {},
   "outputs": [
    {
     "name": "stdout",
     "output_type": "stream",
     "text": [
      "CV Logistic Regression [0.78571429 0.76785714 0.75       0.84821429 0.83035714]\n",
      "CV KNN [0.78571429 0.64285714 0.74107143 0.79464286 0.73214286]\n",
      "CV DecisionTree [0.79464286 0.78571429 0.76785714 0.71428571 0.75892857]\n"
     ]
    }
   ],
   "source": [
    "print('CV Logistic Regression', logreg_cv)\n",
    "print('CV KNN', knn_cv)\n",
    "print('CV DecisionTree', dtc_cv)"
   ]
  },
  {
   "cell_type": "code",
   "execution_count": 13,
   "metadata": {},
   "outputs": [
    {
     "name": "stdout",
     "output_type": "stream",
     "text": [
      "CV Logistic Regression 0.7964285714285715\n",
      "CV KNN 0.7392857142857143\n",
      "CV DecisionTree 0.7642857142857142\n"
     ]
    }
   ],
   "source": [
    "print('CV Logistic Regression', logreg_cv.mean())\n",
    "print('CV KNN', knn_cv.mean())\n",
    "print('CV DecisionTree', dtc_cv.mean())"
   ]
  },
  {
   "cell_type": "markdown",
   "metadata": {},
   "source": [
    "![image.png](data:image/png;base64,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)"
   ]
  },
  {
   "cell_type": "code",
   "execution_count": 14,
   "metadata": {},
   "outputs": [],
   "source": [
    "skfold = StratifiedKFold(n_splits = 5, random_state=24, shuffle=True) # meng-guarantee ratio y pada train dan val, sama\n",
    "\n",
    "logreg_cv = cross_val_score(logreg, X_train_val, y_train_val, cv = skfold, scoring='recall')\n",
    "knn_cv = cross_val_score(knn, X_train_val, y_train_val, cv = skfold, scoring='recall')\n",
    "dtc_cv = cross_val_score(dtc, X_train_val, y_train_val, cv = skfold, scoring='recall')"
   ]
  },
  {
   "cell_type": "code",
   "execution_count": 15,
   "metadata": {},
   "outputs": [
    {
     "name": "stdout",
     "output_type": "stream",
     "text": [
      "CV Logistic Regression [0.43333333 0.51724138 0.31034483 0.48275862 0.44827586]\n",
      "CV KNN [0.4        0.4137931  0.17241379 0.4137931  0.24137931]\n",
      "CV DecisionTree [0.5        0.62068966 0.37931034 0.37931034 0.5862069 ]\n"
     ]
    }
   ],
   "source": [
    "print('CV Logistic Regression', logreg_cv)\n",
    "print('CV KNN', knn_cv)\n",
    "print('CV DecisionTree', dtc_cv)"
   ]
  },
  {
   "cell_type": "code",
   "execution_count": 16,
   "metadata": {},
   "outputs": [
    {
     "name": "stdout",
     "output_type": "stream",
     "text": [
      "CV Logistic Regression 0.43839080459770124\n",
      "CV KNN 0.32827586206896553\n",
      "CV DecisionTree 0.4931034482758621\n"
     ]
    }
   ],
   "source": [
    "print('CV Logistic Regression', logreg_cv.mean())\n",
    "print('CV KNN', knn_cv.mean())\n",
    "print('CV DecisionTree', dtc_cv.mean())"
   ]
  },
  {
   "cell_type": "code",
   "execution_count": 17,
   "metadata": {},
   "outputs": [],
   "source": [
    "def model_evaluation_cv(model, metric):\n",
    "    skfold = StratifiedKFold(n_splits = 5, random_state=24, shuffle=True)\n",
    "    model_cv = cross_val_score(model, X_train_val, y_train_val, cv = skfold, scoring = metric)\n",
    "    return model_cv"
   ]
  },
  {
   "cell_type": "code",
   "execution_count": 18,
   "metadata": {},
   "outputs": [],
   "source": [
    "def print_results(model_cv):\n",
    "    print('CV Score:',model_cv)\n",
    "    print('CV Score Mean:', model_cv.mean())\n",
    "    print('CV Score Std:', model_cv.std())"
   ]
  },
  {
   "cell_type": "code",
   "execution_count": 19,
   "metadata": {},
   "outputs": [
    {
     "name": "stdout",
     "output_type": "stream",
     "text": [
      "CV Score: [0.52       0.53571429 0.39130435 0.62222222 0.57777778]\n",
      "CV Score Mean: 0.5294037267080745\n",
      "CV Score Std: 0.07765953078015073\n"
     ]
    }
   ],
   "source": [
    "model_cv = model_evaluation_cv(logreg, 'f1')\n",
    "print_results(model_cv)"
   ]
  },
  {
   "cell_type": "markdown",
   "metadata": {},
   "source": [
    "> ## MODEL PERFORMACE IN TEST SET"
   ]
  },
  {
   "cell_type": "code",
   "execution_count": 20,
   "metadata": {},
   "outputs": [
    {
     "data": {
      "text/plain": [
       "LogisticRegression()"
      ]
     },
     "execution_count": 20,
     "metadata": {},
     "output_type": "execute_result"
    }
   ],
   "source": [
    "logreg.fit(X_train_val, y_train_val)"
   ]
  },
  {
   "cell_type": "code",
   "execution_count": 21,
   "metadata": {},
   "outputs": [],
   "source": [
    "y_pred = logreg.predict(X_test)"
   ]
  },
  {
   "cell_type": "code",
   "execution_count": 22,
   "metadata": {},
   "outputs": [
    {
     "name": "stdout",
     "output_type": "stream",
     "text": [
      "recall 0.4594594594594595\n",
      "precision 0.7727272727272727\n",
      "f1 0.576271186440678\n"
     ]
    }
   ],
   "source": [
    "print('recall', recall_score(y_test, y_pred))\n",
    "print('precision', precision_score(y_test, y_pred))\n",
    "print('f1', f1_score(y_test, y_pred))"
   ]
  },
  {
   "cell_type": "code",
   "execution_count": 23,
   "metadata": {},
   "outputs": [
    {
     "name": "stdout",
     "output_type": "stream",
     "text": [
      "              precision    recall  f1-score   support\n",
      "\n",
      "           0       0.83      0.95      0.89       103\n",
      "           1       0.77      0.46      0.58        37\n",
      "\n",
      "    accuracy                           0.82       140\n",
      "   macro avg       0.80      0.71      0.73       140\n",
      "weighted avg       0.82      0.82      0.80       140\n",
      "\n"
     ]
    }
   ],
   "source": [
    "print(classification_report(y_test, y_pred))"
   ]
  },
  {
   "cell_type": "code",
   "execution_count": 24,
   "metadata": {},
   "outputs": [
    {
     "data": {
      "text/plain": [
       "array([[98,  5],\n",
       "       [20, 17]], dtype=int64)"
      ]
     },
     "execution_count": 24,
     "metadata": {},
     "output_type": "execute_result"
    }
   ],
   "source": [
    "confusion_matrix(y_test, y_pred)"
   ]
  },
  {
   "cell_type": "code",
   "execution_count": 25,
   "metadata": {},
   "outputs": [],
   "source": [
    "def make_confusion_matrix(conf_matrix):\n",
    "    tn, fp, fn, tp = conf_matrix.ravel()\n",
    "    conf_df = pd.DataFrame(\n",
    "        {'p_0': [tn, fn, tn+fn], 'p_1': [fp, tp, fp+tp]}, index = ['a_0', 'a_1', 'total_prediction']\n",
    "    )\n",
    "    conf_df['total_actual'] = conf_df['p_0'] + conf_df['p_1']\n",
    "    return conf_df"
   ]
  },
  {
   "cell_type": "code",
   "execution_count": 26,
   "metadata": {},
   "outputs": [
    {
     "data": {
      "text/html": [
       "<div>\n",
       "<style scoped>\n",
       "    .dataframe tbody tr th:only-of-type {\n",
       "        vertical-align: middle;\n",
       "    }\n",
       "\n",
       "    .dataframe tbody tr th {\n",
       "        vertical-align: top;\n",
       "    }\n",
       "\n",
       "    .dataframe thead th {\n",
       "        text-align: right;\n",
       "    }\n",
       "</style>\n",
       "<table border=\"1\" class=\"dataframe\">\n",
       "  <thead>\n",
       "    <tr style=\"text-align: right;\">\n",
       "      <th></th>\n",
       "      <th>p_0</th>\n",
       "      <th>p_1</th>\n",
       "      <th>total_actual</th>\n",
       "    </tr>\n",
       "  </thead>\n",
       "  <tbody>\n",
       "    <tr>\n",
       "      <th>a_0</th>\n",
       "      <td>98</td>\n",
       "      <td>5</td>\n",
       "      <td>103</td>\n",
       "    </tr>\n",
       "    <tr>\n",
       "      <th>a_1</th>\n",
       "      <td>20</td>\n",
       "      <td>17</td>\n",
       "      <td>37</td>\n",
       "    </tr>\n",
       "    <tr>\n",
       "      <th>total_prediction</th>\n",
       "      <td>118</td>\n",
       "      <td>22</td>\n",
       "      <td>140</td>\n",
       "    </tr>\n",
       "  </tbody>\n",
       "</table>\n",
       "</div>"
      ],
      "text/plain": [
       "                  p_0  p_1  total_actual\n",
       "a_0                98    5           103\n",
       "a_1                20   17            37\n",
       "total_prediction  118   22           140"
      ]
     },
     "execution_count": 26,
     "metadata": {},
     "output_type": "execute_result"
    }
   ],
   "source": [
    "make_confusion_matrix(confusion_matrix(y_test, y_pred))"
   ]
  },
  {
   "cell_type": "code",
   "execution_count": 27,
   "metadata": {},
   "outputs": [
    {
     "data": {
      "text/plain": [
       "<sklearn.metrics._plot.confusion_matrix.ConfusionMatrixDisplay at 0x237043b5ee0>"
      ]
     },
     "execution_count": 27,
     "metadata": {},
     "output_type": "execute_result"
    },
    {
     "data": {
      "image/png": "[encoded data removed]",
      "text/plain": [
       "<Figure size 432x288 with 2 Axes>"
      ]
     },
     "metadata": {
      "needs_background": "light"
     },
     "output_type": "display_data"
    }
   ],
   "source": [
    "plot_confusion_matrix(logreg, X_test, y_test)"
   ]
  },
  {
   "cell_type": "code",
   "execution_count": 28,
   "metadata": {},
   "outputs": [],
   "source": [
    "from sklearn.metrics import plot_roc_curve, plot_precision_recall_curve, precision_recall_curve, roc_curve, auc"
   ]
  },
  {
   "cell_type": "code",
   "execution_count": 29,
   "metadata": {},
   "outputs": [
    {
     "data": {
      "text/plain": [
       "<sklearn.metrics._plot.roc_curve.RocCurveDisplay at 0x23705555ca0>"
      ]
     },
     "execution_count": 29,
     "metadata": {},
     "output_type": "execute_result"
    },
    {
     "data": {
      "image/png": "[encoded data removed]",
      "text/plain": [
       "<Figure size 432x288 with 1 Axes>"
      ]
     },
     "metadata": {
      "needs_background": "light"
     },
     "output_type": "display_data"
    }
   ],
   "source": [
    "plot_roc_curve(logreg, X_test, y_test)"
   ]
  },
  {
   "cell_type": "code",
   "execution_count": 30,
   "metadata": {},
   "outputs": [],
   "source": [
    "proba = logreg.predict_proba(X_test)\n",
    "proba_1 = proba[:,1]\n",
    "fpr, tpr, thr = roc_curve(y_test, proba_1)\n",
    "auc_score = auc(fpr, tpr)"
   ]
  },
  {
   "cell_type": "code",
   "execution_count": 31,
   "metadata": {},
   "outputs": [
    {
     "data": {
      "text/html": [
       "<div>\n",
       "<style scoped>\n",
       "    .dataframe tbody tr th:only-of-type {\n",
       "        vertical-align: middle;\n",
       "    }\n",
       "\n",
       "    .dataframe tbody tr th {\n",
       "        vertical-align: top;\n",
       "    }\n",
       "\n",
       "    .dataframe thead th {\n",
       "        text-align: right;\n",
       "    }\n",
       "</style>\n",
       "<table border=\"1\" class=\"dataframe\">\n",
       "  <thead>\n",
       "    <tr style=\"text-align: right;\">\n",
       "      <th></th>\n",
       "      <th>TPR</th>\n",
       "      <th>FPR</th>\n",
       "      <th>THR</th>\n",
       "    </tr>\n",
       "  </thead>\n",
       "  <tbody>\n",
       "    <tr>\n",
       "      <th>0</th>\n",
       "      <td>0.000000</td>\n",
       "      <td>0.000000</td>\n",
       "      <td>1.946402</td>\n",
       "    </tr>\n",
       "    <tr>\n",
       "      <th>1</th>\n",
       "      <td>0.027027</td>\n",
       "      <td>0.000000</td>\n",
       "      <td>0.946402</td>\n",
       "    </tr>\n",
       "    <tr>\n",
       "      <th>2</th>\n",
       "      <td>0.027027</td>\n",
       "      <td>0.009709</td>\n",
       "      <td>0.936201</td>\n",
       "    </tr>\n",
       "    <tr>\n",
       "      <th>3</th>\n",
       "      <td>0.162162</td>\n",
       "      <td>0.009709</td>\n",
       "      <td>0.730020</td>\n",
       "    </tr>\n",
       "    <tr>\n",
       "      <th>4</th>\n",
       "      <td>0.162162</td>\n",
       "      <td>0.019417</td>\n",
       "      <td>0.703232</td>\n",
       "    </tr>\n",
       "  </tbody>\n",
       "</table>\n",
       "</div>"
      ],
      "text/plain": [
       "        TPR       FPR       THR\n",
       "0  0.000000  0.000000  1.946402\n",
       "1  0.027027  0.000000  0.946402\n",
       "2  0.027027  0.009709  0.936201\n",
       "3  0.162162  0.009709  0.730020\n",
       "4  0.162162  0.019417  0.703232"
      ]
     },
     "execution_count": 31,
     "metadata": {},
     "output_type": "execute_result"
    }
   ],
   "source": [
    "thr_df = pd.DataFrame({'TPR': tpr, 'FPR': fpr, 'THR': thr})\n",
    "thr_df.head()"
   ]
  },
  {
   "cell_type": "code",
   "execution_count": 32,
   "metadata": {},
   "outputs": [],
   "source": [
    "import matplotlib.pyplot as plt\n",
    "import seaborn as sns"
   ]
  },
  {
   "cell_type": "markdown",
   "metadata": {},
   "source": [
    "> ## ROC - AUC"
   ]
  },
  {
   "cell_type": "code",
   "execution_count": 33,
   "metadata": {},
   "outputs": [
    {
     "data": {
      "text/plain": [
       "<sklearn.metrics._plot.roc_curve.RocCurveDisplay at 0x23705857ca0>"
      ]
     },
     "execution_count": 33,
     "metadata": {},
     "output_type": "execute_result"
    },
    {
     "data": {
      "image/png": "[encoded data removed]",
      "text/plain": [
       "<Figure size 432x288 with 1 Axes>"
      ]
     },
     "metadata": {
      "needs_background": "light"
     },
     "output_type": "display_data"
    }
   ],
   "source": [
    "plot_roc_curve(logreg, X_test, y_test)"
   ]
  },
  {
   "cell_type": "code",
   "execution_count": 34,
   "metadata": {},
   "outputs": [
    {
     "data": {
      "image/png": "[encoded data removed]",
      "text/plain": [
       "<Figure size 432x288 with 1 Axes>"
      ]
     },
     "metadata": {
      "needs_background": "light"
     },
     "output_type": "display_data"
    }
   ],
   "source": [
    "plt.plot(fpr, tpr, 'blue', label= f'AUC: {round(auc_score, 2)}')\n",
    "plt.plot([0,1], [0,1], 'r--')\n",
    "plt.xlim([0,1])\n",
    "plt.ylim([0,1])\n",
    "plt.ylabel('True Positive Rate')\n",
    "plt.xlabel('False Positive Rate')\n",
    "plt.fill_between(fpr, tpr, 0, facecolor='azure', alpha=1)\n",
    "plt.legend()\n",
    "plt.show()"
   ]
  },
  {
   "cell_type": "code",
   "execution_count": 35,
   "metadata": {},
   "outputs": [
    {
     "data": {
      "text/html": [
       "<div>\n",
       "<style scoped>\n",
       "    .dataframe tbody tr th:only-of-type {\n",
       "        vertical-align: middle;\n",
       "    }\n",
       "\n",
       "    .dataframe tbody tr th {\n",
       "        vertical-align: top;\n",
       "    }\n",
       "\n",
       "    .dataframe thead th {\n",
       "        text-align: right;\n",
       "    }\n",
       "</style>\n",
       "<table border=\"1\" class=\"dataframe\">\n",
       "  <thead>\n",
       "    <tr style=\"text-align: right;\">\n",
       "      <th></th>\n",
       "      <th>TPR</th>\n",
       "      <th>FPR</th>\n",
       "      <th>THR</th>\n",
       "    </tr>\n",
       "  </thead>\n",
       "  <tbody>\n",
       "    <tr>\n",
       "      <th>23</th>\n",
       "      <td>0.837838</td>\n",
       "      <td>0.310680</td>\n",
       "      <td>0.260223</td>\n",
       "    </tr>\n",
       "    <tr>\n",
       "      <th>24</th>\n",
       "      <td>0.837838</td>\n",
       "      <td>0.320388</td>\n",
       "      <td>0.253305</td>\n",
       "    </tr>\n",
       "    <tr>\n",
       "      <th>25</th>\n",
       "      <td>0.891892</td>\n",
       "      <td>0.320388</td>\n",
       "      <td>0.239033</td>\n",
       "    </tr>\n",
       "    <tr>\n",
       "      <th>26</th>\n",
       "      <td>0.891892</td>\n",
       "      <td>0.359223</td>\n",
       "      <td>0.215838</td>\n",
       "    </tr>\n",
       "    <tr>\n",
       "      <th>27</th>\n",
       "      <td>0.918919</td>\n",
       "      <td>0.359223</td>\n",
       "      <td>0.215545</td>\n",
       "    </tr>\n",
       "  </tbody>\n",
       "</table>\n",
       "</div>"
      ],
      "text/plain": [
       "         TPR       FPR       THR\n",
       "23  0.837838  0.310680  0.260223\n",
       "24  0.837838  0.320388  0.253305\n",
       "25  0.891892  0.320388  0.239033\n",
       "26  0.891892  0.359223  0.215838\n",
       "27  0.918919  0.359223  0.215545"
      ]
     },
     "execution_count": 35,
     "metadata": {},
     "output_type": "execute_result"
    }
   ],
   "source": [
    "thr_df[(thr_df['TPR']>=0.8) & (thr_df['FPR'] <0.4)]"
   ]
  },
  {
   "cell_type": "code",
   "execution_count": 36,
   "metadata": {},
   "outputs": [
    {
     "data": {
      "text/html": [
       "<div>\n",
       "<style scoped>\n",
       "    .dataframe tbody tr th:only-of-type {\n",
       "        vertical-align: middle;\n",
       "    }\n",
       "\n",
       "    .dataframe tbody tr th {\n",
       "        vertical-align: top;\n",
       "    }\n",
       "\n",
       "    .dataframe thead th {\n",
       "        text-align: right;\n",
       "    }\n",
       "</style>\n",
       "<table border=\"1\" class=\"dataframe\">\n",
       "  <thead>\n",
       "    <tr style=\"text-align: right;\">\n",
       "      <th></th>\n",
       "      <th>p_0</th>\n",
       "      <th>p_1</th>\n",
       "      <th>total_actual</th>\n",
       "    </tr>\n",
       "  </thead>\n",
       "  <tbody>\n",
       "    <tr>\n",
       "      <th>a_0</th>\n",
       "      <td>66</td>\n",
       "      <td>37</td>\n",
       "      <td>103</td>\n",
       "    </tr>\n",
       "    <tr>\n",
       "      <th>a_1</th>\n",
       "      <td>4</td>\n",
       "      <td>33</td>\n",
       "      <td>37</td>\n",
       "    </tr>\n",
       "    <tr>\n",
       "      <th>total_prediction</th>\n",
       "      <td>70</td>\n",
       "      <td>70</td>\n",
       "      <td>140</td>\n",
       "    </tr>\n",
       "  </tbody>\n",
       "</table>\n",
       "</div>"
      ],
      "text/plain": [
       "                  p_0  p_1  total_actual\n",
       "a_0                66   37           103\n",
       "a_1                 4   33            37\n",
       "total_prediction   70   70           140"
      ]
     },
     "execution_count": 36,
     "metadata": {},
     "output_type": "execute_result"
    }
   ],
   "source": [
    "y_pred_021 = [1 if prob1 > 0.215545 else 0 for prob1 in logreg.predict_proba(X_test)[:,1]]\n",
    "make_confusion_matrix(confusion_matrix(y_test, y_pred_021))"
   ]
  },
  {
   "cell_type": "code",
   "execution_count": 37,
   "metadata": {},
   "outputs": [
    {
     "data": {
      "text/plain": [
       "0.8918918918918919"
      ]
     },
     "execution_count": 37,
     "metadata": {},
     "output_type": "execute_result"
    }
   ],
   "source": [
    "recall_score(y_test, y_pred_021)"
   ]
  },
  {
   "cell_type": "code",
   "execution_count": 38,
   "metadata": {},
   "outputs": [
    {
     "name": "stdout",
     "output_type": "stream",
     "text": [
      "ratio nasabah yang memberikan keuntungan: 94.28571428571428\n",
      "ratio nasabah yang memberikan kerugian: 5.714285714285714\n"
     ]
    }
   ],
   "source": [
    "print('ratio nasabah yang memberikan keuntungan:', 66/70*100)\n",
    "print('ratio nasabah yang memberikan kerugian:', 4/70*100)"
   ]
  },
  {
   "cell_type": "code",
   "execution_count": 39,
   "metadata": {},
   "outputs": [
    {
     "name": "stdout",
     "output_type": "stream",
     "text": [
      "ratio nasabah yang tidak jadi memberikan keuntungan: 52.85714285714286\n",
      "ratio kerugian yang dapat dikurangi: 47.14285714285714\n"
     ]
    }
   ],
   "source": [
    "print('ratio nasabah yang tidak jadi memberikan keuntungan:', 37/70*100)\n",
    "print('ratio kerugian yang dapat dikurangi:', 33/70*100)"
   ]
  },
  {
   "cell_type": "code",
   "execution_count": 40,
   "metadata": {},
   "outputs": [
    {
     "data": {
      "text/html": [
       "<div>\n",
       "<style scoped>\n",
       "    .dataframe tbody tr th:only-of-type {\n",
       "        vertical-align: middle;\n",
       "    }\n",
       "\n",
       "    .dataframe tbody tr th {\n",
       "        vertical-align: top;\n",
       "    }\n",
       "\n",
       "    .dataframe thead th {\n",
       "        text-align: right;\n",
       "    }\n",
       "</style>\n",
       "<table border=\"1\" class=\"dataframe\">\n",
       "  <thead>\n",
       "    <tr style=\"text-align: right;\">\n",
       "      <th></th>\n",
       "      <th>p_0</th>\n",
       "      <th>p_1</th>\n",
       "      <th>total_actual</th>\n",
       "    </tr>\n",
       "  </thead>\n",
       "  <tbody>\n",
       "    <tr>\n",
       "      <th>a_0</th>\n",
       "      <td>98</td>\n",
       "      <td>5</td>\n",
       "      <td>103</td>\n",
       "    </tr>\n",
       "    <tr>\n",
       "      <th>a_1</th>\n",
       "      <td>20</td>\n",
       "      <td>17</td>\n",
       "      <td>37</td>\n",
       "    </tr>\n",
       "    <tr>\n",
       "      <th>total_prediction</th>\n",
       "      <td>118</td>\n",
       "      <td>22</td>\n",
       "      <td>140</td>\n",
       "    </tr>\n",
       "  </tbody>\n",
       "</table>\n",
       "</div>"
      ],
      "text/plain": [
       "                  p_0  p_1  total_actual\n",
       "a_0                98    5           103\n",
       "a_1                20   17            37\n",
       "total_prediction  118   22           140"
      ]
     },
     "execution_count": 40,
     "metadata": {},
     "output_type": "execute_result"
    }
   ],
   "source": [
    "make_confusion_matrix(confusion_matrix(y_test, y_pred))"
   ]
  },
  {
   "cell_type": "code",
   "execution_count": 41,
   "metadata": {},
   "outputs": [
    {
     "name": "stdout",
     "output_type": "stream",
     "text": [
      "ratio nasabah yang memberikan keuntungan: 83.05084745762711\n",
      "ratio nasabah yang memberikan kerugian: 16.94915254237288\n"
     ]
    }
   ],
   "source": [
    "print('ratio nasabah yang memberikan keuntungan:', 98/118*100)\n",
    "print('ratio nasabah yang memberikan kerugian:', 20/118*100)"
   ]
  },
  {
   "cell_type": "code",
   "execution_count": 42,
   "metadata": {},
   "outputs": [
    {
     "name": "stdout",
     "output_type": "stream",
     "text": [
      "ratio nasabah yang tidak jadi memberikan keuntungan: 22.727272727272727\n",
      "ratio kerugian yang dapat dikurangi: 77.27272727272727\n"
     ]
    }
   ],
   "source": [
    "print('ratio nasabah yang tidak jadi memberikan keuntungan:', 5/22*100)\n",
    "print('ratio kerugian yang dapat dikurangi:', 17/22*100)"
   ]
  },
  {
   "cell_type": "code",
   "execution_count": 43,
   "metadata": {},
   "outputs": [
    {
     "data": {
      "text/plain": [
       "0.4594594594594595"
      ]
     },
     "execution_count": 43,
     "metadata": {},
     "output_type": "execute_result"
    }
   ],
   "source": [
    "recall_score(y_test, y_pred)"
   ]
  },
  {
   "cell_type": "code",
   "execution_count": 44,
   "metadata": {},
   "outputs": [
    {
     "data": {
      "text/plain": [
       "<matplotlib.lines.Line2D at 0x23705a492e0>"
      ]
     },
     "execution_count": 44,
     "metadata": {},
     "output_type": "execute_result"
    },
    {
     "data": {
      "image/png": "[encoded data removed]",
      "text/plain": [
       "<Figure size 432x288 with 1 Axes>"
      ]
     },
     "metadata": {
      "needs_background": "light"
     },
     "output_type": "display_data"
    }
   ],
   "source": [
    "sns.scatterplot(x=range(len(proba_1)), y=proba_1)\n",
    "plt.axhline(0.21)"
   ]
  },
  {
   "cell_type": "code",
   "execution_count": 45,
   "metadata": {},
   "outputs": [
    {
     "data": {
      "text/plain": [
       "0    0.735714\n",
       "1    0.264286\n",
       "Name: default, dtype: float64"
      ]
     },
     "execution_count": 45,
     "metadata": {},
     "output_type": "execute_result"
    }
   ],
   "source": [
    "y_test['default'].value_counts(normalize=True)"
   ]
  },
  {
   "cell_type": "code",
   "execution_count": 46,
   "metadata": {},
   "outputs": [
    {
     "data": {
      "text/plain": [
       "<matplotlib.lines.Line2D at 0x23705a49130>"
      ]
     },
     "execution_count": 46,
     "metadata": {},
     "output_type": "execute_result"
    },
    {
     "data": {
      "image/png": "[encoded data removed]",
      "text/plain": [
       "<Figure size 432x288 with 1 Axes>"
      ]
     },
     "metadata": {
      "needs_background": "light"
     },
     "output_type": "display_data"
    }
   ],
   "source": [
    "sns.histplot(proba_1, kde=True)\n",
    "plt.axvline(0.5, color='red')"
   ]
  },
  {
   "cell_type": "code",
   "execution_count": 47,
   "metadata": {},
   "outputs": [
    {
     "data": {
      "text/html": [
       "<div>\n",
       "<style scoped>\n",
       "    .dataframe tbody tr th:only-of-type {\n",
       "        vertical-align: middle;\n",
       "    }\n",
       "\n",
       "    .dataframe tbody tr th {\n",
       "        vertical-align: top;\n",
       "    }\n",
       "\n",
       "    .dataframe thead th {\n",
       "        text-align: right;\n",
       "    }\n",
       "</style>\n",
       "<table border=\"1\" class=\"dataframe\">\n",
       "  <thead>\n",
       "    <tr style=\"text-align: right;\">\n",
       "      <th></th>\n",
       "      <th>TPR</th>\n",
       "      <th>FPR</th>\n",
       "      <th>THR</th>\n",
       "    </tr>\n",
       "  </thead>\n",
       "  <tbody>\n",
       "    <tr>\n",
       "      <th>27</th>\n",
       "      <td>0.918919</td>\n",
       "      <td>0.359223</td>\n",
       "      <td>0.215545</td>\n",
       "    </tr>\n",
       "    <tr>\n",
       "      <th>28</th>\n",
       "      <td>0.918919</td>\n",
       "      <td>0.427184</td>\n",
       "      <td>0.180970</td>\n",
       "    </tr>\n",
       "    <tr>\n",
       "      <th>29</th>\n",
       "      <td>0.945946</td>\n",
       "      <td>0.427184</td>\n",
       "      <td>0.180324</td>\n",
       "    </tr>\n",
       "    <tr>\n",
       "      <th>30</th>\n",
       "      <td>0.945946</td>\n",
       "      <td>0.504854</td>\n",
       "      <td>0.138816</td>\n",
       "    </tr>\n",
       "    <tr>\n",
       "      <th>31</th>\n",
       "      <td>0.972973</td>\n",
       "      <td>0.504854</td>\n",
       "      <td>0.132702</td>\n",
       "    </tr>\n",
       "    <tr>\n",
       "      <th>32</th>\n",
       "      <td>0.972973</td>\n",
       "      <td>0.582524</td>\n",
       "      <td>0.102397</td>\n",
       "    </tr>\n",
       "    <tr>\n",
       "      <th>33</th>\n",
       "      <td>1.000000</td>\n",
       "      <td>0.582524</td>\n",
       "      <td>0.099279</td>\n",
       "    </tr>\n",
       "    <tr>\n",
       "      <th>34</th>\n",
       "      <td>1.000000</td>\n",
       "      <td>1.000000</td>\n",
       "      <td>0.003432</td>\n",
       "    </tr>\n",
       "  </tbody>\n",
       "</table>\n",
       "</div>"
      ],
      "text/plain": [
       "         TPR       FPR       THR\n",
       "27  0.918919  0.359223  0.215545\n",
       "28  0.918919  0.427184  0.180970\n",
       "29  0.945946  0.427184  0.180324\n",
       "30  0.945946  0.504854  0.138816\n",
       "31  0.972973  0.504854  0.132702\n",
       "32  0.972973  0.582524  0.102397\n",
       "33  1.000000  0.582524  0.099279\n",
       "34  1.000000  1.000000  0.003432"
      ]
     },
     "execution_count": 47,
     "metadata": {},
     "output_type": "execute_result"
    }
   ],
   "source": [
    "thr_df[thr_df['TPR']>=0.9]"
   ]
  },
  {
   "cell_type": "code",
   "execution_count": 48,
   "metadata": {},
   "outputs": [
    {
     "data": {
      "text/html": [
       "<div>\n",
       "<style scoped>\n",
       "    .dataframe tbody tr th:only-of-type {\n",
       "        vertical-align: middle;\n",
       "    }\n",
       "\n",
       "    .dataframe tbody tr th {\n",
       "        vertical-align: top;\n",
       "    }\n",
       "\n",
       "    .dataframe thead th {\n",
       "        text-align: right;\n",
       "    }\n",
       "</style>\n",
       "<table border=\"1\" class=\"dataframe\">\n",
       "  <thead>\n",
       "    <tr style=\"text-align: right;\">\n",
       "      <th></th>\n",
       "      <th>p_0</th>\n",
       "      <th>p_1</th>\n",
       "      <th>total_actual</th>\n",
       "    </tr>\n",
       "  </thead>\n",
       "  <tbody>\n",
       "    <tr>\n",
       "      <th>a_0</th>\n",
       "      <td>43</td>\n",
       "      <td>60</td>\n",
       "      <td>103</td>\n",
       "    </tr>\n",
       "    <tr>\n",
       "      <th>a_1</th>\n",
       "      <td>1</td>\n",
       "      <td>36</td>\n",
       "      <td>37</td>\n",
       "    </tr>\n",
       "    <tr>\n",
       "      <th>total_prediction</th>\n",
       "      <td>44</td>\n",
       "      <td>96</td>\n",
       "      <td>140</td>\n",
       "    </tr>\n",
       "  </tbody>\n",
       "</table>\n",
       "</div>"
      ],
      "text/plain": [
       "                  p_0  p_1  total_actual\n",
       "a_0                43   60           103\n",
       "a_1                 1   36            37\n",
       "total_prediction   44   96           140"
      ]
     },
     "execution_count": 48,
     "metadata": {},
     "output_type": "execute_result"
    }
   ],
   "source": [
    "y_pred_009 = [1 if prob1 > 0.099279 else 0 for prob1 in logreg.predict_proba(X_test)[:,1]]\n",
    "make_confusion_matrix(confusion_matrix(y_test, y_pred_009))"
   ]
  },
  {
   "cell_type": "code",
   "execution_count": 49,
   "metadata": {},
   "outputs": [
    {
     "data": {
      "text/html": [
       "<div>\n",
       "<style scoped>\n",
       "    .dataframe tbody tr th:only-of-type {\n",
       "        vertical-align: middle;\n",
       "    }\n",
       "\n",
       "    .dataframe tbody tr th {\n",
       "        vertical-align: top;\n",
       "    }\n",
       "\n",
       "    .dataframe thead th {\n",
       "        text-align: right;\n",
       "    }\n",
       "</style>\n",
       "<table border=\"1\" class=\"dataframe\">\n",
       "  <thead>\n",
       "    <tr style=\"text-align: right;\">\n",
       "      <th></th>\n",
       "      <th>p_0</th>\n",
       "      <th>p_1</th>\n",
       "      <th>total_actual</th>\n",
       "    </tr>\n",
       "  </thead>\n",
       "  <tbody>\n",
       "    <tr>\n",
       "      <th>a_0</th>\n",
       "      <td>98</td>\n",
       "      <td>5</td>\n",
       "      <td>103</td>\n",
       "    </tr>\n",
       "    <tr>\n",
       "      <th>a_1</th>\n",
       "      <td>20</td>\n",
       "      <td>17</td>\n",
       "      <td>37</td>\n",
       "    </tr>\n",
       "    <tr>\n",
       "      <th>total_prediction</th>\n",
       "      <td>118</td>\n",
       "      <td>22</td>\n",
       "      <td>140</td>\n",
       "    </tr>\n",
       "  </tbody>\n",
       "</table>\n",
       "</div>"
      ],
      "text/plain": [
       "                  p_0  p_1  total_actual\n",
       "a_0                98    5           103\n",
       "a_1                20   17            37\n",
       "total_prediction  118   22           140"
      ]
     },
     "execution_count": 49,
     "metadata": {},
     "output_type": "execute_result"
    }
   ],
   "source": [
    "make_confusion_matrix(confusion_matrix(y_test, y_pred))"
   ]
  },
  {
   "cell_type": "markdown",
   "metadata": {},
   "source": [
    "> ## P-R Curve"
   ]
  },
  {
   "cell_type": "code",
   "execution_count": 50,
   "metadata": {},
   "outputs": [
    {
     "data": {
      "text/plain": [
       "<sklearn.metrics._plot.precision_recall_curve.PrecisionRecallDisplay at 0x23705abc670>"
      ]
     },
     "execution_count": 50,
     "metadata": {},
     "output_type": "execute_result"
    },
    {
     "data": {
      "image/png": "[encoded data removed]",
      "text/plain": [
       "<Figure size 432x288 with 1 Axes>"
      ]
     },
     "metadata": {
      "needs_background": "light"
     },
     "output_type": "display_data"
    }
   ],
   "source": [
    "plot_precision_recall_curve(logreg, X_test, y_test)"
   ]
  },
  {
   "cell_type": "code",
   "execution_count": 51,
   "metadata": {},
   "outputs": [
    {
     "data": {
      "text/html": [
       "<div>\n",
       "<style scoped>\n",
       "    .dataframe tbody tr th:only-of-type {\n",
       "        vertical-align: middle;\n",
       "    }\n",
       "\n",
       "    .dataframe tbody tr th {\n",
       "        vertical-align: top;\n",
       "    }\n",
       "\n",
       "    .dataframe thead th {\n",
       "        text-align: right;\n",
       "    }\n",
       "</style>\n",
       "<table border=\"1\" class=\"dataframe\">\n",
       "  <thead>\n",
       "    <tr style=\"text-align: right;\">\n",
       "      <th></th>\n",
       "      <th>Precision</th>\n",
       "      <th>Recall</th>\n",
       "      <th>Thresholds</th>\n",
       "    </tr>\n",
       "  </thead>\n",
       "  <tbody>\n",
       "    <tr>\n",
       "      <th>0</th>\n",
       "      <td>0.381443</td>\n",
       "      <td>1.000000</td>\n",
       "      <td>0.099279</td>\n",
       "    </tr>\n",
       "    <tr>\n",
       "      <th>1</th>\n",
       "      <td>0.375000</td>\n",
       "      <td>0.972973</td>\n",
       "      <td>0.102397</td>\n",
       "    </tr>\n",
       "    <tr>\n",
       "      <th>2</th>\n",
       "      <td>0.378947</td>\n",
       "      <td>0.972973</td>\n",
       "      <td>0.102422</td>\n",
       "    </tr>\n",
       "    <tr>\n",
       "      <th>3</th>\n",
       "      <td>0.382979</td>\n",
       "      <td>0.972973</td>\n",
       "      <td>0.103093</td>\n",
       "    </tr>\n",
       "    <tr>\n",
       "      <th>4</th>\n",
       "      <td>0.387097</td>\n",
       "      <td>0.972973</td>\n",
       "      <td>0.108954</td>\n",
       "    </tr>\n",
       "    <tr>\n",
       "      <th>...</th>\n",
       "      <td>...</td>\n",
       "      <td>...</td>\n",
       "      <td>...</td>\n",
       "    </tr>\n",
       "    <tr>\n",
       "      <th>92</th>\n",
       "      <td>0.800000</td>\n",
       "      <td>0.108108</td>\n",
       "      <td>0.839385</td>\n",
       "    </tr>\n",
       "    <tr>\n",
       "      <th>93</th>\n",
       "      <td>0.750000</td>\n",
       "      <td>0.081081</td>\n",
       "      <td>0.863196</td>\n",
       "    </tr>\n",
       "    <tr>\n",
       "      <th>94</th>\n",
       "      <td>0.666667</td>\n",
       "      <td>0.054054</td>\n",
       "      <td>0.896984</td>\n",
       "    </tr>\n",
       "    <tr>\n",
       "      <th>95</th>\n",
       "      <td>0.500000</td>\n",
       "      <td>0.027027</td>\n",
       "      <td>0.936201</td>\n",
       "    </tr>\n",
       "    <tr>\n",
       "      <th>96</th>\n",
       "      <td>1.000000</td>\n",
       "      <td>0.027027</td>\n",
       "      <td>0.946402</td>\n",
       "    </tr>\n",
       "  </tbody>\n",
       "</table>\n",
       "<p>97 rows × 3 columns</p>\n",
       "</div>"
      ],
      "text/plain": [
       "    Precision    Recall  Thresholds\n",
       "0    0.381443  1.000000    0.099279\n",
       "1    0.375000  0.972973    0.102397\n",
       "2    0.378947  0.972973    0.102422\n",
       "3    0.382979  0.972973    0.103093\n",
       "4    0.387097  0.972973    0.108954\n",
       "..        ...       ...         ...\n",
       "92   0.800000  0.108108    0.839385\n",
       "93   0.750000  0.081081    0.863196\n",
       "94   0.666667  0.054054    0.896984\n",
       "95   0.500000  0.027027    0.936201\n",
       "96   1.000000  0.027027    0.946402\n",
       "\n",
       "[97 rows x 3 columns]"
      ]
     },
     "execution_count": 51,
     "metadata": {},
     "output_type": "execute_result"
    }
   ],
   "source": [
    "pr, rc, thrs = precision_recall_curve(y_test, proba_1)\n",
    "pr_df = pd.DataFrame({'Precision': pr[:-1], 'Recall': rc[:-1], 'Thresholds': thrs})\n",
    "pr_df"
   ]
  },
  {
   "cell_type": "code",
   "execution_count": 52,
   "metadata": {},
   "outputs": [
    {
     "data": {
      "image/png": "[encoded data removed]",
      "text/plain": [
       "<Figure size 432x288 with 1 Axes>"
      ]
     },
     "metadata": {
      "needs_background": "light"
     },
     "output_type": "display_data"
    }
   ],
   "source": [
    "plt.plot(rc, pr, 'blue')\n",
    "# plt.plot([0,1], [0,1], 'r--')\n",
    "plt.xlim([0,1])\n",
    "plt.ylim([0.3,1])\n",
    "plt.ylabel('Precision')\n",
    "plt.xlabel('Recall')\n",
    "plt.fill_between(rc, pr, 0, facecolor='azure', alpha=1)\n",
    "# plt.legend()\n",
    "plt.show()"
   ]
  },
  {
   "cell_type": "code",
   "execution_count": 53,
   "metadata": {},
   "outputs": [
    {
     "data": {
      "text/html": [
       "<div>\n",
       "<style scoped>\n",
       "    .dataframe tbody tr th:only-of-type {\n",
       "        vertical-align: middle;\n",
       "    }\n",
       "\n",
       "    .dataframe tbody tr th {\n",
       "        vertical-align: top;\n",
       "    }\n",
       "\n",
       "    .dataframe thead th {\n",
       "        text-align: right;\n",
       "    }\n",
       "</style>\n",
       "<table border=\"1\" class=\"dataframe\">\n",
       "  <thead>\n",
       "    <tr style=\"text-align: right;\">\n",
       "      <th></th>\n",
       "      <th>Precision</th>\n",
       "      <th>Recall</th>\n",
       "      <th>Thresholds</th>\n",
       "    </tr>\n",
       "  </thead>\n",
       "  <tbody>\n",
       "    <tr>\n",
       "      <th>67</th>\n",
       "      <td>0.600000</td>\n",
       "      <td>0.486486</td>\n",
       "      <td>0.425608</td>\n",
       "    </tr>\n",
       "    <tr>\n",
       "      <th>68</th>\n",
       "      <td>0.620690</td>\n",
       "      <td>0.486486</td>\n",
       "      <td>0.446007</td>\n",
       "    </tr>\n",
       "    <tr>\n",
       "      <th>69</th>\n",
       "      <td>0.642857</td>\n",
       "      <td>0.486486</td>\n",
       "      <td>0.470058</td>\n",
       "    </tr>\n",
       "    <tr>\n",
       "      <th>70</th>\n",
       "      <td>0.666667</td>\n",
       "      <td>0.486486</td>\n",
       "      <td>0.489636</td>\n",
       "    </tr>\n",
       "    <tr>\n",
       "      <th>71</th>\n",
       "      <td>0.692308</td>\n",
       "      <td>0.486486</td>\n",
       "      <td>0.489714</td>\n",
       "    </tr>\n",
       "    <tr>\n",
       "      <th>72</th>\n",
       "      <td>0.720000</td>\n",
       "      <td>0.486486</td>\n",
       "      <td>0.494383</td>\n",
       "    </tr>\n",
       "    <tr>\n",
       "      <th>73</th>\n",
       "      <td>0.750000</td>\n",
       "      <td>0.486486</td>\n",
       "      <td>0.494954</td>\n",
       "    </tr>\n",
       "    <tr>\n",
       "      <th>74</th>\n",
       "      <td>0.739130</td>\n",
       "      <td>0.459459</td>\n",
       "      <td>0.498525</td>\n",
       "    </tr>\n",
       "    <tr>\n",
       "      <th>75</th>\n",
       "      <td>0.772727</td>\n",
       "      <td>0.459459</td>\n",
       "      <td>0.511705</td>\n",
       "    </tr>\n",
       "    <tr>\n",
       "      <th>87</th>\n",
       "      <td>0.800000</td>\n",
       "      <td>0.216216</td>\n",
       "      <td>0.682691</td>\n",
       "    </tr>\n",
       "    <tr>\n",
       "      <th>88</th>\n",
       "      <td>0.777778</td>\n",
       "      <td>0.189189</td>\n",
       "      <td>0.683386</td>\n",
       "    </tr>\n",
       "    <tr>\n",
       "      <th>89</th>\n",
       "      <td>0.750000</td>\n",
       "      <td>0.162162</td>\n",
       "      <td>0.703232</td>\n",
       "    </tr>\n",
       "    <tr>\n",
       "      <th>92</th>\n",
       "      <td>0.800000</td>\n",
       "      <td>0.108108</td>\n",
       "      <td>0.839385</td>\n",
       "    </tr>\n",
       "    <tr>\n",
       "      <th>93</th>\n",
       "      <td>0.750000</td>\n",
       "      <td>0.081081</td>\n",
       "      <td>0.863196</td>\n",
       "    </tr>\n",
       "    <tr>\n",
       "      <th>94</th>\n",
       "      <td>0.666667</td>\n",
       "      <td>0.054054</td>\n",
       "      <td>0.896984</td>\n",
       "    </tr>\n",
       "  </tbody>\n",
       "</table>\n",
       "</div>"
      ],
      "text/plain": [
       "    Precision    Recall  Thresholds\n",
       "67   0.600000  0.486486    0.425608\n",
       "68   0.620690  0.486486    0.446007\n",
       "69   0.642857  0.486486    0.470058\n",
       "70   0.666667  0.486486    0.489636\n",
       "71   0.692308  0.486486    0.489714\n",
       "72   0.720000  0.486486    0.494383\n",
       "73   0.750000  0.486486    0.494954\n",
       "74   0.739130  0.459459    0.498525\n",
       "75   0.772727  0.459459    0.511705\n",
       "87   0.800000  0.216216    0.682691\n",
       "88   0.777778  0.189189    0.683386\n",
       "89   0.750000  0.162162    0.703232\n",
       "92   0.800000  0.108108    0.839385\n",
       "93   0.750000  0.081081    0.863196\n",
       "94   0.666667  0.054054    0.896984"
      ]
     },
     "execution_count": 53,
     "metadata": {},
     "output_type": "execute_result"
    }
   ],
   "source": [
    "pr_df[pr_df['Precision'].between(0.6, 0.8)].sort_values('Recall', ascending=False)"
   ]
  },
  {
   "cell_type": "code",
   "execution_count": 54,
   "metadata": {},
   "outputs": [
    {
     "data": {
      "text/plain": [
       "[1, 0, 0, 0, 0]"
      ]
     },
     "execution_count": 54,
     "metadata": {},
     "output_type": "execute_result"
    }
   ],
   "source": [
    "y_pred049 = [1 if prob1 > 0.494954 else 0 for prob1 in logreg.predict_proba(X_test)[:,1]]\n",
    "y_pred049[:5]"
   ]
  },
  {
   "cell_type": "code",
   "execution_count": 55,
   "metadata": {},
   "outputs": [
    {
     "data": {
      "text/html": [
       "<div>\n",
       "<style scoped>\n",
       "    .dataframe tbody tr th:only-of-type {\n",
       "        vertical-align: middle;\n",
       "    }\n",
       "\n",
       "    .dataframe tbody tr th {\n",
       "        vertical-align: top;\n",
       "    }\n",
       "\n",
       "    .dataframe thead th {\n",
       "        text-align: right;\n",
       "    }\n",
       "</style>\n",
       "<table border=\"1\" class=\"dataframe\">\n",
       "  <thead>\n",
       "    <tr style=\"text-align: right;\">\n",
       "      <th></th>\n",
       "      <th>p_0</th>\n",
       "      <th>p_1</th>\n",
       "      <th>total_actual</th>\n",
       "    </tr>\n",
       "  </thead>\n",
       "  <tbody>\n",
       "    <tr>\n",
       "      <th>a_0</th>\n",
       "      <td>97</td>\n",
       "      <td>6</td>\n",
       "      <td>103</td>\n",
       "    </tr>\n",
       "    <tr>\n",
       "      <th>a_1</th>\n",
       "      <td>19</td>\n",
       "      <td>18</td>\n",
       "      <td>37</td>\n",
       "    </tr>\n",
       "    <tr>\n",
       "      <th>total_prediction</th>\n",
       "      <td>116</td>\n",
       "      <td>24</td>\n",
       "      <td>140</td>\n",
       "    </tr>\n",
       "  </tbody>\n",
       "</table>\n",
       "</div>"
      ],
      "text/plain": [
       "                  p_0  p_1  total_actual\n",
       "a_0                97    6           103\n",
       "a_1                19   18            37\n",
       "total_prediction  116   24           140"
      ]
     },
     "execution_count": 55,
     "metadata": {},
     "output_type": "execute_result"
    }
   ],
   "source": [
    "make_confusion_matrix(confusion_matrix(y_test, y_pred049))"
   ]
  },
  {
   "cell_type": "code",
   "execution_count": 56,
   "metadata": {},
   "outputs": [
    {
     "name": "stdout",
     "output_type": "stream",
     "text": [
      "ratio nasabah yang memberikan keuntungan: 83.62068965517241\n",
      "ratio nasabah yang memberikan kerugian: 16.379310344827587\n",
      "ratio nasabah yang tidak jadi memberikan keuntungan: 25.0\n",
      "ratio kerugian yang dapat dihindari: 75.0\n"
     ]
    }
   ],
   "source": [
    "print('ratio nasabah yang memberikan keuntungan:', 97/116*100)\n",
    "print('ratio nasabah yang memberikan kerugian:', 19/116*100)\n",
    "print('ratio nasabah yang tidak jadi memberikan keuntungan:', 6/24*100)\n",
    "print('ratio kerugian yang dapat dihindari:', 18/24*100)"
   ]
  },
  {
   "cell_type": "code",
   "execution_count": 57,
   "metadata": {},
   "outputs": [
    {
     "data": {
      "text/html": [
       "<div>\n",
       "<style scoped>\n",
       "    .dataframe tbody tr th:only-of-type {\n",
       "        vertical-align: middle;\n",
       "    }\n",
       "\n",
       "    .dataframe tbody tr th {\n",
       "        vertical-align: top;\n",
       "    }\n",
       "\n",
       "    .dataframe thead th {\n",
       "        text-align: right;\n",
       "    }\n",
       "</style>\n",
       "<table border=\"1\" class=\"dataframe\">\n",
       "  <thead>\n",
       "    <tr style=\"text-align: right;\">\n",
       "      <th></th>\n",
       "      <th>p_0</th>\n",
       "      <th>p_1</th>\n",
       "      <th>total_actual</th>\n",
       "    </tr>\n",
       "  </thead>\n",
       "  <tbody>\n",
       "    <tr>\n",
       "      <th>a_0</th>\n",
       "      <td>43</td>\n",
       "      <td>60</td>\n",
       "      <td>103</td>\n",
       "    </tr>\n",
       "    <tr>\n",
       "      <th>a_1</th>\n",
       "      <td>1</td>\n",
       "      <td>36</td>\n",
       "      <td>37</td>\n",
       "    </tr>\n",
       "    <tr>\n",
       "      <th>total_prediction</th>\n",
       "      <td>44</td>\n",
       "      <td>96</td>\n",
       "      <td>140</td>\n",
       "    </tr>\n",
       "  </tbody>\n",
       "</table>\n",
       "</div>"
      ],
      "text/plain": [
       "                  p_0  p_1  total_actual\n",
       "a_0                43   60           103\n",
       "a_1                 1   36            37\n",
       "total_prediction   44   96           140"
      ]
     },
     "execution_count": 57,
     "metadata": {},
     "output_type": "execute_result"
    }
   ],
   "source": [
    "make_confusion_matrix(confusion_matrix(y_test, y_pred_009))"
   ]
  },
  {
   "cell_type": "markdown",
   "metadata": {},
   "source": [
    "> ## Simple Hyperprameter Tuning"
   ]
  },
  {
   "cell_type": "markdown",
   "metadata": {},
   "source": [
    "![image.png](data:image/png;base64,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)"
   ]
  },
  {
   "cell_type": "markdown",
   "metadata": {},
   "source": [
    "![image.png](data:image/png;base64,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)"
   ]
  },
  {
   "cell_type": "code",
   "execution_count": 58,
   "metadata": {},
   "outputs": [],
   "source": [
    "from sklearn.metrics import f1_score"
   ]
  },
  {
   "cell_type": "code",
   "execution_count": 59,
   "metadata": {},
   "outputs": [],
   "source": [
    "X_train, X_val, y_train, y_val = train_test_split(X_train_val, y_train_val, stratify = y_train_val, test_size=.25, random_state=2020) "
   ]
  },
  {
   "cell_type": "code",
   "execution_count": 60,
   "metadata": {},
   "outputs": [],
   "source": [
    "hyperparam_c = [1000, 500, 100, 50, 10, 5, 1, 0.5, 0.1, 0.05, 0.01, 0.005, 0.001, 0.0005, 0.0001]\n",
    "skfold = StratifiedKFold(n_splits=5)\n",
    "\n",
    "best_score = 0\n",
    "cv_score_validation_fold = []\n",
    "\n",
    "for i in hyperparam_c:\n",
    "    logreg = LogisticRegression(C=i, solver='liblinear', random_state=2020)\n",
    "    cv_score = cross_val_score(logreg, X_train_val, y_train_val, cv = skfold, scoring='f1').mean()\n",
    "    cv_score_validation_fold.append(cv_score)\n",
    "    \n",
    "    if cv_score > best_score:\n",
    "        best_score = cv_score\n",
    "        best_params = {'C':i}"
   ]
  },
  {
   "cell_type": "code",
   "execution_count": 61,
   "metadata": {},
   "outputs": [
    {
     "name": "stdout",
     "output_type": "stream",
     "text": [
      "best score 0.5563225088777649\n",
      "best params {'C': 0.05}\n"
     ]
    }
   ],
   "source": [
    "print('best score', best_score)\n",
    "print('best params', best_params)"
   ]
  },
  {
   "cell_type": "code",
   "execution_count": 62,
   "metadata": {},
   "outputs": [],
   "source": [
    "hyperparam_c = [1000, 500, 100, 50, 10, 5, 1, 0.5, 0.1, 0.05, 0.01, 0.005, 0.001, 0.0005, 0.0001]\n",
    "\n",
    "training_score = []\n",
    "val_score = []\n",
    "\n",
    "for i in hyperparam_c:\n",
    "    logreg = LogisticRegression(C=i, solver='liblinear', random_state=2020)\n",
    "    logreg.fit(X_train, y_train)\n",
    "    \n",
    "    y_predict_train = logreg.predict(X_train)\n",
    "    training_score.append(f1_score(y_train, y_predict_train))\n",
    "    \n",
    "    y_predict_val = logreg.predict(X_val)\n",
    "    val_score.append(f1_score(y_val, y_predict_val))"
   ]
  },
  {
   "cell_type": "code",
   "execution_count": 63,
   "metadata": {},
   "outputs": [
    {
     "data": {
      "image/png": "[encoded data removed]",
      "text/plain": [
       "<Figure size 1080x360 with 1 Axes>"
      ]
     },
     "metadata": {
      "needs_background": "light"
     },
     "output_type": "display_data"
    }
   ],
   "source": [
    "length = range(len(hyperparam_c))\n",
    "\n",
    "plt.figure(figsize=(15,5))\n",
    "sns.lineplot(length, val_score)\n",
    "sns.lineplot(length, training_score)\n",
    "sns.lineplot(length, cv_score_validation_fold)\n",
    "plt.legend(['validation', 'training', 'cv score'])\n",
    "plt.xticks(length,hyperparam_c)\n",
    "plt.grid()\n",
    "plt.show()"
   ]
  },
  {
   "cell_type": "markdown",
   "metadata": {},
   "source": [
    "> ## Final Result Comparison : Simple Hyperparameter Tuning"
   ]
  },
  {
   "cell_type": "code",
   "execution_count": 64,
   "metadata": {},
   "outputs": [
    {
     "name": "stdout",
     "output_type": "stream",
     "text": [
      "              precision    recall  f1-score   support\n",
      "\n",
      "           0       0.84      0.95      0.89       103\n",
      "           1       0.78      0.49      0.60        37\n",
      "\n",
      "    accuracy                           0.83       140\n",
      "   macro avg       0.81      0.72      0.75       140\n",
      "weighted avg       0.82      0.83      0.81       140\n",
      "\n"
     ]
    }
   ],
   "source": [
    "logreg = LogisticRegression(solver='liblinear')\n",
    "logreg.fit(X_train_val, y_train_val)\n",
    "y_pred = logreg.predict(X_test)\n",
    "print(classification_report(y_test, y_pred))"
   ]
  },
  {
   "cell_type": "code",
   "execution_count": 65,
   "metadata": {},
   "outputs": [
    {
     "data": {
      "text/plain": [
       "<sklearn.metrics._plot.roc_curve.RocCurveDisplay at 0x23705ad2dc0>"
      ]
     },
     "execution_count": 65,
     "metadata": {},
     "output_type": "execute_result"
    },
    {
     "data": {
      "image/png": "[encoded data removed]",
      "text/plain": [
       "<Figure size 432x288 with 1 Axes>"
      ]
     },
     "metadata": {
      "needs_background": "light"
     },
     "output_type": "display_data"
    }
   ],
   "source": [
    "plot_roc_curve(logreg, X_test, y_test)"
   ]
  },
  {
   "cell_type": "code",
   "execution_count": 66,
   "metadata": {},
   "outputs": [
    {
     "data": {
      "text/plain": [
       "<sklearn.metrics._plot.precision_recall_curve.PrecisionRecallDisplay at 0x23705bda5b0>"
      ]
     },
     "execution_count": 66,
     "metadata": {},
     "output_type": "execute_result"
    },
    {
     "data": {
      "image/png": "[encoded data removed]",
      "text/plain": [
       "<Figure size 432x288 with 1 Axes>"
      ]
     },
     "metadata": {
      "needs_background": "light"
     },
     "output_type": "display_data"
    }
   ],
   "source": [
    "plot_precision_recall_curve(logreg, X_test, y_test)"
   ]
  },
  {
   "cell_type": "code",
   "execution_count": 67,
   "metadata": {},
   "outputs": [
    {
     "name": "stdout",
     "output_type": "stream",
     "text": [
      "              precision    recall  f1-score   support\n",
      "\n",
      "           0       0.84      0.91      0.87       103\n",
      "           1       0.68      0.51      0.58        37\n",
      "\n",
      "    accuracy                           0.81       140\n",
      "   macro avg       0.76      0.71      0.73       140\n",
      "weighted avg       0.80      0.81      0.80       140\n",
      "\n"
     ]
    }
   ],
   "source": [
    "logreg = LogisticRegression(solver='liblinear', C=0.05)\n",
    "logreg.fit(X_train_val, y_train_val)\n",
    "y_pred = logreg.predict(X_test)\n",
    "print(classification_report(y_test, y_pred))"
   ]
  },
  {
   "cell_type": "code",
   "execution_count": 68,
   "metadata": {},
   "outputs": [
    {
     "data": {
      "text/plain": [
       "<sklearn.metrics._plot.roc_curve.RocCurveDisplay at 0x23705bfb130>"
      ]
     },
     "execution_count": 68,
     "metadata": {},
     "output_type": "execute_result"
    },
    {
     "data": {
      "image/png": "[encoded data removed]",
      "text/plain": [
       "<Figure size 432x288 with 1 Axes>"
      ]
     },
     "metadata": {
      "needs_background": "light"
     },
     "output_type": "display_data"
    }
   ],
   "source": [
    "plot_roc_curve(logreg, X_test, y_test)"
   ]
  },
  {
   "cell_type": "code",
   "execution_count": 69,
   "metadata": {},
   "outputs": [
    {
     "data": {
      "text/plain": [
       "<sklearn.metrics._plot.precision_recall_curve.PrecisionRecallDisplay at 0x23705c6e310>"
      ]
     },
     "execution_count": 69,
     "metadata": {},
     "output_type": "execute_result"
    },
    {
     "data": {
      "image/png": "[encoded data removed]",
      "text/plain": [
       "<Figure size 432x288 with 1 Axes>"
      ]
     },
     "metadata": {
      "needs_background": "light"
     },
     "output_type": "display_data"
    }
   ],
   "source": [
    "plot_precision_recall_curve(logreg, X_test, y_test)"
   ]
  },
  {
   "cell_type": "markdown",
   "metadata": {},
   "source": [
    "In term of f1 score, your model performance decrease after hyperparameter tuning. This can be happen because :\n",
    "1. the improvement in the cross validation score is insignificant\n",
    "1. your choice of hyperparameter resulted in overfitting/unstable model\n",
    "\n",
    "Solution :\n",
    "1. changes the model\n",
    "1. more feature engineering\n",
    "1. add another hyperprameter, (we are gonna try this)"
   ]
  },
  {
   "cell_type": "markdown",
   "metadata": {},
   "source": [
    "> ## Grid Search Hyperparameter Tuning"
   ]
  },
  {
   "cell_type": "markdown",
   "metadata": {},
   "source": [
    "![image.png](data:image/png;base64,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)"
   ]
  },
  {
   "cell_type": "code",
   "execution_count": 70,
   "metadata": {},
   "outputs": [],
   "source": [
    "from sklearn.model_selection import GridSearchCV"
   ]
  },
  {
   "cell_type": "code",
   "execution_count": 71,
   "metadata": {},
   "outputs": [
    {
     "data": {
      "text/plain": [
       "{'C': 1.0,\n",
       " 'class_weight': None,\n",
       " 'dual': False,\n",
       " 'fit_intercept': True,\n",
       " 'intercept_scaling': 1,\n",
       " 'l1_ratio': None,\n",
       " 'max_iter': 100,\n",
       " 'multi_class': 'auto',\n",
       " 'n_jobs': None,\n",
       " 'penalty': 'l2',\n",
       " 'random_state': None,\n",
       " 'solver': 'lbfgs',\n",
       " 'tol': 0.0001,\n",
       " 'verbose': 0,\n",
       " 'warm_start': False}"
      ]
     },
     "execution_count": 71,
     "metadata": {},
     "output_type": "execute_result"
    }
   ],
   "source": [
    "LogisticRegression().get_params()"
   ]
  },
  {
   "cell_type": "code",
   "execution_count": 72,
   "metadata": {},
   "outputs": [],
   "source": [
    "hyperparam_space = {\n",
    "     'C':[1000, 500, 100, 50, 10, 5, 1, 0.5, 0.1, 0.05, 0.01, 0.005, 0.001, 0.0005, 0.0001], # benck mark 1 C = 1 bench mark 2 C = 0.05\n",
    "    'max_iter':[100, 200, 300, 400, 500, 1000] # bench mark max_iter = 100\n",
    "}"
   ]
  },
  {
   "cell_type": "markdown",
   "metadata": {},
   "source": [
    "1. C  15 hyperparameters\n",
    "1. max_iter 6\n",
    "1. CV 5 fold\n",
    "<br>\n",
    "so, this step will train model 15*6*5 = 450 times "
   ]
  },
  {
   "cell_type": "code",
   "execution_count": 73,
   "metadata": {},
   "outputs": [],
   "source": [
    "skfold = StratifiedKFold(n_splits=5)\n",
    "\n",
    "logreg = LogisticRegression(solver='liblinear', random_state=2020)\n",
    "\n",
    "grid_search = GridSearchCV(\n",
    "    logreg, # model\n",
    "    param_grid = hyperparam_space, # pilihan hyperaparameter\n",
    "    cv = skfold,\n",
    "    scoring='f1',\n",
    "    n_jobs=-1,\n",
    "    verbose = 1\n",
    ")"
   ]
  },
  {
   "cell_type": "code",
   "execution_count": 74,
   "metadata": {},
   "outputs": [
    {
     "name": "stdout",
     "output_type": "stream",
     "text": [
      "Fitting 5 folds for each of 90 candidates, totalling 450 fits\n"
     ]
    },
    {
     "name": "stderr",
     "output_type": "stream",
     "text": [
      "[Parallel(n_jobs=-1)]: Using backend LokyBackend with 12 concurrent workers.\n",
      "[Parallel(n_jobs=-1)]: Done  26 tasks      | elapsed:    3.8s\n",
      "[Parallel(n_jobs=-1)]: Done 427 out of 450 | elapsed:    4.7s remaining:    0.2s\n",
      "[Parallel(n_jobs=-1)]: Done 450 out of 450 | elapsed:    4.8s finished\n"
     ]
    },
    {
     "data": {
      "text/plain": [
       "GridSearchCV(cv=StratifiedKFold(n_splits=5, random_state=None, shuffle=False),\n",
       "             estimator=LogisticRegression(random_state=2020,\n",
       "                                          solver='liblinear'),\n",
       "             n_jobs=-1,\n",
       "             param_grid={'C': [1000, 500, 100, 50, 10, 5, 1, 0.5, 0.1, 0.05,\n",
       "                               0.01, 0.005, 0.001, 0.0005, 0.0001],\n",
       "                         'max_iter': [100, 200, 300, 400, 500, 1000]},\n",
       "             scoring='f1', verbose=1)"
      ]
     },
     "execution_count": 74,
     "metadata": {},
     "output_type": "execute_result"
    }
   ],
   "source": [
    "grid_search.fit(X_train_val, y_train_val)"
   ]
  },
  {
   "cell_type": "code",
   "execution_count": 75,
   "metadata": {},
   "outputs": [
    {
     "name": "stdout",
     "output_type": "stream",
     "text": [
      "best score 0.5563225088777649\n",
      "best params {'C': 0.05, 'max_iter': 100}\n"
     ]
    }
   ],
   "source": [
    "print('best score', grid_search.best_score_)\n",
    "print('best params', grid_search.best_params_)"
   ]
  },
  {
   "cell_type": "code",
   "execution_count": 76,
   "metadata": {},
   "outputs": [
    {
     "data": {
      "text/html": [
       "<div>\n",
       "<style scoped>\n",
       "    .dataframe tbody tr th:only-of-type {\n",
       "        vertical-align: middle;\n",
       "    }\n",
       "\n",
       "    .dataframe tbody tr th {\n",
       "        vertical-align: top;\n",
       "    }\n",
       "\n",
       "    .dataframe thead th {\n",
       "        text-align: right;\n",
       "    }\n",
       "</style>\n",
       "<table border=\"1\" class=\"dataframe\">\n",
       "  <thead>\n",
       "    <tr style=\"text-align: right;\">\n",
       "      <th></th>\n",
       "      <th>mean_fit_time</th>\n",
       "      <th>std_fit_time</th>\n",
       "      <th>mean_score_time</th>\n",
       "      <th>std_score_time</th>\n",
       "      <th>param_C</th>\n",
       "      <th>param_max_iter</th>\n",
       "      <th>params</th>\n",
       "      <th>split0_test_score</th>\n",
       "      <th>split1_test_score</th>\n",
       "      <th>split2_test_score</th>\n",
       "      <th>split3_test_score</th>\n",
       "      <th>split4_test_score</th>\n",
       "      <th>mean_test_score</th>\n",
       "      <th>std_test_score</th>\n",
       "      <th>rank_test_score</th>\n",
       "    </tr>\n",
       "  </thead>\n",
       "  <tbody>\n",
       "    <tr>\n",
       "      <th>59</th>\n",
       "      <td>0.012203</td>\n",
       "      <td>0.003141</td>\n",
       "      <td>0.007241</td>\n",
       "      <td>0.001439</td>\n",
       "      <td>0.05</td>\n",
       "      <td>1000</td>\n",
       "      <td>{'C': 0.05, 'max_iter': 1000}</td>\n",
       "      <td>0.528302</td>\n",
       "      <td>0.530612</td>\n",
       "      <td>0.607143</td>\n",
       "      <td>0.56</td>\n",
       "      <td>0.555556</td>\n",
       "      <td>0.556323</td>\n",
       "      <td>0.028436</td>\n",
       "      <td>1</td>\n",
       "    </tr>\n",
       "    <tr>\n",
       "      <th>57</th>\n",
       "      <td>0.015734</td>\n",
       "      <td>0.009945</td>\n",
       "      <td>0.011051</td>\n",
       "      <td>0.005558</td>\n",
       "      <td>0.05</td>\n",
       "      <td>400</td>\n",
       "      <td>{'C': 0.05, 'max_iter': 400}</td>\n",
       "      <td>0.528302</td>\n",
       "      <td>0.530612</td>\n",
       "      <td>0.607143</td>\n",
       "      <td>0.56</td>\n",
       "      <td>0.555556</td>\n",
       "      <td>0.556323</td>\n",
       "      <td>0.028436</td>\n",
       "      <td>1</td>\n",
       "    </tr>\n",
       "    <tr>\n",
       "      <th>56</th>\n",
       "      <td>0.010902</td>\n",
       "      <td>0.001947</td>\n",
       "      <td>0.013140</td>\n",
       "      <td>0.005037</td>\n",
       "      <td>0.05</td>\n",
       "      <td>300</td>\n",
       "      <td>{'C': 0.05, 'max_iter': 300}</td>\n",
       "      <td>0.528302</td>\n",
       "      <td>0.530612</td>\n",
       "      <td>0.607143</td>\n",
       "      <td>0.56</td>\n",
       "      <td>0.555556</td>\n",
       "      <td>0.556323</td>\n",
       "      <td>0.028436</td>\n",
       "      <td>1</td>\n",
       "    </tr>\n",
       "    <tr>\n",
       "      <th>55</th>\n",
       "      <td>0.008824</td>\n",
       "      <td>0.000775</td>\n",
       "      <td>0.007673</td>\n",
       "      <td>0.000689</td>\n",
       "      <td>0.05</td>\n",
       "      <td>200</td>\n",
       "      <td>{'C': 0.05, 'max_iter': 200}</td>\n",
       "      <td>0.528302</td>\n",
       "      <td>0.530612</td>\n",
       "      <td>0.607143</td>\n",
       "      <td>0.56</td>\n",
       "      <td>0.555556</td>\n",
       "      <td>0.556323</td>\n",
       "      <td>0.028436</td>\n",
       "      <td>1</td>\n",
       "    </tr>\n",
       "    <tr>\n",
       "      <th>54</th>\n",
       "      <td>0.009184</td>\n",
       "      <td>0.000783</td>\n",
       "      <td>0.006360</td>\n",
       "      <td>0.000769</td>\n",
       "      <td>0.05</td>\n",
       "      <td>100</td>\n",
       "      <td>{'C': 0.05, 'max_iter': 100}</td>\n",
       "      <td>0.528302</td>\n",
       "      <td>0.530612</td>\n",
       "      <td>0.607143</td>\n",
       "      <td>0.56</td>\n",
       "      <td>0.555556</td>\n",
       "      <td>0.556323</td>\n",
       "      <td>0.028436</td>\n",
       "      <td>1</td>\n",
       "    </tr>\n",
       "    <tr>\n",
       "      <th>...</th>\n",
       "      <td>...</td>\n",
       "      <td>...</td>\n",
       "      <td>...</td>\n",
       "      <td>...</td>\n",
       "      <td>...</td>\n",
       "      <td>...</td>\n",
       "      <td>...</td>\n",
       "      <td>...</td>\n",
       "      <td>...</td>\n",
       "      <td>...</td>\n",
       "      <td>...</td>\n",
       "      <td>...</td>\n",
       "      <td>...</td>\n",
       "      <td>...</td>\n",
       "      <td>...</td>\n",
       "    </tr>\n",
       "    <tr>\n",
       "      <th>84</th>\n",
       "      <td>0.016931</td>\n",
       "      <td>0.005967</td>\n",
       "      <td>0.007464</td>\n",
       "      <td>0.001983</td>\n",
       "      <td>0.0001</td>\n",
       "      <td>100</td>\n",
       "      <td>{'C': 0.0001, 'max_iter': 100}</td>\n",
       "      <td>0.000000</td>\n",
       "      <td>0.235294</td>\n",
       "      <td>0.000000</td>\n",
       "      <td>0.00</td>\n",
       "      <td>0.000000</td>\n",
       "      <td>0.047059</td>\n",
       "      <td>0.094118</td>\n",
       "      <td>85</td>\n",
       "    </tr>\n",
       "    <tr>\n",
       "      <th>85</th>\n",
       "      <td>0.010284</td>\n",
       "      <td>0.001202</td>\n",
       "      <td>0.006476</td>\n",
       "      <td>0.000907</td>\n",
       "      <td>0.0001</td>\n",
       "      <td>200</td>\n",
       "      <td>{'C': 0.0001, 'max_iter': 200}</td>\n",
       "      <td>0.000000</td>\n",
       "      <td>0.235294</td>\n",
       "      <td>0.000000</td>\n",
       "      <td>0.00</td>\n",
       "      <td>0.000000</td>\n",
       "      <td>0.047059</td>\n",
       "      <td>0.094118</td>\n",
       "      <td>85</td>\n",
       "    </tr>\n",
       "    <tr>\n",
       "      <th>86</th>\n",
       "      <td>0.008999</td>\n",
       "      <td>0.000963</td>\n",
       "      <td>0.006666</td>\n",
       "      <td>0.001817</td>\n",
       "      <td>0.0001</td>\n",
       "      <td>300</td>\n",
       "      <td>{'C': 0.0001, 'max_iter': 300}</td>\n",
       "      <td>0.000000</td>\n",
       "      <td>0.235294</td>\n",
       "      <td>0.000000</td>\n",
       "      <td>0.00</td>\n",
       "      <td>0.000000</td>\n",
       "      <td>0.047059</td>\n",
       "      <td>0.094118</td>\n",
       "      <td>85</td>\n",
       "    </tr>\n",
       "    <tr>\n",
       "      <th>87</th>\n",
       "      <td>0.011456</td>\n",
       "      <td>0.004293</td>\n",
       "      <td>0.007839</td>\n",
       "      <td>0.002182</td>\n",
       "      <td>0.0001</td>\n",
       "      <td>400</td>\n",
       "      <td>{'C': 0.0001, 'max_iter': 400}</td>\n",
       "      <td>0.000000</td>\n",
       "      <td>0.235294</td>\n",
       "      <td>0.000000</td>\n",
       "      <td>0.00</td>\n",
       "      <td>0.000000</td>\n",
       "      <td>0.047059</td>\n",
       "      <td>0.094118</td>\n",
       "      <td>85</td>\n",
       "    </tr>\n",
       "    <tr>\n",
       "      <th>89</th>\n",
       "      <td>0.009224</td>\n",
       "      <td>0.001667</td>\n",
       "      <td>0.005530</td>\n",
       "      <td>0.001222</td>\n",
       "      <td>0.0001</td>\n",
       "      <td>1000</td>\n",
       "      <td>{'C': 0.0001, 'max_iter': 1000}</td>\n",
       "      <td>0.000000</td>\n",
       "      <td>0.235294</td>\n",
       "      <td>0.000000</td>\n",
       "      <td>0.00</td>\n",
       "      <td>0.000000</td>\n",
       "      <td>0.047059</td>\n",
       "      <td>0.094118</td>\n",
       "      <td>85</td>\n",
       "    </tr>\n",
       "  </tbody>\n",
       "</table>\n",
       "<p>90 rows × 15 columns</p>\n",
       "</div>"
      ],
      "text/plain": [
       "    mean_fit_time  std_fit_time  mean_score_time  std_score_time param_C  \\\n",
       "59       0.012203      0.003141         0.007241        0.001439    0.05   \n",
       "57       0.015734      0.009945         0.011051        0.005558    0.05   \n",
       "56       0.010902      0.001947         0.013140        0.005037    0.05   \n",
       "55       0.008824      0.000775         0.007673        0.000689    0.05   \n",
       "54       0.009184      0.000783         0.006360        0.000769    0.05   \n",
       "..            ...           ...              ...             ...     ...   \n",
       "84       0.016931      0.005967         0.007464        0.001983  0.0001   \n",
       "85       0.010284      0.001202         0.006476        0.000907  0.0001   \n",
       "86       0.008999      0.000963         0.006666        0.001817  0.0001   \n",
       "87       0.011456      0.004293         0.007839        0.002182  0.0001   \n",
       "89       0.009224      0.001667         0.005530        0.001222  0.0001   \n",
       "\n",
       "   param_max_iter                           params  split0_test_score  \\\n",
       "59           1000    {'C': 0.05, 'max_iter': 1000}           0.528302   \n",
       "57            400     {'C': 0.05, 'max_iter': 400}           0.528302   \n",
       "56            300     {'C': 0.05, 'max_iter': 300}           0.528302   \n",
       "55            200     {'C': 0.05, 'max_iter': 200}           0.528302   \n",
       "54            100     {'C': 0.05, 'max_iter': 100}           0.528302   \n",
       "..            ...                              ...                ...   \n",
       "84            100   {'C': 0.0001, 'max_iter': 100}           0.000000   \n",
       "85            200   {'C': 0.0001, 'max_iter': 200}           0.000000   \n",
       "86            300   {'C': 0.0001, 'max_iter': 300}           0.000000   \n",
       "87            400   {'C': 0.0001, 'max_iter': 400}           0.000000   \n",
       "89           1000  {'C': 0.0001, 'max_iter': 1000}           0.000000   \n",
       "\n",
       "    split1_test_score  split2_test_score  split3_test_score  \\\n",
       "59           0.530612           0.607143               0.56   \n",
       "57           0.530612           0.607143               0.56   \n",
       "56           0.530612           0.607143               0.56   \n",
       "55           0.530612           0.607143               0.56   \n",
       "54           0.530612           0.607143               0.56   \n",
       "..                ...                ...                ...   \n",
       "84           0.235294           0.000000               0.00   \n",
       "85           0.235294           0.000000               0.00   \n",
       "86           0.235294           0.000000               0.00   \n",
       "87           0.235294           0.000000               0.00   \n",
       "89           0.235294           0.000000               0.00   \n",
       "\n",
       "    split4_test_score  mean_test_score  std_test_score  rank_test_score  \n",
       "59           0.555556         0.556323        0.028436                1  \n",
       "57           0.555556         0.556323        0.028436                1  \n",
       "56           0.555556         0.556323        0.028436                1  \n",
       "55           0.555556         0.556323        0.028436                1  \n",
       "54           0.555556         0.556323        0.028436                1  \n",
       "..                ...              ...             ...              ...  \n",
       "84           0.000000         0.047059        0.094118               85  \n",
       "85           0.000000         0.047059        0.094118               85  \n",
       "86           0.000000         0.047059        0.094118               85  \n",
       "87           0.000000         0.047059        0.094118               85  \n",
       "89           0.000000         0.047059        0.094118               85  \n",
       "\n",
       "[90 rows x 15 columns]"
      ]
     },
     "execution_count": 76,
     "metadata": {},
     "output_type": "execute_result"
    }
   ],
   "source": [
    "report_grid = pd.DataFrame(grid_search.cv_results_).sort_values('rank_test_score', ascending=True)\n",
    "report_grid"
   ]
  },
  {
   "cell_type": "markdown",
   "metadata": {},
   "source": [
    "This method still resulted in C = 0.05 max_iter = 100 which is basically the same. so no effect in adding max_iter. you can use another method or more FE. "
   ]
  },
  {
   "cell_type": "markdown",
   "metadata": {},
   "source": [
    "# Model Performance and Evaluation Method : tips dataset"
   ]
  },
  {
   "cell_type": "code",
   "execution_count": 77,
   "metadata": {},
   "outputs": [
    {
     "data": {
      "text/html": [
       "<div>\n",
       "<style scoped>\n",
       "    .dataframe tbody tr th:only-of-type {\n",
       "        vertical-align: middle;\n",
       "    }\n",
       "\n",
       "    .dataframe tbody tr th {\n",
       "        vertical-align: top;\n",
       "    }\n",
       "\n",
       "    .dataframe thead th {\n",
       "        text-align: right;\n",
       "    }\n",
       "</style>\n",
       "<table border=\"1\" class=\"dataframe\">\n",
       "  <thead>\n",
       "    <tr style=\"text-align: right;\">\n",
       "      <th></th>\n",
       "      <th>total_bill</th>\n",
       "      <th>tip</th>\n",
       "      <th>sex</th>\n",
       "      <th>smoker</th>\n",
       "      <th>day</th>\n",
       "      <th>time</th>\n",
       "      <th>size</th>\n",
       "    </tr>\n",
       "  </thead>\n",
       "  <tbody>\n",
       "    <tr>\n",
       "      <th>0</th>\n",
       "      <td>16.99</td>\n",
       "      <td>1.01</td>\n",
       "      <td>Female</td>\n",
       "      <td>No</td>\n",
       "      <td>Sun</td>\n",
       "      <td>Dinner</td>\n",
       "      <td>2</td>\n",
       "    </tr>\n",
       "    <tr>\n",
       "      <th>1</th>\n",
       "      <td>10.34</td>\n",
       "      <td>1.66</td>\n",
       "      <td>Male</td>\n",
       "      <td>No</td>\n",
       "      <td>Sun</td>\n",
       "      <td>Dinner</td>\n",
       "      <td>3</td>\n",
       "    </tr>\n",
       "    <tr>\n",
       "      <th>2</th>\n",
       "      <td>21.01</td>\n",
       "      <td>3.50</td>\n",
       "      <td>Male</td>\n",
       "      <td>No</td>\n",
       "      <td>Sun</td>\n",
       "      <td>Dinner</td>\n",
       "      <td>3</td>\n",
       "    </tr>\n",
       "    <tr>\n",
       "      <th>3</th>\n",
       "      <td>23.68</td>\n",
       "      <td>3.31</td>\n",
       "      <td>Male</td>\n",
       "      <td>No</td>\n",
       "      <td>Sun</td>\n",
       "      <td>Dinner</td>\n",
       "      <td>2</td>\n",
       "    </tr>\n",
       "    <tr>\n",
       "      <th>4</th>\n",
       "      <td>24.59</td>\n",
       "      <td>3.61</td>\n",
       "      <td>Female</td>\n",
       "      <td>No</td>\n",
       "      <td>Sun</td>\n",
       "      <td>Dinner</td>\n",
       "      <td>4</td>\n",
       "    </tr>\n",
       "  </tbody>\n",
       "</table>\n",
       "</div>"
      ],
      "text/plain": [
       "   total_bill   tip     sex smoker  day    time  size\n",
       "0       16.99  1.01  Female     No  Sun  Dinner     2\n",
       "1       10.34  1.66    Male     No  Sun  Dinner     3\n",
       "2       21.01  3.50    Male     No  Sun  Dinner     3\n",
       "3       23.68  3.31    Male     No  Sun  Dinner     2\n",
       "4       24.59  3.61  Female     No  Sun  Dinner     4"
      ]
     },
     "execution_count": 77,
     "metadata": {},
     "output_type": "execute_result"
    }
   ],
   "source": [
    "tips = sns.load_dataset('tips')\n",
    "tips.head()"
   ]
  },
  {
   "cell_type": "code",
   "execution_count": 78,
   "metadata": {},
   "outputs": [
    {
     "data": {
      "text/plain": [
       "1.9066085124966428"
      ]
     },
     "execution_count": 78,
     "metadata": {},
     "output_type": "execute_result"
    }
   ],
   "source": [
    "np.var(tips['tip'])"
   ]
  },
  {
   "cell_type": "code",
   "execution_count": 79,
   "metadata": {},
   "outputs": [],
   "source": [
    "from sklearn.tree import DecisionTreeRegressor\n",
    "from sklearn.linear_model import LinearRegression\n",
    "from sklearn.metrics import mean_squared_error"
   ]
  },
  {
   "cell_type": "code",
   "execution_count": 80,
   "metadata": {},
   "outputs": [],
   "source": [
    "X = pd.get_dummies(tips.drop('tip', axis=1))\n",
    "y = tips['tip']"
   ]
  },
  {
   "cell_type": "markdown",
   "metadata": {},
   "source": [
    "![image.png](data:image/png;base64,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)"
   ]
  },
  {
   "cell_type": "code",
   "execution_count": 81,
   "metadata": {},
   "outputs": [],
   "source": [
    "X_train_val, X_test, y_train_val, y_test = train_test_split(X, y, test_size=0.2, random_state=2020)"
   ]
  },
  {
   "cell_type": "markdown",
   "metadata": {},
   "source": [
    "![image.png](data:image/png;base64,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)"
   ]
  },
  {
   "cell_type": "markdown",
   "metadata": {},
   "source": [
    "> ## Model Evaluation : Benchmark"
   ]
  },
  {
   "cell_type": "code",
   "execution_count": 82,
   "metadata": {},
   "outputs": [],
   "source": [
    "dtr = DecisionTreeRegressor(criterion='mse', max_depth=5, random_state=2020)\n",
    "linreg = LinearRegression()"
   ]
  },
  {
   "cell_type": "code",
   "execution_count": 83,
   "metadata": {},
   "outputs": [],
   "source": [
    "from sklearn.metrics import SCORERS"
   ]
  },
  {
   "cell_type": "code",
   "execution_count": 84,
   "metadata": {},
   "outputs": [
    {
     "data": {
      "text/plain": [
       "{'explained_variance': make_scorer(explained_variance_score),\n",
       " 'r2': make_scorer(r2_score),\n",
       " 'max_error': make_scorer(max_error, greater_is_better=False),\n",
       " 'neg_median_absolute_error': make_scorer(median_absolute_error, greater_is_better=False),\n",
       " 'neg_mean_absolute_error': make_scorer(mean_absolute_error, greater_is_better=False),\n",
       " 'neg_mean_squared_error': make_scorer(mean_squared_error, greater_is_better=False),\n",
       " 'neg_mean_squared_log_error': make_scorer(mean_squared_log_error, greater_is_better=False),\n",
       " 'neg_root_mean_squared_error': make_scorer(mean_squared_error, greater_is_better=False, squared=False),\n",
       " 'neg_mean_poisson_deviance': make_scorer(mean_poisson_deviance, greater_is_better=False),\n",
       " 'neg_mean_gamma_deviance': make_scorer(mean_gamma_deviance, greater_is_better=False),\n",
       " 'accuracy': make_scorer(accuracy_score),\n",
       " 'roc_auc': make_scorer(roc_auc_score, needs_threshold=True),\n",
       " 'roc_auc_ovr': make_scorer(roc_auc_score, needs_proba=True, multi_class=ovr),\n",
       " 'roc_auc_ovo': make_scorer(roc_auc_score, needs_proba=True, multi_class=ovo),\n",
       " 'roc_auc_ovr_weighted': make_scorer(roc_auc_score, needs_proba=True, multi_class=ovr, average=weighted),\n",
       " 'roc_auc_ovo_weighted': make_scorer(roc_auc_score, needs_proba=True, multi_class=ovo, average=weighted),\n",
       " 'balanced_accuracy': make_scorer(balanced_accuracy_score),\n",
       " 'average_precision': make_scorer(average_precision_score, needs_threshold=True),\n",
       " 'neg_log_loss': make_scorer(log_loss, greater_is_better=False, needs_proba=True),\n",
       " 'neg_brier_score': make_scorer(brier_score_loss, greater_is_better=False, needs_proba=True),\n",
       " 'adjusted_rand_score': make_scorer(adjusted_rand_score),\n",
       " 'homogeneity_score': make_scorer(homogeneity_score),\n",
       " 'completeness_score': make_scorer(completeness_score),\n",
       " 'v_measure_score': make_scorer(v_measure_score),\n",
       " 'mutual_info_score': make_scorer(mutual_info_score),\n",
       " 'adjusted_mutual_info_score': make_scorer(adjusted_mutual_info_score),\n",
       " 'normalized_mutual_info_score': make_scorer(normalized_mutual_info_score),\n",
       " 'fowlkes_mallows_score': make_scorer(fowlkes_mallows_score),\n",
       " 'precision': make_scorer(precision_score, average=binary),\n",
       " 'precision_macro': make_scorer(precision_score, pos_label=None, average=macro),\n",
       " 'precision_micro': make_scorer(precision_score, pos_label=None, average=micro),\n",
       " 'precision_samples': make_scorer(precision_score, pos_label=None, average=samples),\n",
       " 'precision_weighted': make_scorer(precision_score, pos_label=None, average=weighted),\n",
       " 'recall': make_scorer(recall_score, average=binary),\n",
       " 'recall_macro': make_scorer(recall_score, pos_label=None, average=macro),\n",
       " 'recall_micro': make_scorer(recall_score, pos_label=None, average=micro),\n",
       " 'recall_samples': make_scorer(recall_score, pos_label=None, average=samples),\n",
       " 'recall_weighted': make_scorer(recall_score, pos_label=None, average=weighted),\n",
       " 'f1': make_scorer(f1_score, average=binary),\n",
       " 'f1_macro': make_scorer(f1_score, pos_label=None, average=macro),\n",
       " 'f1_micro': make_scorer(f1_score, pos_label=None, average=micro),\n",
       " 'f1_samples': make_scorer(f1_score, pos_label=None, average=samples),\n",
       " 'f1_weighted': make_scorer(f1_score, pos_label=None, average=weighted),\n",
       " 'jaccard': make_scorer(jaccard_score, average=binary),\n",
       " 'jaccard_macro': make_scorer(jaccard_score, pos_label=None, average=macro),\n",
       " 'jaccard_micro': make_scorer(jaccard_score, pos_label=None, average=micro),\n",
       " 'jaccard_samples': make_scorer(jaccard_score, pos_label=None, average=samples),\n",
       " 'jaccard_weighted': make_scorer(jaccard_score, pos_label=None, average=weighted)}"
      ]
     },
     "execution_count": 84,
     "metadata": {},
     "output_type": "execute_result"
    }
   ],
   "source": [
    "SCORERS"
   ]
  },
  {
   "cell_type": "code",
   "execution_count": 85,
   "metadata": {},
   "outputs": [],
   "source": [
    "from sklearn.model_selection import cross_val_score\n",
    "import warnings"
   ]
  },
  {
   "cell_type": "code",
   "execution_count": 86,
   "metadata": {},
   "outputs": [],
   "source": [
    "model_cv = cross_val_score(dtr, X_train_val, y_train_val, scoring = 'neg_mean_squared_error')"
   ]
  },
  {
   "cell_type": "code",
   "execution_count": 87,
   "metadata": {},
   "outputs": [
    {
     "name": "stdout",
     "output_type": "stream",
     "text": [
      "CV Score [-1.0686013  -0.97814478 -1.77873212 -1.19898146 -1.19188762]\n",
      "CV Score Mean -1.2432694552627068\n",
      "CV Score Std 0.28004351146399903\n"
     ]
    }
   ],
   "source": [
    "print('CV Score', model_cv)\n",
    "print('CV Score Mean', model_cv.mean())\n",
    "print('CV Score Std', model_cv.std())"
   ]
  },
  {
   "cell_type": "code",
   "execution_count": 88,
   "metadata": {},
   "outputs": [],
   "source": [
    "model_cv = cross_val_score(dtr, X_train_val, y_train_val, scoring = 'neg_mean_absolute_error')"
   ]
  },
  {
   "cell_type": "code",
   "execution_count": 89,
   "metadata": {},
   "outputs": [
    {
     "name": "stdout",
     "output_type": "stream",
     "text": [
      "CV Score [-0.73195719 -0.68381064 -1.01868399 -0.69209663 -0.79268331]\n",
      "CV Score Mean -0.7838463528456446\n",
      "CV Score Std 0.12356734888182547\n"
     ]
    }
   ],
   "source": [
    "print('CV Score', model_cv)\n",
    "print('CV Score Mean', model_cv.mean())\n",
    "print('CV Score Std', model_cv.std())"
   ]
  },
  {
   "cell_type": "code",
   "execution_count": 90,
   "metadata": {},
   "outputs": [],
   "source": [
    "model_cv = cross_val_score(linreg, X_train_val, y_train_val, scoring = 'neg_mean_squared_error')"
   ]
  },
  {
   "cell_type": "code",
   "execution_count": 91,
   "metadata": {},
   "outputs": [
    {
     "name": "stdout",
     "output_type": "stream",
     "text": [
      "CV Score [-0.87304358 -0.84277215 -1.05989713 -1.77937311 -1.10502143]\n",
      "CV Score Mean -1.1320214803006683\n",
      "CV Score Std 0.3393316319526624\n"
     ]
    }
   ],
   "source": [
    "print('CV Score', model_cv)\n",
    "print('CV Score Mean', model_cv.mean())\n",
    "print('CV Score Std', model_cv.std())"
   ]
  },
  {
   "cell_type": "code",
   "execution_count": 92,
   "metadata": {},
   "outputs": [
    {
     "data": {
      "text/plain": [
       "{'ccp_alpha': 0.0,\n",
       " 'criterion': 'mse',\n",
       " 'max_depth': 5,\n",
       " 'max_features': None,\n",
       " 'max_leaf_nodes': None,\n",
       " 'min_impurity_decrease': 0.0,\n",
       " 'min_impurity_split': None,\n",
       " 'min_samples_leaf': 1,\n",
       " 'min_samples_split': 2,\n",
       " 'min_weight_fraction_leaf': 0.0,\n",
       " 'presort': 'deprecated',\n",
       " 'random_state': 2020,\n",
       " 'splitter': 'best'}"
      ]
     },
     "execution_count": 92,
     "metadata": {},
     "output_type": "execute_result"
    }
   ],
   "source": [
    "dtr.get_params()"
   ]
  },
  {
   "cell_type": "code",
   "execution_count": 93,
   "metadata": {},
   "outputs": [
    {
     "data": {
      "text/plain": [
       "LinearRegression()"
      ]
     },
     "execution_count": 93,
     "metadata": {},
     "output_type": "execute_result"
    }
   ],
   "source": [
    "linreg.fit(X_train_val, y_train_val)"
   ]
  },
  {
   "cell_type": "code",
   "execution_count": 94,
   "metadata": {},
   "outputs": [],
   "source": [
    "y_pred = linreg.predict(X_test)"
   ]
  },
  {
   "cell_type": "code",
   "execution_count": 95,
   "metadata": {},
   "outputs": [
    {
     "name": "stdout",
     "output_type": "stream",
     "text": [
      "1.2841834558989444\n"
     ]
    }
   ],
   "source": [
    "print(mean_squared_error(y_test, y_pred))"
   ]
  },
  {
   "cell_type": "code",
   "execution_count": 96,
   "metadata": {},
   "outputs": [
    {
     "data": {
      "text/plain": [
       "<matplotlib.axes._subplots.AxesSubplot at 0x23705ecdaf0>"
      ]
     },
     "execution_count": 96,
     "metadata": {},
     "output_type": "execute_result"
    },
    {
     "data": {
      "image/png": "[encoded data removed]",
      "text/plain": [
       "<Figure size 432x288 with 1 Axes>"
      ]
     },
     "metadata": {
      "needs_background": "light"
     },
     "output_type": "display_data"
    }
   ],
   "source": [
    "residual = y_test - y_pred\n",
    "\n",
    "sns.boxplot(residual)\n",
    "# plt.axhline(0)"
   ]
  },
  {
   "cell_type": "code",
   "execution_count": 97,
   "metadata": {},
   "outputs": [
    {
     "data": {
      "text/plain": [
       "DecisionTreeRegressor(max_depth=5, random_state=2020)"
      ]
     },
     "execution_count": 97,
     "metadata": {},
     "output_type": "execute_result"
    }
   ],
   "source": [
    "dtr.fit(X_train_val, y_train_val)"
   ]
  },
  {
   "cell_type": "code",
   "execution_count": 98,
   "metadata": {},
   "outputs": [],
   "source": [
    "y_pred = dtr.predict(X_test)"
   ]
  },
  {
   "cell_type": "code",
   "execution_count": 99,
   "metadata": {},
   "outputs": [
    {
     "data": {
      "text/plain": [
       "<matplotlib.axes._subplots.AxesSubplot at 0x23705d67160>"
      ]
     },
     "execution_count": 99,
     "metadata": {},
     "output_type": "execute_result"
    },
    {
     "data": {
      "image/png": "[encoded data removed]",
      "text/plain": [
       "<Figure size 432x288 with 1 Axes>"
      ]
     },
     "metadata": {
      "needs_background": "light"
     },
     "output_type": "display_data"
    }
   ],
   "source": [
    "residual = y_test - y_pred\n",
    "\n",
    "sns.boxplot(residual)\n",
    "# plt.axhline(0)"
   ]
  },
  {
   "cell_type": "markdown",
   "metadata": {},
   "source": [
    "> ## Hyperparameter Tuning Randomized Search"
   ]
  },
  {
   "cell_type": "markdown",
   "metadata": {},
   "source": [
    "![image.png](data:image/png;base64,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)"
   ]
  },
  {
   "cell_type": "code",
   "execution_count": 100,
   "metadata": {},
   "outputs": [],
   "source": [
    "from sklearn.model_selection import RandomizedSearchCV"
   ]
  },
  {
   "cell_type": "code",
   "execution_count": 101,
   "metadata": {},
   "outputs": [],
   "source": [
    "hyperparam_space = {\n",
    "    'min_samples_leaf':[1,5,10,15,20,50], # benck mark min_samples_leaf = 1\n",
    "    'max_depth':[2,3,4,5,6,7], # bench mark max_depth = 5\n",
    "    'criterion':['mse','mae'] # bench mark mse\n",
    "}"
   ]
  },
  {
   "cell_type": "code",
   "execution_count": 102,
   "metadata": {},
   "outputs": [
    {
     "data": {
      "text/plain": [
       "72"
      ]
     },
     "execution_count": 102,
     "metadata": {},
     "output_type": "execute_result"
    }
   ],
   "source": [
    "6*6*2"
   ]
  },
  {
   "cell_type": "code",
   "execution_count": 103,
   "metadata": {},
   "outputs": [],
   "source": [
    "grdsrc = GridSearchCV(dtr,hyperparam_space,cv=5,scoring='neg_mean_squared_error',n_jobs=-1)"
   ]
  },
  {
   "cell_type": "code",
   "execution_count": 104,
   "metadata": {},
   "outputs": [
    {
     "data": {
      "text/plain": [
       "GridSearchCV(cv=5,\n",
       "             estimator=DecisionTreeRegressor(max_depth=5, random_state=2020),\n",
       "             n_jobs=-1,\n",
       "             param_grid={'criterion': ['mse', 'mae'],\n",
       "                         'max_depth': [2, 3, 4, 5, 6, 7],\n",
       "                         'min_samples_leaf': [1, 5, 10, 15, 20, 50]},\n",
       "             scoring='neg_mean_squared_error')"
      ]
     },
     "execution_count": 104,
     "metadata": {},
     "output_type": "execute_result"
    }
   ],
   "source": [
    "grdsrc.fit(X_train_val, y_train_val)"
   ]
  },
  {
   "cell_type": "code",
   "execution_count": 105,
   "metadata": {},
   "outputs": [
    {
     "name": "stdout",
     "output_type": "stream",
     "text": [
      "best score -0.9123779487179486\n",
      "best params {'criterion': 'mae', 'max_depth': 5, 'min_samples_leaf': 1}\n"
     ]
    }
   ],
   "source": [
    "print('best score', grdsrc.best_score_)\n",
    "print('best params', grdsrc.best_params_)"
   ]
  },
  {
   "cell_type": "markdown",
   "metadata": {},
   "source": [
    "## Sudah kudugem. Bagusan pake Gridsearch HEUHEU"
   ]
  },
  {
   "cell_type": "code",
   "execution_count": 106,
   "metadata": {},
   "outputs": [],
   "source": [
    "dtr.get_params()\n",
    "\n",
    "randomized_search = RandomizedSearchCV(\n",
    "    dtr,\n",
    "    hyperparam_space,\n",
    "    n_iter = 20,\n",
    "    cv = 5,\n",
    "    scoring = 'neg_mean_squared_error',\n",
    "    random_state=2020,\n",
    "    n_jobs=-1,\n",
    "    verbose=1\n",
    ")"
   ]
  },
  {
   "cell_type": "code",
   "execution_count": 107,
   "metadata": {},
   "outputs": [
    {
     "name": "stdout",
     "output_type": "stream",
     "text": [
      "Fitting 5 folds for each of 20 candidates, totalling 100 fits\n"
     ]
    },
    {
     "name": "stderr",
     "output_type": "stream",
     "text": [
      "[Parallel(n_jobs=-1)]: Using backend LokyBackend with 12 concurrent workers.\n",
      "[Parallel(n_jobs=-1)]: Done  28 tasks      | elapsed:    0.2s\n",
      "[Parallel(n_jobs=-1)]: Done 100 out of 100 | elapsed:    0.3s finished\n"
     ]
    },
    {
     "data": {
      "text/plain": [
       "RandomizedSearchCV(cv=5,\n",
       "                   estimator=DecisionTreeRegressor(max_depth=5,\n",
       "                                                   random_state=2020),\n",
       "                   n_iter=20, n_jobs=-1,\n",
       "                   param_distributions={'criterion': ['mse', 'mae'],\n",
       "                                        'max_depth': [2, 3, 4, 5, 6, 7],\n",
       "                                        'min_samples_leaf': [1, 5, 10, 15, 20,\n",
       "                                                             50]},\n",
       "                   random_state=2020, scoring='neg_mean_squared_error',\n",
       "                   verbose=1)"
      ]
     },
     "execution_count": 107,
     "metadata": {},
     "output_type": "execute_result"
    }
   ],
   "source": [
    "randomized_search.fit(X_train_val, y_train_val)"
   ]
  },
  {
   "cell_type": "code",
   "execution_count": 108,
   "metadata": {},
   "outputs": [
    {
     "name": "stdout",
     "output_type": "stream",
     "text": [
      "best score -0.9829038972124049\n",
      "best params {'min_samples_leaf': 1, 'max_depth': 4, 'criterion': 'mse'}\n"
     ]
    }
   ],
   "source": [
    "print('best score', randomized_search.best_score_)\n",
    "print('best params', randomized_search.best_params_)"
   ]
  },
  {
   "cell_type": "code",
   "execution_count": 109,
   "metadata": {},
   "outputs": [
    {
     "data": {
      "text/html": [
       "<div>\n",
       "<style scoped>\n",
       "    .dataframe tbody tr th:only-of-type {\n",
       "        vertical-align: middle;\n",
       "    }\n",
       "\n",
       "    .dataframe tbody tr th {\n",
       "        vertical-align: top;\n",
       "    }\n",
       "\n",
       "    .dataframe thead th {\n",
       "        text-align: right;\n",
       "    }\n",
       "</style>\n",
       "<table border=\"1\" class=\"dataframe\">\n",
       "  <thead>\n",
       "    <tr style=\"text-align: right;\">\n",
       "      <th></th>\n",
       "      <th>mean_fit_time</th>\n",
       "      <th>std_fit_time</th>\n",
       "      <th>mean_score_time</th>\n",
       "      <th>std_score_time</th>\n",
       "      <th>param_min_samples_leaf</th>\n",
       "      <th>param_max_depth</th>\n",
       "      <th>param_criterion</th>\n",
       "      <th>params</th>\n",
       "      <th>split0_test_score</th>\n",
       "      <th>split1_test_score</th>\n",
       "      <th>split2_test_score</th>\n",
       "      <th>split3_test_score</th>\n",
       "      <th>split4_test_score</th>\n",
       "      <th>mean_test_score</th>\n",
       "      <th>std_test_score</th>\n",
       "      <th>rank_test_score</th>\n",
       "    </tr>\n",
       "  </thead>\n",
       "  <tbody>\n",
       "    <tr>\n",
       "      <th>14</th>\n",
       "      <td>0.008947</td>\n",
       "      <td>0.001181</td>\n",
       "      <td>0.004222</td>\n",
       "      <td>0.000530</td>\n",
       "      <td>50</td>\n",
       "      <td>5</td>\n",
       "      <td>mae</td>\n",
       "      <td>{'min_samples_leaf': 50, 'max_depth': 5, 'crit...</td>\n",
       "      <td>-0.852846</td>\n",
       "      <td>-0.866010</td>\n",
       "      <td>-1.368379</td>\n",
       "      <td>-2.420846</td>\n",
       "      <td>-1.624323</td>\n",
       "      <td>-1.426481</td>\n",
       "      <td>0.578699</td>\n",
       "      <td>20</td>\n",
       "    </tr>\n",
       "    <tr>\n",
       "      <th>1</th>\n",
       "      <td>0.010247</td>\n",
       "      <td>0.001499</td>\n",
       "      <td>0.005086</td>\n",
       "      <td>0.000740</td>\n",
       "      <td>5</td>\n",
       "      <td>7</td>\n",
       "      <td>mse</td>\n",
       "      <td>{'min_samples_leaf': 5, 'max_depth': 7, 'crite...</td>\n",
       "      <td>-1.266981</td>\n",
       "      <td>-0.767827</td>\n",
       "      <td>-1.325200</td>\n",
       "      <td>-2.239966</td>\n",
       "      <td>-1.472244</td>\n",
       "      <td>-1.414444</td>\n",
       "      <td>0.475952</td>\n",
       "      <td>19</td>\n",
       "    </tr>\n",
       "    <tr>\n",
       "      <th>2</th>\n",
       "      <td>0.008612</td>\n",
       "      <td>0.001433</td>\n",
       "      <td>0.006134</td>\n",
       "      <td>0.000849</td>\n",
       "      <td>5</td>\n",
       "      <td>4</td>\n",
       "      <td>mse</td>\n",
       "      <td>{'min_samples_leaf': 5, 'max_depth': 4, 'crite...</td>\n",
       "      <td>-1.144108</td>\n",
       "      <td>-0.817462</td>\n",
       "      <td>-1.375826</td>\n",
       "      <td>-2.197390</td>\n",
       "      <td>-1.445703</td>\n",
       "      <td>-1.396098</td>\n",
       "      <td>0.456784</td>\n",
       "      <td>18</td>\n",
       "    </tr>\n",
       "    <tr>\n",
       "      <th>16</th>\n",
       "      <td>0.009029</td>\n",
       "      <td>0.000664</td>\n",
       "      <td>0.005138</td>\n",
       "      <td>0.000161</td>\n",
       "      <td>15</td>\n",
       "      <td>6</td>\n",
       "      <td>mse</td>\n",
       "      <td>{'min_samples_leaf': 15, 'max_depth': 6, 'crit...</td>\n",
       "      <td>-0.956966</td>\n",
       "      <td>-0.844012</td>\n",
       "      <td>-1.587474</td>\n",
       "      <td>-2.276566</td>\n",
       "      <td>-1.281531</td>\n",
       "      <td>-1.389310</td>\n",
       "      <td>0.514272</td>\n",
       "      <td>16</td>\n",
       "    </tr>\n",
       "    <tr>\n",
       "      <th>11</th>\n",
       "      <td>0.009167</td>\n",
       "      <td>0.001037</td>\n",
       "      <td>0.005071</td>\n",
       "      <td>0.000901</td>\n",
       "      <td>15</td>\n",
       "      <td>7</td>\n",
       "      <td>mse</td>\n",
       "      <td>{'min_samples_leaf': 15, 'max_depth': 7, 'crit...</td>\n",
       "      <td>-0.956966</td>\n",
       "      <td>-0.844012</td>\n",
       "      <td>-1.587474</td>\n",
       "      <td>-2.276566</td>\n",
       "      <td>-1.281531</td>\n",
       "      <td>-1.389310</td>\n",
       "      <td>0.514272</td>\n",
       "      <td>16</td>\n",
       "    </tr>\n",
       "    <tr>\n",
       "      <th>17</th>\n",
       "      <td>0.009708</td>\n",
       "      <td>0.000751</td>\n",
       "      <td>0.005162</td>\n",
       "      <td>0.000622</td>\n",
       "      <td>10</td>\n",
       "      <td>4</td>\n",
       "      <td>mse</td>\n",
       "      <td>{'min_samples_leaf': 10, 'max_depth': 4, 'crit...</td>\n",
       "      <td>-1.118471</td>\n",
       "      <td>-0.809894</td>\n",
       "      <td>-1.362064</td>\n",
       "      <td>-2.346144</td>\n",
       "      <td>-1.278401</td>\n",
       "      <td>-1.382995</td>\n",
       "      <td>0.517194</td>\n",
       "      <td>15</td>\n",
       "    </tr>\n",
       "    <tr>\n",
       "      <th>7</th>\n",
       "      <td>0.010360</td>\n",
       "      <td>0.001057</td>\n",
       "      <td>0.005708</td>\n",
       "      <td>0.000755</td>\n",
       "      <td>5</td>\n",
       "      <td>3</td>\n",
       "      <td>mse</td>\n",
       "      <td>{'min_samples_leaf': 5, 'max_depth': 3, 'crite...</td>\n",
       "      <td>-0.987999</td>\n",
       "      <td>-0.897975</td>\n",
       "      <td>-1.295115</td>\n",
       "      <td>-2.212884</td>\n",
       "      <td>-1.413923</td>\n",
       "      <td>-1.361579</td>\n",
       "      <td>0.466126</td>\n",
       "      <td>14</td>\n",
       "    </tr>\n",
       "    <tr>\n",
       "      <th>5</th>\n",
       "      <td>0.009718</td>\n",
       "      <td>0.001028</td>\n",
       "      <td>0.005785</td>\n",
       "      <td>0.000983</td>\n",
       "      <td>50</td>\n",
       "      <td>7</td>\n",
       "      <td>mse</td>\n",
       "      <td>{'min_samples_leaf': 50, 'max_depth': 7, 'crit...</td>\n",
       "      <td>-0.879731</td>\n",
       "      <td>-0.900169</td>\n",
       "      <td>-1.479036</td>\n",
       "      <td>-2.103678</td>\n",
       "      <td>-1.437448</td>\n",
       "      <td>-1.360013</td>\n",
       "      <td>0.450628</td>\n",
       "      <td>12</td>\n",
       "    </tr>\n",
       "    <tr>\n",
       "      <th>15</th>\n",
       "      <td>0.008867</td>\n",
       "      <td>0.001485</td>\n",
       "      <td>0.005329</td>\n",
       "      <td>0.000480</td>\n",
       "      <td>50</td>\n",
       "      <td>4</td>\n",
       "      <td>mse</td>\n",
       "      <td>{'min_samples_leaf': 50, 'max_depth': 4, 'crit...</td>\n",
       "      <td>-0.879731</td>\n",
       "      <td>-0.900169</td>\n",
       "      <td>-1.479036</td>\n",
       "      <td>-2.103678</td>\n",
       "      <td>-1.437448</td>\n",
       "      <td>-1.360013</td>\n",
       "      <td>0.450628</td>\n",
       "      <td>12</td>\n",
       "    </tr>\n",
       "    <tr>\n",
       "      <th>18</th>\n",
       "      <td>0.013002</td>\n",
       "      <td>0.000896</td>\n",
       "      <td>0.004858</td>\n",
       "      <td>0.000718</td>\n",
       "      <td>15</td>\n",
       "      <td>5</td>\n",
       "      <td>mae</td>\n",
       "      <td>{'min_samples_leaf': 15, 'max_depth': 5, 'crit...</td>\n",
       "      <td>-0.743851</td>\n",
       "      <td>-1.115824</td>\n",
       "      <td>-1.122205</td>\n",
       "      <td>-2.311428</td>\n",
       "      <td>-1.286546</td>\n",
       "      <td>-1.315971</td>\n",
       "      <td>0.528531</td>\n",
       "      <td>11</td>\n",
       "    </tr>\n",
       "    <tr>\n",
       "      <th>10</th>\n",
       "      <td>0.012454</td>\n",
       "      <td>0.000448</td>\n",
       "      <td>0.006001</td>\n",
       "      <td>0.000686</td>\n",
       "      <td>15</td>\n",
       "      <td>3</td>\n",
       "      <td>mae</td>\n",
       "      <td>{'min_samples_leaf': 15, 'max_depth': 3, 'crit...</td>\n",
       "      <td>-0.743851</td>\n",
       "      <td>-1.105260</td>\n",
       "      <td>-1.122205</td>\n",
       "      <td>-2.278567</td>\n",
       "      <td>-1.254818</td>\n",
       "      <td>-1.300940</td>\n",
       "      <td>0.517391</td>\n",
       "      <td>10</td>\n",
       "    </tr>\n",
       "    <tr>\n",
       "      <th>8</th>\n",
       "      <td>0.012364</td>\n",
       "      <td>0.001242</td>\n",
       "      <td>0.005324</td>\n",
       "      <td>0.000784</td>\n",
       "      <td>20</td>\n",
       "      <td>4</td>\n",
       "      <td>mae</td>\n",
       "      <td>{'min_samples_leaf': 20, 'max_depth': 4, 'crit...</td>\n",
       "      <td>-0.805774</td>\n",
       "      <td>-1.082392</td>\n",
       "      <td>-1.204603</td>\n",
       "      <td>-1.997315</td>\n",
       "      <td>-1.332621</td>\n",
       "      <td>-1.284541</td>\n",
       "      <td>0.396694</td>\n",
       "      <td>9</td>\n",
       "    </tr>\n",
       "    <tr>\n",
       "      <th>4</th>\n",
       "      <td>0.012370</td>\n",
       "      <td>0.001355</td>\n",
       "      <td>0.006198</td>\n",
       "      <td>0.000974</td>\n",
       "      <td>5</td>\n",
       "      <td>2</td>\n",
       "      <td>mae</td>\n",
       "      <td>{'min_samples_leaf': 5, 'max_depth': 2, 'crite...</td>\n",
       "      <td>-0.722048</td>\n",
       "      <td>-1.093600</td>\n",
       "      <td>-1.215538</td>\n",
       "      <td>-1.960931</td>\n",
       "      <td>-1.356648</td>\n",
       "      <td>-1.269753</td>\n",
       "      <td>0.404778</td>\n",
       "      <td>8</td>\n",
       "    </tr>\n",
       "    <tr>\n",
       "      <th>19</th>\n",
       "      <td>0.012786</td>\n",
       "      <td>0.001454</td>\n",
       "      <td>0.005770</td>\n",
       "      <td>0.000970</td>\n",
       "      <td>15</td>\n",
       "      <td>2</td>\n",
       "      <td>mae</td>\n",
       "      <td>{'min_samples_leaf': 15, 'max_depth': 2, 'crit...</td>\n",
       "      <td>-0.722048</td>\n",
       "      <td>-1.093600</td>\n",
       "      <td>-1.208277</td>\n",
       "      <td>-1.955167</td>\n",
       "      <td>-1.356648</td>\n",
       "      <td>-1.267148</td>\n",
       "      <td>0.403013</td>\n",
       "      <td>7</td>\n",
       "    </tr>\n",
       "    <tr>\n",
       "      <th>3</th>\n",
       "      <td>0.014558</td>\n",
       "      <td>0.001261</td>\n",
       "      <td>0.005885</td>\n",
       "      <td>0.000445</td>\n",
       "      <td>20</td>\n",
       "      <td>2</td>\n",
       "      <td>mae</td>\n",
       "      <td>{'min_samples_leaf': 20, 'max_depth': 2, 'crit...</td>\n",
       "      <td>-0.722048</td>\n",
       "      <td>-1.093600</td>\n",
       "      <td>-1.182453</td>\n",
       "      <td>-1.955167</td>\n",
       "      <td>-1.356648</td>\n",
       "      <td>-1.261983</td>\n",
       "      <td>0.403899</td>\n",
       "      <td>6</td>\n",
       "    </tr>\n",
       "    <tr>\n",
       "      <th>13</th>\n",
       "      <td>0.012148</td>\n",
       "      <td>0.000746</td>\n",
       "      <td>0.005296</td>\n",
       "      <td>0.000503</td>\n",
       "      <td>10</td>\n",
       "      <td>3</td>\n",
       "      <td>mae</td>\n",
       "      <td>{'min_samples_leaf': 10, 'max_depth': 3, 'crit...</td>\n",
       "      <td>-0.766951</td>\n",
       "      <td>-0.655642</td>\n",
       "      <td>-1.331518</td>\n",
       "      <td>-2.316210</td>\n",
       "      <td>-1.005492</td>\n",
       "      <td>-1.215163</td>\n",
       "      <td>0.597288</td>\n",
       "      <td>5</td>\n",
       "    </tr>\n",
       "    <tr>\n",
       "      <th>12</th>\n",
       "      <td>0.010020</td>\n",
       "      <td>0.000936</td>\n",
       "      <td>0.005144</td>\n",
       "      <td>0.000496</td>\n",
       "      <td>20</td>\n",
       "      <td>7</td>\n",
       "      <td>mse</td>\n",
       "      <td>{'min_samples_leaf': 20, 'max_depth': 7, 'crit...</td>\n",
       "      <td>-0.870686</td>\n",
       "      <td>-0.765451</td>\n",
       "      <td>-1.294051</td>\n",
       "      <td>-1.731356</td>\n",
       "      <td>-1.297124</td>\n",
       "      <td>-1.191733</td>\n",
       "      <td>0.345704</td>\n",
       "      <td>4</td>\n",
       "    </tr>\n",
       "    <tr>\n",
       "      <th>0</th>\n",
       "      <td>0.013753</td>\n",
       "      <td>0.000645</td>\n",
       "      <td>0.006128</td>\n",
       "      <td>0.000198</td>\n",
       "      <td>1</td>\n",
       "      <td>2</td>\n",
       "      <td>mae</td>\n",
       "      <td>{'min_samples_leaf': 1, 'max_depth': 2, 'crite...</td>\n",
       "      <td>-0.738330</td>\n",
       "      <td>-0.851707</td>\n",
       "      <td>-1.323954</td>\n",
       "      <td>-1.509013</td>\n",
       "      <td>-1.356648</td>\n",
       "      <td>-1.155931</td>\n",
       "      <td>0.303358</td>\n",
       "      <td>3</td>\n",
       "    </tr>\n",
       "    <tr>\n",
       "      <th>9</th>\n",
       "      <td>0.007290</td>\n",
       "      <td>0.001157</td>\n",
       "      <td>0.004423</td>\n",
       "      <td>0.000998</td>\n",
       "      <td>1</td>\n",
       "      <td>2</td>\n",
       "      <td>mse</td>\n",
       "      <td>{'min_samples_leaf': 1, 'max_depth': 2, 'crite...</td>\n",
       "      <td>-0.816130</td>\n",
       "      <td>-0.882642</td>\n",
       "      <td>-1.424336</td>\n",
       "      <td>-1.108872</td>\n",
       "      <td>-0.924132</td>\n",
       "      <td>-1.031222</td>\n",
       "      <td>0.219261</td>\n",
       "      <td>2</td>\n",
       "    </tr>\n",
       "    <tr>\n",
       "      <th>6</th>\n",
       "      <td>0.010405</td>\n",
       "      <td>0.000540</td>\n",
       "      <td>0.005617</td>\n",
       "      <td>0.000411</td>\n",
       "      <td>1</td>\n",
       "      <td>4</td>\n",
       "      <td>mse</td>\n",
       "      <td>{'min_samples_leaf': 1, 'max_depth': 4, 'crite...</td>\n",
       "      <td>-0.771622</td>\n",
       "      <td>-0.665101</td>\n",
       "      <td>-1.593723</td>\n",
       "      <td>-1.029129</td>\n",
       "      <td>-0.854944</td>\n",
       "      <td>-0.982904</td>\n",
       "      <td>0.327795</td>\n",
       "      <td>1</td>\n",
       "    </tr>\n",
       "  </tbody>\n",
       "</table>\n",
       "</div>"
      ],
      "text/plain": [
       "    mean_fit_time  std_fit_time  mean_score_time  std_score_time  \\\n",
       "14       0.008947      0.001181         0.004222        0.000530   \n",
       "1        0.010247      0.001499         0.005086        0.000740   \n",
       "2        0.008612      0.001433         0.006134        0.000849   \n",
       "16       0.009029      0.000664         0.005138        0.000161   \n",
       "11       0.009167      0.001037         0.005071        0.000901   \n",
       "17       0.009708      0.000751         0.005162        0.000622   \n",
       "7        0.010360      0.001057         0.005708        0.000755   \n",
       "5        0.009718      0.001028         0.005785        0.000983   \n",
       "15       0.008867      0.001485         0.005329        0.000480   \n",
       "18       0.013002      0.000896         0.004858        0.000718   \n",
       "10       0.012454      0.000448         0.006001        0.000686   \n",
       "8        0.012364      0.001242         0.005324        0.000784   \n",
       "4        0.012370      0.001355         0.006198        0.000974   \n",
       "19       0.012786      0.001454         0.005770        0.000970   \n",
       "3        0.014558      0.001261         0.005885        0.000445   \n",
       "13       0.012148      0.000746         0.005296        0.000503   \n",
       "12       0.010020      0.000936         0.005144        0.000496   \n",
       "0        0.013753      0.000645         0.006128        0.000198   \n",
       "9        0.007290      0.001157         0.004423        0.000998   \n",
       "6        0.010405      0.000540         0.005617        0.000411   \n",
       "\n",
       "   param_min_samples_leaf param_max_depth param_criterion  \\\n",
       "14                     50               5             mae   \n",
       "1                       5               7             mse   \n",
       "2                       5               4             mse   \n",
       "16                     15               6             mse   \n",
       "11                     15               7             mse   \n",
       "17                     10               4             mse   \n",
       "7                       5               3             mse   \n",
       "5                      50               7             mse   \n",
       "15                     50               4             mse   \n",
       "18                     15               5             mae   \n",
       "10                     15               3             mae   \n",
       "8                      20               4             mae   \n",
       "4                       5               2             mae   \n",
       "19                     15               2             mae   \n",
       "3                      20               2             mae   \n",
       "13                     10               3             mae   \n",
       "12                     20               7             mse   \n",
       "0                       1               2             mae   \n",
       "9                       1               2             mse   \n",
       "6                       1               4             mse   \n",
       "\n",
       "                                               params  split0_test_score  \\\n",
       "14  {'min_samples_leaf': 50, 'max_depth': 5, 'crit...          -0.852846   \n",
       "1   {'min_samples_leaf': 5, 'max_depth': 7, 'crite...          -1.266981   \n",
       "2   {'min_samples_leaf': 5, 'max_depth': 4, 'crite...          -1.144108   \n",
       "16  {'min_samples_leaf': 15, 'max_depth': 6, 'crit...          -0.956966   \n",
       "11  {'min_samples_leaf': 15, 'max_depth': 7, 'crit...          -0.956966   \n",
       "17  {'min_samples_leaf': 10, 'max_depth': 4, 'crit...          -1.118471   \n",
       "7   {'min_samples_leaf': 5, 'max_depth': 3, 'crite...          -0.987999   \n",
       "5   {'min_samples_leaf': 50, 'max_depth': 7, 'crit...          -0.879731   \n",
       "15  {'min_samples_leaf': 50, 'max_depth': 4, 'crit...          -0.879731   \n",
       "18  {'min_samples_leaf': 15, 'max_depth': 5, 'crit...          -0.743851   \n",
       "10  {'min_samples_leaf': 15, 'max_depth': 3, 'crit...          -0.743851   \n",
       "8   {'min_samples_leaf': 20, 'max_depth': 4, 'crit...          -0.805774   \n",
       "4   {'min_samples_leaf': 5, 'max_depth': 2, 'crite...          -0.722048   \n",
       "19  {'min_samples_leaf': 15, 'max_depth': 2, 'crit...          -0.722048   \n",
       "3   {'min_samples_leaf': 20, 'max_depth': 2, 'crit...          -0.722048   \n",
       "13  {'min_samples_leaf': 10, 'max_depth': 3, 'crit...          -0.766951   \n",
       "12  {'min_samples_leaf': 20, 'max_depth': 7, 'crit...          -0.870686   \n",
       "0   {'min_samples_leaf': 1, 'max_depth': 2, 'crite...          -0.738330   \n",
       "9   {'min_samples_leaf': 1, 'max_depth': 2, 'crite...          -0.816130   \n",
       "6   {'min_samples_leaf': 1, 'max_depth': 4, 'crite...          -0.771622   \n",
       "\n",
       "    split1_test_score  split2_test_score  split3_test_score  \\\n",
       "14          -0.866010          -1.368379          -2.420846   \n",
       "1           -0.767827          -1.325200          -2.239966   \n",
       "2           -0.817462          -1.375826          -2.197390   \n",
       "16          -0.844012          -1.587474          -2.276566   \n",
       "11          -0.844012          -1.587474          -2.276566   \n",
       "17          -0.809894          -1.362064          -2.346144   \n",
       "7           -0.897975          -1.295115          -2.212884   \n",
       "5           -0.900169          -1.479036          -2.103678   \n",
       "15          -0.900169          -1.479036          -2.103678   \n",
       "18          -1.115824          -1.122205          -2.311428   \n",
       "10          -1.105260          -1.122205          -2.278567   \n",
       "8           -1.082392          -1.204603          -1.997315   \n",
       "4           -1.093600          -1.215538          -1.960931   \n",
       "19          -1.093600          -1.208277          -1.955167   \n",
       "3           -1.093600          -1.182453          -1.955167   \n",
       "13          -0.655642          -1.331518          -2.316210   \n",
       "12          -0.765451          -1.294051          -1.731356   \n",
       "0           -0.851707          -1.323954          -1.509013   \n",
       "9           -0.882642          -1.424336          -1.108872   \n",
       "6           -0.665101          -1.593723          -1.029129   \n",
       "\n",
       "    split4_test_score  mean_test_score  std_test_score  rank_test_score  \n",
       "14          -1.624323        -1.426481        0.578699               20  \n",
       "1           -1.472244        -1.414444        0.475952               19  \n",
       "2           -1.445703        -1.396098        0.456784               18  \n",
       "16          -1.281531        -1.389310        0.514272               16  \n",
       "11          -1.281531        -1.389310        0.514272               16  \n",
       "17          -1.278401        -1.382995        0.517194               15  \n",
       "7           -1.413923        -1.361579        0.466126               14  \n",
       "5           -1.437448        -1.360013        0.450628               12  \n",
       "15          -1.437448        -1.360013        0.450628               12  \n",
       "18          -1.286546        -1.315971        0.528531               11  \n",
       "10          -1.254818        -1.300940        0.517391               10  \n",
       "8           -1.332621        -1.284541        0.396694                9  \n",
       "4           -1.356648        -1.269753        0.404778                8  \n",
       "19          -1.356648        -1.267148        0.403013                7  \n",
       "3           -1.356648        -1.261983        0.403899                6  \n",
       "13          -1.005492        -1.215163        0.597288                5  \n",
       "12          -1.297124        -1.191733        0.345704                4  \n",
       "0           -1.356648        -1.155931        0.303358                3  \n",
       "9           -0.924132        -1.031222        0.219261                2  \n",
       "6           -0.854944        -0.982904        0.327795                1  "
      ]
     },
     "execution_count": 109,
     "metadata": {},
     "output_type": "execute_result"
    }
   ],
   "source": [
    "rs_df = pd.DataFrame(randomized_search.cv_results_)\n",
    "rs_df.sort_values('mean_test_score')"
   ]
  },
  {
   "cell_type": "markdown",
   "metadata": {},
   "source": [
    "> ## Final Result Comparison"
   ]
  },
  {
   "cell_type": "code",
   "execution_count": 138,
   "metadata": {},
   "outputs": [
    {
     "name": "stdout",
     "output_type": "stream",
     "text": [
      "1.732030612244898\n"
     ]
    }
   ],
   "source": [
    "tree = DecisionTreeRegressor()\n",
    "tree.fit(X_train_val, y_train_val)\n",
    "y_pred = tree.predict(X_test)\n",
    "print(mean_squared_error(y_test, y_pred))"
   ]
  },
  {
   "cell_type": "code",
   "execution_count": 111,
   "metadata": {},
   "outputs": [
    {
     "data": {
      "text/plain": [
       "{'ccp_alpha': 0.0,\n",
       " 'criterion': 'mse',\n",
       " 'max_depth': 4,\n",
       " 'max_features': None,\n",
       " 'max_leaf_nodes': None,\n",
       " 'min_impurity_decrease': 0.0,\n",
       " 'min_impurity_split': None,\n",
       " 'min_samples_leaf': 1,\n",
       " 'min_samples_split': 2,\n",
       " 'min_weight_fraction_leaf': 0.0,\n",
       " 'presort': 'deprecated',\n",
       " 'random_state': 2020,\n",
       " 'splitter': 'best'}"
      ]
     },
     "execution_count": 111,
     "metadata": {},
     "output_type": "execute_result"
    }
   ],
   "source": [
    "randomized_search.best_estimator_.get_params()"
   ]
  },
  {
   "cell_type": "code",
   "execution_count": 112,
   "metadata": {},
   "outputs": [
    {
     "data": {
      "text/plain": [
       "{'min_samples_leaf': 1, 'max_depth': 4, 'criterion': 'mse'}"
      ]
     },
     "execution_count": 112,
     "metadata": {},
     "output_type": "execute_result"
    }
   ],
   "source": [
    "randomized_search.best_params_"
   ]
  },
  {
   "cell_type": "code",
   "execution_count": 113,
   "metadata": {},
   "outputs": [
    {
     "name": "stdout",
     "output_type": "stream",
     "text": [
      "1.3093536770005814\n"
     ]
    }
   ],
   "source": [
    "tree_tuned = randomized_search.best_estimator_\n",
    "tree_tuned.fit(X_train_val, y_train_val)\n",
    "y_pred_tuned = tree_tuned.predict(X_test)\n",
    "print(mean_squared_error(y_test, y_pred_tuned))"
   ]
  },
  {
   "cell_type": "code",
   "execution_count": 135,
   "metadata": {},
   "outputs": [
    {
     "name": "stdout",
     "output_type": "stream",
     "text": [
      "1.2780683673469388\n"
     ]
    }
   ],
   "source": [
    "tree_tuned = grdsrc.best_estimator_\n",
    "tree_tuned.fit(X_train_val, y_train_val)\n",
    "y_pred_tuned = tree_tuned.predict(X_test)\n",
    "print(mean_squared_error(y_test, y_pred_tuned))"
   ]
  },
  {
   "cell_type": "markdown",
   "metadata": {},
   "source": [
    "## __Information/Data Leakage__"
   ]
  },
  {
   "cell_type": "code",
   "execution_count": 114,
   "metadata": {},
   "outputs": [],
   "source": [
    "rnd = np.random.RandomState(seed = 2020)\n",
    "X = rnd.normal(size = (100, 10000))\n",
    "y = rnd.normal(size = (100, ))"
   ]
  },
  {
   "cell_type": "code",
   "execution_count": 115,
   "metadata": {},
   "outputs": [
    {
     "data": {
      "text/plain": [
       "(100, 10000)"
      ]
     },
     "execution_count": 115,
     "metadata": {},
     "output_type": "execute_result"
    }
   ],
   "source": [
    "X.shape"
   ]
  },
  {
   "cell_type": "code",
   "execution_count": 116,
   "metadata": {},
   "outputs": [
    {
     "data": {
      "text/plain": [
       "(100,)"
      ]
     },
     "execution_count": 116,
     "metadata": {},
     "output_type": "execute_result"
    }
   ],
   "source": [
    "y.shape"
   ]
  },
  {
   "cell_type": "markdown",
   "metadata": {},
   "source": [
    "Data generated with condition that there is no relationship between X and y"
   ]
  },
  {
   "cell_type": "code",
   "execution_count": 117,
   "metadata": {},
   "outputs": [],
   "source": [
    "x_df = pd.DataFrame(X)\n",
    "x_df['y'] = y"
   ]
  },
  {
   "cell_type": "code",
   "execution_count": 118,
   "metadata": {},
   "outputs": [],
   "source": [
    "# sns.heatmap(x_df.head().corr()"
   ]
  },
  {
   "cell_type": "code",
   "execution_count": 119,
   "metadata": {},
   "outputs": [
    {
     "data": {
      "text/plain": [
       "(100, 500)"
      ]
     },
     "execution_count": 119,
     "metadata": {},
     "output_type": "execute_result"
    }
   ],
   "source": [
    "from sklearn.feature_selection import SelectPercentile, f_regression\n",
    "\n",
    "select = SelectPercentile(score_func=f_regression, percentile=5).fit(X,y)\n",
    "X_selected = select.transform(X)\n",
    "X_selected.shape"
   ]
  },
  {
   "cell_type": "markdown",
   "metadata": {},
   "source": [
    "![image.png](data:image/png;base64,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)"
   ]
  },
  {
   "cell_type": "code",
   "execution_count": 120,
   "metadata": {},
   "outputs": [],
   "source": [
    "from sklearn.linear_model import Ridge"
   ]
  },
  {
   "cell_type": "code",
   "execution_count": 121,
   "metadata": {},
   "outputs": [
    {
     "data": {
      "text/plain": [
       "array([0.92165345, 0.89445668, 0.92827414, 0.93088559, 0.91044624])"
      ]
     },
     "execution_count": 121,
     "metadata": {},
     "output_type": "execute_result"
    }
   ],
   "source": [
    "cross_val_score(Ridge(), X_selected, y, cv=5)"
   ]
  },
  {
   "cell_type": "markdown",
   "metadata": {},
   "source": [
    "![image.png](data:image/png;base64,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)"
   ]
  },
  {
   "cell_type": "code",
   "execution_count": 122,
   "metadata": {},
   "outputs": [
    {
     "data": {
      "text/plain": [
       "0.9999995160671874"
      ]
     },
     "execution_count": 122,
     "metadata": {},
     "output_type": "execute_result"
    }
   ],
   "source": [
    "# Contoh Yossi\n",
    "# ridge=Ridge().fit(X_selected,y)\n",
    "# ridge.score(X_selected,y)"
   ]
  },
  {
   "cell_type": "code",
   "execution_count": 123,
   "metadata": {},
   "outputs": [],
   "source": [
    "from sklearn.pipeline import Pipeline"
   ]
  },
  {
   "cell_type": "code",
   "execution_count": 124,
   "metadata": {},
   "outputs": [],
   "source": [
    "pipe = Pipeline([\n",
    "    ('select', select),\n",
    "    ('ridge', Ridge())\n",
    "])"
   ]
  },
  {
   "cell_type": "code",
   "execution_count": 125,
   "metadata": {},
   "outputs": [
    {
     "data": {
      "text/plain": [
       "array([-0.0330359 , -0.07840338, -0.06731106, -0.04544685, -0.07314928])"
      ]
     },
     "execution_count": 125,
     "metadata": {},
     "output_type": "execute_result"
    }
   ],
   "source": [
    "cross_val_score(pipe, X, y, cv=5)"
   ]
  },
  {
   "cell_type": "markdown",
   "metadata": {},
   "source": [
    "this is what the result should be the R-square is vary small or even negative. Information leakege show that the model can have overly optimistic result to validation folds."
   ]
  },
  {
   "cell_type": "markdown",
   "metadata": {},
   "source": [
    "## Algorithm Chains"
   ]
  },
  {
   "cell_type": "code",
   "execution_count": 126,
   "metadata": {},
   "outputs": [],
   "source": [
    "df_adult = pd.read_csv('adult.csv')"
   ]
  },
  {
   "cell_type": "code",
   "execution_count": 127,
   "metadata": {},
   "outputs": [
    {
     "data": {
      "text/html": [
       "<div>\n",
       "<style scoped>\n",
       "    .dataframe tbody tr th:only-of-type {\n",
       "        vertical-align: middle;\n",
       "    }\n",
       "\n",
       "    .dataframe tbody tr th {\n",
       "        vertical-align: top;\n",
       "    }\n",
       "\n",
       "    .dataframe thead th {\n",
       "        text-align: right;\n",
       "    }\n",
       "</style>\n",
       "<table border=\"1\" class=\"dataframe\">\n",
       "  <thead>\n",
       "    <tr style=\"text-align: right;\">\n",
       "      <th></th>\n",
       "      <th>age</th>\n",
       "      <th>workclass</th>\n",
       "      <th>fnlwgt</th>\n",
       "      <th>education</th>\n",
       "      <th>education.num</th>\n",
       "      <th>marital.status</th>\n",
       "      <th>occupation</th>\n",
       "      <th>relationship</th>\n",
       "      <th>race</th>\n",
       "      <th>sex</th>\n",
       "      <th>capital.gain</th>\n",
       "      <th>capital.loss</th>\n",
       "      <th>hours.per.week</th>\n",
       "      <th>native.country</th>\n",
       "      <th>income</th>\n",
       "    </tr>\n",
       "  </thead>\n",
       "  <tbody>\n",
       "    <tr>\n",
       "      <th>0</th>\n",
       "      <td>90</td>\n",
       "      <td>?</td>\n",
       "      <td>77053</td>\n",
       "      <td>HS-grad</td>\n",
       "      <td>9</td>\n",
       "      <td>Widowed</td>\n",
       "      <td>?</td>\n",
       "      <td>Not-in-family</td>\n",
       "      <td>White</td>\n",
       "      <td>Female</td>\n",
       "      <td>0</td>\n",
       "      <td>4356</td>\n",
       "      <td>40</td>\n",
       "      <td>United-States</td>\n",
       "      <td>&lt;=50K</td>\n",
       "    </tr>\n",
       "    <tr>\n",
       "      <th>1</th>\n",
       "      <td>82</td>\n",
       "      <td>Private</td>\n",
       "      <td>132870</td>\n",
       "      <td>HS-grad</td>\n",
       "      <td>9</td>\n",
       "      <td>Widowed</td>\n",
       "      <td>Exec-managerial</td>\n",
       "      <td>Not-in-family</td>\n",
       "      <td>White</td>\n",
       "      <td>Female</td>\n",
       "      <td>0</td>\n",
       "      <td>4356</td>\n",
       "      <td>18</td>\n",
       "      <td>United-States</td>\n",
       "      <td>&lt;=50K</td>\n",
       "    </tr>\n",
       "    <tr>\n",
       "      <th>2</th>\n",
       "      <td>66</td>\n",
       "      <td>?</td>\n",
       "      <td>186061</td>\n",
       "      <td>Some-college</td>\n",
       "      <td>10</td>\n",
       "      <td>Widowed</td>\n",
       "      <td>?</td>\n",
       "      <td>Unmarried</td>\n",
       "      <td>Black</td>\n",
       "      <td>Female</td>\n",
       "      <td>0</td>\n",
       "      <td>4356</td>\n",
       "      <td>40</td>\n",
       "      <td>United-States</td>\n",
       "      <td>&lt;=50K</td>\n",
       "    </tr>\n",
       "    <tr>\n",
       "      <th>3</th>\n",
       "      <td>54</td>\n",
       "      <td>Private</td>\n",
       "      <td>140359</td>\n",
       "      <td>7th-8th</td>\n",
       "      <td>4</td>\n",
       "      <td>Divorced</td>\n",
       "      <td>Machine-op-inspct</td>\n",
       "      <td>Unmarried</td>\n",
       "      <td>White</td>\n",
       "      <td>Female</td>\n",
       "      <td>0</td>\n",
       "      <td>3900</td>\n",
       "      <td>40</td>\n",
       "      <td>United-States</td>\n",
       "      <td>&lt;=50K</td>\n",
       "    </tr>\n",
       "    <tr>\n",
       "      <th>4</th>\n",
       "      <td>41</td>\n",
       "      <td>Private</td>\n",
       "      <td>264663</td>\n",
       "      <td>Some-college</td>\n",
       "      <td>10</td>\n",
       "      <td>Separated</td>\n",
       "      <td>Prof-specialty</td>\n",
       "      <td>Own-child</td>\n",
       "      <td>White</td>\n",
       "      <td>Female</td>\n",
       "      <td>0</td>\n",
       "      <td>3900</td>\n",
       "      <td>40</td>\n",
       "      <td>United-States</td>\n",
       "      <td>&lt;=50K</td>\n",
       "    </tr>\n",
       "    <tr>\n",
       "      <th>...</th>\n",
       "      <td>...</td>\n",
       "      <td>...</td>\n",
       "      <td>...</td>\n",
       "      <td>...</td>\n",
       "      <td>...</td>\n",
       "      <td>...</td>\n",
       "      <td>...</td>\n",
       "      <td>...</td>\n",
       "      <td>...</td>\n",
       "      <td>...</td>\n",
       "      <td>...</td>\n",
       "      <td>...</td>\n",
       "      <td>...</td>\n",
       "      <td>...</td>\n",
       "      <td>...</td>\n",
       "    </tr>\n",
       "    <tr>\n",
       "      <th>32556</th>\n",
       "      <td>22</td>\n",
       "      <td>Private</td>\n",
       "      <td>310152</td>\n",
       "      <td>Some-college</td>\n",
       "      <td>10</td>\n",
       "      <td>Never-married</td>\n",
       "      <td>Protective-serv</td>\n",
       "      <td>Not-in-family</td>\n",
       "      <td>White</td>\n",
       "      <td>Male</td>\n",
       "      <td>0</td>\n",
       "      <td>0</td>\n",
       "      <td>40</td>\n",
       "      <td>United-States</td>\n",
       "      <td>&lt;=50K</td>\n",
       "    </tr>\n",
       "    <tr>\n",
       "      <th>32557</th>\n",
       "      <td>27</td>\n",
       "      <td>Private</td>\n",
       "      <td>257302</td>\n",
       "      <td>Assoc-acdm</td>\n",
       "      <td>12</td>\n",
       "      <td>Married-civ-spouse</td>\n",
       "      <td>Tech-support</td>\n",
       "      <td>Wife</td>\n",
       "      <td>White</td>\n",
       "      <td>Female</td>\n",
       "      <td>0</td>\n",
       "      <td>0</td>\n",
       "      <td>38</td>\n",
       "      <td>United-States</td>\n",
       "      <td>&lt;=50K</td>\n",
       "    </tr>\n",
       "    <tr>\n",
       "      <th>32558</th>\n",
       "      <td>40</td>\n",
       "      <td>Private</td>\n",
       "      <td>154374</td>\n",
       "      <td>HS-grad</td>\n",
       "      <td>9</td>\n",
       "      <td>Married-civ-spouse</td>\n",
       "      <td>Machine-op-inspct</td>\n",
       "      <td>Husband</td>\n",
       "      <td>White</td>\n",
       "      <td>Male</td>\n",
       "      <td>0</td>\n",
       "      <td>0</td>\n",
       "      <td>40</td>\n",
       "      <td>United-States</td>\n",
       "      <td>&gt;50K</td>\n",
       "    </tr>\n",
       "    <tr>\n",
       "      <th>32559</th>\n",
       "      <td>58</td>\n",
       "      <td>Private</td>\n",
       "      <td>151910</td>\n",
       "      <td>HS-grad</td>\n",
       "      <td>9</td>\n",
       "      <td>Widowed</td>\n",
       "      <td>Adm-clerical</td>\n",
       "      <td>Unmarried</td>\n",
       "      <td>White</td>\n",
       "      <td>Female</td>\n",
       "      <td>0</td>\n",
       "      <td>0</td>\n",
       "      <td>40</td>\n",
       "      <td>United-States</td>\n",
       "      <td>&lt;=50K</td>\n",
       "    </tr>\n",
       "    <tr>\n",
       "      <th>32560</th>\n",
       "      <td>22</td>\n",
       "      <td>Private</td>\n",
       "      <td>201490</td>\n",
       "      <td>HS-grad</td>\n",
       "      <td>9</td>\n",
       "      <td>Never-married</td>\n",
       "      <td>Adm-clerical</td>\n",
       "      <td>Own-child</td>\n",
       "      <td>White</td>\n",
       "      <td>Male</td>\n",
       "      <td>0</td>\n",
       "      <td>0</td>\n",
       "      <td>20</td>\n",
       "      <td>United-States</td>\n",
       "      <td>&lt;=50K</td>\n",
       "    </tr>\n",
       "  </tbody>\n",
       "</table>\n",
       "<p>32561 rows × 15 columns</p>\n",
       "</div>"
      ],
      "text/plain": [
       "       age workclass  fnlwgt     education  education.num      marital.status  \\\n",
       "0       90         ?   77053       HS-grad              9             Widowed   \n",
       "1       82   Private  132870       HS-grad              9             Widowed   \n",
       "2       66         ?  186061  Some-college             10             Widowed   \n",
       "3       54   Private  140359       7th-8th              4            Divorced   \n",
       "4       41   Private  264663  Some-college             10           Separated   \n",
       "...    ...       ...     ...           ...            ...                 ...   \n",
       "32556   22   Private  310152  Some-college             10       Never-married   \n",
       "32557   27   Private  257302    Assoc-acdm             12  Married-civ-spouse   \n",
       "32558   40   Private  154374       HS-grad              9  Married-civ-spouse   \n",
       "32559   58   Private  151910       HS-grad              9             Widowed   \n",
       "32560   22   Private  201490       HS-grad              9       Never-married   \n",
       "\n",
       "              occupation   relationship   race     sex  capital.gain  \\\n",
       "0                      ?  Not-in-family  White  Female             0   \n",
       "1        Exec-managerial  Not-in-family  White  Female             0   \n",
       "2                      ?      Unmarried  Black  Female             0   \n",
       "3      Machine-op-inspct      Unmarried  White  Female             0   \n",
       "4         Prof-specialty      Own-child  White  Female             0   \n",
       "...                  ...            ...    ...     ...           ...   \n",
       "32556    Protective-serv  Not-in-family  White    Male             0   \n",
       "32557       Tech-support           Wife  White  Female             0   \n",
       "32558  Machine-op-inspct        Husband  White    Male             0   \n",
       "32559       Adm-clerical      Unmarried  White  Female             0   \n",
       "32560       Adm-clerical      Own-child  White    Male             0   \n",
       "\n",
       "       capital.loss  hours.per.week native.country income  \n",
       "0              4356              40  United-States  <=50K  \n",
       "1              4356              18  United-States  <=50K  \n",
       "2              4356              40  United-States  <=50K  \n",
       "3              3900              40  United-States  <=50K  \n",
       "4              3900              40  United-States  <=50K  \n",
       "...             ...             ...            ...    ...  \n",
       "32556             0              40  United-States  <=50K  \n",
       "32557             0              38  United-States  <=50K  \n",
       "32558             0              40  United-States   >50K  \n",
       "32559             0              40  United-States  <=50K  \n",
       "32560             0              20  United-States  <=50K  \n",
       "\n",
       "[32561 rows x 15 columns]"
      ]
     },
     "execution_count": 127,
     "metadata": {},
     "output_type": "execute_result"
    }
   ],
   "source": [
    "df_adult"
   ]
  },
  {
   "cell_type": "code",
   "execution_count": 128,
   "metadata": {},
   "outputs": [],
   "source": [
    "df_adult.replace('?', np.nan, inplace=True)"
   ]
  },
  {
   "cell_type": "code",
   "execution_count": 129,
   "metadata": {},
   "outputs": [
    {
     "data": {
      "text/plain": [
       "age                  0\n",
       "workclass         1836\n",
       "fnlwgt               0\n",
       "education            0\n",
       "education.num        0\n",
       "marital.status       0\n",
       "occupation        1843\n",
       "relationship         0\n",
       "race                 0\n",
       "sex                  0\n",
       "capital.gain         0\n",
       "capital.loss         0\n",
       "hours.per.week       0\n",
       "native.country     583\n",
       "income               0\n",
       "dtype: int64"
      ]
     },
     "execution_count": 129,
     "metadata": {},
     "output_type": "execute_result"
    }
   ],
   "source": [
    "df_adult.isna().sum()"
   ]
  },
  {
   "cell_type": "markdown",
   "metadata": {},
   "source": [
    "> ## Preprocessing"
   ]
  },
  {
   "cell_type": "code",
   "execution_count": 130,
   "metadata": {},
   "outputs": [],
   "source": [
    "from sklearn.impute import SimpleImputer\n",
    "from sklearn.preprocessing import OneHotEncoder\n",
    "from sklearn.compose import ColumnTransformer\n",
    "import category_encoders as ce"
   ]
  },
  {
   "cell_type": "code",
   "execution_count": 131,
   "metadata": {},
   "outputs": [],
   "source": [
    "binary_encoder_pipeline = Pipeline([\n",
    "    ('imputer', SimpleImputer(strategy = 'constant', fill_value = 'NC')),\n",
    "    ('binary', ce.BinaryEncoder())\n",
    "])\n",
    "\n",
    "transformer = ColumnTransformer([\n",
    "    ('one_hot', OneHotEncoder(drop='first'), ['relationship', 'race', 'sex']),\n",
    "    ('binary_encoder', binary_encoder_pipeline, ['workclass', 'marital.status', 'occupation', 'native.country'])\n",
    "], remainder='passthrough')"
   ]
  },
  {
   "cell_type": "code",
   "execution_count": 139,
   "metadata": {},
   "outputs": [],
   "source": [
    "X=df_adult.drop(columns=['fnlwgt','income','education'])\n",
    "y=np.where(df_adult['income']=='>50K',1,0)"
   ]
  },
  {
   "cell_type": "code",
   "execution_count": 140,
   "metadata": {},
   "outputs": [],
   "source": [
    "X_train_val, X_test, y_train_val, y_test = train_test_split(X,y,stratify=y,random_state=2020)"
   ]
  },
  {
   "cell_type": "markdown",
   "metadata": {},
   "source": [
    "## Model Evaluation : Benchmark (Decision Tree Classifier)"
   ]
  },
  {
   "cell_type": "code",
   "execution_count": 141,
   "metadata": {},
   "outputs": [],
   "source": [
    "skfold = StratifiedKFold(n_splits=5)\n",
    "tree = DecisionTreeClassifier(criterion='entropy',max_depth=5, random_state=2020)\n",
    "estimator = Pipeline([\n",
    "    ('preprocess',transformer),\n",
    "    ('clf',tree)\n",
    "])"
   ]
  },
  {
   "cell_type": "markdown",
   "metadata": {},
   "source": [
    "## Ini cv = 5 hasilnya sama aja sama cv=skfold karena diatas udah di stratify = y. Dan kebetulan datanya emang mirip2 di splitnya di 2020"
   ]
  },
  {
   "cell_type": "code",
   "execution_count": 145,
   "metadata": {},
   "outputs": [],
   "source": [
    "model_cv=cross_val_score(estimator, X_train_val, y_train_val, scoring='f1',cv=5)"
   ]
  },
  {
   "cell_type": "code",
   "execution_count": 144,
   "metadata": {},
   "outputs": [
    {
     "name": "stdout",
     "output_type": "stream",
     "text": [
      "CV Score [0.59255482 0.60502513 0.59898477 0.62110553 0.6221336 ]\n",
      "CV Score Mean 0.6079607686024484\n",
      "CV Score Std 0.011833711368265581\n"
     ]
    }
   ],
   "source": [
    "print('CV Score', model_cv)\n",
    "print('CV Score Mean', model_cv.mean())\n",
    "print('CV Score Std', model_cv.std())"
   ]
  },
  {
   "cell_type": "code",
   "execution_count": 143,
   "metadata": {},
   "outputs": [],
   "source": [
    "model_cv=cross_val_score(estimator, X_train_val, y_train_val, scoring='f1',cv=skfold)"
   ]
  },
  {
   "cell_type": "code",
   "execution_count": 146,
   "metadata": {},
   "outputs": [
    {
     "name": "stdout",
     "output_type": "stream",
     "text": [
      "CV Score [0.59255482 0.60502513 0.59898477 0.62110553 0.6221336 ]\n",
      "CV Score Mean 0.6079607686024484\n",
      "CV Score Std 0.011833711368265581\n"
     ]
    }
   ],
   "source": [
    "print('CV Score', model_cv)\n",
    "print('CV Score Mean', model_cv.mean())\n",
    "print('CV Score Std', model_cv.std())"
   ]
  },
  {
   "cell_type": "markdown",
   "metadata": {},
   "source": [
    "# Flexible Metrics"
   ]
  },
  {
   "cell_type": "code",
   "execution_count": 150,
   "metadata": {},
   "outputs": [],
   "source": [
    "def model_evaluation_cv(model, metric,transfomer):\n",
    "    skfold = StratifiedKFold(n_splits=5)\n",
    "    \n",
    "    estimator = Pipeline([\n",
    "        ('preprocess',transformer),\n",
    "        ('clf',model)\n",
    "    ])\n",
    "    \n",
    "    model_cv=cross_val_score(estimator, X_train_val, y_train_val, scoring=metric,cv=skfold)\n",
    "    print('CV Score', model_cv)\n",
    "    print('CV Score Mean', model_cv.mean())\n",
    "    print('CV Score Std', model_cv.std())\n",
    "    \n",
    "    return model_cv"
   ]
  },
  {
   "cell_type": "markdown",
   "metadata": {},
   "source": [
    "## Coba Pake Logreg"
   ]
  },
  {
   "cell_type": "code",
   "execution_count": 151,
   "metadata": {},
   "outputs": [
    {
     "name": "stdout",
     "output_type": "stream",
     "text": [
      "CV Score [0.60656541 0.66446748 0.63331714 0.64336325 0.6657277 ]\n",
      "CV Score Mean 0.6426881972553019\n",
      "CV Score Std 0.021901069053451787\n"
     ]
    }
   ],
   "source": [
    "model = LogisticRegression(solver='liblinear',random_state=2020)\n",
    "metric = 'f1'\n",
    "trans = transformer\n",
    "\n",
    "logit_cv=model_evaluation_cv(model,metric,trans)"
   ]
  },
  {
   "cell_type": "code",
   "execution_count": 154,
   "metadata": {},
   "outputs": [
    {
     "name": "stdout",
     "output_type": "stream",
     "text": [
      "CV Score [0.59255482 0.60502513 0.59898477 0.62110553 0.6221336 ]\n",
      "CV Score Mean 0.6079607686024484\n",
      "CV Score Std 0.011833711368265581\n"
     ]
    }
   ],
   "source": [
    "model = DecisionTreeClassifier(criterion='entropy',max_depth=5, random_state=2020)\n",
    "metric = 'f1'\n",
    "trans = transformer\n",
    "\n",
    "dtr_cv=model_evaluation_cv(model,metric,trans)"
   ]
  },
  {
   "cell_type": "code",
   "execution_count": 155,
   "metadata": {},
   "outputs": [
    {
     "data": {
      "text/plain": [
       "0.6079607686024484"
      ]
     },
     "execution_count": 155,
     "metadata": {},
     "output_type": "execute_result"
    }
   ],
   "source": [
    "dtr_cv.mean()"
   ]
  },
  {
   "cell_type": "code",
   "execution_count": 156,
   "metadata": {},
   "outputs": [
    {
     "data": {
      "text/plain": [
       "0.6426881972553019"
      ]
     },
     "execution_count": 156,
     "metadata": {},
     "output_type": "execute_result"
    }
   ],
   "source": [
    "logit_cv.mean()"
   ]
  },
  {
   "cell_type": "markdown",
   "metadata": {},
   "source": [
    "### Since Logreg is better, we use logreg"
   ]
  },
  {
   "cell_type": "code",
   "execution_count": 157,
   "metadata": {},
   "outputs": [
    {
     "data": {
      "text/plain": [
       "Pipeline(steps=[('preprocess',\n",
       "                 ColumnTransformer(remainder='passthrough',\n",
       "                                   transformers=[('one_hot',\n",
       "                                                  OneHotEncoder(drop='first'),\n",
       "                                                  ['relationship', 'race',\n",
       "                                                   'sex']),\n",
       "                                                 ('binary_encoder',\n",
       "                                                  Pipeline(steps=[('imputer',\n",
       "                                                                   SimpleImputer(fill_value='NC',\n",
       "                                                                                 strategy='constant')),\n",
       "                                                                  ('binary',\n",
       "                                                                   BinaryEncoder())]),\n",
       "                                                  ['workclass',\n",
       "                                                   'marital.status',\n",
       "                                                   'occupation',\n",
       "                                                   'native.country'])])),\n",
       "                ('clf',\n",
       "                 LogisticRegression(random_state=2020, solver='liblinear'))])"
      ]
     },
     "execution_count": 157,
     "metadata": {},
     "output_type": "execute_result"
    }
   ],
   "source": [
    "logit = LogisticRegression(solver='liblinear', random_state=2020)\n",
    "\n",
    "estimator = Pipeline([\n",
    "    ('preprocess',transformer),\n",
    "    ('clf',logit)\n",
    "])\n",
    "estimator.fit(X_train_val, y_train_val)"
   ]
  },
  {
   "cell_type": "code",
   "execution_count": 158,
   "metadata": {},
   "outputs": [],
   "source": [
    "y_pred = estimator.predict(X_test)"
   ]
  },
  {
   "cell_type": "code",
   "execution_count": 159,
   "metadata": {},
   "outputs": [
    {
     "name": "stdout",
     "output_type": "stream",
     "text": [
      "              precision    recall  f1-score   support\n",
      "\n",
      "           0       0.88      0.93      0.90      6181\n",
      "           1       0.73      0.59      0.65      1960\n",
      "\n",
      "    accuracy                           0.85      8141\n",
      "   macro avg       0.81      0.76      0.78      8141\n",
      "weighted avg       0.84      0.85      0.84      8141\n",
      "\n"
     ]
    }
   ],
   "source": [
    "print(classification_report(y_test,y_pred))"
   ]
  },
  {
   "cell_type": "code",
   "execution_count": 163,
   "metadata": {},
   "outputs": [
    {
     "data": {
      "image/png": "[encoded data removed]",
      "text/plain": [
       "<Figure size 432x288 with 1 Axes>"
      ]
     },
     "metadata": {
      "needs_background": "light"
     },
     "output_type": "display_data"
    }
   ],
   "source": [
    "plot_roc_curve(estimator, X_test, y_test)\n",
    "plt.show()"
   ]
  },
  {
   "cell_type": "code",
   "execution_count": 160,
   "metadata": {},
   "outputs": [
    {
     "data": {
      "image/png": "[encoded data removed]",
      "text/plain": [
       "<Figure size 432x288 with 1 Axes>"
      ]
     },
     "metadata": {
      "needs_background": "light"
     },
     "output_type": "display_data"
    }
   ],
   "source": [
    "plot_precision_recall_curve(estimator, X_test, y_test)\n",
    "plt.show()"
   ]
  },
  {
   "cell_type": "markdown",
   "metadata": {},
   "source": [
    "# Proper Preprocessing : No Information Leakage + Hyperparameter"
   ]
  },
  {
   "cell_type": "code",
   "execution_count": 176,
   "metadata": {},
   "outputs": [],
   "source": [
    "logit = LogisticRegression(solver='liblinear', random_state=2020)\n",
    "\n",
    "estimator = Pipeline([\n",
    "    ('preprocess',transformer),\n",
    "    ('clf',logit)\n",
    "])\n",
    "\n",
    "hyperparam_space={\n",
    "    'clf__C':[100, 10, 1, 0.1, 0.01, 0.001],\n",
    "    'clf__solver':['liblinear','newton-cg']\n",
    "}\n",
    "skfold=StratifiedKFold(n_splits=5)\n",
    "\n",
    "gridsearch=GridSearchCV(\n",
    "estimator,\n",
    "hyperparam_space,\n",
    "cv=skfold,\n",
    "scoring='f1',\n",
    "n_jobs=-1,\n",
    "verbose=1\n",
    ")"
   ]
  },
  {
   "cell_type": "code",
   "execution_count": 177,
   "metadata": {},
   "outputs": [],
   "source": [
    "#estimator.get_params()"
   ]
  },
  {
   "cell_type": "code",
   "execution_count": 178,
   "metadata": {},
   "outputs": [
    {
     "name": "stdout",
     "output_type": "stream",
     "text": [
      "Fitting 5 folds for each of 12 candidates, totalling 60 fits\n"
     ]
    },
    {
     "name": "stderr",
     "output_type": "stream",
     "text": [
      "[Parallel(n_jobs=-1)]: Using backend LokyBackend with 12 concurrent workers.\n",
      "[Parallel(n_jobs=-1)]: Done  26 tasks      | elapsed:   29.5s\n",
      "[Parallel(n_jobs=-1)]: Done  60 out of  60 | elapsed:   45.5s finished\n"
     ]
    },
    {
     "data": {
      "text/plain": [
       "GridSearchCV(cv=StratifiedKFold(n_splits=5, random_state=None, shuffle=False),\n",
       "             estimator=Pipeline(steps=[('preprocess',\n",
       "                                        ColumnTransformer(remainder='passthrough',\n",
       "                                                          transformers=[('one_hot',\n",
       "                                                                         OneHotEncoder(drop='first'),\n",
       "                                                                         ['relationship',\n",
       "                                                                          'race',\n",
       "                                                                          'sex']),\n",
       "                                                                        ('binary_encoder',\n",
       "                                                                         Pipeline(steps=[('imputer',\n",
       "                                                                                          SimpleImputer(fill_value='NC',\n",
       "                                                                                                        strategy='constant')),\n",
       "                                                                                         ('binary',\n",
       "                                                                                          BinaryEncoder())]),\n",
       "                                                                         ['workclass',\n",
       "                                                                          'marital.status',\n",
       "                                                                          'occupation',\n",
       "                                                                          'native.country'])])),\n",
       "                                       ('clf',\n",
       "                                        LogisticRegression(random_state=2020,\n",
       "                                                           solver='liblinear'))]),\n",
       "             n_jobs=-1,\n",
       "             param_grid={'clf__C': [100, 10, 1, 0.1, 0.01, 0.001],\n",
       "                         'clf__solver': ['liblinear', 'newton-cg']},\n",
       "             scoring='f1', verbose=1)"
      ]
     },
     "execution_count": 178,
     "metadata": {},
     "output_type": "execute_result"
    }
   ],
   "source": [
    "gridsearch.fit(X_train_val,y_train_val)"
   ]
  },
  {
   "cell_type": "code",
   "execution_count": 180,
   "metadata": {},
   "outputs": [
    {
     "name": "stdout",
     "output_type": "stream",
     "text": [
      "best_score 0.6460237640462658\n",
      "best_parameter {'clf__C': 100, 'clf__solver': 'newton-cg'}\n"
     ]
    }
   ],
   "source": [
    "print('best_score', gridsearch.best_score_)\n",
    "print('best_parameter', gridsearch.best_params_)"
   ]
  },
  {
   "cell_type": "code",
   "execution_count": 181,
   "metadata": {},
   "outputs": [
    {
     "data": {
      "text/html": [
       "<div>\n",
       "<style scoped>\n",
       "    .dataframe tbody tr th:only-of-type {\n",
       "        vertical-align: middle;\n",
       "    }\n",
       "\n",
       "    .dataframe tbody tr th {\n",
       "        vertical-align: top;\n",
       "    }\n",
       "\n",
       "    .dataframe thead th {\n",
       "        text-align: right;\n",
       "    }\n",
       "</style>\n",
       "<table border=\"1\" class=\"dataframe\">\n",
       "  <thead>\n",
       "    <tr style=\"text-align: right;\">\n",
       "      <th></th>\n",
       "      <th>mean_fit_time</th>\n",
       "      <th>std_fit_time</th>\n",
       "      <th>mean_score_time</th>\n",
       "      <th>std_score_time</th>\n",
       "      <th>param_clf__C</th>\n",
       "      <th>param_clf__solver</th>\n",
       "      <th>params</th>\n",
       "      <th>split0_test_score</th>\n",
       "      <th>split1_test_score</th>\n",
       "      <th>split2_test_score</th>\n",
       "      <th>split3_test_score</th>\n",
       "      <th>split4_test_score</th>\n",
       "      <th>mean_test_score</th>\n",
       "      <th>std_test_score</th>\n",
       "      <th>rank_test_score</th>\n",
       "    </tr>\n",
       "  </thead>\n",
       "  <tbody>\n",
       "    <tr>\n",
       "      <th>0</th>\n",
       "      <td>2.050484</td>\n",
       "      <td>0.186824</td>\n",
       "      <td>0.167909</td>\n",
       "      <td>0.033605</td>\n",
       "      <td>100</td>\n",
       "      <td>liblinear</td>\n",
       "      <td>{'clf__C': 100, 'clf__solver': 'liblinear'}</td>\n",
       "      <td>0.606654</td>\n",
       "      <td>0.660085</td>\n",
       "      <td>0.632089</td>\n",
       "      <td>0.642185</td>\n",
       "      <td>0.665728</td>\n",
       "      <td>0.641348</td>\n",
       "      <td>0.021145</td>\n",
       "      <td>7</td>\n",
       "    </tr>\n",
       "    <tr>\n",
       "      <th>1</th>\n",
       "      <td>24.855805</td>\n",
       "      <td>3.049754</td>\n",
       "      <td>0.147768</td>\n",
       "      <td>0.030203</td>\n",
       "      <td>100</td>\n",
       "      <td>newton-cg</td>\n",
       "      <td>{'clf__C': 100, 'clf__solver': 'newton-cg'}</td>\n",
       "      <td>0.625773</td>\n",
       "      <td>0.665730</td>\n",
       "      <td>0.628846</td>\n",
       "      <td>0.642790</td>\n",
       "      <td>0.666980</td>\n",
       "      <td>0.646024</td>\n",
       "      <td>0.017568</td>\n",
       "      <td>1</td>\n",
       "    </tr>\n",
       "    <tr>\n",
       "      <th>2</th>\n",
       "      <td>2.355109</td>\n",
       "      <td>0.196427</td>\n",
       "      <td>0.125819</td>\n",
       "      <td>0.034126</td>\n",
       "      <td>10</td>\n",
       "      <td>liblinear</td>\n",
       "      <td>{'clf__C': 10, 'clf__solver': 'liblinear'}</td>\n",
       "      <td>0.618005</td>\n",
       "      <td>0.661343</td>\n",
       "      <td>0.631120</td>\n",
       "      <td>0.640535</td>\n",
       "      <td>0.665728</td>\n",
       "      <td>0.643346</td>\n",
       "      <td>0.018024</td>\n",
       "      <td>5</td>\n",
       "    </tr>\n",
       "    <tr>\n",
       "      <th>3</th>\n",
       "      <td>19.477758</td>\n",
       "      <td>2.487062</td>\n",
       "      <td>0.164284</td>\n",
       "      <td>0.054244</td>\n",
       "      <td>10</td>\n",
       "      <td>newton-cg</td>\n",
       "      <td>{'clf__C': 10, 'clf__solver': 'newton-cg'}</td>\n",
       "      <td>0.625119</td>\n",
       "      <td>0.665730</td>\n",
       "      <td>0.628846</td>\n",
       "      <td>0.643093</td>\n",
       "      <td>0.666980</td>\n",
       "      <td>0.645954</td>\n",
       "      <td>0.017710</td>\n",
       "      <td>2</td>\n",
       "    </tr>\n",
       "    <tr>\n",
       "      <th>4</th>\n",
       "      <td>3.343474</td>\n",
       "      <td>0.657342</td>\n",
       "      <td>0.142429</td>\n",
       "      <td>0.042895</td>\n",
       "      <td>1</td>\n",
       "      <td>liblinear</td>\n",
       "      <td>{'clf__C': 1, 'clf__solver': 'liblinear'}</td>\n",
       "      <td>0.606565</td>\n",
       "      <td>0.664467</td>\n",
       "      <td>0.633317</td>\n",
       "      <td>0.643363</td>\n",
       "      <td>0.665728</td>\n",
       "      <td>0.642688</td>\n",
       "      <td>0.021901</td>\n",
       "      <td>6</td>\n",
       "    </tr>\n",
       "    <tr>\n",
       "      <th>5</th>\n",
       "      <td>14.076501</td>\n",
       "      <td>0.677581</td>\n",
       "      <td>0.125887</td>\n",
       "      <td>0.024763</td>\n",
       "      <td>1</td>\n",
       "      <td>newton-cg</td>\n",
       "      <td>{'clf__C': 1, 'clf__solver': 'newton-cg'}</td>\n",
       "      <td>0.624762</td>\n",
       "      <td>0.664477</td>\n",
       "      <td>0.627526</td>\n",
       "      <td>0.642756</td>\n",
       "      <td>0.666353</td>\n",
       "      <td>0.645175</td>\n",
       "      <td>0.017636</td>\n",
       "      <td>3</td>\n",
       "    </tr>\n",
       "    <tr>\n",
       "      <th>6</th>\n",
       "      <td>2.902197</td>\n",
       "      <td>0.737575</td>\n",
       "      <td>0.153106</td>\n",
       "      <td>0.052049</td>\n",
       "      <td>0.1</td>\n",
       "      <td>liblinear</td>\n",
       "      <td>{'clf__C': 0.1, 'clf__solver': 'liblinear'}</td>\n",
       "      <td>0.601779</td>\n",
       "      <td>0.646301</td>\n",
       "      <td>0.629720</td>\n",
       "      <td>0.637363</td>\n",
       "      <td>0.644068</td>\n",
       "      <td>0.631846</td>\n",
       "      <td>0.016108</td>\n",
       "      <td>8</td>\n",
       "    </tr>\n",
       "    <tr>\n",
       "      <th>7</th>\n",
       "      <td>10.762880</td>\n",
       "      <td>0.695808</td>\n",
       "      <td>0.096220</td>\n",
       "      <td>0.013917</td>\n",
       "      <td>0.1</td>\n",
       "      <td>newton-cg</td>\n",
       "      <td>{'clf__C': 0.1, 'clf__solver': 'newton-cg'}</td>\n",
       "      <td>0.622778</td>\n",
       "      <td>0.661633</td>\n",
       "      <td>0.623188</td>\n",
       "      <td>0.644550</td>\n",
       "      <td>0.664775</td>\n",
       "      <td>0.643385</td>\n",
       "      <td>0.018025</td>\n",
       "      <td>4</td>\n",
       "    </tr>\n",
       "    <tr>\n",
       "      <th>8</th>\n",
       "      <td>2.189103</td>\n",
       "      <td>0.312916</td>\n",
       "      <td>0.105966</td>\n",
       "      <td>0.012090</td>\n",
       "      <td>0.01</td>\n",
       "      <td>liblinear</td>\n",
       "      <td>{'clf__C': 0.01, 'clf__solver': 'liblinear'}</td>\n",
       "      <td>0.578785</td>\n",
       "      <td>0.587368</td>\n",
       "      <td>0.562803</td>\n",
       "      <td>0.584631</td>\n",
       "      <td>0.588912</td>\n",
       "      <td>0.580500</td>\n",
       "      <td>0.009499</td>\n",
       "      <td>10</td>\n",
       "    </tr>\n",
       "    <tr>\n",
       "      <th>9</th>\n",
       "      <td>8.504451</td>\n",
       "      <td>0.738437</td>\n",
       "      <td>0.090440</td>\n",
       "      <td>0.030480</td>\n",
       "      <td>0.01</td>\n",
       "      <td>newton-cg</td>\n",
       "      <td>{'clf__C': 0.01, 'clf__solver': 'newton-cg'}</td>\n",
       "      <td>0.615007</td>\n",
       "      <td>0.636719</td>\n",
       "      <td>0.605144</td>\n",
       "      <td>0.625490</td>\n",
       "      <td>0.652724</td>\n",
       "      <td>0.627017</td>\n",
       "      <td>0.016613</td>\n",
       "      <td>9</td>\n",
       "    </tr>\n",
       "    <tr>\n",
       "      <th>10</th>\n",
       "      <td>2.026137</td>\n",
       "      <td>0.166722</td>\n",
       "      <td>0.102595</td>\n",
       "      <td>0.007452</td>\n",
       "      <td>0.001</td>\n",
       "      <td>liblinear</td>\n",
       "      <td>{'clf__C': 0.001, 'clf__solver': 'liblinear'}</td>\n",
       "      <td>0.431373</td>\n",
       "      <td>0.448276</td>\n",
       "      <td>0.392405</td>\n",
       "      <td>0.431108</td>\n",
       "      <td>0.439601</td>\n",
       "      <td>0.428553</td>\n",
       "      <td>0.019143</td>\n",
       "      <td>12</td>\n",
       "    </tr>\n",
       "    <tr>\n",
       "      <th>11</th>\n",
       "      <td>4.579735</td>\n",
       "      <td>0.403894</td>\n",
       "      <td>0.031121</td>\n",
       "      <td>0.006387</td>\n",
       "      <td>0.001</td>\n",
       "      <td>newton-cg</td>\n",
       "      <td>{'clf__C': 0.001, 'clf__solver': 'newton-cg'}</td>\n",
       "      <td>0.557794</td>\n",
       "      <td>0.559358</td>\n",
       "      <td>0.536559</td>\n",
       "      <td>0.569910</td>\n",
       "      <td>0.572038</td>\n",
       "      <td>0.559132</td>\n",
       "      <td>0.012603</td>\n",
       "      <td>11</td>\n",
       "    </tr>\n",
       "  </tbody>\n",
       "</table>\n",
       "</div>"
      ],
      "text/plain": [
       "    mean_fit_time  std_fit_time  mean_score_time  std_score_time param_clf__C  \\\n",
       "0        2.050484      0.186824         0.167909        0.033605          100   \n",
       "1       24.855805      3.049754         0.147768        0.030203          100   \n",
       "2        2.355109      0.196427         0.125819        0.034126           10   \n",
       "3       19.477758      2.487062         0.164284        0.054244           10   \n",
       "4        3.343474      0.657342         0.142429        0.042895            1   \n",
       "5       14.076501      0.677581         0.125887        0.024763            1   \n",
       "6        2.902197      0.737575         0.153106        0.052049          0.1   \n",
       "7       10.762880      0.695808         0.096220        0.013917          0.1   \n",
       "8        2.189103      0.312916         0.105966        0.012090         0.01   \n",
       "9        8.504451      0.738437         0.090440        0.030480         0.01   \n",
       "10       2.026137      0.166722         0.102595        0.007452        0.001   \n",
       "11       4.579735      0.403894         0.031121        0.006387        0.001   \n",
       "\n",
       "   param_clf__solver                                         params  \\\n",
       "0          liblinear    {'clf__C': 100, 'clf__solver': 'liblinear'}   \n",
       "1          newton-cg    {'clf__C': 100, 'clf__solver': 'newton-cg'}   \n",
       "2          liblinear     {'clf__C': 10, 'clf__solver': 'liblinear'}   \n",
       "3          newton-cg     {'clf__C': 10, 'clf__solver': 'newton-cg'}   \n",
       "4          liblinear      {'clf__C': 1, 'clf__solver': 'liblinear'}   \n",
       "5          newton-cg      {'clf__C': 1, 'clf__solver': 'newton-cg'}   \n",
       "6          liblinear    {'clf__C': 0.1, 'clf__solver': 'liblinear'}   \n",
       "7          newton-cg    {'clf__C': 0.1, 'clf__solver': 'newton-cg'}   \n",
       "8          liblinear   {'clf__C': 0.01, 'clf__solver': 'liblinear'}   \n",
       "9          newton-cg   {'clf__C': 0.01, 'clf__solver': 'newton-cg'}   \n",
       "10         liblinear  {'clf__C': 0.001, 'clf__solver': 'liblinear'}   \n",
       "11         newton-cg  {'clf__C': 0.001, 'clf__solver': 'newton-cg'}   \n",
       "\n",
       "    split0_test_score  split1_test_score  split2_test_score  \\\n",
       "0            0.606654           0.660085           0.632089   \n",
       "1            0.625773           0.665730           0.628846   \n",
       "2            0.618005           0.661343           0.631120   \n",
       "3            0.625119           0.665730           0.628846   \n",
       "4            0.606565           0.664467           0.633317   \n",
       "5            0.624762           0.664477           0.627526   \n",
       "6            0.601779           0.646301           0.629720   \n",
       "7            0.622778           0.661633           0.623188   \n",
       "8            0.578785           0.587368           0.562803   \n",
       "9            0.615007           0.636719           0.605144   \n",
       "10           0.431373           0.448276           0.392405   \n",
       "11           0.557794           0.559358           0.536559   \n",
       "\n",
       "    split3_test_score  split4_test_score  mean_test_score  std_test_score  \\\n",
       "0            0.642185           0.665728         0.641348        0.021145   \n",
       "1            0.642790           0.666980         0.646024        0.017568   \n",
       "2            0.640535           0.665728         0.643346        0.018024   \n",
       "3            0.643093           0.666980         0.645954        0.017710   \n",
       "4            0.643363           0.665728         0.642688        0.021901   \n",
       "5            0.642756           0.666353         0.645175        0.017636   \n",
       "6            0.637363           0.644068         0.631846        0.016108   \n",
       "7            0.644550           0.664775         0.643385        0.018025   \n",
       "8            0.584631           0.588912         0.580500        0.009499   \n",
       "9            0.625490           0.652724         0.627017        0.016613   \n",
       "10           0.431108           0.439601         0.428553        0.019143   \n",
       "11           0.569910           0.572038         0.559132        0.012603   \n",
       "\n",
       "    rank_test_score  \n",
       "0                 7  \n",
       "1                 1  \n",
       "2                 5  \n",
       "3                 2  \n",
       "4                 6  \n",
       "5                 3  \n",
       "6                 8  \n",
       "7                 4  \n",
       "8                10  \n",
       "9                 9  \n",
       "10               12  \n",
       "11               11  "
      ]
     },
     "execution_count": 181,
     "metadata": {},
     "output_type": "execute_result"
    }
   ],
   "source": [
    "pd.DataFrame(gridsearch.cv_results_)"
   ]
  },
  {
   "cell_type": "markdown",
   "metadata": {},
   "source": [
    "## Benchmarked Model"
   ]
  },
  {
   "cell_type": "code",
   "execution_count": 182,
   "metadata": {},
   "outputs": [
    {
     "name": "stdout",
     "output_type": "stream",
     "text": [
      "              precision    recall  f1-score   support\n",
      "\n",
      "           0       0.88      0.93      0.90      6181\n",
      "           1       0.73      0.59      0.65      1960\n",
      "\n",
      "    accuracy                           0.85      8141\n",
      "   macro avg       0.81      0.76      0.78      8141\n",
      "weighted avg       0.84      0.85      0.84      8141\n",
      "\n"
     ]
    }
   ],
   "source": [
    "estimator.fit(X_train_val, y_train_val)\n",
    "y_pred = estimator.predict(X_test)\n",
    "print(classification_report(y_test,y_pred))"
   ]
  },
  {
   "cell_type": "code",
   "execution_count": 183,
   "metadata": {},
   "outputs": [
    {
     "data": {
      "text/html": [
       "<div>\n",
       "<style scoped>\n",
       "    .dataframe tbody tr th:only-of-type {\n",
       "        vertical-align: middle;\n",
       "    }\n",
       "\n",
       "    .dataframe tbody tr th {\n",
       "        vertical-align: top;\n",
       "    }\n",
       "\n",
       "    .dataframe thead th {\n",
       "        text-align: right;\n",
       "    }\n",
       "</style>\n",
       "<table border=\"1\" class=\"dataframe\">\n",
       "  <thead>\n",
       "    <tr style=\"text-align: right;\">\n",
       "      <th></th>\n",
       "      <th>p_0</th>\n",
       "      <th>p_1</th>\n",
       "      <th>total_actual</th>\n",
       "    </tr>\n",
       "  </thead>\n",
       "  <tbody>\n",
       "    <tr>\n",
       "      <th>a_0</th>\n",
       "      <td>5762</td>\n",
       "      <td>419</td>\n",
       "      <td>6181</td>\n",
       "    </tr>\n",
       "    <tr>\n",
       "      <th>a_1</th>\n",
       "      <td>807</td>\n",
       "      <td>1153</td>\n",
       "      <td>1960</td>\n",
       "    </tr>\n",
       "    <tr>\n",
       "      <th>total_prediction</th>\n",
       "      <td>6569</td>\n",
       "      <td>1572</td>\n",
       "      <td>8141</td>\n",
       "    </tr>\n",
       "  </tbody>\n",
       "</table>\n",
       "</div>"
      ],
      "text/plain": [
       "                   p_0   p_1  total_actual\n",
       "a_0               5762   419          6181\n",
       "a_1                807  1153          1960\n",
       "total_prediction  6569  1572          8141"
      ]
     },
     "execution_count": 183,
     "metadata": {},
     "output_type": "execute_result"
    }
   ],
   "source": [
    "make_confusion_matrix(confusion_matrix(y_test, y_pred))"
   ]
  },
  {
   "cell_type": "code",
   "execution_count": 184,
   "metadata": {},
   "outputs": [
    {
     "data": {
      "image/png": "[encoded data removed]",
      "text/plain": [
       "<Figure size 432x288 with 1 Axes>"
      ]
     },
     "metadata": {
      "needs_background": "light"
     },
     "output_type": "display_data"
    }
   ],
   "source": [
    "plot_roc_curve(estimator, X_test, y_test)\n",
    "plt.show()"
   ]
  },
  {
   "cell_type": "markdown",
   "metadata": {},
   "source": [
    "## Tuned Model"
   ]
  },
  {
   "cell_type": "code",
   "execution_count": 189,
   "metadata": {},
   "outputs": [
    {
     "data": {
      "text/plain": [
       "Pipeline(steps=[('preprocess',\n",
       "                 ColumnTransformer(remainder='passthrough',\n",
       "                                   transformers=[('one_hot',\n",
       "                                                  OneHotEncoder(drop='first'),\n",
       "                                                  ['relationship', 'race',\n",
       "                                                   'sex']),\n",
       "                                                 ('binary_encoder',\n",
       "                                                  Pipeline(steps=[('imputer',\n",
       "                                                                   SimpleImputer(fill_value='NC',\n",
       "                                                                                 strategy='constant')),\n",
       "                                                                  ('binary',\n",
       "                                                                   BinaryEncoder())]),\n",
       "                                                  ['workclass',\n",
       "                                                   'marital.status',\n",
       "                                                   'occupation',\n",
       "                                                   'native.country'])])),\n",
       "                ('clf',\n",
       "                 LogisticRegression(C=100, random_state=2020,\n",
       "                                    solver='newton-cg'))])"
      ]
     },
     "execution_count": 189,
     "metadata": {},
     "output_type": "execute_result"
    }
   ],
   "source": [
    "gridsearch.best_estimator_"
   ]
  },
  {
   "cell_type": "code",
   "execution_count": 185,
   "metadata": {},
   "outputs": [],
   "source": [
    "tuned_logit = gridsearch.best_estimator_.fit(X_train_val, y_train_val)"
   ]
  },
  {
   "cell_type": "code",
   "execution_count": 191,
   "metadata": {},
   "outputs": [],
   "source": [
    "y_pred_tuned = tuned_logit.predict(X_test)"
   ]
  },
  {
   "cell_type": "code",
   "execution_count": 192,
   "metadata": {},
   "outputs": [
    {
     "name": "stdout",
     "output_type": "stream",
     "text": [
      "              precision    recall  f1-score   support\n",
      "\n",
      "           0       0.88      0.93      0.90      6181\n",
      "           1       0.73      0.60      0.66      1960\n",
      "\n",
      "    accuracy                           0.85      8141\n",
      "   macro avg       0.80      0.76      0.78      8141\n",
      "weighted avg       0.84      0.85      0.84      8141\n",
      "\n"
     ]
    }
   ],
   "source": [
    "print(classification_report(y_test,y_pred_tuned))"
   ]
  },
  {
   "cell_type": "code",
   "execution_count": 193,
   "metadata": {},
   "outputs": [
    {
     "data": {
      "text/html": [
       "<div>\n",
       "<style scoped>\n",
       "    .dataframe tbody tr th:only-of-type {\n",
       "        vertical-align: middle;\n",
       "    }\n",
       "\n",
       "    .dataframe tbody tr th {\n",
       "        vertical-align: top;\n",
       "    }\n",
       "\n",
       "    .dataframe thead th {\n",
       "        text-align: right;\n",
       "    }\n",
       "</style>\n",
       "<table border=\"1\" class=\"dataframe\">\n",
       "  <thead>\n",
       "    <tr style=\"text-align: right;\">\n",
       "      <th></th>\n",
       "      <th>p_0</th>\n",
       "      <th>p_1</th>\n",
       "      <th>total_actual</th>\n",
       "    </tr>\n",
       "  </thead>\n",
       "  <tbody>\n",
       "    <tr>\n",
       "      <th>a_0</th>\n",
       "      <td>5742</td>\n",
       "      <td>439</td>\n",
       "      <td>6181</td>\n",
       "    </tr>\n",
       "    <tr>\n",
       "      <th>a_1</th>\n",
       "      <td>787</td>\n",
       "      <td>1173</td>\n",
       "      <td>1960</td>\n",
       "    </tr>\n",
       "    <tr>\n",
       "      <th>total_prediction</th>\n",
       "      <td>6529</td>\n",
       "      <td>1612</td>\n",
       "      <td>8141</td>\n",
       "    </tr>\n",
       "  </tbody>\n",
       "</table>\n",
       "</div>"
      ],
      "text/plain": [
       "                   p_0   p_1  total_actual\n",
       "a_0               5742   439          6181\n",
       "a_1                787  1173          1960\n",
       "total_prediction  6529  1612          8141"
      ]
     },
     "execution_count": 193,
     "metadata": {},
     "output_type": "execute_result"
    }
   ],
   "source": [
    "make_confusion_matrix(confusion_matrix(y_test,y_pred_tuned))"
   ]
  },
  {
   "cell_type": "code",
   "execution_count": 194,
   "metadata": {},
   "outputs": [
    {
     "data": {
      "image/png": "[encoded data removed]",
      "text/plain": [
       "<Figure size 432x288 with 1 Axes>"
      ]
     },
     "metadata": {
      "needs_background": "light"
     },
     "output_type": "display_data"
    }
   ],
   "source": [
    "plot_roc_curve(tuned_logit, X_test, y_test)\n",
    "plt.show()"
   ]
  },
  {
   "cell_type": "markdown",
   "metadata": {},
   "source": [
    "# Kesimpulan : F1 Scorenya naik dikit"
   ]
  },
  {
   "cell_type": "code",
   "execution_count": null,
   "metadata": {},
   "outputs": [],
   "source": []
  }
 ],
 "metadata": {
  "kernelspec": {
   "display_name": "Python 3",
   "language": "python",
   "name": "python3"
  },
  "language_info": {
   "codemirror_mode": {
    "name": "ipython",
    "version": 3
   },
   "file_extension": ".py",
   "mimetype": "text/x-python",
   "name": "python",
   "nbconvert_exporter": "python",
   "pygments_lexer": "ipython3",
   "version": "3.8.3"
  }
 },
 "nbformat": 4,
 "nbformat_minor": 5
}
