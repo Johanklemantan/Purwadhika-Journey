{
 "cells": [
  {
   "cell_type": "code",
   "execution_count": 11,
   "metadata": {},
   "outputs": [],
   "source": [
    "import pandas as pd\n",
    "import numpy as np\n",
    "import matplotlib.pyplot as plt\n",
    "import seaborn as sns\n",
    "\n",
    "from sklearn.model_selection import train_test_split\n",
    "from sklearn.neighbors import KNeighborsClassifier\n",
    "from sklearn.metrics import confusion_matrix, accuracy_score, classification_report"
   ]
  },
  {
   "cell_type": "code",
   "execution_count": 3,
   "metadata": {},
   "outputs": [
    {
     "data": {
      "text/html": [
       "<div>\n",
       "<style scoped>\n",
       "    .dataframe tbody tr th:only-of-type {\n",
       "        vertical-align: middle;\n",
       "    }\n",
       "\n",
       "    .dataframe tbody tr th {\n",
       "        vertical-align: top;\n",
       "    }\n",
       "\n",
       "    .dataframe thead th {\n",
       "        text-align: right;\n",
       "    }\n",
       "</style>\n",
       "<table border=\"1\" class=\"dataframe\">\n",
       "  <thead>\n",
       "    <tr style=\"text-align: right;\">\n",
       "      <th></th>\n",
       "      <th>fixed acidity</th>\n",
       "      <th>volatile acidity</th>\n",
       "      <th>citric acid</th>\n",
       "      <th>residual sugar</th>\n",
       "      <th>chlorides</th>\n",
       "      <th>free sulfur dioxide</th>\n",
       "      <th>total sulfur dioxide</th>\n",
       "      <th>density</th>\n",
       "      <th>pH</th>\n",
       "      <th>sulphates</th>\n",
       "      <th>alcohol</th>\n",
       "      <th>quality</th>\n",
       "    </tr>\n",
       "  </thead>\n",
       "  <tbody>\n",
       "    <tr>\n",
       "      <th>0</th>\n",
       "      <td>7.0</td>\n",
       "      <td>0.27</td>\n",
       "      <td>0.36</td>\n",
       "      <td>20.7</td>\n",
       "      <td>0.045</td>\n",
       "      <td>45.0</td>\n",
       "      <td>170.0</td>\n",
       "      <td>1.0010</td>\n",
       "      <td>3.00</td>\n",
       "      <td>0.45</td>\n",
       "      <td>8.8</td>\n",
       "      <td>6.0</td>\n",
       "    </tr>\n",
       "    <tr>\n",
       "      <th>1</th>\n",
       "      <td>6.3</td>\n",
       "      <td>0.30</td>\n",
       "      <td>0.34</td>\n",
       "      <td>1.6</td>\n",
       "      <td>0.049</td>\n",
       "      <td>14.0</td>\n",
       "      <td>132.0</td>\n",
       "      <td>0.9940</td>\n",
       "      <td>3.30</td>\n",
       "      <td>0.49</td>\n",
       "      <td>9.5</td>\n",
       "      <td>6.0</td>\n",
       "    </tr>\n",
       "    <tr>\n",
       "      <th>2</th>\n",
       "      <td>8.1</td>\n",
       "      <td>0.28</td>\n",
       "      <td>0.40</td>\n",
       "      <td>6.9</td>\n",
       "      <td>0.050</td>\n",
       "      <td>30.0</td>\n",
       "      <td>97.0</td>\n",
       "      <td>0.9951</td>\n",
       "      <td>3.26</td>\n",
       "      <td>0.44</td>\n",
       "      <td>10.1</td>\n",
       "      <td>6.0</td>\n",
       "    </tr>\n",
       "    <tr>\n",
       "      <th>3</th>\n",
       "      <td>7.2</td>\n",
       "      <td>0.23</td>\n",
       "      <td>0.32</td>\n",
       "      <td>8.5</td>\n",
       "      <td>0.058</td>\n",
       "      <td>47.0</td>\n",
       "      <td>186.0</td>\n",
       "      <td>0.9956</td>\n",
       "      <td>3.19</td>\n",
       "      <td>0.40</td>\n",
       "      <td>9.9</td>\n",
       "      <td>6.0</td>\n",
       "    </tr>\n",
       "    <tr>\n",
       "      <th>4</th>\n",
       "      <td>7.2</td>\n",
       "      <td>0.23</td>\n",
       "      <td>0.32</td>\n",
       "      <td>8.5</td>\n",
       "      <td>0.058</td>\n",
       "      <td>47.0</td>\n",
       "      <td>186.0</td>\n",
       "      <td>0.9956</td>\n",
       "      <td>3.19</td>\n",
       "      <td>0.40</td>\n",
       "      <td>9.9</td>\n",
       "      <td>6.0</td>\n",
       "    </tr>\n",
       "    <tr>\n",
       "      <th>...</th>\n",
       "      <td>...</td>\n",
       "      <td>...</td>\n",
       "      <td>...</td>\n",
       "      <td>...</td>\n",
       "      <td>...</td>\n",
       "      <td>...</td>\n",
       "      <td>...</td>\n",
       "      <td>...</td>\n",
       "      <td>...</td>\n",
       "      <td>...</td>\n",
       "      <td>...</td>\n",
       "      <td>...</td>\n",
       "    </tr>\n",
       "    <tr>\n",
       "      <th>515</th>\n",
       "      <td>6.1</td>\n",
       "      <td>0.31</td>\n",
       "      <td>0.26</td>\n",
       "      <td>2.2</td>\n",
       "      <td>0.051</td>\n",
       "      <td>28.0</td>\n",
       "      <td>167.0</td>\n",
       "      <td>0.9926</td>\n",
       "      <td>3.37</td>\n",
       "      <td>0.47</td>\n",
       "      <td>10.4</td>\n",
       "      <td>6.0</td>\n",
       "    </tr>\n",
       "    <tr>\n",
       "      <th>516</th>\n",
       "      <td>6.8</td>\n",
       "      <td>0.18</td>\n",
       "      <td>0.37</td>\n",
       "      <td>1.6</td>\n",
       "      <td>0.055</td>\n",
       "      <td>47.0</td>\n",
       "      <td>154.0</td>\n",
       "      <td>0.9934</td>\n",
       "      <td>3.08</td>\n",
       "      <td>0.45</td>\n",
       "      <td>9.1</td>\n",
       "      <td>5.0</td>\n",
       "    </tr>\n",
       "    <tr>\n",
       "      <th>517</th>\n",
       "      <td>7.4</td>\n",
       "      <td>0.15</td>\n",
       "      <td>0.42</td>\n",
       "      <td>1.7</td>\n",
       "      <td>0.045</td>\n",
       "      <td>49.0</td>\n",
       "      <td>154.0</td>\n",
       "      <td>0.9920</td>\n",
       "      <td>3.00</td>\n",
       "      <td>0.60</td>\n",
       "      <td>10.4</td>\n",
       "      <td>6.0</td>\n",
       "    </tr>\n",
       "    <tr>\n",
       "      <th>518</th>\n",
       "      <td>5.9</td>\n",
       "      <td>0.13</td>\n",
       "      <td>0.28</td>\n",
       "      <td>1.9</td>\n",
       "      <td>0.050</td>\n",
       "      <td>20.0</td>\n",
       "      <td>78.0</td>\n",
       "      <td>0.9918</td>\n",
       "      <td>3.43</td>\n",
       "      <td>0.64</td>\n",
       "      <td>10.8</td>\n",
       "      <td>6.0</td>\n",
       "    </tr>\n",
       "    <tr>\n",
       "      <th>519</th>\n",
       "      <td>7.2</td>\n",
       "      <td>0.34</td>\n",
       "      <td>0.34</td>\n",
       "      <td>12.6</td>\n",
       "      <td>0.048</td>\n",
       "      <td>7.0</td>\n",
       "      <td>41.0</td>\n",
       "      <td>0.9940</td>\n",
       "      <td>NaN</td>\n",
       "      <td>NaN</td>\n",
       "      <td>NaN</td>\n",
       "      <td>NaN</td>\n",
       "    </tr>\n",
       "  </tbody>\n",
       "</table>\n",
       "<p>520 rows × 12 columns</p>\n",
       "</div>"
      ],
      "text/plain": [
       "     fixed acidity  volatile acidity  citric acid  residual sugar  chlorides  \\\n",
       "0              7.0              0.27         0.36            20.7      0.045   \n",
       "1              6.3              0.30         0.34             1.6      0.049   \n",
       "2              8.1              0.28         0.40             6.9      0.050   \n",
       "3              7.2              0.23         0.32             8.5      0.058   \n",
       "4              7.2              0.23         0.32             8.5      0.058   \n",
       "..             ...               ...          ...             ...        ...   \n",
       "515            6.1              0.31         0.26             2.2      0.051   \n",
       "516            6.8              0.18         0.37             1.6      0.055   \n",
       "517            7.4              0.15         0.42             1.7      0.045   \n",
       "518            5.9              0.13         0.28             1.9      0.050   \n",
       "519            7.2              0.34         0.34            12.6      0.048   \n",
       "\n",
       "     free sulfur dioxide  total sulfur dioxide  density    pH  sulphates  \\\n",
       "0                   45.0                 170.0   1.0010  3.00       0.45   \n",
       "1                   14.0                 132.0   0.9940  3.30       0.49   \n",
       "2                   30.0                  97.0   0.9951  3.26       0.44   \n",
       "3                   47.0                 186.0   0.9956  3.19       0.40   \n",
       "4                   47.0                 186.0   0.9956  3.19       0.40   \n",
       "..                   ...                   ...      ...   ...        ...   \n",
       "515                 28.0                 167.0   0.9926  3.37       0.47   \n",
       "516                 47.0                 154.0   0.9934  3.08       0.45   \n",
       "517                 49.0                 154.0   0.9920  3.00       0.60   \n",
       "518                 20.0                  78.0   0.9918  3.43       0.64   \n",
       "519                  7.0                  41.0   0.9940   NaN        NaN   \n",
       "\n",
       "     alcohol  quality  \n",
       "0        8.8      6.0  \n",
       "1        9.5      6.0  \n",
       "2       10.1      6.0  \n",
       "3        9.9      6.0  \n",
       "4        9.9      6.0  \n",
       "..       ...      ...  \n",
       "515     10.4      6.0  \n",
       "516      9.1      5.0  \n",
       "517     10.4      6.0  \n",
       "518     10.8      6.0  \n",
       "519      NaN      NaN  \n",
       "\n",
       "[520 rows x 12 columns]"
      ]
     },
     "execution_count": 3,
     "metadata": {},
     "output_type": "execute_result"
    }
   ],
   "source": [
    "wine = pd.read_csv('white_wine.csv')\n",
    "wine"
   ]
  },
  {
   "cell_type": "code",
   "execution_count": 4,
   "metadata": {},
   "outputs": [],
   "source": [
    "wine['label'] = np.where(wine['quality'] > 6, 1, 0)"
   ]
  },
  {
   "cell_type": "code",
   "execution_count": 7,
   "metadata": {},
   "outputs": [
    {
     "data": {
      "image/png": "[encoded data removed]",
      "text/plain": [
       "<Figure size 432x288 with 1 Axes>"
      ]
     },
     "metadata": {
      "needs_background": "light"
     },
     "output_type": "display_data"
    }
   ],
   "source": [
    "sns.scatterplot(x = 'density', y='alcohol', data=wine, hue='label')\n",
    "plt.xlim(0.990,1.002)\n",
    "plt.show()"
   ]
  },
  {
   "cell_type": "code",
   "execution_count": 21,
   "metadata": {},
   "outputs": [
    {
     "data": {
      "text/html": [
       "<div>\n",
       "<style scoped>\n",
       "    .dataframe tbody tr th:only-of-type {\n",
       "        vertical-align: middle;\n",
       "    }\n",
       "\n",
       "    .dataframe tbody tr th {\n",
       "        vertical-align: top;\n",
       "    }\n",
       "\n",
       "    .dataframe thead th {\n",
       "        text-align: right;\n",
       "    }\n",
       "</style>\n",
       "<table border=\"1\" class=\"dataframe\">\n",
       "  <thead>\n",
       "    <tr style=\"text-align: right;\">\n",
       "      <th></th>\n",
       "      <th>alcohol</th>\n",
       "      <th>density</th>\n",
       "    </tr>\n",
       "  </thead>\n",
       "  <tbody>\n",
       "    <tr>\n",
       "      <th>count</th>\n",
       "      <td>520.000000</td>\n",
       "      <td>520.000000</td>\n",
       "    </tr>\n",
       "    <tr>\n",
       "      <th>mean</th>\n",
       "      <td>10.119461</td>\n",
       "      <td>0.995374</td>\n",
       "    </tr>\n",
       "    <tr>\n",
       "      <th>std</th>\n",
       "      <td>1.086787</td>\n",
       "      <td>0.002613</td>\n",
       "    </tr>\n",
       "    <tr>\n",
       "      <th>min</th>\n",
       "      <td>8.500000</td>\n",
       "      <td>0.989900</td>\n",
       "    </tr>\n",
       "    <tr>\n",
       "      <th>25%</th>\n",
       "      <td>9.300000</td>\n",
       "      <td>0.993400</td>\n",
       "    </tr>\n",
       "    <tr>\n",
       "      <th>50%</th>\n",
       "      <td>9.900000</td>\n",
       "      <td>0.995400</td>\n",
       "    </tr>\n",
       "    <tr>\n",
       "      <th>75%</th>\n",
       "      <td>10.700000</td>\n",
       "      <td>0.997400</td>\n",
       "    </tr>\n",
       "    <tr>\n",
       "      <th>max</th>\n",
       "      <td>12.900000</td>\n",
       "      <td>1.003300</td>\n",
       "    </tr>\n",
       "  </tbody>\n",
       "</table>\n",
       "</div>"
      ],
      "text/plain": [
       "          alcohol     density\n",
       "count  520.000000  520.000000\n",
       "mean    10.119461    0.995374\n",
       "std      1.086787    0.002613\n",
       "min      8.500000    0.989900\n",
       "25%      9.300000    0.993400\n",
       "50%      9.900000    0.995400\n",
       "75%     10.700000    0.997400\n",
       "max     12.900000    1.003300"
      ]
     },
     "execution_count": 21,
     "metadata": {},
     "output_type": "execute_result"
    }
   ],
   "source": [
    "wine[['alcohol', 'density']].describe()"
   ]
  },
  {
   "cell_type": "code",
   "execution_count": 8,
   "metadata": {},
   "outputs": [
    {
     "data": {
      "text/plain": [
       "alcohol    1\n",
       "density    0\n",
       "dtype: int64"
      ]
     },
     "execution_count": 8,
     "metadata": {},
     "output_type": "execute_result"
    }
   ],
   "source": [
    "wine[['alcohol', 'density']].isnull().sum()"
   ]
  },
  {
   "cell_type": "code",
   "execution_count": 9,
   "metadata": {},
   "outputs": [],
   "source": [
    "wine['alcohol'].fillna(wine['alcohol'].mean(), inplace=True)"
   ]
  },
  {
   "cell_type": "code",
   "execution_count": 10,
   "metadata": {},
   "outputs": [
    {
     "data": {
      "text/plain": [
       "alcohol    0\n",
       "density    0\n",
       "dtype: int64"
      ]
     },
     "execution_count": 10,
     "metadata": {},
     "output_type": "execute_result"
    }
   ],
   "source": [
    "wine[['alcohol', 'density']].isnull().sum()"
   ]
  },
  {
   "cell_type": "code",
   "execution_count": 12,
   "metadata": {},
   "outputs": [],
   "source": [
    "X = wine[['alcohol', 'density']]\n",
    "y = wine['label']\n",
    "\n",
    "X_train, X_test, y_train, y_test = train_test_split(X, y, stratify=y, test_size=0.2, random_state=2021)"
   ]
  },
  {
   "cell_type": "markdown",
   "metadata": {},
   "source": [
    "> ## Without Scalling"
   ]
  },
  {
   "cell_type": "code",
   "execution_count": 13,
   "metadata": {},
   "outputs": [],
   "source": [
    "knn = KNeighborsClassifier(n_neighbors=3)\n",
    "knn.fit(X_train, y_train)\n",
    "y_pred = knn.predict(X_test)"
   ]
  },
  {
   "cell_type": "code",
   "execution_count": 14,
   "metadata": {},
   "outputs": [
    {
     "name": "stdout",
     "output_type": "stream",
     "text": [
      "KNN(3) Accuracy Score: 0.8942307692307693\n"
     ]
    }
   ],
   "source": [
    "print('KNN(3) Accuracy Score:', accuracy_score(y_test, y_pred))"
   ]
  },
  {
   "cell_type": "code",
   "execution_count": 22,
   "metadata": {},
   "outputs": [
    {
     "data": {
      "text/plain": [
       "array([[80,  4],\n",
       "       [ 7, 13]], dtype=int64)"
      ]
     },
     "execution_count": 22,
     "metadata": {},
     "output_type": "execute_result"
    }
   ],
   "source": [
    "confusion_matrix(y_test, y_pred)"
   ]
  },
  {
   "cell_type": "markdown",
   "metadata": {},
   "source": [
    "> ## With Scalling"
   ]
  },
  {
   "cell_type": "code",
   "execution_count": 15,
   "metadata": {},
   "outputs": [],
   "source": [
    "from sklearn.preprocessing import MinMaxScaler"
   ]
  },
  {
   "cell_type": "markdown",
   "metadata": {},
   "source": [
    "![image.png](data:image/png;base64,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)"
   ]
  },
  {
   "cell_type": "code",
   "execution_count": 18,
   "metadata": {},
   "outputs": [],
   "source": [
    "scaler = MinMaxScaler()\n",
    "scaler.fit(X_train) #preprocess fit\n",
    "X_train_scaled = scaler.transform(X_train)\n",
    "X_test_scaled = scaler.transform(X_test)"
   ]
  },
  {
   "cell_type": "code",
   "execution_count": 19,
   "metadata": {},
   "outputs": [],
   "source": [
    "knn_scaled = KNeighborsClassifier(n_neighbors=3)\n",
    "knn_scaled.fit(X_train_scaled, y_train)\n",
    "y_pred_scaled = knn_scaled.predict(X_test_scaled)"
   ]
  },
  {
   "cell_type": "code",
   "execution_count": 20,
   "metadata": {},
   "outputs": [
    {
     "name": "stdout",
     "output_type": "stream",
     "text": [
      "KNN with scaled data accuracy score: 0.9807692307692307\n"
     ]
    }
   ],
   "source": [
    "print('KNN with scaled data accuracy score:', accuracy_score(y_test, y_pred_scaled))"
   ]
  },
  {
   "cell_type": "code",
   "execution_count": 23,
   "metadata": {},
   "outputs": [
    {
     "data": {
      "text/plain": [
       "array([[84,  0],\n",
       "       [ 2, 18]], dtype=int64)"
      ]
     },
     "execution_count": 23,
     "metadata": {},
     "output_type": "execute_result"
    }
   ],
   "source": [
    "confusion_matrix(y_test, y_pred_scaled)"
   ]
  },
  {
   "cell_type": "markdown",
   "metadata": {},
   "source": [
    "> ## Choose Factor K"
   ]
  },
  {
   "cell_type": "code",
   "execution_count": 24,
   "metadata": {},
   "outputs": [],
   "source": [
    "k = range(1,30,2)\n",
    "testing_accuracies = []\n",
    "training_accuracies = []\n",
    "score = 0\n",
    "\n",
    "for i in k:\n",
    "    knn_ = KNeighborsClassifier(n_neighbors=i)\n",
    "    knn_.fit(X_train_scaled, y_train)\n",
    "    \n",
    "    y_predict_train = knn_.predict(X_train_scaled)\n",
    "    training_accuracies.append(accuracy_score(y_train, y_predict_train))\n",
    "    \n",
    "    y_predict_test = knn_.predict(X_test_scaled)\n",
    "    testing_accuracies.append(accuracy_score(y_test, y_predict_test))\n",
    "    \n",
    "    acc_score = accuracy_score(y_test, y_predict_test)\n",
    "    \n",
    "    if score < acc_score:\n",
    "        score = acc_score\n",
    "        best_k = i"
   ]
  },
  {
   "cell_type": "code",
   "execution_count": 26,
   "metadata": {},
   "outputs": [
    {
     "name": "stderr",
     "output_type": "stream",
     "text": [
      "C:\\Users\\R7891\\Anaconda3\\lib\\site-packages\\seaborn\\_decorators.py:43: FutureWarning: Pass the following variables as keyword args: x, y. From version 0.12, the only valid positional argument will be `data`, and passing other arguments without an explicit keyword will result in an error or misinterpretation.\n",
      "  FutureWarning\n",
      "C:\\Users\\R7891\\Anaconda3\\lib\\site-packages\\seaborn\\_decorators.py:43: FutureWarning: Pass the following variables as keyword args: x, y. From version 0.12, the only valid positional argument will be `data`, and passing other arguments without an explicit keyword will result in an error or misinterpretation.\n",
      "  FutureWarning\n"
     ]
    },
    {
     "data": {
      "image/png": "[encoded data removed]",
      "text/plain": [
       "<Figure size 720x504 with 1 Axes>"
      ]
     },
     "metadata": {
      "needs_background": "light"
     },
     "output_type": "display_data"
    }
   ],
   "source": [
    "plt.figure(figsize=(10,7))\n",
    "sns.lineplot(k, testing_accuracies, markers=training_accuracies)\n",
    "sns.lineplot(k, training_accuracies, markers=training_accuracies)\n",
    "plt.legend(['testing accuracies', 'training accuracies'])\n",
    "plt.show()"
   ]
  },
  {
   "cell_type": "code",
   "execution_count": 27,
   "metadata": {},
   "outputs": [
    {
     "name": "stdout",
     "output_type": "stream",
     "text": [
      "best_k: 1\n",
      "best_score: 0.9807692307692307\n"
     ]
    }
   ],
   "source": [
    "print('best_k:', best_k)\n",
    "print('best_score:', score)"
   ]
  },
  {
   "cell_type": "code",
   "execution_count": 28,
   "metadata": {},
   "outputs": [
    {
     "data": {
      "text/plain": [
       "[0.9807692307692307,\n",
       " 0.9807692307692307,\n",
       " 0.9807692307692307,\n",
       " 0.9711538461538461,\n",
       " 0.9711538461538461,\n",
       " 0.9711538461538461,\n",
       " 0.9807692307692307,\n",
       " 0.9615384615384616,\n",
       " 0.9519230769230769,\n",
       " 0.9615384615384616,\n",
       " 0.9519230769230769,\n",
       " 0.9519230769230769,\n",
       " 0.9519230769230769,\n",
       " 0.9519230769230769,\n",
       " 0.9519230769230769]"
      ]
     },
     "execution_count": 28,
     "metadata": {},
     "output_type": "execute_result"
    }
   ],
   "source": [
    "testing_accuracies"
   ]
  },
  {
   "cell_type": "code",
   "execution_count": null,
   "metadata": {},
   "outputs": [],
   "source": []
  }
 ],
 "metadata": {
  "kernelspec": {
   "display_name": "Python 3",
   "language": "python",
   "name": "python3"
  },
  "language_info": {
   "codemirror_mode": {
    "name": "ipython",
    "version": 3
   },
   "file_extension": ".py",
   "mimetype": "text/x-python",
   "name": "python",
   "nbconvert_exporter": "python",
   "pygments_lexer": "ipython3",
   "version": "3.8.3"
  }
 },
 "nbformat": 4,
 "nbformat_minor": 4
}
