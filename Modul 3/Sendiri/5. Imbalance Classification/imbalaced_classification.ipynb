{
 "cells": [
  {
   "cell_type": "code",
   "execution_count": 1,
   "metadata": {},
   "outputs": [],
   "source": [
    "import pandas as pd\n",
    "import numpy as np\n",
    "\n",
    "import seaborn as sns\n",
    "import matplotlib.pyplot as plt\n",
    "\n",
    "from sklearn.preprocessing import PolynomialFeatures\n",
    "\n",
    "from sklearn.model_selection import train_test_split\n",
    "\n",
    "from sklearn.linear_model import LogisticRegression\n",
    "\n",
    "from sklearn.metrics import classification_report, plot_roc_curve, roc_curve, recall_score, precision_score, precision_recall_curve, auc, roc_auc_score, f1_score\n"
   ]
  },
  {
   "cell_type": "code",
   "execution_count": 2,
   "metadata": {},
   "outputs": [],
   "source": [
    "wine = pd.read_csv('white_wine.csv')"
   ]
  },
  {
   "cell_type": "code",
   "execution_count": 3,
   "metadata": {},
   "outputs": [
    {
     "data": {
      "text/html": [
       "<div>\n",
       "<style scoped>\n",
       "    .dataframe tbody tr th:only-of-type {\n",
       "        vertical-align: middle;\n",
       "    }\n",
       "\n",
       "    .dataframe tbody tr th {\n",
       "        vertical-align: top;\n",
       "    }\n",
       "\n",
       "    .dataframe thead th {\n",
       "        text-align: right;\n",
       "    }\n",
       "</style>\n",
       "<table border=\"1\" class=\"dataframe\">\n",
       "  <thead>\n",
       "    <tr style=\"text-align: right;\">\n",
       "      <th></th>\n",
       "      <th>fixed acidity</th>\n",
       "      <th>volatile acidity</th>\n",
       "      <th>citric acid</th>\n",
       "      <th>residual sugar</th>\n",
       "      <th>chlorides</th>\n",
       "      <th>free sulfur dioxide</th>\n",
       "      <th>total sulfur dioxide</th>\n",
       "      <th>density</th>\n",
       "      <th>pH</th>\n",
       "      <th>sulphates</th>\n",
       "      <th>alcohol</th>\n",
       "      <th>quality</th>\n",
       "    </tr>\n",
       "  </thead>\n",
       "  <tbody>\n",
       "    <tr>\n",
       "      <th>0</th>\n",
       "      <td>7.0</td>\n",
       "      <td>0.27</td>\n",
       "      <td>0.36</td>\n",
       "      <td>20.7</td>\n",
       "      <td>0.045</td>\n",
       "      <td>45.0</td>\n",
       "      <td>170.0</td>\n",
       "      <td>1.0010</td>\n",
       "      <td>3.00</td>\n",
       "      <td>0.45</td>\n",
       "      <td>8.8</td>\n",
       "      <td>6.0</td>\n",
       "    </tr>\n",
       "    <tr>\n",
       "      <th>1</th>\n",
       "      <td>6.3</td>\n",
       "      <td>0.30</td>\n",
       "      <td>0.34</td>\n",
       "      <td>1.6</td>\n",
       "      <td>0.049</td>\n",
       "      <td>14.0</td>\n",
       "      <td>132.0</td>\n",
       "      <td>0.9940</td>\n",
       "      <td>3.30</td>\n",
       "      <td>0.49</td>\n",
       "      <td>9.5</td>\n",
       "      <td>6.0</td>\n",
       "    </tr>\n",
       "    <tr>\n",
       "      <th>2</th>\n",
       "      <td>8.1</td>\n",
       "      <td>0.28</td>\n",
       "      <td>0.40</td>\n",
       "      <td>6.9</td>\n",
       "      <td>0.050</td>\n",
       "      <td>30.0</td>\n",
       "      <td>97.0</td>\n",
       "      <td>0.9951</td>\n",
       "      <td>3.26</td>\n",
       "      <td>0.44</td>\n",
       "      <td>10.1</td>\n",
       "      <td>6.0</td>\n",
       "    </tr>\n",
       "    <tr>\n",
       "      <th>3</th>\n",
       "      <td>7.2</td>\n",
       "      <td>0.23</td>\n",
       "      <td>0.32</td>\n",
       "      <td>8.5</td>\n",
       "      <td>0.058</td>\n",
       "      <td>47.0</td>\n",
       "      <td>186.0</td>\n",
       "      <td>0.9956</td>\n",
       "      <td>3.19</td>\n",
       "      <td>0.40</td>\n",
       "      <td>9.9</td>\n",
       "      <td>6.0</td>\n",
       "    </tr>\n",
       "    <tr>\n",
       "      <th>4</th>\n",
       "      <td>7.2</td>\n",
       "      <td>0.23</td>\n",
       "      <td>0.32</td>\n",
       "      <td>8.5</td>\n",
       "      <td>0.058</td>\n",
       "      <td>47.0</td>\n",
       "      <td>186.0</td>\n",
       "      <td>0.9956</td>\n",
       "      <td>3.19</td>\n",
       "      <td>0.40</td>\n",
       "      <td>9.9</td>\n",
       "      <td>6.0</td>\n",
       "    </tr>\n",
       "    <tr>\n",
       "      <th>...</th>\n",
       "      <td>...</td>\n",
       "      <td>...</td>\n",
       "      <td>...</td>\n",
       "      <td>...</td>\n",
       "      <td>...</td>\n",
       "      <td>...</td>\n",
       "      <td>...</td>\n",
       "      <td>...</td>\n",
       "      <td>...</td>\n",
       "      <td>...</td>\n",
       "      <td>...</td>\n",
       "      <td>...</td>\n",
       "    </tr>\n",
       "    <tr>\n",
       "      <th>515</th>\n",
       "      <td>6.1</td>\n",
       "      <td>0.31</td>\n",
       "      <td>0.26</td>\n",
       "      <td>2.2</td>\n",
       "      <td>0.051</td>\n",
       "      <td>28.0</td>\n",
       "      <td>167.0</td>\n",
       "      <td>0.9926</td>\n",
       "      <td>3.37</td>\n",
       "      <td>0.47</td>\n",
       "      <td>10.4</td>\n",
       "      <td>6.0</td>\n",
       "    </tr>\n",
       "    <tr>\n",
       "      <th>516</th>\n",
       "      <td>6.8</td>\n",
       "      <td>0.18</td>\n",
       "      <td>0.37</td>\n",
       "      <td>1.6</td>\n",
       "      <td>0.055</td>\n",
       "      <td>47.0</td>\n",
       "      <td>154.0</td>\n",
       "      <td>0.9934</td>\n",
       "      <td>3.08</td>\n",
       "      <td>0.45</td>\n",
       "      <td>9.1</td>\n",
       "      <td>5.0</td>\n",
       "    </tr>\n",
       "    <tr>\n",
       "      <th>517</th>\n",
       "      <td>7.4</td>\n",
       "      <td>0.15</td>\n",
       "      <td>0.42</td>\n",
       "      <td>1.7</td>\n",
       "      <td>0.045</td>\n",
       "      <td>49.0</td>\n",
       "      <td>154.0</td>\n",
       "      <td>0.9920</td>\n",
       "      <td>3.00</td>\n",
       "      <td>0.60</td>\n",
       "      <td>10.4</td>\n",
       "      <td>6.0</td>\n",
       "    </tr>\n",
       "    <tr>\n",
       "      <th>518</th>\n",
       "      <td>5.9</td>\n",
       "      <td>0.13</td>\n",
       "      <td>0.28</td>\n",
       "      <td>1.9</td>\n",
       "      <td>0.050</td>\n",
       "      <td>20.0</td>\n",
       "      <td>78.0</td>\n",
       "      <td>0.9918</td>\n",
       "      <td>3.43</td>\n",
       "      <td>0.64</td>\n",
       "      <td>10.8</td>\n",
       "      <td>6.0</td>\n",
       "    </tr>\n",
       "    <tr>\n",
       "      <th>519</th>\n",
       "      <td>7.2</td>\n",
       "      <td>0.34</td>\n",
       "      <td>0.34</td>\n",
       "      <td>12.6</td>\n",
       "      <td>0.048</td>\n",
       "      <td>7.0</td>\n",
       "      <td>41.0</td>\n",
       "      <td>0.9940</td>\n",
       "      <td>NaN</td>\n",
       "      <td>NaN</td>\n",
       "      <td>NaN</td>\n",
       "      <td>NaN</td>\n",
       "    </tr>\n",
       "  </tbody>\n",
       "</table>\n",
       "<p>520 rows × 12 columns</p>\n",
       "</div>"
      ],
      "text/plain": [
       "     fixed acidity  volatile acidity  citric acid  residual sugar  chlorides  \\\n",
       "0              7.0              0.27         0.36            20.7      0.045   \n",
       "1              6.3              0.30         0.34             1.6      0.049   \n",
       "2              8.1              0.28         0.40             6.9      0.050   \n",
       "3              7.2              0.23         0.32             8.5      0.058   \n",
       "4              7.2              0.23         0.32             8.5      0.058   \n",
       "..             ...               ...          ...             ...        ...   \n",
       "515            6.1              0.31         0.26             2.2      0.051   \n",
       "516            6.8              0.18         0.37             1.6      0.055   \n",
       "517            7.4              0.15         0.42             1.7      0.045   \n",
       "518            5.9              0.13         0.28             1.9      0.050   \n",
       "519            7.2              0.34         0.34            12.6      0.048   \n",
       "\n",
       "     free sulfur dioxide  total sulfur dioxide  density    pH  sulphates  \\\n",
       "0                   45.0                 170.0   1.0010  3.00       0.45   \n",
       "1                   14.0                 132.0   0.9940  3.30       0.49   \n",
       "2                   30.0                  97.0   0.9951  3.26       0.44   \n",
       "3                   47.0                 186.0   0.9956  3.19       0.40   \n",
       "4                   47.0                 186.0   0.9956  3.19       0.40   \n",
       "..                   ...                   ...      ...   ...        ...   \n",
       "515                 28.0                 167.0   0.9926  3.37       0.47   \n",
       "516                 47.0                 154.0   0.9934  3.08       0.45   \n",
       "517                 49.0                 154.0   0.9920  3.00       0.60   \n",
       "518                 20.0                  78.0   0.9918  3.43       0.64   \n",
       "519                  7.0                  41.0   0.9940   NaN        NaN   \n",
       "\n",
       "     alcohol  quality  \n",
       "0        8.8      6.0  \n",
       "1        9.5      6.0  \n",
       "2       10.1      6.0  \n",
       "3        9.9      6.0  \n",
       "4        9.9      6.0  \n",
       "..       ...      ...  \n",
       "515     10.4      6.0  \n",
       "516      9.1      5.0  \n",
       "517     10.4      6.0  \n",
       "518     10.8      6.0  \n",
       "519      NaN      NaN  \n",
       "\n",
       "[520 rows x 12 columns]"
      ]
     },
     "execution_count": 3,
     "metadata": {},
     "output_type": "execute_result"
    }
   ],
   "source": [
    "wine"
   ]
  },
  {
   "cell_type": "code",
   "execution_count": 4,
   "metadata": {},
   "outputs": [
    {
     "data": {
      "text/plain": [
       "0    81.153846\n",
       "1    18.846154\n",
       "Name: label, dtype: float64"
      ]
     },
     "execution_count": 4,
     "metadata": {},
     "output_type": "execute_result"
    }
   ],
   "source": [
    "wine['alcohol'].fillna(wine['alcohol'].mean(), inplace=True)\n",
    "wine['label'] = np.where(wine['quality']>6, 1, 0)\n",
    "wine['label'].value_counts(normalize=True)*100"
   ]
  },
  {
   "cell_type": "markdown",
   "metadata": {},
   "source": [
    "We will be doing some EDA to check the target variabel distribution. The target variabel distribution is\n",
    "1. (+) a good quality wine : quality > 6 (18.9%)\n",
    "1. (-) a bad quality wine : quality <= 6 (81.1%)"
   ]
  },
  {
   "cell_type": "markdown",
   "metadata": {},
   "source": [
    "You will find that the distribution is imbalanced with 18.9 % positive class and 81.1 % negative class. The minority class is the good quality one, we migh more interest to detect a wine with good quality than the common one."
   ]
  },
  {
   "cell_type": "code",
   "execution_count": 5,
   "metadata": {},
   "outputs": [
    {
     "data": {
      "text/plain": [
       "Text(0, 0.5, 'Density')"
      ]
     },
     "execution_count": 5,
     "metadata": {},
     "output_type": "execute_result"
    },
    {
     "data": {
      "image/png": "[encoded data removed]",
      "text/plain": [
       "<Figure size 720x720 with 1 Axes>"
      ]
     },
     "metadata": {
      "needs_background": "light"
     },
     "output_type": "display_data"
    }
   ],
   "source": [
    "plt.figure(figsize=(10,10))\n",
    "sns.scatterplot(x = 'alcohol', y = 'density', data=wine, hue='label')\n",
    "plt.xlabel('Alcohol')\n",
    "plt.ylabel('Density')"
   ]
  },
  {
   "cell_type": "code",
   "execution_count": 6,
   "metadata": {},
   "outputs": [],
   "source": [
    "X = wine[['density', 'alcohol']]\n",
    "y = wine['label']"
   ]
  },
  {
   "cell_type": "code",
   "execution_count": 7,
   "metadata": {},
   "outputs": [],
   "source": [
    "X_train, X_test, y_train, y_test = train_test_split(X, y, stratify=y, random_state=2020)"
   ]
  },
  {
   "cell_type": "markdown",
   "metadata": {},
   "source": [
    "## Model 1: w/o Polynomial"
   ]
  },
  {
   "cell_type": "code",
   "execution_count": 8,
   "metadata": {},
   "outputs": [
    {
     "data": {
      "text/plain": [
       "LogisticRegression()"
      ]
     },
     "execution_count": 8,
     "metadata": {},
     "output_type": "execute_result"
    }
   ],
   "source": [
    "logit = LogisticRegression()\n",
    "logit.fit(X_train, y_train)"
   ]
  },
  {
   "cell_type": "code",
   "execution_count": 9,
   "metadata": {},
   "outputs": [
    {
     "name": "stdout",
     "output_type": "stream",
     "text": [
      "performance \n",
      "               precision    recall  f1-score   support\n",
      "\n",
      "           0       0.87      0.96      0.91       106\n",
      "           1       0.69      0.38      0.49        24\n",
      "\n",
      "    accuracy                           0.85       130\n",
      "   macro avg       0.78      0.67      0.70       130\n",
      "weighted avg       0.84      0.85      0.84       130\n",
      "\n"
     ]
    }
   ],
   "source": [
    "y_pred = logit.predict(X_test)\n",
    "print('performance \\n', classification_report(y_test, y_pred))"
   ]
  },
  {
   "cell_type": "markdown",
   "metadata": {},
   "source": [
    "From illustration abovel, you can see the performance of the machine learning model. Let's say our concern is to these three metrics:\n",
    "1. precision (+) : 0.69\n",
    "1. recall (+) : 0.38\n",
    "1. f1-score (+) : 0.49\n",
    "\n",
    "<br>\n",
    "next, we will do the modeling process with adding polynomial features and see the changes."
   ]
  },
  {
   "cell_type": "markdown",
   "metadata": {},
   "source": [
    "## Model 2: w/ Polynomial"
   ]
  },
  {
   "cell_type": "code",
   "execution_count": 10,
   "metadata": {},
   "outputs": [],
   "source": [
    "poly = PolynomialFeatures(degree=3, include_bias=False)\n",
    "poly.fit(X_train)\n",
    "Xtr_poly = poly.transform(X_train)\n",
    "Xts_poly = poly.transform(X_test)"
   ]
  },
  {
   "cell_type": "code",
   "execution_count": 11,
   "metadata": {},
   "outputs": [
    {
     "name": "stderr",
     "output_type": "stream",
     "text": [
      "C:\\Users\\johan\\anaconda3\\lib\\site-packages\\sklearn\\linear_model\\_logistic.py:762: ConvergenceWarning: lbfgs failed to converge (status=1):\n",
      "STOP: TOTAL NO. of ITERATIONS REACHED LIMIT.\n",
      "\n",
      "Increase the number of iterations (max_iter) or scale the data as shown in:\n",
      "    https://scikit-learn.org/stable/modules/preprocessing.html\n",
      "Please also refer to the documentation for alternative solver options:\n",
      "    https://scikit-learn.org/stable/modules/linear_model.html#logistic-regression\n",
      "  n_iter_i = _check_optimize_result(\n"
     ]
    },
    {
     "data": {
      "text/plain": [
       "LogisticRegression()"
      ]
     },
     "execution_count": 11,
     "metadata": {},
     "output_type": "execute_result"
    }
   ],
   "source": [
    "logit = LogisticRegression()\n",
    "logit.fit(Xtr_poly, y_train)"
   ]
  },
  {
   "cell_type": "code",
   "execution_count": 12,
   "metadata": {},
   "outputs": [
    {
     "name": "stdout",
     "output_type": "stream",
     "text": [
      "performance \n",
      "               precision    recall  f1-score   support\n",
      "\n",
      "           0       0.97      0.99      0.98       106\n",
      "           1       0.95      0.88      0.91        24\n",
      "\n",
      "    accuracy                           0.97       130\n",
      "   macro avg       0.96      0.93      0.95       130\n",
      "weighted avg       0.97      0.97      0.97       130\n",
      "\n"
     ]
    }
   ],
   "source": [
    "y_pred = logit.predict(Xts_poly)\n",
    "print('performance \\n', classification_report(y_test, y_pred))"
   ]
  },
  {
   "cell_type": "markdown",
   "metadata": {},
   "source": [
    "From illustration abovel, you can see the performance improvement of the machine learning model. The changes of the three metrics:\n",
    "1. precision (+) : from 0.69 to 0.95\n",
    "1. recall (+) : from 0.38 to 0.88\n",
    "1. f1-score (+) : from 0.49 to 0.91"
   ]
  },
  {
   "cell_type": "markdown",
   "metadata": {},
   "source": [
    "> ## Resampling Method : Non Performing Loan"
   ]
  },
  {
   "cell_type": "code",
   "execution_count": 13,
   "metadata": {},
   "outputs": [],
   "source": [
    "from imblearn.over_sampling import RandomOverSampler, SMOTE\n",
    "from imblearn.under_sampling import RandomUnderSampler\n",
    "from imblearn.pipeline import Pipeline"
   ]
  },
  {
   "cell_type": "code",
   "execution_count": 14,
   "metadata": {},
   "outputs": [],
   "source": [
    "bankloan = pd.read_csv('bankloan.csv')"
   ]
  },
  {
   "cell_type": "code",
   "execution_count": 15,
   "metadata": {},
   "outputs": [],
   "source": [
    "fitur = ['employ','debtinc','creddebt','othdebt']\n",
    "target=['default']"
   ]
  },
  {
   "cell_type": "code",
   "execution_count": 16,
   "metadata": {},
   "outputs": [],
   "source": [
    "X = bankloan[fitur]\n",
    "y = bankloan[target]"
   ]
  },
  {
   "cell_type": "markdown",
   "metadata": {},
   "source": [
    "> ## EDA"
   ]
  },
  {
   "cell_type": "code",
   "execution_count": 17,
   "metadata": {},
   "outputs": [
    {
     "data": {
      "text/plain": [
       "0    73.857143\n",
       "1    26.142857\n",
       "Name: default, dtype: float64"
      ]
     },
     "execution_count": 17,
     "metadata": {},
     "output_type": "execute_result"
    }
   ],
   "source": [
    "bankloan['default'].value_counts(normalize=True)*100"
   ]
  },
  {
   "cell_type": "code",
   "execution_count": 18,
   "metadata": {},
   "outputs": [],
   "source": [
    "X_train_val, X_test, y_train_val, y_test = train_test_split(X, y, stratify = y, test_size=0.2, random_state = 1899)\n",
    "\n",
    "X_train, X_val, y_train, y_val = train_test_split(X_train_val, y_train_val, stratify=y_train_val, test_size=0.2, random_state = 1899)"
   ]
  },
  {
   "cell_type": "markdown",
   "metadata": {},
   "source": [
    "## 1. Logreg No Treatment - F1 Score & Threshold optimization"
   ]
  },
  {
   "cell_type": "code",
   "execution_count": 19,
   "metadata": {},
   "outputs": [
    {
     "name": "stderr",
     "output_type": "stream",
     "text": [
      "C:\\Users\\johan\\anaconda3\\lib\\site-packages\\sklearn\\utils\\validation.py:73: DataConversionWarning: A column-vector y was passed when a 1d array was expected. Please change the shape of y to (n_samples, ), for example using ravel().\n",
      "  return f(**kwargs)\n"
     ]
    },
    {
     "data": {
      "text/plain": [
       "LogisticRegression()"
      ]
     },
     "execution_count": 19,
     "metadata": {},
     "output_type": "execute_result"
    }
   ],
   "source": [
    "logit = LogisticRegression()\n",
    "logit.fit(X_train_val, y_train_val)"
   ]
  },
  {
   "cell_type": "code",
   "execution_count": 20,
   "metadata": {},
   "outputs": [],
   "source": [
    "y_pred = logit.predict(X_test)\n",
    "prob1=logit.predict_proba(X_test)[:,1]"
   ]
  },
  {
   "cell_type": "code",
   "execution_count": 21,
   "metadata": {},
   "outputs": [
    {
     "name": "stdout",
     "output_type": "stream",
     "text": [
      "              precision    recall  f1-score   support\n",
      "\n",
      "           0       0.81      0.93      0.87       103\n",
      "           1       0.68      0.41      0.51        37\n",
      "\n",
      "    accuracy                           0.79       140\n",
      "   macro avg       0.75      0.67      0.69       140\n",
      "weighted avg       0.78      0.79      0.77       140\n",
      "\n"
     ]
    }
   ],
   "source": [
    "print(classification_report(y_test,y_pred))"
   ]
  },
  {
   "cell_type": "code",
   "execution_count": 22,
   "metadata": {},
   "outputs": [],
   "source": [
    "fpr, tpr, threshold = roc_curve(y_test,prob1)"
   ]
  },
  {
   "cell_type": "code",
   "execution_count": 23,
   "metadata": {},
   "outputs": [
    {
     "data": {
      "image/png": "[encoded data removed]",
      "text/plain": [
       "<Figure size 432x288 with 1 Axes>"
      ]
     },
     "metadata": {
      "needs_background": "light"
     },
     "output_type": "display_data"
    }
   ],
   "source": [
    "plot_roc_curve(logit, X_test, y_test)\n",
    "plt.show()"
   ]
  },
  {
   "cell_type": "code",
   "execution_count": 24,
   "metadata": {},
   "outputs": [
    {
     "name": "stderr",
     "output_type": "stream",
     "text": [
      "C:\\Users\\johan\\anaconda3\\lib\\site-packages\\sklearn\\utils\\validation.py:73: DataConversionWarning: A column-vector y was passed when a 1d array was expected. Please change the shape of y to (n_samples, ), for example using ravel().\n",
      "  return f(**kwargs)\n"
     ]
    }
   ],
   "source": [
    "logit.fit(X_train, y_train)\n",
    "\n",
    "thr_value = [i/100 for i in range(20, 60)]\n",
    "score=0\n",
    "score_list=[]\n",
    "\n",
    "for i in thr_value:\n",
    "    y_prob = logit.predict_proba(X_val)[:,1]\n",
    "    y_pred = np.where(y_prob>i,1,0)\n",
    "    score_temp = f1_score(y_val, y_pred)\n",
    "    score_list.append(score_temp)\n",
    "    \n",
    "    if score_temp > score:\n",
    "        score=score_temp\n",
    "        \n",
    "        best_score = score\n",
    "        best_thr=i"
   ]
  },
  {
   "cell_type": "code",
   "execution_count": 25,
   "metadata": {},
   "outputs": [
    {
     "name": "stderr",
     "output_type": "stream",
     "text": [
      "C:\\Users\\johan\\anaconda3\\lib\\site-packages\\seaborn\\_decorators.py:36: FutureWarning: Pass the following variables as keyword args: x, y. From version 0.12, the only valid positional argument will be `data`, and passing other arguments without an explicit keyword will result in an error or misinterpretation.\n",
      "  warnings.warn(\n"
     ]
    },
    {
     "data": {
      "image/png": "[encoded data removed]",
      "text/plain": [
       "<Figure size 432x288 with 1 Axes>"
      ]
     },
     "metadata": {
      "needs_background": "light"
     },
     "output_type": "display_data"
    }
   ],
   "source": [
    "sns.lineplot(thr_value, score_list)\n",
    "plt.show()"
   ]
  },
  {
   "cell_type": "code",
   "execution_count": 26,
   "metadata": {},
   "outputs": [
    {
     "name": "stdout",
     "output_type": "stream",
     "text": [
      "best_threshold 0.49\n",
      "best score 0.7599999999999999\n"
     ]
    }
   ],
   "source": [
    "print('best_threshold', best_thr)\n",
    "print('best score',best_score)"
   ]
  },
  {
   "cell_type": "code",
   "execution_count": 27,
   "metadata": {},
   "outputs": [
    {
     "name": "stderr",
     "output_type": "stream",
     "text": [
      "C:\\Users\\johan\\anaconda3\\lib\\site-packages\\sklearn\\utils\\validation.py:73: DataConversionWarning: A column-vector y was passed when a 1d array was expected. Please change the shape of y to (n_samples, ), for example using ravel().\n",
      "  return f(**kwargs)\n"
     ]
    }
   ],
   "source": [
    "logit.fit(X_train_val, y_train_val)\n",
    "y_prob = logit.predict_proba(X_test)[:,1]\n",
    "y_pred = np.where(y_prob>best_thr,1,0)"
   ]
  },
  {
   "cell_type": "code",
   "execution_count": 28,
   "metadata": {},
   "outputs": [
    {
     "name": "stdout",
     "output_type": "stream",
     "text": [
      "              precision    recall  f1-score   support\n",
      "\n",
      "           0       0.82      0.92      0.87       103\n",
      "           1       0.67      0.43      0.52        37\n",
      "\n",
      "    accuracy                           0.79       140\n",
      "   macro avg       0.74      0.68      0.70       140\n",
      "weighted avg       0.78      0.79      0.78       140\n",
      "\n"
     ]
    }
   ],
   "source": [
    "print(classification_report(y_test, y_pred))"
   ]
  },
  {
   "cell_type": "code",
   "execution_count": 29,
   "metadata": {},
   "outputs": [],
   "source": [
    "rus = RandomUnderSampler()\n",
    "X_under, y_under = rus.fit_resample(X_train_val, y_train_val) #nge undersampling training set"
   ]
  },
  {
   "cell_type": "code",
   "execution_count": 30,
   "metadata": {},
   "outputs": [
    {
     "data": {
      "text/plain": [
       "0    414\n",
       "1    146\n",
       "Name: default, dtype: int64"
      ]
     },
     "execution_count": 30,
     "metadata": {},
     "output_type": "execute_result"
    }
   ],
   "source": [
    "y_train_val['default'].value_counts()"
   ]
  },
  {
   "cell_type": "code",
   "execution_count": 31,
   "metadata": {},
   "outputs": [
    {
     "data": {
      "text/plain": [
       "1    146\n",
       "0    146\n",
       "Name: default, dtype: int64"
      ]
     },
     "execution_count": 31,
     "metadata": {},
     "output_type": "execute_result"
    }
   ],
   "source": [
    "y_under['default'].value_counts()"
   ]
  },
  {
   "cell_type": "code",
   "execution_count": 32,
   "metadata": {},
   "outputs": [
    {
     "name": "stdout",
     "output_type": "stream",
     "text": [
      "              precision    recall  f1-score   support\n",
      "\n",
      "           0       0.96      0.67      0.79       103\n",
      "           1       0.50      0.92      0.65        37\n",
      "\n",
      "    accuracy                           0.74       140\n",
      "   macro avg       0.73      0.79      0.72       140\n",
      "weighted avg       0.84      0.74      0.75       140\n",
      "\n"
     ]
    },
    {
     "name": "stderr",
     "output_type": "stream",
     "text": [
      "C:\\Users\\johan\\anaconda3\\lib\\site-packages\\sklearn\\utils\\validation.py:73: DataConversionWarning: A column-vector y was passed when a 1d array was expected. Please change the shape of y to (n_samples, ), for example using ravel().\n",
      "  return f(**kwargs)\n"
     ]
    }
   ],
   "source": [
    "logit_under = LogisticRegression()\n",
    "logit_under.fit(X_under, y_under)\n",
    "y_pred = logit_under.predict(X_test)\n",
    "print(classification_report(y_test, y_pred))"
   ]
  },
  {
   "cell_type": "code",
   "execution_count": 33,
   "metadata": {},
   "outputs": [
    {
     "data": {
      "text/plain": [
       "<sklearn.metrics._plot.roc_curve.RocCurveDisplay at 0x164ea4a4c40>"
      ]
     },
     "execution_count": 33,
     "metadata": {},
     "output_type": "execute_result"
    },
    {
     "data": {
      "image/png": "[encoded data removed]",
      "text/plain": [
       "<Figure size 432x288 with 1 Axes>"
      ]
     },
     "metadata": {
      "needs_background": "light"
     },
     "output_type": "display_data"
    }
   ],
   "source": [
    "plot_roc_curve(logit_under, X_test, y_test)"
   ]
  },
  {
   "cell_type": "code",
   "execution_count": 34,
   "metadata": {},
   "outputs": [],
   "source": [
    "smote = SMOTE()\n",
    "X_smo, y_smo = smote.fit_resample(X_train_val, y_train_val)"
   ]
  },
  {
   "cell_type": "code",
   "execution_count": 35,
   "metadata": {},
   "outputs": [
    {
     "data": {
      "text/plain": [
       "0    414\n",
       "1    146\n",
       "Name: default, dtype: int64"
      ]
     },
     "execution_count": 35,
     "metadata": {},
     "output_type": "execute_result"
    }
   ],
   "source": [
    "y_train_val['default'].value_counts()"
   ]
  },
  {
   "cell_type": "code",
   "execution_count": 36,
   "metadata": {},
   "outputs": [
    {
     "data": {
      "text/plain": [
       "1    414\n",
       "0    414\n",
       "Name: default, dtype: int64"
      ]
     },
     "execution_count": 36,
     "metadata": {},
     "output_type": "execute_result"
    }
   ],
   "source": [
    "y_smo['default'].value_counts()"
   ]
  },
  {
   "cell_type": "code",
   "execution_count": 37,
   "metadata": {},
   "outputs": [
    {
     "name": "stdout",
     "output_type": "stream",
     "text": [
      "              precision    recall  f1-score   support\n",
      "\n",
      "           0       0.96      0.71      0.82       103\n",
      "           1       0.53      0.92      0.67        37\n",
      "\n",
      "    accuracy                           0.76       140\n",
      "   macro avg       0.75      0.81      0.74       140\n",
      "weighted avg       0.85      0.76      0.78       140\n",
      "\n"
     ]
    },
    {
     "name": "stderr",
     "output_type": "stream",
     "text": [
      "C:\\Users\\johan\\anaconda3\\lib\\site-packages\\sklearn\\utils\\validation.py:73: DataConversionWarning: A column-vector y was passed when a 1d array was expected. Please change the shape of y to (n_samples, ), for example using ravel().\n",
      "  return f(**kwargs)\n"
     ]
    }
   ],
   "source": [
    "logit_smo = LogisticRegression()\n",
    "logit_smo.fit(X_smo, y_smo)\n",
    "y_pred_smo = logit_smo.predict(X_test)\n",
    "print(classification_report(y_test, y_pred_smo))"
   ]
  },
  {
   "cell_type": "code",
   "execution_count": 38,
   "metadata": {},
   "outputs": [],
   "source": [
    "ros = RandomOverSampler()\n",
    "X_ros, y_ros = ros.fit_resample(X_train_val, y_train_val)"
   ]
  },
  {
   "cell_type": "code",
   "execution_count": 39,
   "metadata": {},
   "outputs": [
    {
     "data": {
      "text/plain": [
       "0    414\n",
       "1    146\n",
       "Name: default, dtype: int64"
      ]
     },
     "execution_count": 39,
     "metadata": {},
     "output_type": "execute_result"
    }
   ],
   "source": [
    "y_train_val['default'].value_counts()"
   ]
  },
  {
   "cell_type": "code",
   "execution_count": 40,
   "metadata": {},
   "outputs": [
    {
     "data": {
      "text/plain": [
       "1    414\n",
       "0    414\n",
       "Name: default, dtype: int64"
      ]
     },
     "execution_count": 40,
     "metadata": {},
     "output_type": "execute_result"
    }
   ],
   "source": [
    "y_smo['default'].value_counts()"
   ]
  },
  {
   "cell_type": "code",
   "execution_count": 41,
   "metadata": {},
   "outputs": [
    {
     "name": "stdout",
     "output_type": "stream",
     "text": [
      "              precision    recall  f1-score   support\n",
      "\n",
      "           0       0.95      0.71      0.81       103\n",
      "           1       0.52      0.89      0.66        37\n",
      "\n",
      "    accuracy                           0.76       140\n",
      "   macro avg       0.74      0.80      0.74       140\n",
      "weighted avg       0.84      0.76      0.77       140\n",
      "\n"
     ]
    },
    {
     "name": "stderr",
     "output_type": "stream",
     "text": [
      "C:\\Users\\johan\\anaconda3\\lib\\site-packages\\sklearn\\utils\\validation.py:73: DataConversionWarning: A column-vector y was passed when a 1d array was expected. Please change the shape of y to (n_samples, ), for example using ravel().\n",
      "  return f(**kwargs)\n"
     ]
    }
   ],
   "source": [
    "logit_ros = LogisticRegression()\n",
    "logit_ros.fit(X_ros, y_ros)\n",
    "y_pred_ros = logit_ros.predict(X_test)\n",
    "print(classification_report(y_test, y_pred_ros))"
   ]
  },
  {
   "cell_type": "code",
   "execution_count": 42,
   "metadata": {},
   "outputs": [],
   "source": [
    "ros_df = pd.concat([X_ros, y_ros],axis=1)\n",
    "smo_df = pd.concat([X_smo, y_smo],axis=1)\n",
    "under_df = pd.concat([X_under, y_under],axis=1)\n",
    "df = pd.concat([X_train_val,y_train_val],axis=1)"
   ]
  },
  {
   "cell_type": "code",
   "execution_count": 43,
   "metadata": {},
   "outputs": [
    {
     "data": {
      "text/plain": [
       "<matplotlib.axes._subplots.AxesSubplot at 0x164ea51ef40>"
      ]
     },
     "execution_count": 43,
     "metadata": {},
     "output_type": "execute_result"
    },
    {
     "data": {
      "image/png": "[encoded data removed]",
      "text/plain": [
       "<Figure size 432x288 with 1 Axes>"
      ]
     },
     "metadata": {
      "needs_background": "light"
     },
     "output_type": "display_data"
    }
   ],
   "source": [
    "sns.scatterplot(x='debtinc',y='creddebt',data=df, hue='default')"
   ]
  },
  {
   "cell_type": "code",
   "execution_count": 44,
   "metadata": {},
   "outputs": [
    {
     "data": {
      "text/plain": [
       "<matplotlib.axes._subplots.AxesSubplot at 0x164ea562bb0>"
      ]
     },
     "execution_count": 44,
     "metadata": {},
     "output_type": "execute_result"
    },
    {
     "data": {
      "image/png": "[encoded data removed]",
      "text/plain": [
       "<Figure size 432x288 with 1 Axes>"
      ]
     },
     "metadata": {
      "needs_background": "light"
     },
     "output_type": "display_data"
    }
   ],
   "source": [
    "sns.scatterplot(x='debtinc',y='creddebt',data=ros_df, hue='default')"
   ]
  },
  {
   "cell_type": "code",
   "execution_count": 45,
   "metadata": {},
   "outputs": [
    {
     "data": {
      "text/plain": [
       "<matplotlib.axes._subplots.AxesSubplot at 0x164ea5f61f0>"
      ]
     },
     "execution_count": 45,
     "metadata": {},
     "output_type": "execute_result"
    },
    {
     "data": {
      "image/png": "[encoded data removed]",
      "text/plain": [
       "<Figure size 432x288 with 1 Axes>"
      ]
     },
     "metadata": {
      "needs_background": "light"
     },
     "output_type": "display_data"
    }
   ],
   "source": [
    "sns.scatterplot(x='debtinc',y='creddebt',data=under_df, hue='default')"
   ]
  },
  {
   "cell_type": "markdown",
   "metadata": {},
   "source": [
    "# Penalized\n",
    "\n",
    "### memberi perhatian imbang kepada label yang rationya lebih kecil"
   ]
  },
  {
   "cell_type": "code",
   "execution_count": 46,
   "metadata": {},
   "outputs": [
    {
     "name": "stdout",
     "output_type": "stream",
     "text": [
      "              precision    recall  f1-score   support\n",
      "\n",
      "           0       0.95      0.72      0.82       103\n",
      "           1       0.53      0.89      0.67        37\n",
      "\n",
      "    accuracy                           0.76       140\n",
      "   macro avg       0.74      0.81      0.74       140\n",
      "weighted avg       0.84      0.76      0.78       140\n",
      "\n"
     ]
    },
    {
     "name": "stderr",
     "output_type": "stream",
     "text": [
      "C:\\Users\\johan\\anaconda3\\lib\\site-packages\\sklearn\\utils\\validation.py:73: DataConversionWarning: A column-vector y was passed when a 1d array was expected. Please change the shape of y to (n_samples, ), for example using ravel().\n",
      "  return f(**kwargs)\n"
     ]
    }
   ],
   "source": [
    "logit_balance=LogisticRegression(class_weight = 'balanced')\n",
    "logit_balance.fit(X_train_val, y_train_val)\n",
    "y_pred_bal = logit_balance.predict(X_test)\n",
    "print(classification_report(y_test,y_pred_bal))"
   ]
  },
  {
   "cell_type": "code",
   "execution_count": 47,
   "metadata": {},
   "outputs": [
    {
     "data": {
      "text/plain": [
       "<sklearn.metrics._plot.roc_curve.RocCurveDisplay at 0x164ea0242e0>"
      ]
     },
     "execution_count": 47,
     "metadata": {},
     "output_type": "execute_result"
    },
    {
     "data": {
      "image/png": "[encoded data removed]",
      "text/plain": [
       "<Figure size 432x288 with 1 Axes>"
      ]
     },
     "metadata": {
      "needs_background": "light"
     },
     "output_type": "display_data"
    }
   ],
   "source": [
    "plot_roc_curve(logit_balance, X_test, y_test)"
   ]
  },
  {
   "cell_type": "markdown",
   "metadata": {},
   "source": [
    "> ## Summary"
   ]
  },
  {
   "cell_type": "code",
   "execution_count": 48,
   "metadata": {},
   "outputs": [],
   "source": [
    "f1_no_treat = f1_score(y_test, logit.predict(X_test))\n",
    "\n",
    "y_prob1 = logit.predict_proba(X_test)[:,1]\n",
    "f1_no_treat_thr = f1_score(y_test, np.where(y_prob1>best_thr,1,0))\n",
    "\n",
    "f1_under = f1_score(y_test, logit_under.predict(X_test))\n",
    "f1_ros = f1_score(y_test, logit_ros.predict(X_test))\n",
    "f1_smo = f1_score(y_test, logit_smo.predict(X_test))\n",
    "f1_balance = f1_score(y_test, logit_balance.predict(X_test))"
   ]
  },
  {
   "cell_type": "code",
   "execution_count": 49,
   "metadata": {},
   "outputs": [
    {
     "data": {
      "text/html": [
       "<div>\n",
       "<style scoped>\n",
       "    .dataframe tbody tr th:only-of-type {\n",
       "        vertical-align: middle;\n",
       "    }\n",
       "\n",
       "    .dataframe tbody tr th {\n",
       "        vertical-align: top;\n",
       "    }\n",
       "\n",
       "    .dataframe thead th {\n",
       "        text-align: right;\n",
       "    }\n",
       "</style>\n",
       "<table border=\"1\" class=\"dataframe\">\n",
       "  <thead>\n",
       "    <tr style=\"text-align: right;\">\n",
       "      <th></th>\n",
       "      <th>method</th>\n",
       "      <th>score</th>\n",
       "    </tr>\n",
       "  </thead>\n",
       "  <tbody>\n",
       "    <tr>\n",
       "      <th>0</th>\n",
       "      <td>default</td>\n",
       "      <td>0.508475</td>\n",
       "    </tr>\n",
       "    <tr>\n",
       "      <th>1</th>\n",
       "      <td>threshold_opt</td>\n",
       "      <td>0.524590</td>\n",
       "    </tr>\n",
       "    <tr>\n",
       "      <th>2</th>\n",
       "      <td>undersampling</td>\n",
       "      <td>0.647619</td>\n",
       "    </tr>\n",
       "    <tr>\n",
       "      <th>3</th>\n",
       "      <td>oversampling</td>\n",
       "      <td>0.660000</td>\n",
       "    </tr>\n",
       "    <tr>\n",
       "      <th>4</th>\n",
       "      <td>SMOTE</td>\n",
       "      <td>0.673267</td>\n",
       "    </tr>\n",
       "    <tr>\n",
       "      <th>5</th>\n",
       "      <td>penalized</td>\n",
       "      <td>0.666667</td>\n",
       "    </tr>\n",
       "  </tbody>\n",
       "</table>\n",
       "</div>"
      ],
      "text/plain": [
       "          method     score\n",
       "0        default  0.508475\n",
       "1  threshold_opt  0.524590\n",
       "2  undersampling  0.647619\n",
       "3   oversampling  0.660000\n",
       "4          SMOTE  0.673267\n",
       "5      penalized  0.666667"
      ]
     },
     "execution_count": 49,
     "metadata": {},
     "output_type": "execute_result"
    }
   ],
   "source": [
    "score_list = [f1_no_treat, f1_no_treat_thr, f1_under,f1_ros,f1_smo,f1_balance]\n",
    "model_name='default threshold_opt undersampling oversampling SMOTE penalized'.split()\n",
    "\n",
    "df_summary = pd.DataFrame({\n",
    "    'method':model_name,\n",
    "    'score':score_list\n",
    "})\n",
    "df_summary"
   ]
  },
  {
   "cell_type": "markdown",
   "metadata": {},
   "source": [
    "## Combine Cross Validation with Balancing Method"
   ]
  },
  {
   "cell_type": "code",
   "execution_count": 50,
   "metadata": {},
   "outputs": [],
   "source": [
    "import pandas as pd\n",
    "import numpy as np\n",
    "\n",
    "import seaborn as sns\n",
    "import matplotlib.pyplot as plt\n",
    "\n",
    "from sklearn.model_selection import train_test_split, cross_val_score, StratifiedKFold, GridSearchCV\n",
    "from imblearn.over_sampling import RandomOverSampler, SMOTE\n",
    "from imblearn.under_sampling import RandomUnderSampler, NearMiss\n",
    "from imblearn.pipeline import Pipeline\n",
    "\n",
    "from sklearn.linear_model import LogisticRegression\n",
    "\n",
    "from sklearn.metrics import plot_roc_curve\n",
    "from sklearn.metrics import classification_report, f1_score\n",
    "\n",
    "import warnings\n",
    "\n",
    "warnings.filterwarnings('ignore')\n",
    "pd.set_option('display.max_columns', None)\n"
   ]
  },
  {
   "cell_type": "code",
   "execution_count": 51,
   "metadata": {},
   "outputs": [
    {
     "data": {
      "text/plain": [
       "(     employ  debtinc   creddebt   othdebt\n",
       " 0        17      9.3  11.359392  5.008608\n",
       " 1        10     17.3   1.362202  4.000798\n",
       " 2        15      5.5   0.856075  2.168925\n",
       " 3        15      2.9   2.658720  0.821280\n",
       " 4         2     17.3   1.787436  3.056564\n",
       " ..      ...      ...        ...       ...\n",
       " 695       6      4.6   0.262062  0.979938\n",
       " 696       6     11.5   0.369495  2.045505\n",
       " 697      15      7.6   0.491264  1.940736\n",
       " 698      19      8.4   2.302608  4.165392\n",
       " 699      12     14.7   2.994684  3.473316\n",
       " \n",
       " [700 rows x 4 columns],\n",
       "      default\n",
       " 0          1\n",
       " 1          0\n",
       " 2          0\n",
       " 3          0\n",
       " 4          1\n",
       " ..       ...\n",
       " 695        1\n",
       " 696        0\n",
       " 697        0\n",
       " 698        0\n",
       " 699        0\n",
       " \n",
       " [700 rows x 1 columns])"
      ]
     },
     "execution_count": 51,
     "metadata": {},
     "output_type": "execute_result"
    }
   ],
   "source": [
    "X,y"
   ]
  },
  {
   "cell_type": "markdown",
   "metadata": {},
   "source": [
    "> ## Resampling : SMOTE"
   ]
  },
  {
   "cell_type": "code",
   "execution_count": 52,
   "metadata": {},
   "outputs": [],
   "source": [
    "smote = SMOTE()\n",
    "logit = LogisticRegression()\n",
    "\n",
    "estimator = Pipeline([('balancing',smote),\n",
    "                     ('clf',logit)])"
   ]
  },
  {
   "cell_type": "code",
   "execution_count": 53,
   "metadata": {},
   "outputs": [],
   "source": [
    "skf = StratifiedKFold(n_splits=5)\n",
    "model_cv = cross_val_score(estimator, X_train_val, y_train_val, cv=skf, scoring='f1')"
   ]
  },
  {
   "cell_type": "code",
   "execution_count": 54,
   "metadata": {},
   "outputs": [
    {
     "name": "stdout",
     "output_type": "stream",
     "text": [
      "cv score: [0.55       0.59459459 0.6        0.75       0.54285714]\n",
      "cv score mean: 0.6074903474903475\n"
     ]
    }
   ],
   "source": [
    "print('cv score:',model_cv)\n",
    "print('cv score mean:',model_cv.mean())"
   ]
  },
  {
   "cell_type": "markdown",
   "metadata": {},
   "source": [
    "> ## Penalized"
   ]
  },
  {
   "cell_type": "code",
   "execution_count": 55,
   "metadata": {},
   "outputs": [],
   "source": [
    "logit_balanced = LogisticRegression(class_weight = 'balanced')\n",
    "model_cv_balanced = cross_val_score(logit_balanced, X_train_val, y_train_val, cv=skf, scoring='f1')"
   ]
  },
  {
   "cell_type": "code",
   "execution_count": 56,
   "metadata": {},
   "outputs": [
    {
     "name": "stdout",
     "output_type": "stream",
     "text": [
      "cv score: [0.56097561 0.60273973 0.60869565 0.76190476 0.52173913]\n",
      "cv score mean: 0.6112109760593905\n"
     ]
    }
   ],
   "source": [
    "print('cv score:',model_cv_balanced)\n",
    "print('cv score mean:',model_cv_balanced.mean())"
   ]
  },
  {
   "cell_type": "code",
   "execution_count": null,
   "metadata": {},
   "outputs": [],
   "source": []
  },
  {
   "cell_type": "code",
   "execution_count": 57,
   "metadata": {},
   "outputs": [],
   "source": [
    "smote=SMOTE()\n",
    "model=LogisticRegression()\n",
    "estimator=Pipeline([('balancing',smote),\n",
    "                   ('clf',model)])\n",
    "\n",
    "hyperparam_space = {\n",
    "    'balancing__k_neighbors':[2,5,10,15,20],\n",
    "    'clf__C':[100,10,1,0.1,0.01,0.001],\n",
    "    'clf__solver':['liblinear','newton-cg']\n",
    "}\n",
    "skf=StratifiedKFold(n_splits=5)\n",
    "\n",
    "grid_search=GridSearchCV(estimator, hyperparam_space,cv=skf,scoring='f1',n_jobs=-1,verbose=1)"
   ]
  },
  {
   "cell_type": "code",
   "execution_count": 58,
   "metadata": {},
   "outputs": [
    {
     "name": "stdout",
     "output_type": "stream",
     "text": [
      "Fitting 5 folds for each of 60 candidates, totalling 300 fits\n"
     ]
    },
    {
     "name": "stderr",
     "output_type": "stream",
     "text": [
      "[Parallel(n_jobs=-1)]: Using backend LokyBackend with 12 concurrent workers.\n",
      "[Parallel(n_jobs=-1)]: Done  26 tasks      | elapsed:    2.9s\n",
      "[Parallel(n_jobs=-1)]: Done 272 tasks      | elapsed:    3.7s\n",
      "[Parallel(n_jobs=-1)]: Done 300 out of 300 | elapsed:    3.7s finished\n"
     ]
    },
    {
     "data": {
      "text/plain": [
       "GridSearchCV(cv=StratifiedKFold(n_splits=5, random_state=None, shuffle=False),\n",
       "             estimator=Pipeline(steps=[('balancing', SMOTE()),\n",
       "                                       ('clf', LogisticRegression())]),\n",
       "             n_jobs=-1,\n",
       "             param_grid={'balancing__k_neighbors': [2, 5, 10, 15, 20],\n",
       "                         'clf__C': [100, 10, 1, 0.1, 0.01, 0.001],\n",
       "                         'clf__solver': ['liblinear', 'newton-cg']},\n",
       "             scoring='f1', verbose=1)"
      ]
     },
     "execution_count": 58,
     "metadata": {},
     "output_type": "execute_result"
    }
   ],
   "source": [
    "grid_search.fit(X_train_val, y_train_val)"
   ]
  },
  {
   "cell_type": "code",
   "execution_count": 59,
   "metadata": {},
   "outputs": [
    {
     "name": "stdout",
     "output_type": "stream",
     "text": [
      "best score 0.6214467645709204\n",
      "best parameter {'balancing__k_neighbors': 5, 'clf__C': 0.01, 'clf__solver': 'liblinear'}\n"
     ]
    }
   ],
   "source": [
    "print('best score',grid_search.best_score_)\n",
    "print('best parameter',grid_search.best_params_)"
   ]
  },
  {
   "cell_type": "code",
   "execution_count": 60,
   "metadata": {},
   "outputs": [
    {
     "data": {
      "text/html": [
       "<div>\n",
       "<style scoped>\n",
       "    .dataframe tbody tr th:only-of-type {\n",
       "        vertical-align: middle;\n",
       "    }\n",
       "\n",
       "    .dataframe tbody tr th {\n",
       "        vertical-align: top;\n",
       "    }\n",
       "\n",
       "    .dataframe thead th {\n",
       "        text-align: right;\n",
       "    }\n",
       "</style>\n",
       "<table border=\"1\" class=\"dataframe\">\n",
       "  <thead>\n",
       "    <tr style=\"text-align: right;\">\n",
       "      <th></th>\n",
       "      <th>mean_fit_time</th>\n",
       "      <th>std_fit_time</th>\n",
       "      <th>mean_score_time</th>\n",
       "      <th>std_score_time</th>\n",
       "      <th>param_balancing__k_neighbors</th>\n",
       "      <th>param_clf__C</th>\n",
       "      <th>param_clf__solver</th>\n",
       "      <th>params</th>\n",
       "      <th>split0_test_score</th>\n",
       "      <th>split1_test_score</th>\n",
       "      <th>split2_test_score</th>\n",
       "      <th>split3_test_score</th>\n",
       "      <th>split4_test_score</th>\n",
       "      <th>mean_test_score</th>\n",
       "      <th>std_test_score</th>\n",
       "      <th>rank_test_score</th>\n",
       "    </tr>\n",
       "  </thead>\n",
       "  <tbody>\n",
       "    <tr>\n",
       "      <th>0</th>\n",
       "      <td>0.022694</td>\n",
       "      <td>0.001331</td>\n",
       "      <td>0.007604</td>\n",
       "      <td>2.151940e-03</td>\n",
       "      <td>2</td>\n",
       "      <td>100</td>\n",
       "      <td>liblinear</td>\n",
       "      <td>{'balancing__k_neighbors': 2, 'clf__C': 100, '...</td>\n",
       "      <td>0.550000</td>\n",
       "      <td>0.586667</td>\n",
       "      <td>0.626866</td>\n",
       "      <td>0.738462</td>\n",
       "      <td>0.542857</td>\n",
       "      <td>0.608970</td>\n",
       "      <td>0.071322</td>\n",
       "      <td>34</td>\n",
       "    </tr>\n",
       "    <tr>\n",
       "      <th>1</th>\n",
       "      <td>0.067550</td>\n",
       "      <td>0.015034</td>\n",
       "      <td>0.006565</td>\n",
       "      <td>4.751981e-04</td>\n",
       "      <td>2</td>\n",
       "      <td>100</td>\n",
       "      <td>newton-cg</td>\n",
       "      <td>{'balancing__k_neighbors': 2, 'clf__C': 100, '...</td>\n",
       "      <td>0.550000</td>\n",
       "      <td>0.594595</td>\n",
       "      <td>0.636364</td>\n",
       "      <td>0.741935</td>\n",
       "      <td>0.521739</td>\n",
       "      <td>0.608927</td>\n",
       "      <td>0.077102</td>\n",
       "      <td>36</td>\n",
       "    </tr>\n",
       "    <tr>\n",
       "      <th>2</th>\n",
       "      <td>0.022978</td>\n",
       "      <td>0.004135</td>\n",
       "      <td>0.006369</td>\n",
       "      <td>1.465603e-03</td>\n",
       "      <td>2</td>\n",
       "      <td>10</td>\n",
       "      <td>liblinear</td>\n",
       "      <td>{'balancing__k_neighbors': 2, 'clf__C': 10, 'c...</td>\n",
       "      <td>0.543210</td>\n",
       "      <td>0.586667</td>\n",
       "      <td>0.626866</td>\n",
       "      <td>0.750000</td>\n",
       "      <td>0.542857</td>\n",
       "      <td>0.609920</td>\n",
       "      <td>0.076678</td>\n",
       "      <td>27</td>\n",
       "    </tr>\n",
       "    <tr>\n",
       "      <th>3</th>\n",
       "      <td>0.062033</td>\n",
       "      <td>0.023545</td>\n",
       "      <td>0.004987</td>\n",
       "      <td>6.306758e-04</td>\n",
       "      <td>2</td>\n",
       "      <td>10</td>\n",
       "      <td>newton-cg</td>\n",
       "      <td>{'balancing__k_neighbors': 2, 'clf__C': 10, 'c...</td>\n",
       "      <td>0.543210</td>\n",
       "      <td>0.594595</td>\n",
       "      <td>0.608696</td>\n",
       "      <td>0.730159</td>\n",
       "      <td>0.535211</td>\n",
       "      <td>0.602374</td>\n",
       "      <td>0.069915</td>\n",
       "      <td>47</td>\n",
       "    </tr>\n",
       "    <tr>\n",
       "      <th>4</th>\n",
       "      <td>0.020744</td>\n",
       "      <td>0.000977</td>\n",
       "      <td>0.004787</td>\n",
       "      <td>3.997805e-04</td>\n",
       "      <td>2</td>\n",
       "      <td>1</td>\n",
       "      <td>liblinear</td>\n",
       "      <td>{'balancing__k_neighbors': 2, 'clf__C': 1, 'cl...</td>\n",
       "      <td>0.543210</td>\n",
       "      <td>0.602740</td>\n",
       "      <td>0.636364</td>\n",
       "      <td>0.750000</td>\n",
       "      <td>0.521739</td>\n",
       "      <td>0.610810</td>\n",
       "      <td>0.080741</td>\n",
       "      <td>23</td>\n",
       "    </tr>\n",
       "    <tr>\n",
       "      <th>5</th>\n",
       "      <td>0.038696</td>\n",
       "      <td>0.006747</td>\n",
       "      <td>0.004388</td>\n",
       "      <td>1.353021e-03</td>\n",
       "      <td>2</td>\n",
       "      <td>1</td>\n",
       "      <td>newton-cg</td>\n",
       "      <td>{'balancing__k_neighbors': 2, 'clf__C': 1, 'cl...</td>\n",
       "      <td>0.560976</td>\n",
       "      <td>0.605263</td>\n",
       "      <td>0.636364</td>\n",
       "      <td>0.754098</td>\n",
       "      <td>0.521739</td>\n",
       "      <td>0.615688</td>\n",
       "      <td>0.079389</td>\n",
       "      <td>6</td>\n",
       "    </tr>\n",
       "    <tr>\n",
       "      <th>6</th>\n",
       "      <td>0.020744</td>\n",
       "      <td>0.005102</td>\n",
       "      <td>0.004388</td>\n",
       "      <td>7.977486e-04</td>\n",
       "      <td>2</td>\n",
       "      <td>0.1</td>\n",
       "      <td>liblinear</td>\n",
       "      <td>{'balancing__k_neighbors': 2, 'clf__C': 0.1, '...</td>\n",
       "      <td>0.536585</td>\n",
       "      <td>0.605263</td>\n",
       "      <td>0.617647</td>\n",
       "      <td>0.769231</td>\n",
       "      <td>0.535211</td>\n",
       "      <td>0.612788</td>\n",
       "      <td>0.085299</td>\n",
       "      <td>14</td>\n",
       "    </tr>\n",
       "    <tr>\n",
       "      <th>7</th>\n",
       "      <td>0.026729</td>\n",
       "      <td>0.002631</td>\n",
       "      <td>0.005385</td>\n",
       "      <td>1.492056e-03</td>\n",
       "      <td>2</td>\n",
       "      <td>0.1</td>\n",
       "      <td>newton-cg</td>\n",
       "      <td>{'balancing__k_neighbors': 2, 'clf__C': 0.1, '...</td>\n",
       "      <td>0.536585</td>\n",
       "      <td>0.619718</td>\n",
       "      <td>0.608696</td>\n",
       "      <td>0.750000</td>\n",
       "      <td>0.542857</td>\n",
       "      <td>0.611571</td>\n",
       "      <td>0.076918</td>\n",
       "      <td>20</td>\n",
       "    </tr>\n",
       "    <tr>\n",
       "      <th>8</th>\n",
       "      <td>0.014561</td>\n",
       "      <td>0.001017</td>\n",
       "      <td>0.004190</td>\n",
       "      <td>3.986626e-04</td>\n",
       "      <td>2</td>\n",
       "      <td>0.01</td>\n",
       "      <td>liblinear</td>\n",
       "      <td>{'balancing__k_neighbors': 2, 'clf__C': 0.01, ...</td>\n",
       "      <td>0.564706</td>\n",
       "      <td>0.632911</td>\n",
       "      <td>0.600000</td>\n",
       "      <td>0.716418</td>\n",
       "      <td>0.563380</td>\n",
       "      <td>0.615483</td>\n",
       "      <td>0.056612</td>\n",
       "      <td>7</td>\n",
       "    </tr>\n",
       "    <tr>\n",
       "      <th>9</th>\n",
       "      <td>0.023736</td>\n",
       "      <td>0.001934</td>\n",
       "      <td>0.003790</td>\n",
       "      <td>3.989461e-04</td>\n",
       "      <td>2</td>\n",
       "      <td>0.01</td>\n",
       "      <td>newton-cg</td>\n",
       "      <td>{'balancing__k_neighbors': 2, 'clf__C': 0.01, ...</td>\n",
       "      <td>0.536585</td>\n",
       "      <td>0.583333</td>\n",
       "      <td>0.636364</td>\n",
       "      <td>0.730159</td>\n",
       "      <td>0.563380</td>\n",
       "      <td>0.609964</td>\n",
       "      <td>0.068421</td>\n",
       "      <td>25</td>\n",
       "    </tr>\n",
       "    <tr>\n",
       "      <th>10</th>\n",
       "      <td>0.014362</td>\n",
       "      <td>0.001955</td>\n",
       "      <td>0.003789</td>\n",
       "      <td>3.991366e-04</td>\n",
       "      <td>2</td>\n",
       "      <td>0.001</td>\n",
       "      <td>liblinear</td>\n",
       "      <td>{'balancing__k_neighbors': 2, 'clf__C': 0.001,...</td>\n",
       "      <td>0.564706</td>\n",
       "      <td>0.558140</td>\n",
       "      <td>0.602740</td>\n",
       "      <td>0.729730</td>\n",
       "      <td>0.519481</td>\n",
       "      <td>0.594959</td>\n",
       "      <td>0.072376</td>\n",
       "      <td>59</td>\n",
       "    </tr>\n",
       "    <tr>\n",
       "      <th>11</th>\n",
       "      <td>0.018751</td>\n",
       "      <td>0.001934</td>\n",
       "      <td>0.003990</td>\n",
       "      <td>6.843901e-07</td>\n",
       "      <td>2</td>\n",
       "      <td>0.001</td>\n",
       "      <td>newton-cg</td>\n",
       "      <td>{'balancing__k_neighbors': 2, 'clf__C': 0.001,...</td>\n",
       "      <td>0.550000</td>\n",
       "      <td>0.560000</td>\n",
       "      <td>0.637681</td>\n",
       "      <td>0.716418</td>\n",
       "      <td>0.527778</td>\n",
       "      <td>0.598375</td>\n",
       "      <td>0.069679</td>\n",
       "      <td>54</td>\n",
       "    </tr>\n",
       "    <tr>\n",
       "      <th>12</th>\n",
       "      <td>0.014163</td>\n",
       "      <td>0.001322</td>\n",
       "      <td>0.004188</td>\n",
       "      <td>3.989223e-04</td>\n",
       "      <td>5</td>\n",
       "      <td>100</td>\n",
       "      <td>liblinear</td>\n",
       "      <td>{'balancing__k_neighbors': 5, 'clf__C': 100, '...</td>\n",
       "      <td>0.543210</td>\n",
       "      <td>0.602740</td>\n",
       "      <td>0.626866</td>\n",
       "      <td>0.750000</td>\n",
       "      <td>0.521739</td>\n",
       "      <td>0.608911</td>\n",
       "      <td>0.080227</td>\n",
       "      <td>37</td>\n",
       "    </tr>\n",
       "    <tr>\n",
       "      <th>13</th>\n",
       "      <td>0.021711</td>\n",
       "      <td>0.002450</td>\n",
       "      <td>0.002562</td>\n",
       "      <td>8.212233e-04</td>\n",
       "      <td>5</td>\n",
       "      <td>100</td>\n",
       "      <td>newton-cg</td>\n",
       "      <td>{'balancing__k_neighbors': 5, 'clf__C': 100, '...</td>\n",
       "      <td>0.543210</td>\n",
       "      <td>0.602740</td>\n",
       "      <td>0.617647</td>\n",
       "      <td>0.754098</td>\n",
       "      <td>0.542857</td>\n",
       "      <td>0.612110</td>\n",
       "      <td>0.077230</td>\n",
       "      <td>16</td>\n",
       "    </tr>\n",
       "    <tr>\n",
       "      <th>14</th>\n",
       "      <td>0.016602</td>\n",
       "      <td>0.008007</td>\n",
       "      <td>0.008106</td>\n",
       "      <td>9.495679e-03</td>\n",
       "      <td>5</td>\n",
       "      <td>10</td>\n",
       "      <td>liblinear</td>\n",
       "      <td>{'balancing__k_neighbors': 5, 'clf__C': 10, 'c...</td>\n",
       "      <td>0.536585</td>\n",
       "      <td>0.594595</td>\n",
       "      <td>0.636364</td>\n",
       "      <td>0.741935</td>\n",
       "      <td>0.521739</td>\n",
       "      <td>0.606244</td>\n",
       "      <td>0.079308</td>\n",
       "      <td>41</td>\n",
       "    </tr>\n",
       "    <tr>\n",
       "      <th>15</th>\n",
       "      <td>0.043456</td>\n",
       "      <td>0.023162</td>\n",
       "      <td>0.005424</td>\n",
       "      <td>8.107946e-04</td>\n",
       "      <td>5</td>\n",
       "      <td>10</td>\n",
       "      <td>newton-cg</td>\n",
       "      <td>{'balancing__k_neighbors': 5, 'clf__C': 10, 'c...</td>\n",
       "      <td>0.543210</td>\n",
       "      <td>0.591549</td>\n",
       "      <td>0.608696</td>\n",
       "      <td>0.761905</td>\n",
       "      <td>0.521739</td>\n",
       "      <td>0.605420</td>\n",
       "      <td>0.084336</td>\n",
       "      <td>43</td>\n",
       "    </tr>\n",
       "    <tr>\n",
       "      <th>16</th>\n",
       "      <td>0.014544</td>\n",
       "      <td>0.000489</td>\n",
       "      <td>0.004397</td>\n",
       "      <td>4.999359e-04</td>\n",
       "      <td>5</td>\n",
       "      <td>1</td>\n",
       "      <td>liblinear</td>\n",
       "      <td>{'balancing__k_neighbors': 5, 'clf__C': 1, 'cl...</td>\n",
       "      <td>0.543210</td>\n",
       "      <td>0.602740</td>\n",
       "      <td>0.617647</td>\n",
       "      <td>0.750000</td>\n",
       "      <td>0.535211</td>\n",
       "      <td>0.609762</td>\n",
       "      <td>0.077156</td>\n",
       "      <td>28</td>\n",
       "    </tr>\n",
       "    <tr>\n",
       "      <th>17</th>\n",
       "      <td>0.040371</td>\n",
       "      <td>0.010232</td>\n",
       "      <td>0.005796</td>\n",
       "      <td>1.834263e-03</td>\n",
       "      <td>5</td>\n",
       "      <td>1</td>\n",
       "      <td>newton-cg</td>\n",
       "      <td>{'balancing__k_neighbors': 5, 'clf__C': 1, 'cl...</td>\n",
       "      <td>0.536585</td>\n",
       "      <td>0.611111</td>\n",
       "      <td>0.617647</td>\n",
       "      <td>0.761905</td>\n",
       "      <td>0.542857</td>\n",
       "      <td>0.614021</td>\n",
       "      <td>0.081181</td>\n",
       "      <td>12</td>\n",
       "    </tr>\n",
       "    <tr>\n",
       "      <th>18</th>\n",
       "      <td>0.018073</td>\n",
       "      <td>0.003224</td>\n",
       "      <td>0.005009</td>\n",
       "      <td>1.585955e-03</td>\n",
       "      <td>5</td>\n",
       "      <td>0.1</td>\n",
       "      <td>liblinear</td>\n",
       "      <td>{'balancing__k_neighbors': 5, 'clf__C': 0.1, '...</td>\n",
       "      <td>0.518519</td>\n",
       "      <td>0.586667</td>\n",
       "      <td>0.600000</td>\n",
       "      <td>0.750000</td>\n",
       "      <td>0.542857</td>\n",
       "      <td>0.599608</td>\n",
       "      <td>0.080724</td>\n",
       "      <td>52</td>\n",
       "    </tr>\n",
       "    <tr>\n",
       "      <th>19</th>\n",
       "      <td>0.034805</td>\n",
       "      <td>0.002488</td>\n",
       "      <td>0.005792</td>\n",
       "      <td>1.835717e-03</td>\n",
       "      <td>5</td>\n",
       "      <td>0.1</td>\n",
       "      <td>newton-cg</td>\n",
       "      <td>{'balancing__k_neighbors': 5, 'clf__C': 0.1, '...</td>\n",
       "      <td>0.543210</td>\n",
       "      <td>0.594595</td>\n",
       "      <td>0.626866</td>\n",
       "      <td>0.741935</td>\n",
       "      <td>0.521739</td>\n",
       "      <td>0.605669</td>\n",
       "      <td>0.077570</td>\n",
       "      <td>42</td>\n",
       "    </tr>\n",
       "    <tr>\n",
       "      <th>20</th>\n",
       "      <td>0.021187</td>\n",
       "      <td>0.003866</td>\n",
       "      <td>0.006195</td>\n",
       "      <td>2.050735e-03</td>\n",
       "      <td>5</td>\n",
       "      <td>0.01</td>\n",
       "      <td>liblinear</td>\n",
       "      <td>{'balancing__k_neighbors': 5, 'clf__C': 0.01, ...</td>\n",
       "      <td>0.554217</td>\n",
       "      <td>0.631579</td>\n",
       "      <td>0.591549</td>\n",
       "      <td>0.735294</td>\n",
       "      <td>0.594595</td>\n",
       "      <td>0.621447</td>\n",
       "      <td>0.061966</td>\n",
       "      <td>1</td>\n",
       "    </tr>\n",
       "    <tr>\n",
       "      <th>21</th>\n",
       "      <td>0.041210</td>\n",
       "      <td>0.015113</td>\n",
       "      <td>0.006390</td>\n",
       "      <td>1.953505e-03</td>\n",
       "      <td>5</td>\n",
       "      <td>0.01</td>\n",
       "      <td>newton-cg</td>\n",
       "      <td>{'balancing__k_neighbors': 5, 'clf__C': 0.01, ...</td>\n",
       "      <td>0.543210</td>\n",
       "      <td>0.591549</td>\n",
       "      <td>0.617647</td>\n",
       "      <td>0.750000</td>\n",
       "      <td>0.571429</td>\n",
       "      <td>0.614767</td>\n",
       "      <td>0.071880</td>\n",
       "      <td>9</td>\n",
       "    </tr>\n",
       "    <tr>\n",
       "      <th>22</th>\n",
       "      <td>0.031045</td>\n",
       "      <td>0.014660</td>\n",
       "      <td>0.005990</td>\n",
       "      <td>1.678702e-03</td>\n",
       "      <td>5</td>\n",
       "      <td>0.001</td>\n",
       "      <td>liblinear</td>\n",
       "      <td>{'balancing__k_neighbors': 5, 'clf__C': 0.001,...</td>\n",
       "      <td>0.571429</td>\n",
       "      <td>0.571429</td>\n",
       "      <td>0.594595</td>\n",
       "      <td>0.739726</td>\n",
       "      <td>0.512821</td>\n",
       "      <td>0.598000</td>\n",
       "      <td>0.075849</td>\n",
       "      <td>55</td>\n",
       "    </tr>\n",
       "    <tr>\n",
       "      <th>23</th>\n",
       "      <td>0.041442</td>\n",
       "      <td>0.013657</td>\n",
       "      <td>0.006831</td>\n",
       "      <td>2.134988e-03</td>\n",
       "      <td>5</td>\n",
       "      <td>0.001</td>\n",
       "      <td>newton-cg</td>\n",
       "      <td>{'balancing__k_neighbors': 5, 'clf__C': 0.001,...</td>\n",
       "      <td>0.538462</td>\n",
       "      <td>0.567568</td>\n",
       "      <td>0.637681</td>\n",
       "      <td>0.696970</td>\n",
       "      <td>0.535211</td>\n",
       "      <td>0.595178</td>\n",
       "      <td>0.062838</td>\n",
       "      <td>58</td>\n",
       "    </tr>\n",
       "    <tr>\n",
       "      <th>24</th>\n",
       "      <td>0.030435</td>\n",
       "      <td>0.011977</td>\n",
       "      <td>0.006581</td>\n",
       "      <td>5.186820e-03</td>\n",
       "      <td>10</td>\n",
       "      <td>100</td>\n",
       "      <td>liblinear</td>\n",
       "      <td>{'balancing__k_neighbors': 10, 'clf__C': 100, ...</td>\n",
       "      <td>0.525000</td>\n",
       "      <td>0.608696</td>\n",
       "      <td>0.608696</td>\n",
       "      <td>0.730159</td>\n",
       "      <td>0.529412</td>\n",
       "      <td>0.600392</td>\n",
       "      <td>0.074430</td>\n",
       "      <td>50</td>\n",
       "    </tr>\n",
       "    <tr>\n",
       "      <th>25</th>\n",
       "      <td>0.041392</td>\n",
       "      <td>0.011111</td>\n",
       "      <td>0.006830</td>\n",
       "      <td>2.004115e-03</td>\n",
       "      <td>10</td>\n",
       "      <td>100</td>\n",
       "      <td>newton-cg</td>\n",
       "      <td>{'balancing__k_neighbors': 10, 'clf__C': 100, ...</td>\n",
       "      <td>0.543210</td>\n",
       "      <td>0.611111</td>\n",
       "      <td>0.646154</td>\n",
       "      <td>0.750000</td>\n",
       "      <td>0.521739</td>\n",
       "      <td>0.614443</td>\n",
       "      <td>0.081315</td>\n",
       "      <td>10</td>\n",
       "    </tr>\n",
       "    <tr>\n",
       "      <th>26</th>\n",
       "      <td>0.023182</td>\n",
       "      <td>0.006985</td>\n",
       "      <td>0.004189</td>\n",
       "      <td>3.988035e-04</td>\n",
       "      <td>10</td>\n",
       "      <td>10</td>\n",
       "      <td>liblinear</td>\n",
       "      <td>{'balancing__k_neighbors': 10, 'clf__C': 10, '...</td>\n",
       "      <td>0.554217</td>\n",
       "      <td>0.583333</td>\n",
       "      <td>0.626866</td>\n",
       "      <td>0.750000</td>\n",
       "      <td>0.535211</td>\n",
       "      <td>0.609925</td>\n",
       "      <td>0.076551</td>\n",
       "      <td>26</td>\n",
       "    </tr>\n",
       "    <tr>\n",
       "      <th>27</th>\n",
       "      <td>0.037592</td>\n",
       "      <td>0.017653</td>\n",
       "      <td>0.005785</td>\n",
       "      <td>2.634571e-03</td>\n",
       "      <td>10</td>\n",
       "      <td>10</td>\n",
       "      <td>newton-cg</td>\n",
       "      <td>{'balancing__k_neighbors': 10, 'clf__C': 10, '...</td>\n",
       "      <td>0.543210</td>\n",
       "      <td>0.600000</td>\n",
       "      <td>0.636364</td>\n",
       "      <td>0.741935</td>\n",
       "      <td>0.521739</td>\n",
       "      <td>0.608650</td>\n",
       "      <td>0.078031</td>\n",
       "      <td>38</td>\n",
       "    </tr>\n",
       "    <tr>\n",
       "      <th>28</th>\n",
       "      <td>0.024936</td>\n",
       "      <td>0.009273</td>\n",
       "      <td>0.005382</td>\n",
       "      <td>4.907636e-04</td>\n",
       "      <td>10</td>\n",
       "      <td>1</td>\n",
       "      <td>liblinear</td>\n",
       "      <td>{'balancing__k_neighbors': 10, 'clf__C': 1, 'c...</td>\n",
       "      <td>0.550000</td>\n",
       "      <td>0.594595</td>\n",
       "      <td>0.608696</td>\n",
       "      <td>0.761905</td>\n",
       "      <td>0.521739</td>\n",
       "      <td>0.607387</td>\n",
       "      <td>0.083271</td>\n",
       "      <td>40</td>\n",
       "    </tr>\n",
       "    <tr>\n",
       "      <th>29</th>\n",
       "      <td>0.033765</td>\n",
       "      <td>0.006720</td>\n",
       "      <td>0.007023</td>\n",
       "      <td>5.476276e-03</td>\n",
       "      <td>10</td>\n",
       "      <td>1</td>\n",
       "      <td>newton-cg</td>\n",
       "      <td>{'balancing__k_neighbors': 10, 'clf__C': 1, 'c...</td>\n",
       "      <td>0.543210</td>\n",
       "      <td>0.591549</td>\n",
       "      <td>0.608696</td>\n",
       "      <td>0.741935</td>\n",
       "      <td>0.521739</td>\n",
       "      <td>0.601426</td>\n",
       "      <td>0.076984</td>\n",
       "      <td>49</td>\n",
       "    </tr>\n",
       "    <tr>\n",
       "      <th>30</th>\n",
       "      <td>0.016999</td>\n",
       "      <td>0.001143</td>\n",
       "      <td>0.004990</td>\n",
       "      <td>1.088432e-03</td>\n",
       "      <td>10</td>\n",
       "      <td>0.1</td>\n",
       "      <td>liblinear</td>\n",
       "      <td>{'balancing__k_neighbors': 10, 'clf__C': 0.1, ...</td>\n",
       "      <td>0.536585</td>\n",
       "      <td>0.586667</td>\n",
       "      <td>0.617647</td>\n",
       "      <td>0.750000</td>\n",
       "      <td>0.555556</td>\n",
       "      <td>0.609291</td>\n",
       "      <td>0.075570</td>\n",
       "      <td>32</td>\n",
       "    </tr>\n",
       "    <tr>\n",
       "      <th>31</th>\n",
       "      <td>0.033162</td>\n",
       "      <td>0.005937</td>\n",
       "      <td>0.004795</td>\n",
       "      <td>1.314407e-03</td>\n",
       "      <td>10</td>\n",
       "      <td>0.1</td>\n",
       "      <td>newton-cg</td>\n",
       "      <td>{'balancing__k_neighbors': 10, 'clf__C': 0.1, ...</td>\n",
       "      <td>0.550000</td>\n",
       "      <td>0.586667</td>\n",
       "      <td>0.626866</td>\n",
       "      <td>0.761905</td>\n",
       "      <td>0.521739</td>\n",
       "      <td>0.609435</td>\n",
       "      <td>0.084015</td>\n",
       "      <td>30</td>\n",
       "    </tr>\n",
       "    <tr>\n",
       "      <th>32</th>\n",
       "      <td>0.021452</td>\n",
       "      <td>0.002995</td>\n",
       "      <td>0.004328</td>\n",
       "      <td>8.356106e-04</td>\n",
       "      <td>10</td>\n",
       "      <td>0.01</td>\n",
       "      <td>liblinear</td>\n",
       "      <td>{'balancing__k_neighbors': 10, 'clf__C': 0.01,...</td>\n",
       "      <td>0.554217</td>\n",
       "      <td>0.607595</td>\n",
       "      <td>0.600000</td>\n",
       "      <td>0.727273</td>\n",
       "      <td>0.555556</td>\n",
       "      <td>0.608928</td>\n",
       "      <td>0.063133</td>\n",
       "      <td>35</td>\n",
       "    </tr>\n",
       "    <tr>\n",
       "      <th>33</th>\n",
       "      <td>0.027577</td>\n",
       "      <td>0.005095</td>\n",
       "      <td>0.004588</td>\n",
       "      <td>7.981302e-04</td>\n",
       "      <td>10</td>\n",
       "      <td>0.01</td>\n",
       "      <td>newton-cg</td>\n",
       "      <td>{'balancing__k_neighbors': 10, 'clf__C': 0.01,...</td>\n",
       "      <td>0.550000</td>\n",
       "      <td>0.583333</td>\n",
       "      <td>0.608696</td>\n",
       "      <td>0.750000</td>\n",
       "      <td>0.563380</td>\n",
       "      <td>0.611082</td>\n",
       "      <td>0.072222</td>\n",
       "      <td>22</td>\n",
       "    </tr>\n",
       "    <tr>\n",
       "      <th>34</th>\n",
       "      <td>0.015372</td>\n",
       "      <td>0.002800</td>\n",
       "      <td>0.004002</td>\n",
       "      <td>1.098551e-03</td>\n",
       "      <td>10</td>\n",
       "      <td>0.001</td>\n",
       "      <td>liblinear</td>\n",
       "      <td>{'balancing__k_neighbors': 10, 'clf__C': 0.001...</td>\n",
       "      <td>0.564706</td>\n",
       "      <td>0.558140</td>\n",
       "      <td>0.594595</td>\n",
       "      <td>0.729730</td>\n",
       "      <td>0.519481</td>\n",
       "      <td>0.593330</td>\n",
       "      <td>0.072274</td>\n",
       "      <td>60</td>\n",
       "    </tr>\n",
       "    <tr>\n",
       "      <th>35</th>\n",
       "      <td>0.023783</td>\n",
       "      <td>0.002224</td>\n",
       "      <td>0.004796</td>\n",
       "      <td>4.040970e-04</td>\n",
       "      <td>10</td>\n",
       "      <td>0.001</td>\n",
       "      <td>newton-cg</td>\n",
       "      <td>{'balancing__k_neighbors': 10, 'clf__C': 0.001...</td>\n",
       "      <td>0.550000</td>\n",
       "      <td>0.575342</td>\n",
       "      <td>0.617647</td>\n",
       "      <td>0.727273</td>\n",
       "      <td>0.507463</td>\n",
       "      <td>0.595545</td>\n",
       "      <td>0.074942</td>\n",
       "      <td>56</td>\n",
       "    </tr>\n",
       "    <tr>\n",
       "      <th>36</th>\n",
       "      <td>0.013886</td>\n",
       "      <td>0.000658</td>\n",
       "      <td>0.003805</td>\n",
       "      <td>4.065461e-04</td>\n",
       "      <td>15</td>\n",
       "      <td>100</td>\n",
       "      <td>liblinear</td>\n",
       "      <td>{'balancing__k_neighbors': 15, 'clf__C': 100, ...</td>\n",
       "      <td>0.543210</td>\n",
       "      <td>0.602740</td>\n",
       "      <td>0.636364</td>\n",
       "      <td>0.750000</td>\n",
       "      <td>0.521739</td>\n",
       "      <td>0.610810</td>\n",
       "      <td>0.080741</td>\n",
       "      <td>23</td>\n",
       "    </tr>\n",
       "    <tr>\n",
       "      <th>37</th>\n",
       "      <td>0.026384</td>\n",
       "      <td>0.001506</td>\n",
       "      <td>0.004405</td>\n",
       "      <td>4.909955e-04</td>\n",
       "      <td>15</td>\n",
       "      <td>100</td>\n",
       "      <td>newton-cg</td>\n",
       "      <td>{'balancing__k_neighbors': 15, 'clf__C': 100, ...</td>\n",
       "      <td>0.543210</td>\n",
       "      <td>0.619718</td>\n",
       "      <td>0.617647</td>\n",
       "      <td>0.750000</td>\n",
       "      <td>0.529412</td>\n",
       "      <td>0.611997</td>\n",
       "      <td>0.078343</td>\n",
       "      <td>18</td>\n",
       "    </tr>\n",
       "    <tr>\n",
       "      <th>38</th>\n",
       "      <td>0.016301</td>\n",
       "      <td>0.001605</td>\n",
       "      <td>0.003692</td>\n",
       "      <td>3.980459e-04</td>\n",
       "      <td>15</td>\n",
       "      <td>10</td>\n",
       "      <td>liblinear</td>\n",
       "      <td>{'balancing__k_neighbors': 15, 'clf__C': 10, '...</td>\n",
       "      <td>0.543210</td>\n",
       "      <td>0.594595</td>\n",
       "      <td>0.626866</td>\n",
       "      <td>0.709677</td>\n",
       "      <td>0.521739</td>\n",
       "      <td>0.599217</td>\n",
       "      <td>0.066524</td>\n",
       "      <td>53</td>\n",
       "    </tr>\n",
       "    <tr>\n",
       "      <th>39</th>\n",
       "      <td>0.026887</td>\n",
       "      <td>0.002159</td>\n",
       "      <td>0.005217</td>\n",
       "      <td>1.484569e-03</td>\n",
       "      <td>15</td>\n",
       "      <td>10</td>\n",
       "      <td>newton-cg</td>\n",
       "      <td>{'balancing__k_neighbors': 15, 'clf__C': 10, '...</td>\n",
       "      <td>0.543210</td>\n",
       "      <td>0.586667</td>\n",
       "      <td>0.636364</td>\n",
       "      <td>0.761905</td>\n",
       "      <td>0.542857</td>\n",
       "      <td>0.614200</td>\n",
       "      <td>0.081481</td>\n",
       "      <td>11</td>\n",
       "    </tr>\n",
       "    <tr>\n",
       "      <th>40</th>\n",
       "      <td>0.017582</td>\n",
       "      <td>0.004130</td>\n",
       "      <td>0.004306</td>\n",
       "      <td>4.086483e-04</td>\n",
       "      <td>15</td>\n",
       "      <td>1</td>\n",
       "      <td>liblinear</td>\n",
       "      <td>{'balancing__k_neighbors': 15, 'clf__C': 1, 'c...</td>\n",
       "      <td>0.543210</td>\n",
       "      <td>0.617647</td>\n",
       "      <td>0.626866</td>\n",
       "      <td>0.754098</td>\n",
       "      <td>0.521739</td>\n",
       "      <td>0.612712</td>\n",
       "      <td>0.081635</td>\n",
       "      <td>15</td>\n",
       "    </tr>\n",
       "    <tr>\n",
       "      <th>41</th>\n",
       "      <td>0.034804</td>\n",
       "      <td>0.013001</td>\n",
       "      <td>0.004402</td>\n",
       "      <td>5.133824e-04</td>\n",
       "      <td>15</td>\n",
       "      <td>1</td>\n",
       "      <td>newton-cg</td>\n",
       "      <td>{'balancing__k_neighbors': 15, 'clf__C': 1, 'c...</td>\n",
       "      <td>0.550000</td>\n",
       "      <td>0.594595</td>\n",
       "      <td>0.626866</td>\n",
       "      <td>0.750000</td>\n",
       "      <td>0.521739</td>\n",
       "      <td>0.608640</td>\n",
       "      <td>0.079376</td>\n",
       "      <td>39</td>\n",
       "    </tr>\n",
       "    <tr>\n",
       "      <th>42</th>\n",
       "      <td>0.027096</td>\n",
       "      <td>0.015905</td>\n",
       "      <td>0.004513</td>\n",
       "      <td>8.976354e-04</td>\n",
       "      <td>15</td>\n",
       "      <td>0.1</td>\n",
       "      <td>liblinear</td>\n",
       "      <td>{'balancing__k_neighbors': 15, 'clf__C': 0.1, ...</td>\n",
       "      <td>0.536585</td>\n",
       "      <td>0.594595</td>\n",
       "      <td>0.636364</td>\n",
       "      <td>0.750000</td>\n",
       "      <td>0.542857</td>\n",
       "      <td>0.612080</td>\n",
       "      <td>0.077985</td>\n",
       "      <td>17</td>\n",
       "    </tr>\n",
       "    <tr>\n",
       "      <th>43</th>\n",
       "      <td>0.031387</td>\n",
       "      <td>0.008735</td>\n",
       "      <td>0.004199</td>\n",
       "      <td>3.945132e-04</td>\n",
       "      <td>15</td>\n",
       "      <td>0.1</td>\n",
       "      <td>newton-cg</td>\n",
       "      <td>{'balancing__k_neighbors': 15, 'clf__C': 0.1, ...</td>\n",
       "      <td>0.543210</td>\n",
       "      <td>0.594595</td>\n",
       "      <td>0.626866</td>\n",
       "      <td>0.769231</td>\n",
       "      <td>0.542857</td>\n",
       "      <td>0.615352</td>\n",
       "      <td>0.083309</td>\n",
       "      <td>8</td>\n",
       "    </tr>\n",
       "    <tr>\n",
       "      <th>44</th>\n",
       "      <td>0.017287</td>\n",
       "      <td>0.003579</td>\n",
       "      <td>0.005186</td>\n",
       "      <td>9.773792e-04</td>\n",
       "      <td>15</td>\n",
       "      <td>0.01</td>\n",
       "      <td>liblinear</td>\n",
       "      <td>{'balancing__k_neighbors': 15, 'clf__C': 0.01,...</td>\n",
       "      <td>0.560976</td>\n",
       "      <td>0.632911</td>\n",
       "      <td>0.600000</td>\n",
       "      <td>0.727273</td>\n",
       "      <td>0.583333</td>\n",
       "      <td>0.620899</td>\n",
       "      <td>0.058135</td>\n",
       "      <td>2</td>\n",
       "    </tr>\n",
       "    <tr>\n",
       "      <th>45</th>\n",
       "      <td>0.035990</td>\n",
       "      <td>0.016688</td>\n",
       "      <td>0.004609</td>\n",
       "      <td>1.191229e-03</td>\n",
       "      <td>15</td>\n",
       "      <td>0.01</td>\n",
       "      <td>newton-cg</td>\n",
       "      <td>{'balancing__k_neighbors': 15, 'clf__C': 0.01,...</td>\n",
       "      <td>0.556962</td>\n",
       "      <td>0.591549</td>\n",
       "      <td>0.626866</td>\n",
       "      <td>0.750000</td>\n",
       "      <td>0.563380</td>\n",
       "      <td>0.617751</td>\n",
       "      <td>0.070585</td>\n",
       "      <td>4</td>\n",
       "    </tr>\n",
       "    <tr>\n",
       "      <th>46</th>\n",
       "      <td>0.037617</td>\n",
       "      <td>0.024202</td>\n",
       "      <td>0.006790</td>\n",
       "      <td>2.714245e-03</td>\n",
       "      <td>15</td>\n",
       "      <td>0.001</td>\n",
       "      <td>liblinear</td>\n",
       "      <td>{'balancing__k_neighbors': 15, 'clf__C': 0.001...</td>\n",
       "      <td>0.564706</td>\n",
       "      <td>0.558140</td>\n",
       "      <td>0.594595</td>\n",
       "      <td>0.739726</td>\n",
       "      <td>0.519481</td>\n",
       "      <td>0.595329</td>\n",
       "      <td>0.076059</td>\n",
       "      <td>57</td>\n",
       "    </tr>\n",
       "    <tr>\n",
       "      <th>47</th>\n",
       "      <td>0.028605</td>\n",
       "      <td>0.002862</td>\n",
       "      <td>0.006205</td>\n",
       "      <td>2.390986e-03</td>\n",
       "      <td>15</td>\n",
       "      <td>0.001</td>\n",
       "      <td>newton-cg</td>\n",
       "      <td>{'balancing__k_neighbors': 15, 'clf__C': 0.001...</td>\n",
       "      <td>0.543210</td>\n",
       "      <td>0.575342</td>\n",
       "      <td>0.637681</td>\n",
       "      <td>0.724638</td>\n",
       "      <td>0.529412</td>\n",
       "      <td>0.602057</td>\n",
       "      <td>0.071762</td>\n",
       "      <td>48</td>\n",
       "    </tr>\n",
       "    <tr>\n",
       "      <th>48</th>\n",
       "      <td>0.033582</td>\n",
       "      <td>0.029355</td>\n",
       "      <td>0.005811</td>\n",
       "      <td>2.110208e-03</td>\n",
       "      <td>20</td>\n",
       "      <td>100</td>\n",
       "      <td>liblinear</td>\n",
       "      <td>{'balancing__k_neighbors': 20, 'clf__C': 100, ...</td>\n",
       "      <td>0.531646</td>\n",
       "      <td>0.613333</td>\n",
       "      <td>0.608696</td>\n",
       "      <td>0.750000</td>\n",
       "      <td>0.521739</td>\n",
       "      <td>0.605083</td>\n",
       "      <td>0.081757</td>\n",
       "      <td>44</td>\n",
       "    </tr>\n",
       "    <tr>\n",
       "      <th>49</th>\n",
       "      <td>0.038379</td>\n",
       "      <td>0.008639</td>\n",
       "      <td>0.005299</td>\n",
       "      <td>1.083459e-03</td>\n",
       "      <td>20</td>\n",
       "      <td>100</td>\n",
       "      <td>newton-cg</td>\n",
       "      <td>{'balancing__k_neighbors': 20, 'clf__C': 100, ...</td>\n",
       "      <td>0.543210</td>\n",
       "      <td>0.600000</td>\n",
       "      <td>0.617647</td>\n",
       "      <td>0.741935</td>\n",
       "      <td>0.555556</td>\n",
       "      <td>0.611670</td>\n",
       "      <td>0.070678</td>\n",
       "      <td>19</td>\n",
       "    </tr>\n",
       "    <tr>\n",
       "      <th>50</th>\n",
       "      <td>0.020944</td>\n",
       "      <td>0.006230</td>\n",
       "      <td>0.004995</td>\n",
       "      <td>1.092563e-03</td>\n",
       "      <td>20</td>\n",
       "      <td>10</td>\n",
       "      <td>liblinear</td>\n",
       "      <td>{'balancing__k_neighbors': 20, 'clf__C': 10, '...</td>\n",
       "      <td>0.536585</td>\n",
       "      <td>0.611111</td>\n",
       "      <td>0.608696</td>\n",
       "      <td>0.738462</td>\n",
       "      <td>0.521739</td>\n",
       "      <td>0.603319</td>\n",
       "      <td>0.076762</td>\n",
       "      <td>46</td>\n",
       "    </tr>\n",
       "    <tr>\n",
       "      <th>51</th>\n",
       "      <td>0.043622</td>\n",
       "      <td>0.017794</td>\n",
       "      <td>0.004500</td>\n",
       "      <td>4.383024e-04</td>\n",
       "      <td>20</td>\n",
       "      <td>10</td>\n",
       "      <td>newton-cg</td>\n",
       "      <td>{'balancing__k_neighbors': 20, 'clf__C': 10, '...</td>\n",
       "      <td>0.543210</td>\n",
       "      <td>0.613333</td>\n",
       "      <td>0.617647</td>\n",
       "      <td>0.750000</td>\n",
       "      <td>0.542857</td>\n",
       "      <td>0.613409</td>\n",
       "      <td>0.075605</td>\n",
       "      <td>13</td>\n",
       "    </tr>\n",
       "    <tr>\n",
       "      <th>52</th>\n",
       "      <td>0.024183</td>\n",
       "      <td>0.005265</td>\n",
       "      <td>0.004218</td>\n",
       "      <td>4.053912e-04</td>\n",
       "      <td>20</td>\n",
       "      <td>1</td>\n",
       "      <td>liblinear</td>\n",
       "      <td>{'balancing__k_neighbors': 20, 'clf__C': 1, 'c...</td>\n",
       "      <td>0.560976</td>\n",
       "      <td>0.594595</td>\n",
       "      <td>0.636364</td>\n",
       "      <td>0.741935</td>\n",
       "      <td>0.521739</td>\n",
       "      <td>0.611122</td>\n",
       "      <td>0.075533</td>\n",
       "      <td>21</td>\n",
       "    </tr>\n",
       "    <tr>\n",
       "      <th>53</th>\n",
       "      <td>0.038541</td>\n",
       "      <td>0.009226</td>\n",
       "      <td>0.006031</td>\n",
       "      <td>1.414932e-03</td>\n",
       "      <td>20</td>\n",
       "      <td>1</td>\n",
       "      <td>newton-cg</td>\n",
       "      <td>{'balancing__k_neighbors': 20, 'clf__C': 1, 'c...</td>\n",
       "      <td>0.536585</td>\n",
       "      <td>0.583333</td>\n",
       "      <td>0.646154</td>\n",
       "      <td>0.754098</td>\n",
       "      <td>0.563380</td>\n",
       "      <td>0.616710</td>\n",
       "      <td>0.077615</td>\n",
       "      <td>5</td>\n",
       "    </tr>\n",
       "    <tr>\n",
       "      <th>54</th>\n",
       "      <td>0.022269</td>\n",
       "      <td>0.004241</td>\n",
       "      <td>0.004718</td>\n",
       "      <td>7.602606e-04</td>\n",
       "      <td>20</td>\n",
       "      <td>0.1</td>\n",
       "      <td>liblinear</td>\n",
       "      <td>{'balancing__k_neighbors': 20, 'clf__C': 0.1, ...</td>\n",
       "      <td>0.543210</td>\n",
       "      <td>0.594595</td>\n",
       "      <td>0.617647</td>\n",
       "      <td>0.750000</td>\n",
       "      <td>0.542857</td>\n",
       "      <td>0.609662</td>\n",
       "      <td>0.075979</td>\n",
       "      <td>29</td>\n",
       "    </tr>\n",
       "    <tr>\n",
       "      <th>55</th>\n",
       "      <td>0.042781</td>\n",
       "      <td>0.011261</td>\n",
       "      <td>0.006988</td>\n",
       "      <td>2.087298e-03</td>\n",
       "      <td>20</td>\n",
       "      <td>0.1</td>\n",
       "      <td>newton-cg</td>\n",
       "      <td>{'balancing__k_neighbors': 20, 'clf__C': 0.1, ...</td>\n",
       "      <td>0.538462</td>\n",
       "      <td>0.567568</td>\n",
       "      <td>0.636364</td>\n",
       "      <td>0.761905</td>\n",
       "      <td>0.542857</td>\n",
       "      <td>0.609431</td>\n",
       "      <td>0.083899</td>\n",
       "      <td>31</td>\n",
       "    </tr>\n",
       "    <tr>\n",
       "      <th>56</th>\n",
       "      <td>0.017159</td>\n",
       "      <td>0.001163</td>\n",
       "      <td>0.005381</td>\n",
       "      <td>1.019014e-03</td>\n",
       "      <td>20</td>\n",
       "      <td>0.01</td>\n",
       "      <td>liblinear</td>\n",
       "      <td>{'balancing__k_neighbors': 20, 'clf__C': 0.01,...</td>\n",
       "      <td>0.578313</td>\n",
       "      <td>0.625000</td>\n",
       "      <td>0.591549</td>\n",
       "      <td>0.716418</td>\n",
       "      <td>0.583333</td>\n",
       "      <td>0.618923</td>\n",
       "      <td>0.051395</td>\n",
       "      <td>3</td>\n",
       "    </tr>\n",
       "    <tr>\n",
       "      <th>57</th>\n",
       "      <td>0.033719</td>\n",
       "      <td>0.005916</td>\n",
       "      <td>0.005385</td>\n",
       "      <td>1.954652e-03</td>\n",
       "      <td>20</td>\n",
       "      <td>0.01</td>\n",
       "      <td>newton-cg</td>\n",
       "      <td>{'balancing__k_neighbors': 20, 'clf__C': 0.01,...</td>\n",
       "      <td>0.543210</td>\n",
       "      <td>0.591549</td>\n",
       "      <td>0.619718</td>\n",
       "      <td>0.727273</td>\n",
       "      <td>0.563380</td>\n",
       "      <td>0.609026</td>\n",
       "      <td>0.064525</td>\n",
       "      <td>33</td>\n",
       "    </tr>\n",
       "    <tr>\n",
       "      <th>58</th>\n",
       "      <td>0.022550</td>\n",
       "      <td>0.004370</td>\n",
       "      <td>0.005585</td>\n",
       "      <td>1.491954e-03</td>\n",
       "      <td>20</td>\n",
       "      <td>0.001</td>\n",
       "      <td>liblinear</td>\n",
       "      <td>{'balancing__k_neighbors': 20, 'clf__C': 0.001...</td>\n",
       "      <td>0.581395</td>\n",
       "      <td>0.564706</td>\n",
       "      <td>0.594595</td>\n",
       "      <td>0.739726</td>\n",
       "      <td>0.519481</td>\n",
       "      <td>0.599980</td>\n",
       "      <td>0.074334</td>\n",
       "      <td>51</td>\n",
       "    </tr>\n",
       "    <tr>\n",
       "      <th>59</th>\n",
       "      <td>0.021788</td>\n",
       "      <td>0.003654</td>\n",
       "      <td>0.002395</td>\n",
       "      <td>7.995130e-04</td>\n",
       "      <td>20</td>\n",
       "      <td>0.001</td>\n",
       "      <td>newton-cg</td>\n",
       "      <td>{'balancing__k_neighbors': 20, 'clf__C': 0.001...</td>\n",
       "      <td>0.543210</td>\n",
       "      <td>0.567568</td>\n",
       "      <td>0.637681</td>\n",
       "      <td>0.746269</td>\n",
       "      <td>0.529412</td>\n",
       "      <td>0.604828</td>\n",
       "      <td>0.079947</td>\n",
       "      <td>45</td>\n",
       "    </tr>\n",
       "  </tbody>\n",
       "</table>\n",
       "</div>"
      ],
      "text/plain": [
       "    mean_fit_time  std_fit_time  mean_score_time  std_score_time  \\\n",
       "0        0.022694      0.001331         0.007604    2.151940e-03   \n",
       "1        0.067550      0.015034         0.006565    4.751981e-04   \n",
       "2        0.022978      0.004135         0.006369    1.465603e-03   \n",
       "3        0.062033      0.023545         0.004987    6.306758e-04   \n",
       "4        0.020744      0.000977         0.004787    3.997805e-04   \n",
       "5        0.038696      0.006747         0.004388    1.353021e-03   \n",
       "6        0.020744      0.005102         0.004388    7.977486e-04   \n",
       "7        0.026729      0.002631         0.005385    1.492056e-03   \n",
       "8        0.014561      0.001017         0.004190    3.986626e-04   \n",
       "9        0.023736      0.001934         0.003790    3.989461e-04   \n",
       "10       0.014362      0.001955         0.003789    3.991366e-04   \n",
       "11       0.018751      0.001934         0.003990    6.843901e-07   \n",
       "12       0.014163      0.001322         0.004188    3.989223e-04   \n",
       "13       0.021711      0.002450         0.002562    8.212233e-04   \n",
       "14       0.016602      0.008007         0.008106    9.495679e-03   \n",
       "15       0.043456      0.023162         0.005424    8.107946e-04   \n",
       "16       0.014544      0.000489         0.004397    4.999359e-04   \n",
       "17       0.040371      0.010232         0.005796    1.834263e-03   \n",
       "18       0.018073      0.003224         0.005009    1.585955e-03   \n",
       "19       0.034805      0.002488         0.005792    1.835717e-03   \n",
       "20       0.021187      0.003866         0.006195    2.050735e-03   \n",
       "21       0.041210      0.015113         0.006390    1.953505e-03   \n",
       "22       0.031045      0.014660         0.005990    1.678702e-03   \n",
       "23       0.041442      0.013657         0.006831    2.134988e-03   \n",
       "24       0.030435      0.011977         0.006581    5.186820e-03   \n",
       "25       0.041392      0.011111         0.006830    2.004115e-03   \n",
       "26       0.023182      0.006985         0.004189    3.988035e-04   \n",
       "27       0.037592      0.017653         0.005785    2.634571e-03   \n",
       "28       0.024936      0.009273         0.005382    4.907636e-04   \n",
       "29       0.033765      0.006720         0.007023    5.476276e-03   \n",
       "30       0.016999      0.001143         0.004990    1.088432e-03   \n",
       "31       0.033162      0.005937         0.004795    1.314407e-03   \n",
       "32       0.021452      0.002995         0.004328    8.356106e-04   \n",
       "33       0.027577      0.005095         0.004588    7.981302e-04   \n",
       "34       0.015372      0.002800         0.004002    1.098551e-03   \n",
       "35       0.023783      0.002224         0.004796    4.040970e-04   \n",
       "36       0.013886      0.000658         0.003805    4.065461e-04   \n",
       "37       0.026384      0.001506         0.004405    4.909955e-04   \n",
       "38       0.016301      0.001605         0.003692    3.980459e-04   \n",
       "39       0.026887      0.002159         0.005217    1.484569e-03   \n",
       "40       0.017582      0.004130         0.004306    4.086483e-04   \n",
       "41       0.034804      0.013001         0.004402    5.133824e-04   \n",
       "42       0.027096      0.015905         0.004513    8.976354e-04   \n",
       "43       0.031387      0.008735         0.004199    3.945132e-04   \n",
       "44       0.017287      0.003579         0.005186    9.773792e-04   \n",
       "45       0.035990      0.016688         0.004609    1.191229e-03   \n",
       "46       0.037617      0.024202         0.006790    2.714245e-03   \n",
       "47       0.028605      0.002862         0.006205    2.390986e-03   \n",
       "48       0.033582      0.029355         0.005811    2.110208e-03   \n",
       "49       0.038379      0.008639         0.005299    1.083459e-03   \n",
       "50       0.020944      0.006230         0.004995    1.092563e-03   \n",
       "51       0.043622      0.017794         0.004500    4.383024e-04   \n",
       "52       0.024183      0.005265         0.004218    4.053912e-04   \n",
       "53       0.038541      0.009226         0.006031    1.414932e-03   \n",
       "54       0.022269      0.004241         0.004718    7.602606e-04   \n",
       "55       0.042781      0.011261         0.006988    2.087298e-03   \n",
       "56       0.017159      0.001163         0.005381    1.019014e-03   \n",
       "57       0.033719      0.005916         0.005385    1.954652e-03   \n",
       "58       0.022550      0.004370         0.005585    1.491954e-03   \n",
       "59       0.021788      0.003654         0.002395    7.995130e-04   \n",
       "\n",
       "   param_balancing__k_neighbors param_clf__C param_clf__solver  \\\n",
       "0                             2          100         liblinear   \n",
       "1                             2          100         newton-cg   \n",
       "2                             2           10         liblinear   \n",
       "3                             2           10         newton-cg   \n",
       "4                             2            1         liblinear   \n",
       "5                             2            1         newton-cg   \n",
       "6                             2          0.1         liblinear   \n",
       "7                             2          0.1         newton-cg   \n",
       "8                             2         0.01         liblinear   \n",
       "9                             2         0.01         newton-cg   \n",
       "10                            2        0.001         liblinear   \n",
       "11                            2        0.001         newton-cg   \n",
       "12                            5          100         liblinear   \n",
       "13                            5          100         newton-cg   \n",
       "14                            5           10         liblinear   \n",
       "15                            5           10         newton-cg   \n",
       "16                            5            1         liblinear   \n",
       "17                            5            1         newton-cg   \n",
       "18                            5          0.1         liblinear   \n",
       "19                            5          0.1         newton-cg   \n",
       "20                            5         0.01         liblinear   \n",
       "21                            5         0.01         newton-cg   \n",
       "22                            5        0.001         liblinear   \n",
       "23                            5        0.001         newton-cg   \n",
       "24                           10          100         liblinear   \n",
       "25                           10          100         newton-cg   \n",
       "26                           10           10         liblinear   \n",
       "27                           10           10         newton-cg   \n",
       "28                           10            1         liblinear   \n",
       "29                           10            1         newton-cg   \n",
       "30                           10          0.1         liblinear   \n",
       "31                           10          0.1         newton-cg   \n",
       "32                           10         0.01         liblinear   \n",
       "33                           10         0.01         newton-cg   \n",
       "34                           10        0.001         liblinear   \n",
       "35                           10        0.001         newton-cg   \n",
       "36                           15          100         liblinear   \n",
       "37                           15          100         newton-cg   \n",
       "38                           15           10         liblinear   \n",
       "39                           15           10         newton-cg   \n",
       "40                           15            1         liblinear   \n",
       "41                           15            1         newton-cg   \n",
       "42                           15          0.1         liblinear   \n",
       "43                           15          0.1         newton-cg   \n",
       "44                           15         0.01         liblinear   \n",
       "45                           15         0.01         newton-cg   \n",
       "46                           15        0.001         liblinear   \n",
       "47                           15        0.001         newton-cg   \n",
       "48                           20          100         liblinear   \n",
       "49                           20          100         newton-cg   \n",
       "50                           20           10         liblinear   \n",
       "51                           20           10         newton-cg   \n",
       "52                           20            1         liblinear   \n",
       "53                           20            1         newton-cg   \n",
       "54                           20          0.1         liblinear   \n",
       "55                           20          0.1         newton-cg   \n",
       "56                           20         0.01         liblinear   \n",
       "57                           20         0.01         newton-cg   \n",
       "58                           20        0.001         liblinear   \n",
       "59                           20        0.001         newton-cg   \n",
       "\n",
       "                                               params  split0_test_score  \\\n",
       "0   {'balancing__k_neighbors': 2, 'clf__C': 100, '...           0.550000   \n",
       "1   {'balancing__k_neighbors': 2, 'clf__C': 100, '...           0.550000   \n",
       "2   {'balancing__k_neighbors': 2, 'clf__C': 10, 'c...           0.543210   \n",
       "3   {'balancing__k_neighbors': 2, 'clf__C': 10, 'c...           0.543210   \n",
       "4   {'balancing__k_neighbors': 2, 'clf__C': 1, 'cl...           0.543210   \n",
       "5   {'balancing__k_neighbors': 2, 'clf__C': 1, 'cl...           0.560976   \n",
       "6   {'balancing__k_neighbors': 2, 'clf__C': 0.1, '...           0.536585   \n",
       "7   {'balancing__k_neighbors': 2, 'clf__C': 0.1, '...           0.536585   \n",
       "8   {'balancing__k_neighbors': 2, 'clf__C': 0.01, ...           0.564706   \n",
       "9   {'balancing__k_neighbors': 2, 'clf__C': 0.01, ...           0.536585   \n",
       "10  {'balancing__k_neighbors': 2, 'clf__C': 0.001,...           0.564706   \n",
       "11  {'balancing__k_neighbors': 2, 'clf__C': 0.001,...           0.550000   \n",
       "12  {'balancing__k_neighbors': 5, 'clf__C': 100, '...           0.543210   \n",
       "13  {'balancing__k_neighbors': 5, 'clf__C': 100, '...           0.543210   \n",
       "14  {'balancing__k_neighbors': 5, 'clf__C': 10, 'c...           0.536585   \n",
       "15  {'balancing__k_neighbors': 5, 'clf__C': 10, 'c...           0.543210   \n",
       "16  {'balancing__k_neighbors': 5, 'clf__C': 1, 'cl...           0.543210   \n",
       "17  {'balancing__k_neighbors': 5, 'clf__C': 1, 'cl...           0.536585   \n",
       "18  {'balancing__k_neighbors': 5, 'clf__C': 0.1, '...           0.518519   \n",
       "19  {'balancing__k_neighbors': 5, 'clf__C': 0.1, '...           0.543210   \n",
       "20  {'balancing__k_neighbors': 5, 'clf__C': 0.01, ...           0.554217   \n",
       "21  {'balancing__k_neighbors': 5, 'clf__C': 0.01, ...           0.543210   \n",
       "22  {'balancing__k_neighbors': 5, 'clf__C': 0.001,...           0.571429   \n",
       "23  {'balancing__k_neighbors': 5, 'clf__C': 0.001,...           0.538462   \n",
       "24  {'balancing__k_neighbors': 10, 'clf__C': 100, ...           0.525000   \n",
       "25  {'balancing__k_neighbors': 10, 'clf__C': 100, ...           0.543210   \n",
       "26  {'balancing__k_neighbors': 10, 'clf__C': 10, '...           0.554217   \n",
       "27  {'balancing__k_neighbors': 10, 'clf__C': 10, '...           0.543210   \n",
       "28  {'balancing__k_neighbors': 10, 'clf__C': 1, 'c...           0.550000   \n",
       "29  {'balancing__k_neighbors': 10, 'clf__C': 1, 'c...           0.543210   \n",
       "30  {'balancing__k_neighbors': 10, 'clf__C': 0.1, ...           0.536585   \n",
       "31  {'balancing__k_neighbors': 10, 'clf__C': 0.1, ...           0.550000   \n",
       "32  {'balancing__k_neighbors': 10, 'clf__C': 0.01,...           0.554217   \n",
       "33  {'balancing__k_neighbors': 10, 'clf__C': 0.01,...           0.550000   \n",
       "34  {'balancing__k_neighbors': 10, 'clf__C': 0.001...           0.564706   \n",
       "35  {'balancing__k_neighbors': 10, 'clf__C': 0.001...           0.550000   \n",
       "36  {'balancing__k_neighbors': 15, 'clf__C': 100, ...           0.543210   \n",
       "37  {'balancing__k_neighbors': 15, 'clf__C': 100, ...           0.543210   \n",
       "38  {'balancing__k_neighbors': 15, 'clf__C': 10, '...           0.543210   \n",
       "39  {'balancing__k_neighbors': 15, 'clf__C': 10, '...           0.543210   \n",
       "40  {'balancing__k_neighbors': 15, 'clf__C': 1, 'c...           0.543210   \n",
       "41  {'balancing__k_neighbors': 15, 'clf__C': 1, 'c...           0.550000   \n",
       "42  {'balancing__k_neighbors': 15, 'clf__C': 0.1, ...           0.536585   \n",
       "43  {'balancing__k_neighbors': 15, 'clf__C': 0.1, ...           0.543210   \n",
       "44  {'balancing__k_neighbors': 15, 'clf__C': 0.01,...           0.560976   \n",
       "45  {'balancing__k_neighbors': 15, 'clf__C': 0.01,...           0.556962   \n",
       "46  {'balancing__k_neighbors': 15, 'clf__C': 0.001...           0.564706   \n",
       "47  {'balancing__k_neighbors': 15, 'clf__C': 0.001...           0.543210   \n",
       "48  {'balancing__k_neighbors': 20, 'clf__C': 100, ...           0.531646   \n",
       "49  {'balancing__k_neighbors': 20, 'clf__C': 100, ...           0.543210   \n",
       "50  {'balancing__k_neighbors': 20, 'clf__C': 10, '...           0.536585   \n",
       "51  {'balancing__k_neighbors': 20, 'clf__C': 10, '...           0.543210   \n",
       "52  {'balancing__k_neighbors': 20, 'clf__C': 1, 'c...           0.560976   \n",
       "53  {'balancing__k_neighbors': 20, 'clf__C': 1, 'c...           0.536585   \n",
       "54  {'balancing__k_neighbors': 20, 'clf__C': 0.1, ...           0.543210   \n",
       "55  {'balancing__k_neighbors': 20, 'clf__C': 0.1, ...           0.538462   \n",
       "56  {'balancing__k_neighbors': 20, 'clf__C': 0.01,...           0.578313   \n",
       "57  {'balancing__k_neighbors': 20, 'clf__C': 0.01,...           0.543210   \n",
       "58  {'balancing__k_neighbors': 20, 'clf__C': 0.001...           0.581395   \n",
       "59  {'balancing__k_neighbors': 20, 'clf__C': 0.001...           0.543210   \n",
       "\n",
       "    split1_test_score  split2_test_score  split3_test_score  \\\n",
       "0            0.586667           0.626866           0.738462   \n",
       "1            0.594595           0.636364           0.741935   \n",
       "2            0.586667           0.626866           0.750000   \n",
       "3            0.594595           0.608696           0.730159   \n",
       "4            0.602740           0.636364           0.750000   \n",
       "5            0.605263           0.636364           0.754098   \n",
       "6            0.605263           0.617647           0.769231   \n",
       "7            0.619718           0.608696           0.750000   \n",
       "8            0.632911           0.600000           0.716418   \n",
       "9            0.583333           0.636364           0.730159   \n",
       "10           0.558140           0.602740           0.729730   \n",
       "11           0.560000           0.637681           0.716418   \n",
       "12           0.602740           0.626866           0.750000   \n",
       "13           0.602740           0.617647           0.754098   \n",
       "14           0.594595           0.636364           0.741935   \n",
       "15           0.591549           0.608696           0.761905   \n",
       "16           0.602740           0.617647           0.750000   \n",
       "17           0.611111           0.617647           0.761905   \n",
       "18           0.586667           0.600000           0.750000   \n",
       "19           0.594595           0.626866           0.741935   \n",
       "20           0.631579           0.591549           0.735294   \n",
       "21           0.591549           0.617647           0.750000   \n",
       "22           0.571429           0.594595           0.739726   \n",
       "23           0.567568           0.637681           0.696970   \n",
       "24           0.608696           0.608696           0.730159   \n",
       "25           0.611111           0.646154           0.750000   \n",
       "26           0.583333           0.626866           0.750000   \n",
       "27           0.600000           0.636364           0.741935   \n",
       "28           0.594595           0.608696           0.761905   \n",
       "29           0.591549           0.608696           0.741935   \n",
       "30           0.586667           0.617647           0.750000   \n",
       "31           0.586667           0.626866           0.761905   \n",
       "32           0.607595           0.600000           0.727273   \n",
       "33           0.583333           0.608696           0.750000   \n",
       "34           0.558140           0.594595           0.729730   \n",
       "35           0.575342           0.617647           0.727273   \n",
       "36           0.602740           0.636364           0.750000   \n",
       "37           0.619718           0.617647           0.750000   \n",
       "38           0.594595           0.626866           0.709677   \n",
       "39           0.586667           0.636364           0.761905   \n",
       "40           0.617647           0.626866           0.754098   \n",
       "41           0.594595           0.626866           0.750000   \n",
       "42           0.594595           0.636364           0.750000   \n",
       "43           0.594595           0.626866           0.769231   \n",
       "44           0.632911           0.600000           0.727273   \n",
       "45           0.591549           0.626866           0.750000   \n",
       "46           0.558140           0.594595           0.739726   \n",
       "47           0.575342           0.637681           0.724638   \n",
       "48           0.613333           0.608696           0.750000   \n",
       "49           0.600000           0.617647           0.741935   \n",
       "50           0.611111           0.608696           0.738462   \n",
       "51           0.613333           0.617647           0.750000   \n",
       "52           0.594595           0.636364           0.741935   \n",
       "53           0.583333           0.646154           0.754098   \n",
       "54           0.594595           0.617647           0.750000   \n",
       "55           0.567568           0.636364           0.761905   \n",
       "56           0.625000           0.591549           0.716418   \n",
       "57           0.591549           0.619718           0.727273   \n",
       "58           0.564706           0.594595           0.739726   \n",
       "59           0.567568           0.637681           0.746269   \n",
       "\n",
       "    split4_test_score  mean_test_score  std_test_score  rank_test_score  \n",
       "0            0.542857         0.608970        0.071322               34  \n",
       "1            0.521739         0.608927        0.077102               36  \n",
       "2            0.542857         0.609920        0.076678               27  \n",
       "3            0.535211         0.602374        0.069915               47  \n",
       "4            0.521739         0.610810        0.080741               23  \n",
       "5            0.521739         0.615688        0.079389                6  \n",
       "6            0.535211         0.612788        0.085299               14  \n",
       "7            0.542857         0.611571        0.076918               20  \n",
       "8            0.563380         0.615483        0.056612                7  \n",
       "9            0.563380         0.609964        0.068421               25  \n",
       "10           0.519481         0.594959        0.072376               59  \n",
       "11           0.527778         0.598375        0.069679               54  \n",
       "12           0.521739         0.608911        0.080227               37  \n",
       "13           0.542857         0.612110        0.077230               16  \n",
       "14           0.521739         0.606244        0.079308               41  \n",
       "15           0.521739         0.605420        0.084336               43  \n",
       "16           0.535211         0.609762        0.077156               28  \n",
       "17           0.542857         0.614021        0.081181               12  \n",
       "18           0.542857         0.599608        0.080724               52  \n",
       "19           0.521739         0.605669        0.077570               42  \n",
       "20           0.594595         0.621447        0.061966                1  \n",
       "21           0.571429         0.614767        0.071880                9  \n",
       "22           0.512821         0.598000        0.075849               55  \n",
       "23           0.535211         0.595178        0.062838               58  \n",
       "24           0.529412         0.600392        0.074430               50  \n",
       "25           0.521739         0.614443        0.081315               10  \n",
       "26           0.535211         0.609925        0.076551               26  \n",
       "27           0.521739         0.608650        0.078031               38  \n",
       "28           0.521739         0.607387        0.083271               40  \n",
       "29           0.521739         0.601426        0.076984               49  \n",
       "30           0.555556         0.609291        0.075570               32  \n",
       "31           0.521739         0.609435        0.084015               30  \n",
       "32           0.555556         0.608928        0.063133               35  \n",
       "33           0.563380         0.611082        0.072222               22  \n",
       "34           0.519481         0.593330        0.072274               60  \n",
       "35           0.507463         0.595545        0.074942               56  \n",
       "36           0.521739         0.610810        0.080741               23  \n",
       "37           0.529412         0.611997        0.078343               18  \n",
       "38           0.521739         0.599217        0.066524               53  \n",
       "39           0.542857         0.614200        0.081481               11  \n",
       "40           0.521739         0.612712        0.081635               15  \n",
       "41           0.521739         0.608640        0.079376               39  \n",
       "42           0.542857         0.612080        0.077985               17  \n",
       "43           0.542857         0.615352        0.083309                8  \n",
       "44           0.583333         0.620899        0.058135                2  \n",
       "45           0.563380         0.617751        0.070585                4  \n",
       "46           0.519481         0.595329        0.076059               57  \n",
       "47           0.529412         0.602057        0.071762               48  \n",
       "48           0.521739         0.605083        0.081757               44  \n",
       "49           0.555556         0.611670        0.070678               19  \n",
       "50           0.521739         0.603319        0.076762               46  \n",
       "51           0.542857         0.613409        0.075605               13  \n",
       "52           0.521739         0.611122        0.075533               21  \n",
       "53           0.563380         0.616710        0.077615                5  \n",
       "54           0.542857         0.609662        0.075979               29  \n",
       "55           0.542857         0.609431        0.083899               31  \n",
       "56           0.583333         0.618923        0.051395                3  \n",
       "57           0.563380         0.609026        0.064525               33  \n",
       "58           0.519481         0.599980        0.074334               51  \n",
       "59           0.529412         0.604828        0.079947               45  "
      ]
     },
     "execution_count": 60,
     "metadata": {},
     "output_type": "execute_result"
    }
   ],
   "source": [
    "pd.DataFrame(grid_search.cv_results_)"
   ]
  },
  {
   "cell_type": "markdown",
   "metadata": {},
   "source": [
    "> ## Model Performance Before Tuning"
   ]
  },
  {
   "cell_type": "code",
   "execution_count": 61,
   "metadata": {},
   "outputs": [
    {
     "name": "stdout",
     "output_type": "stream",
     "text": [
      "              precision    recall  f1-score   support\n",
      "\n",
      "           0       0.94      0.71      0.81       103\n",
      "           1       0.52      0.86      0.65        37\n",
      "\n",
      "    accuracy                           0.75       140\n",
      "   macro avg       0.73      0.79      0.73       140\n",
      "weighted avg       0.82      0.75      0.76       140\n",
      "\n"
     ]
    }
   ],
   "source": [
    "smote=SMOTE()\n",
    "logit = LogisticRegression()\n",
    "\n",
    "estimator=Pipeline([('balancing',smote),\n",
    "                   ('clf',model)])\n",
    "estimator.fit(X_train_val, y_train_val)\n",
    "y_pred_default = estimator.predict(X_test)\n",
    "\n",
    "print(classification_report(y_test, y_pred_default))"
   ]
  },
  {
   "cell_type": "markdown",
   "metadata": {},
   "source": [
    "> ## Model Performance After Tuning"
   ]
  },
  {
   "cell_type": "code",
   "execution_count": 62,
   "metadata": {},
   "outputs": [
    {
     "name": "stdout",
     "output_type": "stream",
     "text": [
      "              precision    recall  f1-score   support\n",
      "\n",
      "           0       0.93      0.67      0.78       103\n",
      "           1       0.48      0.86      0.62        37\n",
      "\n",
      "    accuracy                           0.72       140\n",
      "   macro avg       0.71      0.77      0.70       140\n",
      "weighted avg       0.81      0.72      0.74       140\n",
      "\n"
     ]
    }
   ],
   "source": [
    "estimator_tuned = grid_search.best_estimator_.fit(X_train_val, y_train_val)\n",
    "y_pred_tuned = estimator_tuned.predict(X_test)\n",
    "\n",
    "print(classification_report(y_test, y_pred_tuned))"
   ]
  },
  {
   "cell_type": "code",
   "execution_count": 63,
   "metadata": {},
   "outputs": [
    {
     "data": {
      "text/plain": [
       "<sklearn.metrics._plot.roc_curve.RocCurveDisplay at 0x164ea6a8580>"
      ]
     },
     "execution_count": 63,
     "metadata": {},
     "output_type": "execute_result"
    },
    {
     "data": {
      "image/png": "[encoded data removed]",
      "text/plain": [
       "<Figure size 432x288 with 1 Axes>"
      ]
     },
     "metadata": {
      "needs_background": "light"
     },
     "output_type": "display_data"
    }
   ],
   "source": [
    "plot_roc_curve(estimator_tuned, X_test, y_test)"
   ]
  },
  {
   "cell_type": "code",
   "execution_count": 64,
   "metadata": {},
   "outputs": [
    {
     "data": {
      "text/plain": [
       "<sklearn.metrics._plot.roc_curve.RocCurveDisplay at 0x164ea67e550>"
      ]
     },
     "execution_count": 64,
     "metadata": {},
     "output_type": "execute_result"
    },
    {
     "data": {
      "image/png": "[encoded data removed]",
      "text/plain": [
       "<Figure size 432x288 with 1 Axes>"
      ]
     },
     "metadata": {
      "needs_background": "light"
     },
     "output_type": "display_data"
    }
   ],
   "source": [
    "plot_roc_curve(estimator, X_test, y_test)"
   ]
  },
  {
   "cell_type": "code",
   "execution_count": null,
   "metadata": {},
   "outputs": [],
   "source": []
  }
 ],
 "metadata": {
  "kernelspec": {
   "display_name": "Python 3",
   "language": "python",
   "name": "python3"
  },
  "language_info": {
   "codemirror_mode": {
    "name": "ipython",
    "version": 3
   },
   "file_extension": ".py",
   "mimetype": "text/x-python",
   "name": "python",
   "nbconvert_exporter": "python",
   "pygments_lexer": "ipython3",
   "version": "3.8.3"
  }
 },
 "nbformat": 4,
 "nbformat_minor": 5
}
